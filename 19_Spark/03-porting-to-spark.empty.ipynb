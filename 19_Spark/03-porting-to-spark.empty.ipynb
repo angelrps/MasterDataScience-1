{
 "cells": [
  {
   "cell_type": "markdown",
   "metadata": {},
   "source": [
    "# Porting an analysis from local to distributed\n",
    "\n",
    "<a href = \"http://yogen.io\"><img src=\"http://yogen.io/assets/logo.svg\" alt=\"yogen\" style=\"width: 200px; float: right;\"/></a>"
   ]
  },
  {
   "cell_type": "markdown",
   "metadata": {},
   "source": [
    "Now comes the opportunity to put in practice what we have just learned!"
   ]
  },
  {
   "cell_type": "markdown",
   "metadata": {},
   "source": [
    "# Guided exercise\n",
    "\n",
    "Recreate the boxplot we did in the pandas section, in Spark!\n",
    "\n",
    "Since matplotlib boxplot needs all the data and that would be unfeasible with Big Data, we will calculate the quartiles ourselves.\n",
    "\n",
    "Once the analysis is ported, we will be able to run it on the whole historical series! You can find it at https://transtats.bts.gov (On time performance reporting carrier)."
   ]
  },
  {
   "cell_type": "markdown",
   "metadata": {},
   "source": [
    "##  Workflow\n",
    "\n",
    "The basic idea is the same that we applied in the Amadeus Challenge:\n",
    "\n",
    "* Build prototype with small data: in this section, we will be using `06-intro_to_pandas_practical.ipynb` as our already made prototype\n",
    "\n",
    "* Modify your prototype so that it works with Big Data: In this case, it means porting it to Spark\n",
    "\n",
    "* Test your \"Big Data\" prototype with small data: We will first test it with a sample locally, then upload it to a cluster and test it with Big Data.\n",
    "\n",
    "    * You can run your analyses building your own cluster and storage bucket in Google Cloud Storage. More in notebook #4!\n",
    "\n",
    "* Run your prototype with Big Data.\n",
    "\n",
    "    \n"
   ]
  },
  {
   "cell_type": "markdown",
   "metadata": {},
   "source": [
    "## Modify the prototype so that it works with Big Data"
   ]
  },
  {
   "cell_type": "code",
   "execution_count": null,
   "metadata": {},
   "outputs": [],
   "source": []
  },
  {
   "cell_type": "markdown",
   "metadata": {},
   "source": [
    "## Read csv\n",
    "\n",
    "We'll use the `SparkSession.read.csv` method."
   ]
  },
  {
   "cell_type": "code",
   "execution_count": null,
   "metadata": {},
   "outputs": [],
   "source": []
  },
  {
   "cell_type": "markdown",
   "metadata": {},
   "source": [
    "## Select relevant columns\n",
    "\n",
    "Literally the same syntax as Pandas!"
   ]
  },
  {
   "cell_type": "code",
   "execution_count": null,
   "metadata": {},
   "outputs": [],
   "source": []
  },
  {
   "cell_type": "markdown",
   "metadata": {},
   "source": [
    "### Extract \"Hour\" variable\n",
    "\n",
    "The DepTimes have been inferred to be floats. We need them as ints, representing each o fthe 24 hours in a day."
   ]
  },
  {
   "cell_type": "code",
   "execution_count": null,
   "metadata": {},
   "outputs": [],
   "source": []
  },
  {
   "cell_type": "markdown",
   "metadata": {},
   "source": [
    "## Generate the relative distributions\n",
    "\n",
    "In order to be able to handle the data, we need to reduce its dimensionality. Since we want to describe a discrete distribution, we can just count how many values of each level of the 'DepDelay' variable we find for each hour (24 different discrete distributions). We also want the totals in order to do the relative distribution."
   ]
  },
  {
   "cell_type": "markdown",
   "metadata": {},
   "source": [
    "### Totals"
   ]
  },
  {
   "cell_type": "code",
   "execution_count": null,
   "metadata": {},
   "outputs": [],
   "source": []
  },
  {
   "cell_type": "markdown",
   "metadata": {},
   "source": [
    "### Distributions"
   ]
  },
  {
   "cell_type": "code",
   "execution_count": null,
   "metadata": {},
   "outputs": [],
   "source": []
  },
  {
   "cell_type": "markdown",
   "metadata": {},
   "source": [
    "Now we join both and calculate what fraction of the total for each hour each level of DepDelay represents."
   ]
  },
  {
   "cell_type": "code",
   "execution_count": null,
   "metadata": {},
   "outputs": [],
   "source": []
  },
  {
   "cell_type": "markdown",
   "metadata": {},
   "source": [
    "### Intermission: OTP15\n",
    "\n",
    "On Time Performance 15 is the standard Key Performance Indicator for airline punctuality. It reflects the proportion of departures that actually took place within 15 minutes of their estimated time of departure.\n",
    "\n",
    "Let's have a quick look at how it behaves through the day."
   ]
  },
  {
   "cell_type": "code",
   "execution_count": null,
   "metadata": {},
   "outputs": [],
   "source": []
  },
  {
   "cell_type": "markdown",
   "metadata": {},
   "source": [
    "### Generate distributions\n",
    "\n",
    "We have to group on the hour. Each group will be a bunch of delays and the corresponding frequencies."
   ]
  },
  {
   "cell_type": "code",
   "execution_count": null,
   "metadata": {},
   "outputs": [],
   "source": []
  },
  {
   "cell_type": "markdown",
   "metadata": {},
   "source": [
    "These groups are definitely manageable: the number of levels will be on the order of a few hundreds to a couple thousands. We can combine them into lists straight away."
   ]
  },
  {
   "cell_type": "code",
   "execution_count": null,
   "metadata": {},
   "outputs": [],
   "source": []
  },
  {
   "cell_type": "markdown",
   "metadata": {},
   "source": [
    "Now it's be easy to use a UDF to merge the two lists and sort them."
   ]
  },
  {
   "cell_type": "code",
   "execution_count": null,
   "metadata": {},
   "outputs": [],
   "source": []
  },
  {
   "cell_type": "markdown",
   "metadata": {},
   "source": [
    "Careful! If we keep that string return type, it might be problematic later."
   ]
  },
  {
   "cell_type": "code",
   "execution_count": null,
   "metadata": {},
   "outputs": [],
   "source": []
  },
  {
   "cell_type": "markdown",
   "metadata": {},
   "source": [
    "### Calculating the quartiles\n",
    "\n",
    "We are finally ready to calculate the quartiles! We will use a UDF.\n",
    "\n",
    "The input to our custom function will be one of the distributions coded like we did: as a list of tuples `(value, relative_frequency)`. The quartiles are defined as the values at which we cross the 0.0, .25, .5, .75 and 1.00 relative frequencies. Since the distributions are ordered, we can just iterate over one while keeping track of what portion of the total distribution we have seen, and annotate where we cross the thresholds."
   ]
  },
  {
   "cell_type": "code",
   "execution_count": null,
   "metadata": {},
   "outputs": [],
   "source": []
  },
  {
   "cell_type": "markdown",
   "metadata": {},
   "source": [
    "### Plotting\n",
    "\n",
    "We got it! Let's move this over to Pandas for convenient handling"
   ]
  },
  {
   "cell_type": "code",
   "execution_count": null,
   "metadata": {},
   "outputs": [],
   "source": []
  },
  {
   "cell_type": "markdown",
   "metadata": {},
   "source": [
    "And we are ready to plot!"
   ]
  },
  {
   "cell_type": "code",
   "execution_count": null,
   "metadata": {},
   "outputs": [],
   "source": []
  },
  {
   "cell_type": "markdown",
   "metadata": {},
   "source": [
    "## Test your \"Big Data\" prototype with small data"
   ]
  },
  {
   "cell_type": "markdown",
   "metadata": {},
   "source": [
    "### Summary\n",
    "\n",
    "This is the whole process, collected in one place as is:"
   ]
  },
  {
   "cell_type": "code",
   "execution_count": null,
   "metadata": {},
   "outputs": [],
   "source": []
  },
  {
   "cell_type": "markdown",
   "metadata": {},
   "source": [
    "### Pyspark job\n",
    "\n",
    "In order to run the process in a cluster, we need to transform it into a pyspark job file. \n",
    "\n",
    "We need to tidy up the function definitions, add the relevant imports, and modify the input and output to use command-line arguments.\n",
    "\n",
    "We will put the result in a file called mysparkjob.py:\n",
    "\n",
    "```python\n",
    "\n",
    "from __future__ import print_function\n",
    "from pyspark.sql import SparkSession\n",
    "import sys\n",
    "from pyspark.sql import types, functions\n",
    "\n",
    "\n",
    "def zip_sort(delays, fractions):\n",
    "    return sorted(zip(delays, fractions))\n",
    "\n",
    "\n",
    "def quartiles(distribution):\n",
    "    cumulative = 0.0\n",
    "    result = []\n",
    "    for delay, percentage in distribution:\n",
    "        next_cumulative = cumulative + percentage\n",
    "        if cumulative == 0.0:\n",
    "            # minimum\n",
    "            result.append(delay) \n",
    "        if cumulative < .25 and next_cumulative > .25:\n",
    "            # 1st quartile\n",
    "            result.append(delay) \n",
    "        if cumulative < .5 and next_cumulative > .5:\n",
    "            # median\n",
    "            result.append(delay) \n",
    "        if cumulative < .75 and next_cumulative > .75:\n",
    "            # 3rd quartile\n",
    "            result.append(delay) \n",
    "            \n",
    "        cumulative = next_cumulative\n",
    "    \n",
    "    # maximum\n",
    "    result.append(delay) \n",
    "    \n",
    "    return result\n",
    "\n",
    "\n",
    "if __name__ == \"__main__\":\n",
    "    \n",
    "    file = sys.argv[1]\n",
    "    out = sys.argv[2]\n",
    "    \n",
    "    spark = SparkSession.builder.getOrCreate()\n",
    "    df = spark.read.csv(file, header=True, inferSchema=True)\n",
    "    timesdelays = df[['DepTime', 'DepDelay']]\n",
    "\n",
    "    hoursdelays = timesdelays.select((timesdelays['DepTime'] / 100).cast(types.IntegerType()).alias(\"Hour\"),\n",
    "                                      'DepDelay')\n",
    "    totals_per_hour = hoursdelays.groupBy('Hour').count()\n",
    "    totals_per_hourdelay = hoursdelays.groupBy(['Hour', 'DepDelay']).count()\n",
    "    frequencies = totals_per_hourdelay.join(totals_per_hour, on=\"Hour\")\\\n",
    "                                      .select(totals_per_hourdelay['Hour'],\n",
    "                                              'DepDelay',\n",
    "                                              totals_per_hourdelay['count'].alias('count'),\n",
    "                                              totals_per_hour['count'].alias('total'),\n",
    "                                              (totals_per_hourdelay['count'] / totals_per_hour['count']).alias('fraction'))\n",
    "\n",
    "    groups = frequencies.groupBy('Hour')\n",
    "    distributions = groups.agg(functions.collect_list('DepDelay').alias('delays'), \n",
    "                               functions.collect_list('fraction').alias('fractions'),\n",
    "                               functions.count('fraction').alias('len')).cache()\n",
    "\n",
    "    zip_sort_udf = functions.udf(zip_sort, \n",
    "\t                     returnType=types.ArrayType(\n",
    "\t                                  types.ArrayType(\n",
    "\t                                    types.FloatType()\n",
    "\t                                  )\n",
    "\t                                )\n",
    "\t                    )\n",
    "    merged_distributions = distributions.select('Hour',\n",
    "                                     zip_sort_udf(distributions['delays'], distributions['fractions']).alias('density_function'))\n",
    "\n",
    "\n",
    "    quartiles_udf = functions.udf(quartiles, types.ArrayType(types.FloatType()))\n",
    "\n",
    "    stats = merged_distributions.withColumn('quartiles', \n",
    "                                            quartiles_udf('density_function').cast(types.StringType()))\n",
    "\n",
    "    stats.write.json(out)\n",
    "\n",
    "```"
   ]
  },
  {
   "cell_type": "markdown",
   "metadata": {},
   "source": [
    "### Running with spark-submit\n",
    "\n",
    "If the following works, we are ready to test it in the cluster!\n",
    "\n",
    "```python\n",
    "unset PYSPARK_DRIVER_PYTHON\n",
    "spark-submit mysparkjob.py On_Time_On_Time_Performance_2015_8.csv out.csv\n",
    "```"
   ]
  }
 ],
 "metadata": {
  "kernelspec": {
   "display_name": "Python 3",
   "language": "python",
   "name": "python3"
  },
  "language_info": {
   "codemirror_mode": {
    "name": "ipython",
    "version": 3
   },
   "file_extension": ".py",
   "mimetype": "text/x-python",
   "name": "python",
   "nbconvert_exporter": "python",
   "pygments_lexer": "ipython3",
   "version": "3.6.8"
  }
 },
 "nbformat": 4,
 "nbformat_minor": 2
}
