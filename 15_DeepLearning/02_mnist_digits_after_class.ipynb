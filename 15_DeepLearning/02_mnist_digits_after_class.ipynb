{
  "nbformat": 4,
  "nbformat_minor": 0,
  "metadata": {
    "colab": {
      "name": "02_mnist_digits_before_class.ipynb",
      "version": "0.3.2",
      "provenance": []
    },
    "kernelspec": {
      "display_name": "Python 3",
      "language": "python",
      "name": "python3"
    }
  },
  "cells": [
    {
      "metadata": {
        "id": "M4-8NkfYDkK6",
        "colab_type": "code",
        "outputId": "1aeabdbf-a118-44bc-84a3-6ff5897e418e",
        "colab": {
          "base_uri": "https://localhost:8080/",
          "height": 34
        }
      },
      "cell_type": "code",
      "source": [
        "%pylab inline\n",
        "plt.style.use('seaborn-talk')"
      ],
      "execution_count": 47,
      "outputs": [
        {
          "output_type": "stream",
          "text": [
            "Populating the interactive namespace from numpy and matplotlib\n"
          ],
          "name": "stdout"
        }
      ]
    },
    {
      "metadata": {
        "id": "rEFHayJ5DkLR",
        "colab_type": "text"
      },
      "cell_type": "markdown",
      "source": [
        "We will use this function to plot the metrics of our training process, to help in choosing the best model"
      ]
    },
    {
      "metadata": {
        "id": "FqvDCMmrDkLV",
        "colab_type": "code",
        "colab": {}
      },
      "cell_type": "code",
      "source": [
        "def plot_metric(history, metric):\n",
        "    history_dict = history.history\n",
        "    values = history_dict[metric]\n",
        "    if 'val_' + metric in history_dict.keys():  \n",
        "        val_values = history_dict['val_' + metric]\n",
        "\n",
        "    epochs = range(1, len(values) + 1)\n",
        "\n",
        "    if 'val_' + metric in history_dict.keys():  \n",
        "        plt.plot(epochs, val_values, label='Validation')\n",
        "    plt.semilogy(epochs, values, label='Training')\n",
        "\n",
        "    if 'val_' + metric in history_dict.keys():  \n",
        "        plt.title('Training and validation %s' % metric)\n",
        "    else:\n",
        "        plt.title('Training %s' % metric)\n",
        "    plt.xlabel('Epochs')\n",
        "    plt.ylabel(metric.capitalize())\n",
        "    plt.legend()\n",
        "    plt.grid()\n",
        "\n",
        "    plt.show()  "
      ],
      "execution_count": 0,
      "outputs": []
    },
    {
      "metadata": {
        "id": "bRLawE-EDkLh",
        "colab_type": "text"
      },
      "cell_type": "markdown",
      "source": [
        "We will use this function to explore the data"
      ]
    },
    {
      "metadata": {
        "id": "E-Q-24sODkLk",
        "colab_type": "code",
        "colab": {}
      },
      "cell_type": "code",
      "source": [
        "def plot_mnist_image(N, imgs, labels):\n",
        "  print(\"The image below should show the number %d\" % labels[N])\n",
        "  plt.imshow(imgs[N,], cmap=plt.cm.binary)\n",
        "  plt.grid(True)"
      ],
      "execution_count": 0,
      "outputs": []
    },
    {
      "metadata": {
        "id": "0pvdD7frDkLu",
        "colab_type": "text"
      },
      "cell_type": "markdown",
      "source": [
        "# The problem\n",
        "\n",
        "We will recognize handwritten digits. For an image containing a number between 0 and 9, we will recognize the number and will produce an int as output"
      ]
    },
    {
      "metadata": {
        "id": "57sAB4TFDkLx",
        "colab_type": "code",
        "colab": {}
      },
      "cell_type": "code",
      "source": [
        "from keras.datasets import mnist"
      ],
      "execution_count": 0,
      "outputs": []
    },
    {
      "metadata": {
        "id": "HoxhArYzDkL6",
        "colab_type": "code",
        "colab": {}
      },
      "cell_type": "code",
      "source": [
        "# Run this to download the data prior to the lecture\n",
        "train_orig_data, test_orig_data = mnist.load_data()"
      ],
      "execution_count": 0,
      "outputs": []
    },
    {
      "metadata": {
        "id": "VrmU3n3ZDkME",
        "colab_type": "code",
        "outputId": "fd779024-0d13-448f-d634-0ec7c603386c",
        "colab": {
          "base_uri": "https://localhost:8080/",
          "height": 34
        }
      },
      "cell_type": "code",
      "source": [
        "# 60000 imagenes de 28 por 28\n",
        "\n",
        "train_orig_data[0].shape"
      ],
      "execution_count": 52,
      "outputs": [
        {
          "output_type": "execute_result",
          "data": {
            "text/plain": [
              "(60000, 28, 28)"
            ]
          },
          "metadata": {
            "tags": []
          },
          "execution_count": 52
        }
      ]
    },
    {
      "metadata": {
        "id": "lraliURvH13y",
        "colab_type": "code",
        "outputId": "e2baf401-0149-413f-c49f-2c6f95579a3c",
        "colab": {
          "base_uri": "https://localhost:8080/",
          "height": 34
        }
      },
      "cell_type": "code",
      "source": [
        "# Etiquetas\n",
        "train_orig_data[1].shape"
      ],
      "execution_count": 53,
      "outputs": [
        {
          "output_type": "execute_result",
          "data": {
            "text/plain": [
              "(60000,)"
            ]
          },
          "metadata": {
            "tags": []
          },
          "execution_count": 53
        }
      ]
    },
    {
      "metadata": {
        "id": "W4r7AXDfIOOn",
        "colab_type": "code",
        "outputId": "1a2437fc-2964-4dff-c31d-80d8b3e9173d",
        "colab": {
          "base_uri": "https://localhost:8080/",
          "height": 458
        }
      },
      "cell_type": "code",
      "source": [
        "plot_mnist_image(1,train_orig_data[0],train_orig_data[1])"
      ],
      "execution_count": 54,
      "outputs": [
        {
          "output_type": "stream",
          "text": [
            "The image below should show the number 0\n"
          ],
          "name": "stdout"
        },
        {
          "output_type": "display_data",
          "data": {
            "image/png": "[encoded data removed]",
            "text/plain": [
              "<Figure size 748.8x514.8 with 1 Axes>"
            ]
          },
          "metadata": {
            "tags": []
          }
        }
      ]
    },
    {
      "metadata": {
        "id": "jr-4rhwjDkMO",
        "colab_type": "text"
      },
      "cell_type": "markdown",
      "source": [
        "We will design a network that will be able to recognize that the image is showing the number 7 (for all the images in the test set)"
      ]
    },
    {
      "metadata": {
        "id": "5LsiQKFJH9Ex",
        "colab_type": "code",
        "outputId": "52c4502e-68c9-4378-9788-e2ed96255d0b",
        "colab": {
          "base_uri": "https://localhost:8080/",
          "height": 34
        }
      },
      "cell_type": "code",
      "source": [
        "train_orig_data[1][0:10]"
      ],
      "execution_count": 55,
      "outputs": [
        {
          "output_type": "execute_result",
          "data": {
            "text/plain": [
              "array([5, 0, 4, 1, 9, 2, 1, 3, 1, 4], dtype=uint8)"
            ]
          },
          "metadata": {
            "tags": []
          },
          "execution_count": 55
        }
      ]
    },
    {
      "metadata": {
        "id": "P4wwoHkgJNOO",
        "colab_type": "code",
        "colab": {}
      },
      "cell_type": "code",
      "source": [
        "train_images = train_orig_data[0]\n",
        "train_labels = train_orig_data[1]\n",
        "test_images = test_orig_data[0]\n",
        "test_labels = test_orig_data[1]"
      ],
      "execution_count": 0,
      "outputs": []
    },
    {
      "metadata": {
        "id": "tAR_wo_vJkFU",
        "colab_type": "code",
        "outputId": "e22fc31e-5a43-4700-8de1-a085100a7126",
        "colab": {
          "base_uri": "https://localhost:8080/",
          "height": 34
        }
      },
      "cell_type": "code",
      "source": [
        "train_images.shape,train_labels.shape,test_images.shape,test_labels.shape"
      ],
      "execution_count": 57,
      "outputs": [
        {
          "output_type": "execute_result",
          "data": {
            "text/plain": [
              "((60000, 28, 28), (60000,), (10000, 28, 28), (10000,))"
            ]
          },
          "metadata": {
            "tags": []
          },
          "execution_count": 57
        }
      ]
    },
    {
      "metadata": {
        "id": "ZTo2SXZ0DkMR",
        "colab_type": "text"
      },
      "cell_type": "markdown",
      "source": [
        "## Data transform\n",
        "\n",
        "We need to change the shape of the data, so it can be fed to the network more easily"
      ]
    },
    {
      "metadata": {
        "id": "dNcbx6ITDkMZ",
        "colab_type": "code",
        "colab": {}
      },
      "cell_type": "code",
      "source": [
        ""
      ],
      "execution_count": 0,
      "outputs": []
    },
    {
      "metadata": {
        "id": "7bt_Qn5VDkMx",
        "colab_type": "text"
      },
      "cell_type": "markdown",
      "source": [
        "All the images are 28x28 matrices, with values between 0 and 255. Let's normalize the images, to avoid problems in the numerical computations using large numbers.\n",
        "\n",
        "We will convert the matrix to a vector with 28x28 components, stacking columns on top of each other. This will make the design of the network.\n",
        "* Alternatively, we could add a `Flatten(input_shape=(28,28))` layer to the model"
      ]
    },
    {
      "metadata": {
        "id": "IgwsOkH5DkM3",
        "colab_type": "code",
        "colab": {}
      },
      "cell_type": "code",
      "source": [
        "train_images = train_images/float(train_images.max())\n",
        "test_images = test_images/255.0"
      ],
      "execution_count": 0,
      "outputs": []
    },
    {
      "metadata": {
        "id": "mu-4HVJ_DkM8",
        "colab_type": "text"
      },
      "cell_type": "markdown",
      "source": [
        "Because we want to assign a *category* to each image, we need to transform the output to categorical format"
      ]
    },
    {
      "metadata": {
        "id": "WXtlJ7HLDkM_",
        "colab_type": "code",
        "colab": {}
      },
      "cell_type": "code",
      "source": [
        ""
      ],
      "execution_count": 0,
      "outputs": []
    },
    {
      "metadata": {
        "id": "gNwao4DrDkNE",
        "colab_type": "text"
      },
      "cell_type": "markdown",
      "source": [
        "Initially, our target data is just a set of numbers"
      ]
    },
    {
      "metadata": {
        "id": "QqGnutFNDkNG",
        "colab_type": "code",
        "outputId": "589fbd18-a516-4b66-8828-deb00a433a11",
        "colab": {
          "base_uri": "https://localhost:8080/",
          "height": 34
        }
      },
      "cell_type": "code",
      "source": [
        "train_labels[0:10]"
      ],
      "execution_count": 59,
      "outputs": [
        {
          "output_type": "execute_result",
          "data": {
            "text/plain": [
              "array([5, 0, 4, 1, 9, 2, 1, 3, 1, 4], dtype=uint8)"
            ]
          },
          "metadata": {
            "tags": []
          },
          "execution_count": 59
        }
      ]
    },
    {
      "metadata": {
        "id": "HCgOKLeGDkNQ",
        "colab_type": "text"
      },
      "cell_type": "markdown",
      "source": [
        "We are going to transform it to **1-HOT encoding format**"
      ]
    },
    {
      "metadata": {
        "id": "IDnahxvzDkNV",
        "colab_type": "code",
        "colab": {}
      },
      "cell_type": "code",
      "source": [
        "from keras.utils import to_categorical"
      ],
      "execution_count": 0,
      "outputs": []
    },
    {
      "metadata": {
        "id": "L-i8vHdILqCb",
        "colab_type": "code",
        "colab": {}
      },
      "cell_type": "code",
      "source": [
        "train_labels_onehot = to_categorical(train_labels,10)"
      ],
      "execution_count": 0,
      "outputs": []
    },
    {
      "metadata": {
        "id": "NbgnL10aLqIy",
        "colab_type": "code",
        "outputId": "782d7175-4c9e-40c4-8bab-7addfe6b36e1",
        "colab": {
          "base_uri": "https://localhost:8080/",
          "height": 34
        }
      },
      "cell_type": "code",
      "source": [
        "train_labels_onehot.shape"
      ],
      "execution_count": 62,
      "outputs": [
        {
          "output_type": "execute_result",
          "data": {
            "text/plain": [
              "(60000, 10)"
            ]
          },
          "metadata": {
            "tags": []
          },
          "execution_count": 62
        }
      ]
    },
    {
      "metadata": {
        "id": "C6YJjORqDkNf",
        "colab_type": "text"
      },
      "cell_type": "markdown",
      "source": [
        "We have to repeat the same process with the test data"
      ]
    },
    {
      "metadata": {
        "id": "q-FX5UioDkNi",
        "colab_type": "code",
        "colab": {}
      },
      "cell_type": "code",
      "source": [
        "test_labels_onehot = to_categorical(test_labels,10)"
      ],
      "execution_count": 0,
      "outputs": []
    },
    {
      "metadata": {
        "id": "rToPWM90ME6a",
        "colab_type": "code",
        "outputId": "b4302385-bbf9-4ee4-a8eb-bfc915f4c62a",
        "colab": {
          "base_uri": "https://localhost:8080/",
          "height": 34
        }
      },
      "cell_type": "code",
      "source": [
        "test_labels_onehot.shape"
      ],
      "execution_count": 64,
      "outputs": [
        {
          "output_type": "execute_result",
          "data": {
            "text/plain": [
              "(10000, 10)"
            ]
          },
          "metadata": {
            "tags": []
          },
          "execution_count": 64
        }
      ]
    },
    {
      "metadata": {
        "id": "NJndZ8xlDkNn",
        "colab_type": "text"
      },
      "cell_type": "markdown",
      "source": [
        "## Let's build the model"
      ]
    },
    {
      "metadata": {
        "id": "m54kBv0vDkNp",
        "colab_type": "code",
        "colab": {}
      },
      "cell_type": "code",
      "source": [
        "# Importing Libraries\n",
        "from keras.layers import Dense, Flatten\n",
        "from keras.models import Sequential\n",
        "from keras.activations import softmax, elu"
      ],
      "execution_count": 0,
      "outputs": []
    },
    {
      "metadata": {
        "id": "64qhwUbGOdtd",
        "colab_type": "code",
        "colab": {}
      },
      "cell_type": "code",
      "source": [
        "def build_model():\n",
        "  m = Sequential()\n",
        "  m.add(Flatten(input_shape=(28,28)))\n",
        "  m.add(Dense(units=128, activation=elu))\n",
        "  #m.add(Dense(units=36, activation=elu))\n",
        "  m.add(Dense(units=16, activation=elu))\n",
        "  m.add(Dense(units=10, activation=softmax))\n",
        "  m.summary()\n",
        "  return m"
      ],
      "execution_count": 0,
      "outputs": []
    },
    {
      "metadata": {
        "id": "gSwg28EDO1Fs",
        "colab_type": "code",
        "outputId": "35cff256-bf38-49f9-be00-9cf20741184f",
        "colab": {
          "base_uri": "https://localhost:8080/",
          "height": 278
        }
      },
      "cell_type": "code",
      "source": [
        "m = build_model()"
      ],
      "execution_count": 67,
      "outputs": [
        {
          "output_type": "stream",
          "text": [
            "_________________________________________________________________\n",
            "Layer (type)                 Output Shape              Param #   \n",
            "=================================================================\n",
            "flatten_3 (Flatten)          (None, 784)               0         \n",
            "_________________________________________________________________\n",
            "dense_8 (Dense)              (None, 128)               100480    \n",
            "_________________________________________________________________\n",
            "dense_9 (Dense)              (None, 16)                2064      \n",
            "_________________________________________________________________\n",
            "dense_10 (Dense)             (None, 10)                170       \n",
            "=================================================================\n",
            "Total params: 102,714\n",
            "Trainable params: 102,714\n",
            "Non-trainable params: 0\n",
            "_________________________________________________________________\n"
          ],
          "name": "stdout"
        }
      ]
    },
    {
      "metadata": {
        "id": "ha0Vbl47DkNy",
        "colab_type": "text"
      },
      "cell_type": "markdown",
      "source": [
        "Here we will make some decisions about how to train our model.\n",
        "\n",
        "The **objective function**, called **loss function** in Deep Learning, will be *categorical crossentropy*. This is because we are trying to predict discrete classes. If we choose a different function, the solution will be different. This is the function that will tell us when we have found the *solution*. Different functions will point to different *solutions*.\n",
        "\n",
        "The **optimizer** is the method that we will use to find the minimum of the **loss function**. In general, we will not find the global minimum of the loss function, but a minimum that is good enough. *RMSProp* is one the variants of gradient descent. But there are many more:\n",
        " - http://ruder.io/optimizing-gradient-descent/\n",
        " \n",
        "These two settings will define what solution we will find during the training process.\n",
        "\n",
        "The other parameter, the **metrics**, is only for information purposes. In each step of the training (called **epoch**), Keras will report the value of the metrics. But whether we choose one metric or another will not influence the training process. It is only for reporting how the training is going. That information will be useful for the validation of the model, that is, for the **hyperparameters tuning**.\n"
      ]
    },
    {
      "metadata": {
        "id": "u7kcM0tFDkN2",
        "colab_type": "text"
      },
      "cell_type": "markdown",
      "source": [
        "Now let's fit the neural network. We will keep the results in a *history* object to plot some parameters after the training, and use that information for improving our model (changing layers, activation functions, etc). This process is called **hyperparameters tuning** or hypeparameters search.\n",
        "\n",
        "Here we need to set two parameters: the number of **epochs** and the **batch size**.\n",
        "\n",
        "In previous cells, I have said that the training process is an optimization problem: we try to find the minimum.\n",
        "\n",
        "That's actually not entirely true. In practice, we don't keep searching for a minimum. Instead, we train for a preset number of epochs. Then we analyze the output using the validation set. If we detect overfit, then we reduce the number of epochs. If we don't detect it, then maybe we can keep going for some more epochs to find a better model. The number of epochs is another hyperparameter. In general, we should stop the training as early as possible. Any further epoch can make our model overfit, and therefore generalize poorly.\n",
        "\n",
        "The batch size is another hyperparameter. The network is not updated item by item, vector by vector. We can actually calculate the weights for a batch of several items, forming a matrix or a tensor. The batch size will affect the granularity of the calculations and the performance. A larger batch size will probably result in a slightly worse accuracy, but in a better performance. As long as the batch size is not so huge that it cannot be kept in memory. Because we are running on a GPU, it is a good idea to use a power of 2 for the batch size. It will probably make a better use of the GPU. But again, the effect of the batch size must be tested using the validation set, and adjusted until we find a good value for that parameter.\n",
        "\n",
        "An epoch is a full pass over the training dataset. At the end of each epoch, Keras will calculate the value of the metrics for the training set, and the loss function and metrics for the validation set. The loss and metrics of the validation set are useful for the hyperparameters tuning process.\n",
        "\n"
      ]
    },
    {
      "metadata": {
        "id": "j0eT9v1QDkN6",
        "colab_type": "code",
        "colab": {}
      },
      "cell_type": "code",
      "source": [
        "# vamos a compilar...que es como optimizar todo esta red neuronal\n",
        "from keras import optimizers, losses, metrics"
      ],
      "execution_count": 0,
      "outputs": []
    },
    {
      "metadata": {
        "id": "yyKzQS49SpUJ",
        "colab_type": "code",
        "colab": {}
      },
      "cell_type": "code",
      "source": [
        "m.compile(optimizer=optimizers.adadelta(),loss=losses.categorical_crossentropy, metrics=[metrics.categorical_accuracy])"
      ],
      "execution_count": 0,
      "outputs": []
    },
    {
      "metadata": {
        "id": "Xi6JrzpMSpds",
        "colab_type": "code",
        "outputId": "ee3a51f3-1423-4573-d668-dcfa6d4f2849",
        "colab": {
          "base_uri": "https://localhost:8080/",
          "height": 1424
        }
      },
      "cell_type": "code",
      "source": [
        "h = m.fit(train_images,train_labels_onehot,batch_size=500, epochs=40, validation_split=0.2)"
      ],
      "execution_count": 70,
      "outputs": [
        {
          "output_type": "stream",
          "text": [
            "Train on 48000 samples, validate on 12000 samples\n",
            "Epoch 1/40\n",
            "48000/48000 [==============================] - 2s 34us/step - loss: 0.7256 - categorical_accuracy: 0.8022 - val_loss: 0.3622 - val_categorical_accuracy: 0.9048\n",
            "Epoch 2/40\n",
            "48000/48000 [==============================] - 1s 27us/step - loss: 0.3431 - categorical_accuracy: 0.9049 - val_loss: 0.2863 - val_categorical_accuracy: 0.9218\n",
            "Epoch 3/40\n",
            "48000/48000 [==============================] - 1s 27us/step - loss: 0.2815 - categorical_accuracy: 0.9205 - val_loss: 0.2479 - val_categorical_accuracy: 0.9297\n",
            "Epoch 4/40\n",
            "48000/48000 [==============================] - 1s 27us/step - loss: 0.2407 - categorical_accuracy: 0.9316 - val_loss: 0.2268 - val_categorical_accuracy: 0.9338\n",
            "Epoch 5/40\n",
            "48000/48000 [==============================] - 1s 27us/step - loss: 0.2108 - categorical_accuracy: 0.9393 - val_loss: 0.2105 - val_categorical_accuracy: 0.9393\n",
            "Epoch 6/40\n",
            "48000/48000 [==============================] - 1s 27us/step - loss: 0.1835 - categorical_accuracy: 0.9473 - val_loss: 0.1792 - val_categorical_accuracy: 0.9515\n",
            "Epoch 7/40\n",
            "48000/48000 [==============================] - 1s 27us/step - loss: 0.1623 - categorical_accuracy: 0.9540 - val_loss: 0.1586 - val_categorical_accuracy: 0.9569\n",
            "Epoch 8/40\n",
            "48000/48000 [==============================] - 1s 26us/step - loss: 0.1453 - categorical_accuracy: 0.9579 - val_loss: 0.1527 - val_categorical_accuracy: 0.9583\n",
            "Epoch 9/40\n",
            "48000/48000 [==============================] - 1s 26us/step - loss: 0.1311 - categorical_accuracy: 0.9625 - val_loss: 0.1382 - val_categorical_accuracy: 0.9613\n",
            "Epoch 10/40\n",
            "48000/48000 [==============================] - 1s 27us/step - loss: 0.1189 - categorical_accuracy: 0.9654 - val_loss: 0.1322 - val_categorical_accuracy: 0.9622\n",
            "Epoch 11/40\n",
            "48000/48000 [==============================] - 1s 26us/step - loss: 0.1087 - categorical_accuracy: 0.9689 - val_loss: 0.1248 - val_categorical_accuracy: 0.9643\n",
            "Epoch 12/40\n",
            "48000/48000 [==============================] - 1s 27us/step - loss: 0.0992 - categorical_accuracy: 0.9715 - val_loss: 0.1137 - val_categorical_accuracy: 0.9671\n",
            "Epoch 13/40\n",
            "48000/48000 [==============================] - 1s 27us/step - loss: 0.0908 - categorical_accuracy: 0.9741 - val_loss: 0.1132 - val_categorical_accuracy: 0.9667\n",
            "Epoch 14/40\n",
            "48000/48000 [==============================] - 1s 27us/step - loss: 0.0837 - categorical_accuracy: 0.9760 - val_loss: 0.1110 - val_categorical_accuracy: 0.9693\n",
            "Epoch 15/40\n",
            "48000/48000 [==============================] - 1s 26us/step - loss: 0.0777 - categorical_accuracy: 0.9779 - val_loss: 0.1075 - val_categorical_accuracy: 0.9692\n",
            "Epoch 16/40\n",
            "48000/48000 [==============================] - 1s 26us/step - loss: 0.0712 - categorical_accuracy: 0.9796 - val_loss: 0.1016 - val_categorical_accuracy: 0.9713\n",
            "Epoch 17/40\n",
            "48000/48000 [==============================] - 1s 26us/step - loss: 0.0672 - categorical_accuracy: 0.9811 - val_loss: 0.1004 - val_categorical_accuracy: 0.9717\n",
            "Epoch 18/40\n",
            "48000/48000 [==============================] - 1s 27us/step - loss: 0.0629 - categorical_accuracy: 0.9816 - val_loss: 0.1018 - val_categorical_accuracy: 0.9713\n",
            "Epoch 19/40\n",
            "48000/48000 [==============================] - 1s 27us/step - loss: 0.0582 - categorical_accuracy: 0.9835 - val_loss: 0.1000 - val_categorical_accuracy: 0.9707\n",
            "Epoch 20/40\n",
            "48000/48000 [==============================] - 1s 26us/step - loss: 0.0539 - categorical_accuracy: 0.9847 - val_loss: 0.0929 - val_categorical_accuracy: 0.9740\n",
            "Epoch 21/40\n",
            "48000/48000 [==============================] - 1s 27us/step - loss: 0.0515 - categorical_accuracy: 0.9853 - val_loss: 0.0949 - val_categorical_accuracy: 0.9733\n",
            "Epoch 22/40\n",
            "48000/48000 [==============================] - 1s 26us/step - loss: 0.0472 - categorical_accuracy: 0.9866 - val_loss: 0.0917 - val_categorical_accuracy: 0.9738\n",
            "Epoch 23/40\n",
            "48000/48000 [==============================] - 1s 26us/step - loss: 0.0442 - categorical_accuracy: 0.9875 - val_loss: 0.0920 - val_categorical_accuracy: 0.9746\n",
            "Epoch 24/40\n",
            "48000/48000 [==============================] - 1s 26us/step - loss: 0.0409 - categorical_accuracy: 0.9892 - val_loss: 0.0908 - val_categorical_accuracy: 0.9745\n",
            "Epoch 25/40\n",
            "48000/48000 [==============================] - 1s 26us/step - loss: 0.0383 - categorical_accuracy: 0.9895 - val_loss: 0.0881 - val_categorical_accuracy: 0.9745\n",
            "Epoch 26/40\n",
            "48000/48000 [==============================] - 1s 26us/step - loss: 0.0367 - categorical_accuracy: 0.9897 - val_loss: 0.0879 - val_categorical_accuracy: 0.9756\n",
            "Epoch 27/40\n",
            "48000/48000 [==============================] - 1s 26us/step - loss: 0.0332 - categorical_accuracy: 0.9909 - val_loss: 0.0941 - val_categorical_accuracy: 0.9730\n",
            "Epoch 28/40\n",
            "48000/48000 [==============================] - 1s 26us/step - loss: 0.0317 - categorical_accuracy: 0.9916 - val_loss: 0.0896 - val_categorical_accuracy: 0.9728\n",
            "Epoch 29/40\n",
            "48000/48000 [==============================] - 1s 26us/step - loss: 0.0291 - categorical_accuracy: 0.9921 - val_loss: 0.0953 - val_categorical_accuracy: 0.9747\n",
            "Epoch 30/40\n",
            "48000/48000 [==============================] - 1s 26us/step - loss: 0.0274 - categorical_accuracy: 0.9928 - val_loss: 0.0879 - val_categorical_accuracy: 0.9752\n",
            "Epoch 31/40\n",
            "48000/48000 [==============================] - 1s 26us/step - loss: 0.0254 - categorical_accuracy: 0.9938 - val_loss: 0.0922 - val_categorical_accuracy: 0.9742\n",
            "Epoch 32/40\n",
            "48000/48000 [==============================] - 1s 27us/step - loss: 0.0243 - categorical_accuracy: 0.9938 - val_loss: 0.0885 - val_categorical_accuracy: 0.9762\n",
            "Epoch 33/40\n",
            "48000/48000 [==============================] - 1s 27us/step - loss: 0.0226 - categorical_accuracy: 0.9943 - val_loss: 0.0953 - val_categorical_accuracy: 0.9743\n",
            "Epoch 34/40\n",
            "48000/48000 [==============================] - 1s 27us/step - loss: 0.0208 - categorical_accuracy: 0.9951 - val_loss: 0.0884 - val_categorical_accuracy: 0.9758\n",
            "Epoch 35/40\n",
            "48000/48000 [==============================] - 1s 26us/step - loss: 0.0197 - categorical_accuracy: 0.9955 - val_loss: 0.0986 - val_categorical_accuracy: 0.9727\n",
            "Epoch 36/40\n",
            "48000/48000 [==============================] - 1s 26us/step - loss: 0.0180 - categorical_accuracy: 0.9961 - val_loss: 0.0954 - val_categorical_accuracy: 0.9745\n",
            "Epoch 37/40\n",
            "48000/48000 [==============================] - 1s 27us/step - loss: 0.0169 - categorical_accuracy: 0.9964 - val_loss: 0.0918 - val_categorical_accuracy: 0.9750\n",
            "Epoch 38/40\n",
            "48000/48000 [==============================] - 1s 27us/step - loss: 0.0163 - categorical_accuracy: 0.9965 - val_loss: 0.0910 - val_categorical_accuracy: 0.9763\n",
            "Epoch 39/40\n",
            "48000/48000 [==============================] - 1s 26us/step - loss: 0.0148 - categorical_accuracy: 0.9971 - val_loss: 0.0958 - val_categorical_accuracy: 0.9762\n",
            "Epoch 40/40\n",
            "48000/48000 [==============================] - 1s 26us/step - loss: 0.0137 - categorical_accuracy: 0.9972 - val_loss: 0.0944 - val_categorical_accuracy: 0.9745\n"
          ],
          "name": "stdout"
        }
      ]
    },
    {
      "metadata": {
        "id": "85T_fTFtSpaA",
        "colab_type": "code",
        "outputId": "484e49df-6fd9-4fee-c64b-2a5b241449b9",
        "colab": {
          "base_uri": "https://localhost:8080/",
          "height": 477
        }
      },
      "cell_type": "code",
      "source": [
        "# SI hay OVERFITTTING!!!!!\n",
        "# Aumentar datos, reducri complejidad de la red o regularizar!\n",
        "plot_metric(h,'loss')"
      ],
      "execution_count": 71,
      "outputs": [
        {
          "output_type": "display_data",
          "data": {
            "image/png": "[encoded data removed]",
            "text/plain": [
              "<Figure size 748.8x514.8 with 1 Axes>"
            ]
          },
          "metadata": {
            "tags": []
          }
        }
      ]
    },
    {
      "metadata": {
        "id": "fAKpp30AZibi",
        "colab_type": "code",
        "colab": {
          "base_uri": "https://localhost:8080/",
          "height": 477
        },
        "outputId": "8ab55102-18b0-4dab-d19e-8cc1f7780aa4"
      },
      "cell_type": "code",
      "source": [
        "# OVERFITTTING!!!!!\n",
        "plot_metric(h,'loss')"
      ],
      "execution_count": 72,
      "outputs": [
        {
          "output_type": "display_data",
          "data": {
            "image/png": "[encoded data removed]",
            "text/plain": [
              "<Figure size 748.8x514.8 with 1 Axes>"
            ]
          },
          "metadata": {
            "tags": []
          }
        }
      ]
    },
    {
      "metadata": {
        "id": "fuH_4KHIDkOI",
        "colab_type": "text"
      },
      "cell_type": "markdown",
      "source": [
        "## Exercises\n",
        "\n",
        "* **EXERCISE 1**: Chante the activation function in the model. How does it affect accuracy? What happens if you use linear activation function? What happens if we use the $\\tanh$ function? Does it affect to overfitting?\n",
        " * https://keras.io/activations/\n",
        " \n",
        "Here we see that the accuracy keeps increasing over epochs. An overfitted model would produce a decrease of the validation accuracy at some point. This means that we have found an optimal model. The validation loss is stuck at a minimum, but the accuracy is not affected by the extra epochs.\n",
        "\n",
        "_**EXERCISE 2**_: How is the model accuracy (measured with the test set, see below) affected if we start over and fit for 40 epochs? And for 4? And for 400?\n",
        "\n",
        "_**EXERCISE 4**_: What is the most simple model that you can get that achieves a similar validation performance (accuracy)? (the loss values are not comparable, different networks will have different ranges of values for the loss functions)\n",
        "\n",
        "Now let's check how well the model works with the test dataset. Remember that we don't have used it at all during the training and tuning of the model."
      ]
    },
    {
      "metadata": {
        "id": "z1t2qGDKDkOK",
        "colab_type": "text"
      },
      "cell_type": "markdown",
      "source": [
        "## Analyze the classification performance"
      ]
    },
    {
      "metadata": {
        "id": "fKos2CN4DkOP",
        "colab_type": "code",
        "colab": {
          "base_uri": "https://localhost:8080/",
          "height": 52
        },
        "outputId": "503328c8-2032-460d-a940-9eba87bd1f5b"
      },
      "cell_type": "code",
      "source": [
        "# LOSS , CATEGORICAL ACCURACY\n",
        "m.evaluate(test_images,test_labels_onehot)"
      ],
      "execution_count": 73,
      "outputs": [
        {
          "output_type": "stream",
          "text": [
            "10000/10000 [==============================] - 0s 43us/step\n"
          ],
          "name": "stdout"
        },
        {
          "output_type": "execute_result",
          "data": {
            "text/plain": [
              "[0.07945533904622425, 0.9769]"
            ]
          },
          "metadata": {
            "tags": []
          },
          "execution_count": 73
        }
      ]
    },
    {
      "metadata": {
        "id": "XiCvYAWEDkOg",
        "colab_type": "text"
      },
      "cell_type": "markdown",
      "source": [
        "That's about a $98\\%$ accuracy on the test set. Not bad.\n",
        "\n",
        "With that accuracy, this is the number of images that are wrongly classified by our model:"
      ]
    },
    {
      "metadata": {
        "id": "uPQ-nof8DkOk",
        "colab_type": "code",
        "colab": {}
      },
      "cell_type": "code",
      "source": [
        ""
      ],
      "execution_count": 0,
      "outputs": []
    },
    {
      "metadata": {
        "id": "PaT5k5EbDkOt",
        "colab_type": "text"
      },
      "cell_type": "markdown",
      "source": [
        "Let's see how well it predicts some random items from the test set."
      ]
    },
    {
      "metadata": {
        "id": "4xd5GlQeDkOx",
        "colab_type": "code",
        "outputId": "ff41a329-af9f-4b74-f5d9-9e73bee6862d",
        "colab": {}
      },
      "cell_type": "code",
      "source": [
        "plot_mnist_image(2543, test_imgs, test_labels)"
      ],
      "execution_count": 0,
      "outputs": [
        {
          "output_type": "stream",
          "text": [
            "The image below should show the number 8\n"
          ],
          "name": "stdout"
        },
        {
          "output_type": "display_data",
          "data": {
            "image/png": "[encoded data removed]",
            "text/plain": [
              "<Figure size 748.8x514.8 with 1 Axes>"
            ]
          },
          "metadata": {
            "tags": []
          }
        }
      ]
    },
    {
      "metadata": {
        "id": "4S87ovRSDkPF",
        "colab_type": "text"
      },
      "cell_type": "markdown",
      "source": [
        "The prediction is a 10-element vector (*1-HOT encoded vector*), with the probability of each class. The location of the max is giving us the predicted class."
      ]
    },
    {
      "metadata": {
        "id": "mXmyH9d5DkPH",
        "colab_type": "code",
        "colab": {}
      },
      "cell_type": "code",
      "source": [
        ""
      ],
      "execution_count": 0,
      "outputs": []
    },
    {
      "metadata": {
        "id": "WUBE-ruwDkPM",
        "colab_type": "text"
      },
      "cell_type": "markdown",
      "source": [
        "YES! Our model predicts 8\n",
        "\n",
        "_**EXERCISE 5**_: Can you find a test item that is predicted wrongly? How many images are predicted wrongly? Can you find all the items that are wrongly classified? For instance, the test element with index 3943 is a 3 but we predict a 5\n"
      ]
    },
    {
      "metadata": {
        "id": "hC4xn3diDkPO",
        "colab_type": "code",
        "outputId": "f44f3789-ca15-4986-9957-ca1b840c2dec",
        "colab": {}
      },
      "cell_type": "code",
      "source": [
        "plot_mnist_image(3943, test_imgs, test_labels)"
      ],
      "execution_count": 0,
      "outputs": [
        {
          "output_type": "stream",
          "text": [
            "The image below should show the number 3\n"
          ],
          "name": "stdout"
        },
        {
          "output_type": "display_data",
          "data": {
            "image/png": "[encoded data removed]",
            "text/plain": [
              "<Figure size 748.8x514.8 with 1 Axes>"
            ]
          },
          "metadata": {
            "tags": []
          }
        }
      ]
    },
    {
      "metadata": {
        "id": "-DHUWjhRDkPd",
        "colab_type": "code",
        "outputId": "bbd19f9d-f71e-45b2-ff71-ab1623252bb3",
        "colab": {}
      },
      "cell_type": "code",
      "source": [
        "np.argmax(m.predict(test_imgs_t[3943:3944,]))"
      ],
      "execution_count": 0,
      "outputs": [
        {
          "output_type": "execute_result",
          "data": {
            "text/plain": [
              "5"
            ]
          },
          "metadata": {
            "tags": []
          },
          "execution_count": 84
        }
      ]
    },
    {
      "metadata": {
        "id": "-f5W_c1YDkP4",
        "colab_type": "code",
        "colab": {}
      },
      "cell_type": "code",
      "source": [
        ""
      ],
      "execution_count": 0,
      "outputs": []
    },
    {
      "metadata": {
        "id": "yaOJbMs-DkP_",
        "colab_type": "text"
      },
      "cell_type": "markdown",
      "source": [
        "Ok, but in which positions can we find all the misclassifications?"
      ]
    },
    {
      "metadata": {
        "id": "S8glUSqsDkQA",
        "colab_type": "code",
        "colab": {}
      },
      "cell_type": "code",
      "source": [
        ""
      ],
      "execution_count": 0,
      "outputs": []
    },
    {
      "metadata": {
        "id": "E6kTg9KuDkQE",
        "colab_type": "text"
      },
      "cell_type": "markdown",
      "source": [
        "_**EXERCISE 6**_: Some digits are more difficult to recognize than others. Because we know the test labels, we can find out how many times the corresponding test images are misclassified. Could you find what are the top 3 test labels that are more often misclassified?"
      ]
    },
    {
      "metadata": {
        "id": "-N6tfcEEDkQF",
        "colab_type": "text"
      },
      "cell_type": "markdown",
      "source": [
        "Let's check some wrong predictions"
      ]
    },
    {
      "metadata": {
        "id": "Fv4JlNZYDkQH",
        "colab_type": "code",
        "outputId": "10e3242d-3f37-4fa4-9607-d79bebbd21a1",
        "colab": {}
      },
      "cell_type": "code",
      "source": [
        "plot_mnist_image(151, test_imgs, test_labels)"
      ],
      "execution_count": 0,
      "outputs": [
        {
          "output_type": "stream",
          "text": [
            "The image below should show the number 9\n"
          ],
          "name": "stdout"
        },
        {
          "output_type": "display_data",
          "data": {
            "image/png": "[encoded data removed]",
            "text/plain": [
              "<Figure size 748.8x514.8 with 1 Axes>"
            ]
          },
          "metadata": {
            "tags": []
          }
        }
      ]
    },
    {
      "metadata": {
        "id": "BolyHgovDkQM",
        "colab_type": "code",
        "outputId": "25c0195c-2178-4508-c2bf-0d80063ee8a2",
        "colab": {}
      },
      "cell_type": "code",
      "source": [
        "preds_labels[151]"
      ],
      "execution_count": 0,
      "outputs": [
        {
          "output_type": "execute_result",
          "data": {
            "text/plain": [
              "8"
            ]
          },
          "metadata": {
            "tags": []
          },
          "execution_count": 82
        }
      ]
    },
    {
      "metadata": {
        "id": "BRherP4ADkQU",
        "colab_type": "text"
      },
      "cell_type": "markdown",
      "source": [
        "These are the items that are wrongly classified:"
      ]
    },
    {
      "metadata": {
        "id": "VnhjWNojDkQV",
        "colab_type": "code",
        "colab": {}
      },
      "cell_type": "code",
      "source": [
        ""
      ],
      "execution_count": 0,
      "outputs": []
    },
    {
      "metadata": {
        "id": "97cNYS7IDkQY",
        "colab_type": "text"
      },
      "cell_type": "markdown",
      "source": [
        "So we see that $9$ is wrongly classified more than the rest. But does it mean that our model has more difficulties recognizing 9s?"
      ]
    },
    {
      "metadata": {
        "id": "R7rzPmRzDkQY",
        "colab_type": "code",
        "colab": {}
      },
      "cell_type": "code",
      "source": [
        ""
      ],
      "execution_count": 0,
      "outputs": []
    },
    {
      "metadata": {
        "id": "GI8o8B1oDkQc",
        "colab_type": "text"
      },
      "cell_type": "markdown",
      "source": [
        "Our model has the most difficulties recognizing 9s, 5s and 4s"
      ]
    },
    {
      "metadata": {
        "id": "iFsbmcG-DkQd",
        "colab_type": "code",
        "colab": {}
      },
      "cell_type": "code",
      "source": [
        ""
      ],
      "execution_count": 0,
      "outputs": []
    }
  ]
}