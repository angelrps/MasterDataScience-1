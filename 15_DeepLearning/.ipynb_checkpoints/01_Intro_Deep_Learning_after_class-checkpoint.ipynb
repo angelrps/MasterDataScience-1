{
  "nbformat": 4,
  "nbformat_minor": 0,
  "metadata": {
    "colab": {
      "name": "01_Intro_Deep_Learning_before_class.ipynb",
      "version": "0.3.2",
      "provenance": [],
      "collapsed_sections": []
    },
    "kernelspec": {
      "name": "python3",
      "display_name": "Python 3"
    },
    "accelerator": "GPU"
  },
  "cells": [
    {
      "metadata": {
        "id": "BHM_JNYEtTXM",
        "colab_type": "text"
      },
      "cell_type": "markdown",
      "source": [
        "# Introduction to Neural Networks and Deep Learning"
      ]
    },
    {
      "metadata": {
        "id": "QeLXxQ54tTXW",
        "colab_type": "text"
      },
      "cell_type": "markdown",
      "source": [
        "## What's the difference between Artificial Intelligence, Machine Learning and Deep Learning?\n",
        "\n",
        "**Artificial Intelligence** (AI) is a very old field of research. It started in the 1950s; at that time, the pioneers in AI were convinced that they could make machines think. The initial approach was attempting to model intellectual tasks, and program those tasks in computers. That is, in the beginning, AI was about people *hard-coding* problems that the machine tried to solve. A good example of an early AI program is computer chess. Early AI computer chess programs had **lots of rules pre-conceived by the program designers**. So although the term refers to \"intelligence\", these programs were not \"intelligent\", but just a sophisticated set of rules.\n",
        "\n",
        "* The term *neural network* was also born at that time. The initial idea was trying to mimic how a *neuron* works (or in fact, how it was thought a neuron worked when the term was coined) in the brain. As in the case of *Artificial Intelligence*, please do not be fooled by the terms. A *neural network* is just a way to compute approximation to functions. A powerful and useful way, true. But it is not any kind of \"artificial brain\", or anything like that.\n",
        "\n",
        "This approach is now obsolete. We now know that some tasks are so complex, that we will never be able to pre-design a system to have a good performance on those tasks. Take the example of the game of Go. Any program designed by humans to play Go was dull and could not compete against professional players. The game is so hard that is just impossible for us as humans to conceived a good Go computer player.\n",
        "* https://en.wikipedia.org/wiki/Go_(game)\n",
        "\n",
        "The modern approach to solve this kind of problems involves the use of data. This is what the *learning* part of *Deep Learning* (and *Machine Learning*) refers to. **Learning from data**. So, with this brief introduction, we can say that *Artificial Intelligence* is a broad concept that includes *Machine Learning*, that includes *Deep Learning*. *Artificial Intelligence* does not necessarily means learning from data, but Machine Learning does. And *Deep Learning* is just doing *Machine Learning* with neural networks.\n",
        "\n",
        "![](imgs/01_ai_ml_dl.png)\n",
        "\n",
        "We will see during this course what *learning* means, and what is a *neural network*. \n",
        "\n",
        "In the case of the game of Go, all attempts to design a good Go computer player failed, until Google DeepMind created AlphaGo, a system that *learned* to play Go based on data from previous games. AlphaGo is an example that learning from data can provide computer systems that are superior to any system pre-conceived by humans.\n",
        "* Find out more about AlphaGo by watching this utterly interesting movie: https://www.alphagomovie.com/\n",
        "\n",
        "In this course, we will give our first steps on *Deep Learning* and *Neural Networks*, to start creating systems that perform complex tasks by learning from data. Instead of attempting to derive the rules by ourselves, those rules will be inferred by a neural network based on the data we provide:\n",
        "\n",
        "![](imgs/02_rules_data.png)"
      ]
    },
    {
      "metadata": {
        "id": "blS-fgOxtTXd",
        "colab_type": "text"
      },
      "cell_type": "markdown",
      "source": [
        "# Deep Learning and Machine Learning: why is everyone now talking about Deep Learning?\n",
        "\n",
        "To create our system, we need data:\n",
        "* Input data points; e.g. images to recognize shapes inside the images.\n",
        "* Examples of expected output. The system will use these examples to learn from them. For the images above, we will need *labels* telling us what is in the image.\n",
        "\n",
        "The neural network will *learn* from this data. But in fact, what the network is doing is learning a *representation* of the data that makes the task much easier to solve.\n",
        "\n",
        "Let's see an example. We have the following input data (x,y coordinates for the points), and the labels of each item (the color of the point). We would like to obtain a model to separete the two classes of points:\n",
        "\n",
        "![](imgs/03_points.png)\n",
        "\n",
        "How would you separate the points? In the current reference system, it can be a complex task. But if you change the reference system (*if you learn a new representation of the data*), the task becomes trivial:\n",
        "\n",
        "![](imgs/04_representation.png)\n",
        "\n",
        "In Deep Learning, we learn **layers** of increasingly better representations. The **deep** in Deep Learning refers to the number of layers that we learn. Before Deep Learning, the models that we are going to see today were much shallower. The most typical form of the layer representations is **neural networks**. As we will see, **neural networks** are just chain of matrix operations -- arrays of 2 dimensions--, or more precisely, tensor operations, we will operate in dimensions higher than 2.\n",
        "\n",
        "\n",
        "* More about learning representations: https://www.bbvadata.com/not-deep-learning-learning-represent/"
      ]
    },
    {
      "metadata": {
        "id": "RUDNwxD3tTXq",
        "colab_type": "text"
      },
      "cell_type": "markdown",
      "source": [
        "## Neural Networks\n",
        "\n",
        "A neural network is just a stacked set of layers. Each layer is represented by a tensor, and it performs an affine transformation on each one of the layers.\n",
        "* A matrix is a 2D tensor\n",
        "* Affine transformation $\\vec{y} = W\\cdot\\vec{x} + \\vec{b}$, where $W$ is the weights tensor, $\\vec{x}$ is the input data, $\\vec{y}$ is the output data and $\\vec{b}$ is called the bias\n",
        "* $W$ and $\\vec{b}$ are model parameters that need to be found by training\n",
        "\n",
        "![](imgs/05_nn.png)\n",
        "\n",
        "Note that this is a **linear operation**, therefore the result will be linear too. But the functions we want to learn are normally non-linear. How do we overcome this limiation? By using an **activation function**, that transforms the result from the linear operation. So, we actually do the following operation:\n",
        "\n",
        "$\\vec{y} = f\\left(W\\cdot\\vec{x} + \\vec{b}\\right)$\n",
        "\n",
        "There are several common activation functions, depending on the characteristics of the data and the kind of problem we want to solve. Here we will use the probably most often used activation function: **rectified linear unit**, or **relu** for friends:\n",
        "\n",
        "![Relu plot](https://upload.wikimedia.org/wikipedia/commons/6/6c/Rectifier_and_softplus_functions.svg)\n",
        "\n",
        "(image extracted from https://en.wikipedia.org/wiki/Rectifier_(neural_networks))\n",
        "\n",
        "Relu will add the non-linearity that we need to learn arbitrary functions.\n",
        "\n",
        "We can achieve the same with many other activation functions. See the documentation of Keras for details on the available activation functions:\n",
        " - https://keras.io/activations/\n",
        "\n",
        "\n",
        "Each layer learns a new representation of the input data, and after several layers, the representation will make it straightforward to solve the task (e.g. assiging a digit to an image of a digit).\n",
        "\n",
        "Until very recently, any attempt to train a deep neural network would not provide good results. Recent progresses (e.g. advances in hardware, new activation functions) make it possible to train very deep network, and therefore, solve problems that were unfeasible not long ago.\n",
        "\n",
        "### Training process\n",
        "\n",
        "The parameters of the network are initially randomly assigned. Then after each pass of the network, that is, after each *epoch*, the predictions of the network is compared against the true values, applying a *loss function*. This score is used to update the parameters of the network, with a process called **backpropagation**.\n",
        "* Backpropagation is a complex process that involves calculating the gradient of the parameters of the network. For more details see: https://en.wikipedia.org/wiki/Backpropagation\n",
        "* See also this excellent and visual explanation of how backpropagation works: https://google-developers.appspot.com/machine-learning/crash-course/backprop-scroll/\n",
        "\n",
        "The training process is just an optimization process, that is normally done using a gradient descent-based algorithm. The values of gradients are computed using the backpropagation algorithm. Each epoch will make the loss score to be lower, and the predictions to be better.\n",
        "\n",
        "![](imgs/06_optim.png)\n",
        "\n",
        "In practice, we have to fine tune the number of epochs (and other parameters), until we obtain a result that is good enough for our purpose. In fact, if the number of epochs is too high, our model may **overfit** the training data. In that case, it will perform worsely when the model is exposed to data that it  has not seen previously.\n",
        "* Fine tuning the number of epochs, and other parameters (e.g. the number and shape of the layers) is known as **hyperparameters optimization**, or **hyperparameters tuning**\n",
        "* The parameters of the model are the $W$ and $b$ values of each layer, and those are determined by training.\n",
        "\n",
        "## Hyperparameters tuning\n",
        "\n",
        "In summary, when we are trying to obtain a deep learning model, the process that we will follow is:\n",
        "* Decide on the architecture of the network (number of layers, type of each layer, size of each layer)\n",
        "* Decide on the activation functions on each layer\n",
        "* Decide on the parameters related to the optimization process (e.g. learning rate)\n",
        "* Decide on the loss function that we will use\n",
        "* Decide on the metrics that we will use to evaluate the performance of the model\n",
        "* Decide on the training parameters (number of epochs, batch size)\n",
        "* Decide on how to split the data between training, validation and test sets.\n",
        "\n",
        "We obtain feedback for those decisions with the results of the training applied to the validation set. We train once, change some of the hyperparameters, train again, decide if that's better, and we keep going until we have found a model that is satisfactory enough for our purposes.\n",
        "\n",
        "After that, we finally evaluate the model on the test set."
      ]
    },
    {
      "metadata": {
        "id": "b9X6n3KTtTXz",
        "colab_type": "text"
      },
      "cell_type": "markdown",
      "source": [
        "## Our first neural network\n",
        "\n",
        "Let's start with an easy example. We are going to produce some synthetic data, and will try to predict the function that generates the data. We will add some noise, to make the problem more difficult.\n",
        "\n",
        "The function we are going to try to predict is\n",
        "\n",
        "$\\displaystyle y = 3*x + 2$"
      ]
    },
    {
      "metadata": {
        "id": "j1vSP7VntTX-",
        "colab_type": "code",
        "outputId": "c86bee97-b648-4459-a861-4e8053c33928",
        "colab": {
          "base_uri": "https://localhost:8080/",
          "height": 34
        }
      },
      "cell_type": "code",
      "source": [
        "%pylab inline\n",
        "plt.style.use('seaborn-talk')"
      ],
      "execution_count": 0,
      "outputs": [
        {
          "output_type": "stream",
          "text": [
            "Populating the interactive namespace from numpy and matplotlib\n"
          ],
          "name": "stdout"
        }
      ]
    },
    {
      "metadata": {
        "id": "904HDZ52tTYy",
        "colab_type": "code",
        "colab": {}
      },
      "cell_type": "code",
      "source": [
        "def plot_metric(history, metric):\n",
        "    history_dict = history.history\n",
        "    values = history_dict[metric]\n",
        "    if 'val_' + metric in history_dict.keys():  \n",
        "        val_values = history_dict['val_' + metric]\n",
        "\n",
        "    epochs = range(1, len(values) + 1)\n",
        "\n",
        "    if 'val_' + metric in history_dict.keys():  \n",
        "        plt.plot(epochs, val_values, label='Validation')\n",
        "    plt.semilogy(epochs, values, label='Training')\n",
        "\n",
        "    if 'val_' + metric in history_dict.keys():  \n",
        "        plt.title('Training and validation %s' % metric)\n",
        "    else:\n",
        "        plt.title('Training %s' % metric)\n",
        "    plt.xlabel('Epochs')\n",
        "    plt.ylabel(metric.capitalize())\n",
        "    plt.legend()\n",
        "\n",
        "    plt.show()  "
      ],
      "execution_count": 0,
      "outputs": []
    },
    {
      "metadata": {
        "id": "OH_QHyG2tTY9",
        "colab_type": "text"
      },
      "cell_type": "markdown",
      "source": [
        "### Preparar los datos"
      ]
    },
    {
      "metadata": {
        "id": "5d4P29eXtTZB",
        "colab_type": "code",
        "colab": {}
      },
      "cell_type": "code",
      "source": [
        "x_train = np.linspace(0, 100, 1000)\n",
        "y_train = 3*x_train + 2\n",
        "# Escalando los datos\n",
        "x_train = (x_train - x_train.min())/(x_train.max() - x_train.min())\n",
        "y_train = (y_train - y_train.min())/(y_train.max() - y_train.min())"
      ],
      "execution_count": 0,
      "outputs": []
    },
    {
      "metadata": {
        "id": "MfKcnfOXtTZN",
        "colab_type": "code",
        "outputId": "85443386-6609-4da6-bc75-62f885ea2fa3",
        "colab": {
          "base_uri": "https://localhost:8080/",
          "height": 441
        }
      },
      "cell_type": "code",
      "source": [
        "plot(x_train, y_train)\n",
        "plt.grid(True)"
      ],
      "execution_count": 0,
      "outputs": [
        {
          "output_type": "display_data",
          "data": {
            "image/png": "[encoded data removed]",
            "text/plain": [
              "<Figure size 748.8x514.8 with 1 Axes>"
            ]
          },
          "metadata": {
            "tags": []
          }
        }
      ]
    },
    {
      "metadata": {
        "id": "hnHcE64kBX8H",
        "colab_type": "text"
      },
      "cell_type": "markdown",
      "source": [
        "# Primera Red Neuronal"
      ]
    },
    {
      "metadata": {
        "id": "BBNYQ1n-ACi1",
        "colab_type": "code",
        "colab": {}
      },
      "cell_type": "code",
      "source": [
        "from keras import layers, models"
      ],
      "execution_count": 0,
      "outputs": []
    },
    {
      "metadata": {
        "id": "FTKH9T2xAejX",
        "colab_type": "code",
        "outputId": "96fe1f13-b034-4e58-a51a-13dade469611",
        "colab": {
          "base_uri": "https://localhost:8080/",
          "height": 208
        }
      },
      "cell_type": "code",
      "source": [
        "# units = número de neuronas, activation = función de activación, input_shape es la dimensión de la entrada ya que x es un vector\n",
        "# creamos dos capas, la segunda capa es de una neuroa ya que queremos resolver un problema de regresión que devolverá un valor por registro\n",
        "m = models.Sequential()\n",
        "# Primera Capa\n",
        "m.add(layers.Dense(units=16, activation='relu',input_shape=(1,)))\n",
        "# Segunda Capa\n",
        "m.add(layers.Dense(units=1, activation='relu'))\n",
        "m.summary()"
      ],
      "execution_count": 0,
      "outputs": [
        {
          "output_type": "stream",
          "text": [
            "_________________________________________________________________\n",
            "Layer (type)                 Output Shape              Param #   \n",
            "=================================================================\n",
            "dense_15 (Dense)             (None, 16)                32        \n",
            "_________________________________________________________________\n",
            "dense_16 (Dense)             (None, 1)                 17        \n",
            "=================================================================\n",
            "Total params: 49\n",
            "Trainable params: 49\n",
            "Non-trainable params: 0\n",
            "_________________________________________________________________\n"
          ],
          "name": "stdout"
        }
      ]
    },
    {
      "metadata": {
        "id": "P7Pgknh6Aeqs",
        "colab_type": "code",
        "colab": {}
      },
      "cell_type": "code",
      "source": [
        "# vamos a compilar...que es como optimizar todo esta red neuronal\n",
        "from keras import optimizers, losses, metrics"
      ],
      "execution_count": 0,
      "outputs": []
    },
    {
      "metadata": {
        "id": "MG2LIOHuAenZ",
        "colab_type": "code",
        "outputId": "0eb88736-52fb-4380-a628-134cef52e1df",
        "colab": {
          "base_uri": "https://localhost:8080/",
          "height": 34
        }
      },
      "cell_type": "code",
      "source": [
        "type(m)"
      ],
      "execution_count": 0,
      "outputs": [
        {
          "output_type": "execute_result",
          "data": {
            "text/plain": [
              "keras.engine.sequential.Sequential"
            ]
          },
          "metadata": {
            "tags": []
          },
          "execution_count": 63
        }
      ]
    },
    {
      "metadata": {
        "id": "OXBSX20BAC56",
        "colab_type": "code",
        "colab": {}
      },
      "cell_type": "code",
      "source": [
        "m.compile(loss=losses.mse,optimizer=optimizers.RMSprop())\n"
      ],
      "execution_count": 0,
      "outputs": []
    },
    {
      "metadata": {
        "id": "jDYAPjeOXJ-G",
        "colab_type": "code",
        "outputId": "580ebc32-f219-4910-f771-9a3b4ebee853",
        "colab": {
          "base_uri": "https://localhost:8080/",
          "height": 3508
        }
      },
      "cell_type": "code",
      "source": [
        "# Entrenamos Red Neuronal\n",
        "# epochs : número de vueltas que doy a mi datasets datasets grandes 1 o 2 dataset pequeños 50\n",
        "h = m.fit(x=x_train,y=y_train,batch_size=50,epochs=100,validation_split=0.2)"
      ],
      "execution_count": 0,
      "outputs": [
        {
          "output_type": "stream",
          "text": [
            "Train on 800 samples, validate on 200 samples\n",
            "Epoch 1/100\n",
            "800/800 [==============================] - 0s 412us/step - loss: 0.0889 - val_loss: 0.2626\n",
            "Epoch 2/100\n",
            "800/800 [==============================] - 0s 70us/step - loss: 0.0379 - val_loss: 0.1398\n",
            "Epoch 3/100\n",
            "800/800 [==============================] - 0s 67us/step - loss: 0.0175 - val_loss: 0.0727\n",
            "Epoch 4/100\n",
            "800/800 [==============================] - 0s 70us/step - loss: 0.0106 - val_loss: 0.0426\n",
            "Epoch 5/100\n",
            "800/800 [==============================] - 0s 66us/step - loss: 0.0079 - val_loss: 0.0279\n",
            "Epoch 6/100\n",
            "800/800 [==============================] - 0s 67us/step - loss: 0.0053 - val_loss: 0.0191\n",
            "Epoch 7/100\n",
            "800/800 [==============================] - 0s 67us/step - loss: 0.0030 - val_loss: 0.0082\n",
            "Epoch 8/100\n",
            "800/800 [==============================] - 0s 71us/step - loss: 0.0013 - val_loss: 0.0036\n",
            "Epoch 9/100\n",
            "800/800 [==============================] - 0s 70us/step - loss: 3.7744e-04 - val_loss: 0.0014\n",
            "Epoch 10/100\n",
            "800/800 [==============================] - 0s 72us/step - loss: 7.4797e-05 - val_loss: 1.5059e-04\n",
            "Epoch 11/100\n",
            "800/800 [==============================] - 0s 71us/step - loss: 4.2114e-05 - val_loss: 2.0804e-04\n",
            "Epoch 12/100\n",
            "800/800 [==============================] - 0s 70us/step - loss: 2.9768e-05 - val_loss: 1.7031e-04\n",
            "Epoch 13/100\n",
            "800/800 [==============================] - 0s 86us/step - loss: 2.9271e-05 - val_loss: 2.5761e-04\n",
            "Epoch 14/100\n",
            "800/800 [==============================] - 0s 71us/step - loss: 2.6486e-05 - val_loss: 1.0364e-05\n",
            "Epoch 15/100\n",
            "800/800 [==============================] - 0s 70us/step - loss: 2.5159e-05 - val_loss: 3.7550e-05\n",
            "Epoch 16/100\n",
            "800/800 [==============================] - 0s 71us/step - loss: 2.0347e-05 - val_loss: 1.4984e-04\n",
            "Epoch 17/100\n",
            "800/800 [==============================] - 0s 67us/step - loss: 1.8174e-05 - val_loss: 3.9554e-05\n",
            "Epoch 18/100\n",
            "800/800 [==============================] - 0s 70us/step - loss: 1.1331e-05 - val_loss: 3.5608e-04\n",
            "Epoch 19/100\n",
            "800/800 [==============================] - 0s 72us/step - loss: 1.3106e-05 - val_loss: 4.8574e-05\n",
            "Epoch 20/100\n",
            "800/800 [==============================] - 0s 70us/step - loss: 1.7391e-05 - val_loss: 4.0471e-06\n",
            "Epoch 21/100\n",
            "800/800 [==============================] - 0s 72us/step - loss: 1.4790e-05 - val_loss: 7.7219e-06\n",
            "Epoch 22/100\n",
            "800/800 [==============================] - 0s 71us/step - loss: 1.1362e-05 - val_loss: 4.1378e-06\n",
            "Epoch 23/100\n",
            "800/800 [==============================] - 0s 68us/step - loss: 1.1343e-05 - val_loss: 5.5031e-06\n",
            "Epoch 24/100\n",
            "800/800 [==============================] - 0s 71us/step - loss: 1.3157e-05 - val_loss: 1.0881e-05\n",
            "Epoch 25/100\n",
            "800/800 [==============================] - 0s 75us/step - loss: 1.5279e-05 - val_loss: 2.7346e-06\n",
            "Epoch 26/100\n",
            "800/800 [==============================] - 0s 71us/step - loss: 1.2492e-05 - val_loss: 3.1176e-06\n",
            "Epoch 27/100\n",
            "800/800 [==============================] - 0s 73us/step - loss: 1.0900e-05 - val_loss: 2.3670e-06\n",
            "Epoch 28/100\n",
            "800/800 [==============================] - 0s 66us/step - loss: 1.1811e-05 - val_loss: 1.1700e-05\n",
            "Epoch 29/100\n",
            "800/800 [==============================] - 0s 66us/step - loss: 1.0887e-05 - val_loss: 6.6205e-06\n",
            "Epoch 30/100\n",
            "800/800 [==============================] - 0s 80us/step - loss: 1.5281e-05 - val_loss: 1.9745e-06\n",
            "Epoch 31/100\n",
            "800/800 [==============================] - 0s 75us/step - loss: 1.1678e-05 - val_loss: 3.4690e-06\n",
            "Epoch 32/100\n",
            "800/800 [==============================] - 0s 67us/step - loss: 1.2481e-05 - val_loss: 1.4590e-05\n",
            "Epoch 33/100\n",
            "800/800 [==============================] - 0s 68us/step - loss: 1.2465e-05 - val_loss: 6.7553e-06\n",
            "Epoch 34/100\n",
            "800/800 [==============================] - 0s 66us/step - loss: 1.2928e-05 - val_loss: 2.1144e-05\n",
            "Epoch 35/100\n",
            "800/800 [==============================] - 0s 64us/step - loss: 1.4090e-05 - val_loss: 1.1666e-05\n",
            "Epoch 36/100\n",
            "800/800 [==============================] - 0s 65us/step - loss: 1.2145e-05 - val_loss: 3.5908e-06\n",
            "Epoch 37/100\n",
            "800/800 [==============================] - 0s 68us/step - loss: 1.2313e-05 - val_loss: 2.0179e-06\n",
            "Epoch 38/100\n",
            "800/800 [==============================] - 0s 71us/step - loss: 1.0312e-05 - val_loss: 4.9354e-06\n",
            "Epoch 39/100\n",
            "800/800 [==============================] - 0s 67us/step - loss: 1.2374e-05 - val_loss: 5.0685e-06\n",
            "Epoch 40/100\n",
            "800/800 [==============================] - 0s 66us/step - loss: 1.1761e-05 - val_loss: 7.0866e-06\n",
            "Epoch 41/100\n",
            "800/800 [==============================] - 0s 69us/step - loss: 1.2825e-05 - val_loss: 6.5889e-06\n",
            "Epoch 42/100\n",
            "800/800 [==============================] - 0s 63us/step - loss: 1.2495e-05 - val_loss: 1.0418e-05\n",
            "Epoch 43/100\n",
            "800/800 [==============================] - 0s 66us/step - loss: 1.1591e-05 - val_loss: 2.4327e-06\n",
            "Epoch 44/100\n",
            "800/800 [==============================] - 0s 70us/step - loss: 1.1532e-05 - val_loss: 2.3639e-06\n",
            "Epoch 45/100\n",
            "800/800 [==============================] - 0s 67us/step - loss: 1.2123e-05 - val_loss: 2.9393e-06\n",
            "Epoch 46/100\n",
            "800/800 [==============================] - 0s 67us/step - loss: 1.2977e-05 - val_loss: 5.5763e-06\n",
            "Epoch 47/100\n",
            "800/800 [==============================] - 0s 66us/step - loss: 1.3233e-05 - val_loss: 8.1051e-06\n",
            "Epoch 48/100\n",
            "800/800 [==============================] - 0s 74us/step - loss: 1.3412e-05 - val_loss: 2.6439e-06\n",
            "Epoch 49/100\n",
            "800/800 [==============================] - 0s 71us/step - loss: 1.0708e-05 - val_loss: 5.2476e-06\n",
            "Epoch 50/100\n",
            "800/800 [==============================] - 0s 65us/step - loss: 1.3010e-05 - val_loss: 5.2420e-06\n",
            "Epoch 51/100\n",
            "800/800 [==============================] - 0s 67us/step - loss: 9.8112e-06 - val_loss: 1.7110e-05\n",
            "Epoch 52/100\n",
            "800/800 [==============================] - 0s 65us/step - loss: 1.5155e-05 - val_loss: 1.4581e-05\n",
            "Epoch 53/100\n",
            "800/800 [==============================] - 0s 67us/step - loss: 1.1189e-05 - val_loss: 3.4003e-06\n",
            "Epoch 54/100\n",
            "800/800 [==============================] - 0s 66us/step - loss: 1.0651e-05 - val_loss: 2.1072e-06\n",
            "Epoch 55/100\n",
            "800/800 [==============================] - 0s 68us/step - loss: 1.2295e-05 - val_loss: 4.4641e-06\n",
            "Epoch 56/100\n",
            "800/800 [==============================] - 0s 64us/step - loss: 1.1928e-05 - val_loss: 2.2341e-05\n",
            "Epoch 57/100\n",
            "800/800 [==============================] - 0s 68us/step - loss: 1.3400e-05 - val_loss: 1.3353e-05\n",
            "Epoch 58/100\n",
            "800/800 [==============================] - 0s 68us/step - loss: 1.3863e-05 - val_loss: 8.3634e-06\n",
            "Epoch 59/100\n",
            "800/800 [==============================] - 0s 66us/step - loss: 1.0784e-05 - val_loss: 1.2852e-05\n",
            "Epoch 60/100\n",
            "800/800 [==============================] - 0s 65us/step - loss: 1.3689e-05 - val_loss: 2.5076e-05\n",
            "Epoch 61/100\n",
            "800/800 [==============================] - 0s 65us/step - loss: 1.2429e-05 - val_loss: 6.6882e-06\n",
            "Epoch 62/100\n",
            "800/800 [==============================] - 0s 69us/step - loss: 1.2488e-05 - val_loss: 3.7642e-06\n",
            "Epoch 63/100\n",
            "800/800 [==============================] - 0s 67us/step - loss: 1.1612e-05 - val_loss: 1.6711e-05\n",
            "Epoch 64/100\n",
            "800/800 [==============================] - 0s 71us/step - loss: 1.1461e-05 - val_loss: 8.4151e-06\n",
            "Epoch 65/100\n",
            "800/800 [==============================] - 0s 68us/step - loss: 1.2326e-05 - val_loss: 4.0520e-06\n",
            "Epoch 66/100\n",
            "800/800 [==============================] - 0s 73us/step - loss: 1.0745e-05 - val_loss: 7.0050e-06\n",
            "Epoch 67/100\n",
            "800/800 [==============================] - 0s 87us/step - loss: 1.1055e-05 - val_loss: 1.4721e-05\n",
            "Epoch 68/100\n",
            "800/800 [==============================] - 0s 65us/step - loss: 1.1509e-05 - val_loss: 9.3266e-06\n",
            "Epoch 69/100\n",
            "800/800 [==============================] - 0s 65us/step - loss: 1.3168e-05 - val_loss: 1.3814e-05\n",
            "Epoch 70/100\n",
            "800/800 [==============================] - 0s 66us/step - loss: 1.2769e-05 - val_loss: 1.3205e-05\n",
            "Epoch 71/100\n",
            "800/800 [==============================] - 0s 69us/step - loss: 1.1861e-05 - val_loss: 3.6719e-05\n",
            "Epoch 72/100\n",
            "800/800 [==============================] - 0s 66us/step - loss: 1.2804e-05 - val_loss: 9.0530e-06\n",
            "Epoch 73/100\n",
            "800/800 [==============================] - 0s 61us/step - loss: 1.1233e-05 - val_loss: 1.2032e-05\n",
            "Epoch 74/100\n",
            "800/800 [==============================] - 0s 67us/step - loss: 1.3231e-05 - val_loss: 2.5377e-06\n",
            "Epoch 75/100\n",
            "800/800 [==============================] - 0s 66us/step - loss: 1.1772e-05 - val_loss: 2.2242e-06\n",
            "Epoch 76/100\n",
            "800/800 [==============================] - 0s 66us/step - loss: 1.3008e-05 - val_loss: 2.7438e-06\n",
            "Epoch 77/100\n",
            "800/800 [==============================] - 0s 63us/step - loss: 1.0165e-05 - val_loss: 1.5834e-05\n",
            "Epoch 78/100\n",
            "800/800 [==============================] - 0s 67us/step - loss: 1.1703e-05 - val_loss: 1.4934e-05\n",
            "Epoch 79/100\n",
            "800/800 [==============================] - 0s 67us/step - loss: 1.2841e-05 - val_loss: 2.8310e-06\n",
            "Epoch 80/100\n",
            "800/800 [==============================] - 0s 67us/step - loss: 1.1671e-05 - val_loss: 9.5525e-06\n",
            "Epoch 81/100\n",
            "800/800 [==============================] - 0s 64us/step - loss: 1.2652e-05 - val_loss: 1.8844e-05\n",
            "Epoch 82/100\n",
            "800/800 [==============================] - 0s 65us/step - loss: 1.0631e-05 - val_loss: 9.8613e-06\n",
            "Epoch 83/100\n",
            "800/800 [==============================] - 0s 66us/step - loss: 1.2424e-05 - val_loss: 3.0521e-06\n",
            "Epoch 84/100\n",
            "800/800 [==============================] - 0s 65us/step - loss: 1.2648e-05 - val_loss: 6.0097e-06\n",
            "Epoch 85/100\n",
            "800/800 [==============================] - 0s 69us/step - loss: 1.1607e-05 - val_loss: 7.8936e-06\n",
            "Epoch 86/100\n",
            "800/800 [==============================] - 0s 69us/step - loss: 1.3043e-05 - val_loss: 1.1180e-05\n",
            "Epoch 87/100\n",
            "800/800 [==============================] - 0s 67us/step - loss: 1.3617e-05 - val_loss: 2.2080e-06\n",
            "Epoch 88/100\n",
            "800/800 [==============================] - 0s 64us/step - loss: 1.1085e-05 - val_loss: 4.4803e-06\n",
            "Epoch 89/100\n",
            "800/800 [==============================] - 0s 65us/step - loss: 1.2158e-05 - val_loss: 1.9087e-06\n",
            "Epoch 90/100\n",
            "800/800 [==============================] - 0s 67us/step - loss: 9.8660e-06 - val_loss: 1.2099e-05\n",
            "Epoch 91/100\n",
            "800/800 [==============================] - 0s 64us/step - loss: 1.3630e-05 - val_loss: 2.6651e-06\n",
            "Epoch 92/100\n",
            "800/800 [==============================] - 0s 65us/step - loss: 1.1691e-05 - val_loss: 1.1426e-05\n",
            "Epoch 93/100\n",
            "800/800 [==============================] - 0s 65us/step - loss: 1.2512e-05 - val_loss: 8.7716e-06\n",
            "Epoch 94/100\n",
            "800/800 [==============================] - 0s 66us/step - loss: 1.1031e-05 - val_loss: 9.7202e-06\n",
            "Epoch 95/100\n",
            "800/800 [==============================] - 0s 65us/step - loss: 1.3797e-05 - val_loss: 7.8730e-06\n",
            "Epoch 96/100\n",
            "800/800 [==============================] - 0s 65us/step - loss: 9.9858e-06 - val_loss: 4.5730e-06\n",
            "Epoch 97/100\n",
            "800/800 [==============================] - 0s 67us/step - loss: 1.1873e-05 - val_loss: 3.1449e-06\n",
            "Epoch 98/100\n",
            "800/800 [==============================] - 0s 67us/step - loss: 1.0538e-05 - val_loss: 9.9611e-06\n",
            "Epoch 99/100\n",
            "800/800 [==============================] - 0s 65us/step - loss: 1.3005e-05 - val_loss: 3.1919e-05\n",
            "Epoch 100/100\n",
            "800/800 [==============================] - 0s 65us/step - loss: 1.2173e-05 - val_loss: 2.8343e-05\n"
          ],
          "name": "stdout"
        }
      ]
    },
    {
      "metadata": {
        "id": "wbOo31wfcf7j",
        "colab_type": "code",
        "outputId": "9454ca05-200b-43e9-9502-f0994ab8b909",
        "colab": {
          "base_uri": "https://localhost:8080/",
          "height": 477
        }
      },
      "cell_type": "code",
      "source": [
        "plot_metric(h,'loss')"
      ],
      "execution_count": 0,
      "outputs": [
        {
          "output_type": "display_data",
          "data": {
            "image/png": "[encoded data removed]",
            "text/plain": [
              "<Figure size 748.8x514.8 with 1 Axes>"
            ]
          },
          "metadata": {
            "tags": []
          }
        }
      ]
    },
    {
      "metadata": {
        "id": "FrSCosZ7d7-M",
        "colab_type": "code",
        "colab": {}
      },
      "cell_type": "code",
      "source": [
        "y_hat = m.predict(x_train)"
      ],
      "execution_count": 0,
      "outputs": []
    },
    {
      "metadata": {
        "id": "idf1A0TyeBsq",
        "colab_type": "code",
        "outputId": "576ca25b-e9e4-4e11-d0d3-60b9ad5738eb",
        "colab": {
          "base_uri": "https://localhost:8080/",
          "height": 458
        }
      },
      "cell_type": "code",
      "source": [
        "plot(x_train,y_train,'b')\n",
        "plot(x_train,y_hat,'--r')"
      ],
      "execution_count": 0,
      "outputs": [
        {
          "output_type": "execute_result",
          "data": {
            "text/plain": [
              "[<matplotlib.lines.Line2D at 0x7f7c7b87a5c0>]"
            ]
          },
          "metadata": {
            "tags": []
          },
          "execution_count": 69
        },
        {
          "output_type": "display_data",
          "data": {
            "image/png": "[encoded data removed]",
            "text/plain": [
              "<Figure size 748.8x514.8 with 1 Axes>"
            ]
          },
          "metadata": {
            "tags": []
          }
        }
      ]
    },
    {
      "metadata": {
        "id": "xwqCNNMfeWiE",
        "colab_type": "code",
        "colab": {}
      },
      "cell_type": "code",
      "source": [
        "# Lo pasamos a una función todo lo de arriba\n",
        "def build_model(act=None):\n",
        "  m = models.Sequential()\n",
        "  # Primera Capa\n",
        "  m.add(layers.Dense(units=32, activation=act,input_shape=(1,)))\n",
        "  m.add(layers.Dense(units=16, activation=act))\n",
        "  m.add(layers.Dense(units=8, activation=act))\n",
        "  m.add(layers.Dense(units=1, activation=act))\n",
        "          \n",
        "  m.summary()\n",
        "  m.compile(loss=losses.mse,optimizer=optimizers.RMSprop())\n",
        "  return m\n",
        "  \n",
        "def fit(act=None):\n",
        "  m = build_model(act=act)\n",
        "  h = m.fit(x=x_train,y=y_train,batch_size=50,epochs=100,validation_split=0.2)\n",
        "  return m, h"
      ],
      "execution_count": 0,
      "outputs": []
    },
    {
      "metadata": {
        "id": "2bFln4u2eW7x",
        "colab_type": "code",
        "outputId": "288676a2-239a-4696-f324-25f41f7b124f",
        "colab": {
          "base_uri": "https://localhost:8080/",
          "height": 3768
        }
      },
      "cell_type": "code",
      "source": [
        "m , h = fit(act= 'sigmoid')"
      ],
      "execution_count": 0,
      "outputs": [
        {
          "output_type": "stream",
          "text": [
            "_________________________________________________________________\n",
            "Layer (type)                 Output Shape              Param #   \n",
            "=================================================================\n",
            "dense_39 (Dense)             (None, 32)                64        \n",
            "_________________________________________________________________\n",
            "dense_40 (Dense)             (None, 16)                528       \n",
            "_________________________________________________________________\n",
            "dense_41 (Dense)             (None, 8)                 136       \n",
            "_________________________________________________________________\n",
            "dense_42 (Dense)             (None, 1)                 9         \n",
            "=================================================================\n",
            "Total params: 737\n",
            "Trainable params: 737\n",
            "Non-trainable params: 0\n",
            "_________________________________________________________________\n",
            "Train on 800 samples, validate on 200 samples\n",
            "Epoch 1/100\n",
            "800/800 [==============================] - 1s 756us/step - loss: 0.1417 - val_loss: 0.0597\n",
            "Epoch 2/100\n",
            "800/800 [==============================] - 0s 92us/step - loss: 0.1117 - val_loss: 0.0847\n",
            "Epoch 3/100\n",
            "800/800 [==============================] - 0s 89us/step - loss: 0.0924 - val_loss: 0.1098\n",
            "Epoch 4/100\n",
            "800/800 [==============================] - 0s 80us/step - loss: 0.0789 - val_loss: 0.1338\n",
            "Epoch 5/100\n",
            "800/800 [==============================] - 0s 91us/step - loss: 0.0695 - val_loss: 0.1568\n",
            "Epoch 6/100\n",
            "800/800 [==============================] - 0s 79us/step - loss: 0.0629 - val_loss: 0.1789\n",
            "Epoch 7/100\n",
            "800/800 [==============================] - 0s 95us/step - loss: 0.0586 - val_loss: 0.1982\n",
            "Epoch 8/100\n",
            "800/800 [==============================] - 0s 102us/step - loss: 0.0561 - val_loss: 0.2153\n",
            "Epoch 9/100\n",
            "800/800 [==============================] - 0s 82us/step - loss: 0.0546 - val_loss: 0.2287\n",
            "Epoch 10/100\n",
            "800/800 [==============================] - 0s 89us/step - loss: 0.0539 - val_loss: 0.2394\n",
            "Epoch 11/100\n",
            "800/800 [==============================] - 0s 94us/step - loss: 0.0536 - val_loss: 0.2455\n",
            "Epoch 12/100\n",
            "800/800 [==============================] - 0s 86us/step - loss: 0.0535 - val_loss: 0.2487\n",
            "Epoch 13/100\n",
            "800/800 [==============================] - 0s 80us/step - loss: 0.0535 - val_loss: 0.2506\n",
            "Epoch 14/100\n",
            "800/800 [==============================] - 0s 92us/step - loss: 0.0534 - val_loss: 0.2505\n",
            "Epoch 15/100\n",
            "800/800 [==============================] - 0s 80us/step - loss: 0.0534 - val_loss: 0.2525\n",
            "Epoch 16/100\n",
            "800/800 [==============================] - 0s 79us/step - loss: 0.0534 - val_loss: 0.2512\n",
            "Epoch 17/100\n",
            "800/800 [==============================] - 0s 79us/step - loss: 0.0533 - val_loss: 0.2533\n",
            "Epoch 18/100\n",
            "800/800 [==============================] - 0s 81us/step - loss: 0.0533 - val_loss: 0.2523\n",
            "Epoch 19/100\n",
            "800/800 [==============================] - 0s 84us/step - loss: 0.0533 - val_loss: 0.2513\n",
            "Epoch 20/100\n",
            "800/800 [==============================] - 0s 89us/step - loss: 0.0532 - val_loss: 0.2517\n",
            "Epoch 21/100\n",
            "800/800 [==============================] - 0s 80us/step - loss: 0.0532 - val_loss: 0.2504\n",
            "Epoch 22/100\n",
            "800/800 [==============================] - 0s 80us/step - loss: 0.0531 - val_loss: 0.2506\n",
            "Epoch 23/100\n",
            "800/800 [==============================] - 0s 100us/step - loss: 0.0531 - val_loss: 0.2499\n",
            "Epoch 24/100\n",
            "800/800 [==============================] - 0s 79us/step - loss: 0.0530 - val_loss: 0.2496\n",
            "Epoch 25/100\n",
            "800/800 [==============================] - 0s 89us/step - loss: 0.0529 - val_loss: 0.2460\n",
            "Epoch 26/100\n",
            "800/800 [==============================] - 0s 78us/step - loss: 0.0529 - val_loss: 0.2456\n",
            "Epoch 27/100\n",
            "800/800 [==============================] - 0s 81us/step - loss: 0.0528 - val_loss: 0.2435\n",
            "Epoch 28/100\n",
            "800/800 [==============================] - 0s 78us/step - loss: 0.0527 - val_loss: 0.2453\n",
            "Epoch 29/100\n",
            "800/800 [==============================] - 0s 88us/step - loss: 0.0526 - val_loss: 0.2428\n",
            "Epoch 30/100\n",
            "800/800 [==============================] - 0s 98us/step - loss: 0.0524 - val_loss: 0.2438\n",
            "Epoch 31/100\n",
            "800/800 [==============================] - 0s 78us/step - loss: 0.0522 - val_loss: 0.2400\n",
            "Epoch 32/100\n",
            "800/800 [==============================] - 0s 76us/step - loss: 0.0521 - val_loss: 0.2429\n",
            "Epoch 33/100\n",
            "800/800 [==============================] - 0s 81us/step - loss: 0.0519 - val_loss: 0.2386\n",
            "Epoch 34/100\n",
            "800/800 [==============================] - 0s 88us/step - loss: 0.0516 - val_loss: 0.2342\n",
            "Epoch 35/100\n",
            "800/800 [==============================] - 0s 89us/step - loss: 0.0514 - val_loss: 0.2351\n",
            "Epoch 36/100\n",
            "800/800 [==============================] - 0s 86us/step - loss: 0.0512 - val_loss: 0.2301\n",
            "Epoch 37/100\n",
            "800/800 [==============================] - 0s 78us/step - loss: 0.0509 - val_loss: 0.2286\n",
            "Epoch 38/100\n",
            "800/800 [==============================] - 0s 103us/step - loss: 0.0506 - val_loss: 0.2280\n",
            "Epoch 39/100\n",
            "800/800 [==============================] - 0s 79us/step - loss: 0.0502 - val_loss: 0.2226\n",
            "Epoch 40/100\n",
            "800/800 [==============================] - 0s 77us/step - loss: 0.0497 - val_loss: 0.2247\n",
            "Epoch 41/100\n",
            "800/800 [==============================] - 0s 81us/step - loss: 0.0492 - val_loss: 0.2174\n",
            "Epoch 42/100\n",
            "800/800 [==============================] - 0s 89us/step - loss: 0.0487 - val_loss: 0.2130\n",
            "Epoch 43/100\n",
            "800/800 [==============================] - 0s 81us/step - loss: 0.0481 - val_loss: 0.2135\n",
            "Epoch 44/100\n",
            "800/800 [==============================] - 0s 79us/step - loss: 0.0474 - val_loss: 0.2073\n",
            "Epoch 45/100\n",
            "800/800 [==============================] - 0s 84us/step - loss: 0.0465 - val_loss: 0.1993\n",
            "Epoch 46/100\n",
            "800/800 [==============================] - 0s 83us/step - loss: 0.0456 - val_loss: 0.2001\n",
            "Epoch 47/100\n",
            "800/800 [==============================] - 0s 82us/step - loss: 0.0447 - val_loss: 0.1870\n",
            "Epoch 48/100\n",
            "800/800 [==============================] - 0s 89us/step - loss: 0.0436 - val_loss: 0.1829\n",
            "Epoch 49/100\n",
            "800/800 [==============================] - 0s 80us/step - loss: 0.0423 - val_loss: 0.1722\n",
            "Epoch 50/100\n",
            "800/800 [==============================] - 0s 78us/step - loss: 0.0408 - val_loss: 0.1655\n",
            "Epoch 51/100\n",
            "800/800 [==============================] - 0s 89us/step - loss: 0.0393 - val_loss: 0.1641\n",
            "Epoch 52/100\n",
            "800/800 [==============================] - 0s 90us/step - loss: 0.0378 - val_loss: 0.1512\n",
            "Epoch 53/100\n",
            "800/800 [==============================] - 0s 99us/step - loss: 0.0359 - val_loss: 0.1361\n",
            "Epoch 54/100\n",
            "800/800 [==============================] - 0s 79us/step - loss: 0.0342 - val_loss: 0.1360\n",
            "Epoch 55/100\n",
            "800/800 [==============================] - 0s 78us/step - loss: 0.0323 - val_loss: 0.1152\n",
            "Epoch 56/100\n",
            "800/800 [==============================] - 0s 79us/step - loss: 0.0305 - val_loss: 0.1149\n",
            "Epoch 57/100\n",
            "800/800 [==============================] - 0s 90us/step - loss: 0.0284 - val_loss: 0.1052\n",
            "Epoch 58/100\n",
            "800/800 [==============================] - 0s 80us/step - loss: 0.0262 - val_loss: 0.0958\n",
            "Epoch 59/100\n",
            "800/800 [==============================] - 0s 79us/step - loss: 0.0239 - val_loss: 0.0782\n",
            "Epoch 60/100\n",
            "800/800 [==============================] - 0s 80us/step - loss: 0.0215 - val_loss: 0.0718\n",
            "Epoch 61/100\n",
            "800/800 [==============================] - 0s 83us/step - loss: 0.0192 - val_loss: 0.0609\n",
            "Epoch 62/100\n",
            "800/800 [==============================] - 0s 82us/step - loss: 0.0170 - val_loss: 0.0545\n",
            "Epoch 63/100\n",
            "800/800 [==============================] - 0s 95us/step - loss: 0.0148 - val_loss: 0.0433\n",
            "Epoch 64/100\n",
            "800/800 [==============================] - 0s 77us/step - loss: 0.0127 - val_loss: 0.0349\n",
            "Epoch 65/100\n",
            "800/800 [==============================] - 0s 82us/step - loss: 0.0107 - val_loss: 0.0318\n",
            "Epoch 66/100\n",
            "800/800 [==============================] - 0s 81us/step - loss: 0.0089 - val_loss: 0.0243\n",
            "Epoch 67/100\n",
            "800/800 [==============================] - 0s 80us/step - loss: 0.0073 - val_loss: 0.0206\n",
            "Epoch 68/100\n",
            "800/800 [==============================] - 0s 102us/step - loss: 0.0059 - val_loss: 0.0150\n",
            "Epoch 69/100\n",
            "800/800 [==============================] - 0s 77us/step - loss: 0.0048 - val_loss: 0.0112\n",
            "Epoch 70/100\n",
            "800/800 [==============================] - 0s 78us/step - loss: 0.0040 - val_loss: 0.0091\n",
            "Epoch 71/100\n",
            "800/800 [==============================] - 0s 87us/step - loss: 0.0034 - val_loss: 0.0081\n",
            "Epoch 72/100\n",
            "800/800 [==============================] - 0s 86us/step - loss: 0.0030 - val_loss: 0.0066\n",
            "Epoch 73/100\n",
            "800/800 [==============================] - 0s 82us/step - loss: 0.0027 - val_loss: 0.0062\n",
            "Epoch 74/100\n",
            "800/800 [==============================] - 0s 92us/step - loss: 0.0025 - val_loss: 0.0061\n",
            "Epoch 75/100\n",
            "800/800 [==============================] - 0s 76us/step - loss: 0.0023 - val_loss: 0.0064\n",
            "Epoch 76/100\n",
            "800/800 [==============================] - 0s 79us/step - loss: 0.0022 - val_loss: 0.0063\n",
            "Epoch 77/100\n",
            "800/800 [==============================] - 0s 88us/step - loss: 0.0021 - val_loss: 0.0072\n",
            "Epoch 78/100\n",
            "800/800 [==============================] - 0s 89us/step - loss: 0.0019 - val_loss: 0.0067\n",
            "Epoch 79/100\n",
            "800/800 [==============================] - 0s 76us/step - loss: 0.0018 - val_loss: 0.0083\n",
            "Epoch 80/100\n",
            "800/800 [==============================] - 0s 93us/step - loss: 0.0017 - val_loss: 0.0080\n",
            "Epoch 81/100\n",
            "800/800 [==============================] - 0s 87us/step - loss: 0.0016 - val_loss: 0.0085\n",
            "Epoch 82/100\n",
            "800/800 [==============================] - 0s 93us/step - loss: 0.0016 - val_loss: 0.0096\n",
            "Epoch 83/100\n",
            "800/800 [==============================] - 0s 83us/step - loss: 0.0015 - val_loss: 0.0095\n",
            "Epoch 84/100\n",
            "800/800 [==============================] - 0s 79us/step - loss: 0.0014 - val_loss: 0.0101\n",
            "Epoch 85/100\n",
            "800/800 [==============================] - 0s 92us/step - loss: 0.0014 - val_loss: 0.0109\n",
            "Epoch 86/100\n",
            "800/800 [==============================] - 0s 79us/step - loss: 0.0013 - val_loss: 0.0104\n",
            "Epoch 87/100\n",
            "800/800 [==============================] - 0s 81us/step - loss: 0.0013 - val_loss: 0.0108\n",
            "Epoch 88/100\n",
            "800/800 [==============================] - 0s 86us/step - loss: 0.0012 - val_loss: 0.0115\n",
            "Epoch 89/100\n",
            "800/800 [==============================] - 0s 80us/step - loss: 0.0012 - val_loss: 0.0117\n",
            "Epoch 90/100\n",
            "800/800 [==============================] - 0s 83us/step - loss: 0.0012 - val_loss: 0.0122\n",
            "Epoch 91/100\n",
            "800/800 [==============================] - 0s 80us/step - loss: 0.0011 - val_loss: 0.0122\n",
            "Epoch 92/100\n",
            "800/800 [==============================] - 0s 84us/step - loss: 0.0011 - val_loss: 0.0122\n",
            "Epoch 93/100\n",
            "800/800 [==============================] - 0s 83us/step - loss: 0.0011 - val_loss: 0.0115\n",
            "Epoch 94/100\n",
            "800/800 [==============================] - 0s 78us/step - loss: 0.0010 - val_loss: 0.0134\n",
            "Epoch 95/100\n",
            "800/800 [==============================] - 0s 80us/step - loss: 0.0010 - val_loss: 0.0138\n",
            "Epoch 96/100\n",
            "800/800 [==============================] - 0s 84us/step - loss: 0.0010 - val_loss: 0.0141\n",
            "Epoch 97/100\n",
            "800/800 [==============================] - 0s 88us/step - loss: 9.8794e-04 - val_loss: 0.0135\n",
            "Epoch 98/100\n",
            "800/800 [==============================] - 0s 87us/step - loss: 9.6468e-04 - val_loss: 0.0131\n",
            "Epoch 99/100\n",
            "800/800 [==============================] - 0s 81us/step - loss: 9.6011e-04 - val_loss: 0.0135\n",
            "Epoch 100/100\n",
            "800/800 [==============================] - 0s 78us/step - loss: 9.3016e-04 - val_loss: 0.0135\n"
          ],
          "name": "stdout"
        }
      ]
    },
    {
      "metadata": {
        "id": "YJP0qz1ueXBk",
        "colab_type": "code",
        "outputId": "dfd965e8-e97c-45fa-e9fb-92a0c22b302f",
        "colab": {
          "base_uri": "https://localhost:8080/",
          "height": 458
        }
      },
      "cell_type": "code",
      "source": [
        "y_hat = m.predict(x_train)\n",
        "plot(x_train,y_train,'b')\n",
        "plot(x_train,y_hat,'--r')"
      ],
      "execution_count": 0,
      "outputs": [
        {
          "output_type": "execute_result",
          "data": {
            "text/plain": [
              "[<matplotlib.lines.Line2D at 0x7f7c7a96afd0>]"
            ]
          },
          "metadata": {
            "tags": []
          },
          "execution_count": 83
        },
        {
          "output_type": "display_data",
          "data": {
            "image/png": "[encoded data removed]",
            "text/plain": [
              "<Figure size 748.8x514.8 with 1 Axes>"
            ]
          },
          "metadata": {
            "tags": []
          }
        }
      ]
    },
    {
      "metadata": {
        "id": "_snLh98HtTZr",
        "colab_type": "text"
      },
      "cell_type": "markdown",
      "source": [
        "### Now another more complex function\n",
        "\n",
        "Let's try to fit a parabollic function\n",
        "\n",
        "$\\displaystyle y = -2x^2 + x + 1$"
      ]
    },
    {
      "metadata": {
        "id": "Kk6Fu9jStTZ2",
        "colab_type": "code",
        "colab": {}
      },
      "cell_type": "code",
      "source": [
        "x_train = np.linspace(0, 100, 1000)\n",
        "x_test =  x_train[900:]\n",
        "\n",
        "y_train = -2*x_train**2 + x_train + 1\n",
        "y_test =  y_train[900:]"
      ],
      "execution_count": 0,
      "outputs": []
    },
    {
      "metadata": {
        "id": "2IIi0hmXhSlM",
        "colab_type": "code",
        "outputId": "6edcc736-0003-4980-92e0-ce07325fd3b4",
        "colab": {
          "base_uri": "https://localhost:8080/",
          "height": 441
        }
      },
      "cell_type": "code",
      "source": [
        "# Escalando los datos\n",
        "x_train = (x_train - x_train.min())/(x_train.max() - x_train.min())\n",
        "y_train = (y_train - y_train.min())/(y_train.max() - y_train.min())\n",
        "\n",
        "x_test = x_train[900:]\n",
        "y_test = y_train[900:]\n",
        "\n",
        "plot(x_train, y_train)\n",
        "plot(x_test,y_test)\n",
        "plt.grid(True)"
      ],
      "execution_count": 0,
      "outputs": [
        {
          "output_type": "display_data",
          "data": {
            "image/png": "[encoded data removed]",
            "text/plain": [
              "<Figure size 748.8x514.8 with 1 Axes>"
            ]
          },
          "metadata": {
            "tags": []
          }
        }
      ]
    },
    {
      "metadata": {
        "id": "5GrQ24i8hqNQ",
        "colab_type": "code",
        "colab": {}
      },
      "cell_type": "code",
      "source": [
        "# Lo pasamos a una función todo lo de arriba\n",
        "def build_model(act=None):\n",
        "  m = models.Sequential()\n",
        "  # Primera Capa\n",
        "  m.add(layers.Dense(units=60, activation=act,input_shape=(1,)))\n",
        "  m.add(layers.Dense(units=40, activation=act))\n",
        "  m.add(layers.Dense(units=30, activation=act))\n",
        "  m.add(layers.Dense(units=20, activation=act))\n",
        "  m.add(layers.Dense(units=8, activation=act))\n",
        "  m.add(layers.Dense(units=1, activation=act))\n",
        "          \n",
        "  m.summary()\n",
        "  m.compile(loss=losses.mse,optimizer=optimizers.RMSprop())\n",
        "  return m\n",
        "  \n",
        "def fit(act=None):\n",
        "  m = build_model(act=act)\n",
        "  h = m.fit(x=x_train,y=y_train,batch_size=100,epochs=100,validation_split=0.1)\n",
        "  return m, h"
      ],
      "execution_count": 0,
      "outputs": []
    },
    {
      "metadata": {
        "id": "kb25P7bKhqbW",
        "colab_type": "code",
        "outputId": "e719f499-0845-4da0-c027-43a981e00461",
        "colab": {
          "base_uri": "https://localhost:8080/",
          "height": 3838
        }
      },
      "cell_type": "code",
      "source": [
        "m , h = fit(act= 'selu')"
      ],
      "execution_count": 0,
      "outputs": [
        {
          "output_type": "stream",
          "text": [
            "_________________________________________________________________\n",
            "Layer (type)                 Output Shape              Param #   \n",
            "=================================================================\n",
            "dense_151 (Dense)            (None, 60)                120       \n",
            "_________________________________________________________________\n",
            "dense_152 (Dense)            (None, 40)                2440      \n",
            "_________________________________________________________________\n",
            "dense_153 (Dense)            (None, 30)                1230      \n",
            "_________________________________________________________________\n",
            "dense_154 (Dense)            (None, 20)                620       \n",
            "_________________________________________________________________\n",
            "dense_155 (Dense)            (None, 8)                 168       \n",
            "_________________________________________________________________\n",
            "dense_156 (Dense)            (None, 1)                 9         \n",
            "=================================================================\n",
            "Total params: 4,587\n",
            "Trainable params: 4,587\n",
            "Non-trainable params: 0\n",
            "_________________________________________________________________\n",
            "Train on 900 samples, validate on 100 samples\n",
            "Epoch 1/100\n",
            "900/900 [==============================] - 2s 3ms/step - loss: 0.3079 - val_loss: 0.0155\n",
            "Epoch 2/100\n",
            "900/900 [==============================] - 0s 71us/step - loss: 0.0612 - val_loss: 0.2555\n",
            "Epoch 3/100\n",
            "900/900 [==============================] - 0s 59us/step - loss: 0.0536 - val_loss: 0.0176\n",
            "Epoch 4/100\n",
            "900/900 [==============================] - 0s 59us/step - loss: 0.0388 - val_loss: 0.5110\n",
            "Epoch 5/100\n",
            "900/900 [==============================] - 0s 59us/step - loss: 0.0345 - val_loss: 0.0561\n",
            "Epoch 6/100\n",
            "900/900 [==============================] - 0s 62us/step - loss: 0.0564 - val_loss: 0.1274\n",
            "Epoch 7/100\n",
            "900/900 [==============================] - 0s 60us/step - loss: 0.0094 - val_loss: 0.0033\n",
            "Epoch 8/100\n",
            "900/900 [==============================] - 0s 59us/step - loss: 0.0406 - val_loss: 0.1612\n",
            "Epoch 9/100\n",
            "900/900 [==============================] - 0s 59us/step - loss: 0.0324 - val_loss: 0.0030\n",
            "Epoch 10/100\n",
            "900/900 [==============================] - 0s 60us/step - loss: 0.0249 - val_loss: 0.1417\n",
            "Epoch 11/100\n",
            "900/900 [==============================] - 0s 62us/step - loss: 0.0270 - val_loss: 0.0311\n",
            "Epoch 12/100\n",
            "900/900 [==============================] - 0s 59us/step - loss: 0.0309 - val_loss: 0.2217\n",
            "Epoch 13/100\n",
            "900/900 [==============================] - 0s 61us/step - loss: 0.0106 - val_loss: 0.0054\n",
            "Epoch 14/100\n",
            "900/900 [==============================] - 0s 59us/step - loss: 0.0267 - val_loss: 0.0674\n",
            "Epoch 15/100\n",
            "900/900 [==============================] - 0s 61us/step - loss: 0.0225 - val_loss: 0.0056\n",
            "Epoch 16/100\n",
            "900/900 [==============================] - 0s 61us/step - loss: 0.0158 - val_loss: 0.1299\n",
            "Epoch 17/100\n",
            "900/900 [==============================] - 0s 59us/step - loss: 0.0239 - val_loss: 0.0025\n",
            "Epoch 18/100\n",
            "900/900 [==============================] - 0s 61us/step - loss: 0.0146 - val_loss: 0.1692\n",
            "Epoch 19/100\n",
            "900/900 [==============================] - 0s 58us/step - loss: 0.0133 - val_loss: 0.0019\n",
            "Epoch 20/100\n",
            "900/900 [==============================] - 0s 78us/step - loss: 0.0179 - val_loss: 0.1402\n",
            "Epoch 21/100\n",
            "900/900 [==============================] - 0s 61us/step - loss: 0.0127 - val_loss: 0.0019\n",
            "Epoch 22/100\n",
            "900/900 [==============================] - 0s 61us/step - loss: 0.0162 - val_loss: 0.0737\n",
            "Epoch 23/100\n",
            "900/900 [==============================] - 0s 58us/step - loss: 0.0113 - val_loss: 0.0075\n",
            "Epoch 24/100\n",
            "900/900 [==============================] - 0s 62us/step - loss: 0.0125 - val_loss: 0.0943\n",
            "Epoch 25/100\n",
            "900/900 [==============================] - 0s 57us/step - loss: 0.0130 - val_loss: 0.0105\n",
            "Epoch 26/100\n",
            "900/900 [==============================] - 0s 59us/step - loss: 0.0097 - val_loss: 0.0920\n",
            "Epoch 27/100\n",
            "900/900 [==============================] - 0s 58us/step - loss: 0.0091 - val_loss: 0.0014\n",
            "Epoch 28/100\n",
            "900/900 [==============================] - 0s 59us/step - loss: 0.0102 - val_loss: 0.0508\n",
            "Epoch 29/100\n",
            "900/900 [==============================] - 0s 61us/step - loss: 0.0121 - val_loss: 0.0013\n",
            "Epoch 30/100\n",
            "900/900 [==============================] - 0s 58us/step - loss: 0.0055 - val_loss: 0.0489\n",
            "Epoch 31/100\n",
            "900/900 [==============================] - 0s 60us/step - loss: 0.0107 - val_loss: 0.0039\n",
            "Epoch 32/100\n",
            "900/900 [==============================] - 0s 58us/step - loss: 0.0067 - val_loss: 0.0951\n",
            "Epoch 33/100\n",
            "900/900 [==============================] - 0s 60us/step - loss: 0.0092 - val_loss: 0.0053\n",
            "Epoch 34/100\n",
            "900/900 [==============================] - 0s 62us/step - loss: 0.0072 - val_loss: 0.1093\n",
            "Epoch 35/100\n",
            "900/900 [==============================] - 0s 57us/step - loss: 0.0065 - val_loss: 0.0049\n",
            "Epoch 36/100\n",
            "900/900 [==============================] - 0s 60us/step - loss: 0.0078 - val_loss: 0.0529\n",
            "Epoch 37/100\n",
            "900/900 [==============================] - 0s 59us/step - loss: 0.0057 - val_loss: 0.0013\n",
            "Epoch 38/100\n",
            "900/900 [==============================] - 0s 80us/step - loss: 0.0069 - val_loss: 0.0193\n",
            "Epoch 39/100\n",
            "900/900 [==============================] - 0s 59us/step - loss: 0.0073 - val_loss: 0.0025\n",
            "Epoch 40/100\n",
            "900/900 [==============================] - 0s 59us/step - loss: 0.0041 - val_loss: 0.0762\n",
            "Epoch 41/100\n",
            "900/900 [==============================] - 0s 60us/step - loss: 0.0075 - val_loss: 9.5760e-04\n",
            "Epoch 42/100\n",
            "900/900 [==============================] - 0s 64us/step - loss: 0.0054 - val_loss: 0.0307\n",
            "Epoch 43/100\n",
            "900/900 [==============================] - 0s 59us/step - loss: 0.0059 - val_loss: 0.0016\n",
            "Epoch 44/100\n",
            "900/900 [==============================] - 0s 60us/step - loss: 0.0050 - val_loss: 0.0483\n",
            "Epoch 45/100\n",
            "900/900 [==============================] - 0s 59us/step - loss: 0.0055 - val_loss: 0.0030\n",
            "Epoch 46/100\n",
            "900/900 [==============================] - 0s 62us/step - loss: 0.0065 - val_loss: 0.0252\n",
            "Epoch 47/100\n",
            "900/900 [==============================] - 0s 59us/step - loss: 0.0031 - val_loss: 0.0014\n",
            "Epoch 48/100\n",
            "900/900 [==============================] - 0s 60us/step - loss: 0.0056 - val_loss: 0.0269\n",
            "Epoch 49/100\n",
            "900/900 [==============================] - 0s 63us/step - loss: 0.0056 - val_loss: 0.0066\n",
            "Epoch 50/100\n",
            "900/900 [==============================] - 0s 61us/step - loss: 0.0038 - val_loss: 0.0716\n",
            "Epoch 51/100\n",
            "900/900 [==============================] - 0s 63us/step - loss: 0.0038 - val_loss: 0.0055\n",
            "Epoch 52/100\n",
            "900/900 [==============================] - 0s 61us/step - loss: 0.0065 - val_loss: 0.0432\n",
            "Epoch 53/100\n",
            "900/900 [==============================] - 0s 60us/step - loss: 0.0031 - val_loss: 0.0024\n",
            "Epoch 54/100\n",
            "900/900 [==============================] - 0s 68us/step - loss: 0.0042 - val_loss: 0.0183\n",
            "Epoch 55/100\n",
            "900/900 [==============================] - 0s 80us/step - loss: 0.0052 - val_loss: 0.0031\n",
            "Epoch 56/100\n",
            "900/900 [==============================] - 0s 76us/step - loss: 0.0031 - val_loss: 0.0172\n",
            "Epoch 57/100\n",
            "900/900 [==============================] - 0s 63us/step - loss: 0.0047 - val_loss: 0.0048\n",
            "Epoch 58/100\n",
            "900/900 [==============================] - 0s 62us/step - loss: 0.0034 - val_loss: 0.0210\n",
            "Epoch 59/100\n",
            "900/900 [==============================] - 0s 66us/step - loss: 0.0046 - val_loss: 0.0012\n",
            "Epoch 60/100\n",
            "900/900 [==============================] - 0s 63us/step - loss: 0.0029 - val_loss: 0.0196\n",
            "Epoch 61/100\n",
            "900/900 [==============================] - 0s 62us/step - loss: 0.0039 - val_loss: 0.0088\n",
            "Epoch 62/100\n",
            "900/900 [==============================] - 0s 63us/step - loss: 0.0028 - val_loss: 0.0548\n",
            "Epoch 63/100\n",
            "900/900 [==============================] - 0s 61us/step - loss: 0.0038 - val_loss: 0.0082\n",
            "Epoch 64/100\n",
            "900/900 [==============================] - 0s 61us/step - loss: 0.0034 - val_loss: 0.0361\n",
            "Epoch 65/100\n",
            "900/900 [==============================] - 0s 61us/step - loss: 0.0038 - val_loss: 0.0153\n",
            "Epoch 66/100\n",
            "900/900 [==============================] - 0s 61us/step - loss: 0.0036 - val_loss: 0.0574\n",
            "Epoch 67/100\n",
            "900/900 [==============================] - 0s 59us/step - loss: 0.0020 - val_loss: 0.0038\n",
            "Epoch 68/100\n",
            "900/900 [==============================] - 0s 60us/step - loss: 0.0042 - val_loss: 0.0513\n",
            "Epoch 69/100\n",
            "900/900 [==============================] - 0s 59us/step - loss: 0.0027 - val_loss: 0.0048\n",
            "Epoch 70/100\n",
            "900/900 [==============================] - 0s 59us/step - loss: 0.0037 - val_loss: 0.0217\n",
            "Epoch 71/100\n",
            "900/900 [==============================] - 0s 63us/step - loss: 0.0022 - val_loss: 0.0085\n",
            "Epoch 72/100\n",
            "900/900 [==============================] - 0s 61us/step - loss: 0.0038 - val_loss: 0.0297\n",
            "Epoch 73/100\n",
            "900/900 [==============================] - 0s 60us/step - loss: 0.0022 - val_loss: 0.0029\n",
            "Epoch 74/100\n",
            "900/900 [==============================] - 0s 73us/step - loss: 0.0026 - val_loss: 0.0133\n",
            "Epoch 75/100\n",
            "900/900 [==============================] - 0s 63us/step - loss: 0.0033 - val_loss: 0.0023\n",
            "Epoch 76/100\n",
            "900/900 [==============================] - 0s 60us/step - loss: 0.0023 - val_loss: 0.0177\n",
            "Epoch 77/100\n",
            "900/900 [==============================] - 0s 59us/step - loss: 0.0030 - val_loss: 0.0044\n",
            "Epoch 78/100\n",
            "900/900 [==============================] - 0s 59us/step - loss: 0.0023 - val_loss: 0.0153\n",
            "Epoch 79/100\n",
            "900/900 [==============================] - 0s 60us/step - loss: 0.0035 - val_loss: 0.0107\n",
            "Epoch 80/100\n",
            "900/900 [==============================] - 0s 58us/step - loss: 0.0020 - val_loss: 0.0270\n",
            "Epoch 81/100\n",
            "900/900 [==============================] - 0s 62us/step - loss: 0.0017 - val_loss: 0.0057\n",
            "Epoch 82/100\n",
            "900/900 [==============================] - 0s 61us/step - loss: 0.0036 - val_loss: 0.0103\n",
            "Epoch 83/100\n",
            "900/900 [==============================] - 0s 59us/step - loss: 0.0018 - val_loss: 0.0028\n",
            "Epoch 84/100\n",
            "900/900 [==============================] - 0s 59us/step - loss: 0.0023 - val_loss: 0.0121\n",
            "Epoch 85/100\n",
            "900/900 [==============================] - 0s 59us/step - loss: 0.0026 - val_loss: 0.0029\n",
            "Epoch 86/100\n",
            "900/900 [==============================] - 0s 62us/step - loss: 0.0024 - val_loss: 0.0135\n",
            "Epoch 87/100\n",
            "900/900 [==============================] - 0s 60us/step - loss: 0.0024 - val_loss: 0.0053\n",
            "Epoch 88/100\n",
            "900/900 [==============================] - 0s 59us/step - loss: 0.0020 - val_loss: 0.0132\n",
            "Epoch 89/100\n",
            "900/900 [==============================] - 0s 62us/step - loss: 0.0026 - val_loss: 8.2266e-04\n",
            "Epoch 90/100\n",
            "900/900 [==============================] - 0s 64us/step - loss: 0.0011 - val_loss: 0.0131\n",
            "Epoch 91/100\n",
            "900/900 [==============================] - 0s 65us/step - loss: 0.0030 - val_loss: 0.0045\n",
            "Epoch 92/100\n",
            "900/900 [==============================] - 0s 71us/step - loss: 0.0019 - val_loss: 0.0195\n",
            "Epoch 93/100\n",
            "900/900 [==============================] - 0s 60us/step - loss: 0.0022 - val_loss: 0.0084\n",
            "Epoch 94/100\n",
            "900/900 [==============================] - 0s 64us/step - loss: 0.0026 - val_loss: 0.0178\n",
            "Epoch 95/100\n",
            "900/900 [==============================] - 0s 63us/step - loss: 0.0015 - val_loss: 0.0070\n",
            "Epoch 96/100\n",
            "900/900 [==============================] - 0s 60us/step - loss: 0.0017 - val_loss: 0.0156\n",
            "Epoch 97/100\n",
            "900/900 [==============================] - 0s 60us/step - loss: 0.0024 - val_loss: 0.0014\n",
            "Epoch 98/100\n",
            "900/900 [==============================] - 0s 57us/step - loss: 0.0015 - val_loss: 0.0104\n",
            "Epoch 99/100\n",
            "900/900 [==============================] - 0s 61us/step - loss: 0.0026 - val_loss: 0.0030\n",
            "Epoch 100/100\n",
            "900/900 [==============================] - 0s 61us/step - loss: 0.0014 - val_loss: 0.0066\n"
          ],
          "name": "stdout"
        }
      ]
    },
    {
      "metadata": {
        "id": "IsIcRPoOhqh7",
        "colab_type": "code",
        "outputId": "01d95334-5e06-45be-8223-f5e643994807",
        "colab": {
          "base_uri": "https://localhost:8080/",
          "height": 458
        }
      },
      "cell_type": "code",
      "source": [
        "y_hat = m.predict(x_train)\n",
        "y_hat_test = m.predict(x_test)\n",
        "plot(x_train,y_train,'b')\n",
        "plot(x_train,y_hat,'--r')\n",
        "plot(x_test,y_test,'g')\n",
        "plot(x_test,y_hat_test,'orange')"
      ],
      "execution_count": 0,
      "outputs": [
        {
          "output_type": "execute_result",
          "data": {
            "text/plain": [
              "[<matplotlib.lines.Line2D at 0x7f7c74918cf8>]"
            ]
          },
          "metadata": {
            "tags": []
          },
          "execution_count": 181
        },
        {
          "output_type": "display_data",
          "data": {
            "image/png": "[encoded data removed]",
            "text/plain": [
              "<Figure size 748.8x514.8 with 1 Axes>"
            ]
          },
          "metadata": {
            "tags": []
          }
        }
      ]
    },
    {
      "metadata": {
        "id": "AO2HVJJ6tTaF",
        "colab_type": "text"
      },
      "cell_type": "markdown",
      "source": [
        "### And now even a more complex one\n",
        "\n",
        "Let's try to predict now this function:\n",
        "\n",
        "$\\displaystyle y = \\cos(x)$"
      ]
    },
    {
      "metadata": {
        "id": "4tQPCAkRtTaK",
        "colab_type": "code",
        "colab": {}
      },
      "cell_type": "code",
      "source": [
        ""
      ],
      "execution_count": 0,
      "outputs": []
    }
  ]
}