{
 "cells": [
  {
   "cell_type": "markdown",
   "metadata": {},
   "source": [
    "# Data Structures"
   ]
  },
  {
   "cell_type": "markdown",
   "metadata": {},
   "source": [
    "### Exercises"
   ]
  },
  {
   "cell_type": "markdown",
   "metadata": {},
   "source": [
    "#### 1. For a sequence [1, 2, 3, 4, 5, 6, 7, 8 ] get the squared values using the lambda function."
   ]
  },
  {
   "cell_type": "code",
   "execution_count": 1,
   "metadata": {},
   "outputs": [
    {
     "data": {
      "text/plain": [
       "[1, 4, 9, 16, 25, 36, 49, 64]"
      ]
     },
     "execution_count": 1,
     "metadata": {},
     "output_type": "execute_result"
    }
   ],
   "source": [
    "list_num = [1,2,3,4,5,6,7,8]\n",
    "\n",
    "# Map(function,data): applies function in data\n",
    "\n",
    "list_squared_num = list(map(lambda x: x ** 2, list_num)) \n",
    "list_squared_num"
   ]
  },
  {
   "cell_type": "markdown",
   "metadata": {},
   "source": [
    "##### 2. Prepare a list with 10 names. Make a code that will put all vowels to capitals and every other character to lower letters."
   ]
  },
  {
   "cell_type": "code",
   "execution_count": 2,
   "metadata": {},
   "outputs": [
    {
     "data": {
      "text/plain": [
       "['AnA', 'pEdrO', 'EdUArdO', 'mIgUEl', 'AlbErtO', 'jAvIEr']"
      ]
     },
     "execution_count": 2,
     "metadata": {},
     "output_type": "execute_result"
    }
   ],
   "source": [
    "list_names = ['ana','pedro','eduardo','miguel','alberto','javier']\n",
    "new_list_names =[]\n",
    "\n",
    "for name in list_names:\n",
    "    new_name = ''\n",
    "    for char in name:\n",
    "        if char in 'aeiou':\n",
    "            new_char = char.upper()\n",
    "            new_name = new_name + new_char\n",
    "        else:\n",
    "            new_char = char\n",
    "            new_name = new_name + new_char\n",
    "    new_list_names.append(new_name)\n",
    "    \n",
    "new_list_names"
   ]
  },
  {
   "cell_type": "markdown",
   "metadata": {},
   "source": [
    "#### 3. Prepare again a list with 10 names. Make a function with two input variables: list, and character; that returns a list of names containing one or more of input characters ’s inside the name.  "
   ]
  },
  {
   "cell_type": "code",
   "execution_count": 3,
   "metadata": {},
   "outputs": [],
   "source": [
    "list_names = ['ana','pedro','eduardo','miguel','alberto','javier']\n",
    "\n",
    "def contain_char(lista,char):\n",
    "    \n",
    "    '''Make a function with two input variables: list,\n",
    "    and character;that returns a list of names containing \n",
    "    one or more of input characters ’s inside the name.'''\n",
    "    \n",
    "    new_list = []\n",
    "    for name in lista:\n",
    "        if char in name:\n",
    "            new_list.append(name)\n",
    "            \n",
    "    return new_list"
   ]
  },
  {
   "cell_type": "code",
   "execution_count": 4,
   "metadata": {},
   "outputs": [
    {
     "data": {
      "text/plain": [
       "['ana', 'eduardo', 'alberto', 'javier']"
      ]
     },
     "execution_count": 4,
     "metadata": {},
     "output_type": "execute_result"
    }
   ],
   "source": [
    "contain_char(list_names,'a')"
   ]
  },
  {
   "cell_type": "markdown",
   "metadata": {},
   "source": [
    "##### 4. Reverse word order from the input string "
   ]
  },
  {
   "cell_type": "code",
   "execution_count": 5,
   "metadata": {},
   "outputs": [
    {
     "data": {
      "text/plain": [
       "'odnuMaloH'"
      ]
     },
     "execution_count": 5,
     "metadata": {},
     "output_type": "execute_result"
    }
   ],
   "source": [
    "def reverse_string(string):\n",
    "    \n",
    "    '''Reverse word order from the input string'''\n",
    "    \n",
    "    new_string = string[::-1]\n",
    "    \n",
    "    return new_string\n",
    "\n",
    "test = 'HolaMundo'\n",
    "\n",
    "reverse_string(test)"
   ]
  },
  {
   "cell_type": "markdown",
   "metadata": {},
   "source": [
    "##### 5. Create a function that accepts string as search string and returns number of lines with that string in a command history (hint : use a in b)"
   ]
  },
  {
   "cell_type": "code",
   "execution_count": 6,
   "metadata": {},
   "outputs": [],
   "source": [
    "def search_string(string):\n",
    "    \n",
    "    '''Function that accepts string as search string and returns\n",
    "    number of lines with that string in a command history (hint : use a in b)'''\n",
    "    \n",
    "    pass"
   ]
  },
  {
   "cell_type": "markdown",
   "metadata": {},
   "source": [
    "##### 6. Write a Python function that takes a list of words and returns the length of the longest one."
   ]
  },
  {
   "cell_type": "code",
   "execution_count": 7,
   "metadata": {},
   "outputs": [],
   "source": [
    "list_names = ['ana','pedro','eduardo','miguel','alberto','javier']\n",
    "\n",
    "def longest_word(lista):\n",
    "    \n",
    "    '''Function that takes a list \n",
    "    of words and returns the length \n",
    "    of the longest one.'''\n",
    "    \n",
    "    length_list = []\n",
    "    for word in lista:\n",
    "        length = len(word)\n",
    "        length_list.append(length)\n",
    "        \n",
    "    return max(length_list)\n",
    "    "
   ]
  },
  {
   "cell_type": "code",
   "execution_count": 8,
   "metadata": {},
   "outputs": [
    {
     "data": {
      "text/plain": [
       "7"
      ]
     },
     "execution_count": 8,
     "metadata": {},
     "output_type": "execute_result"
    }
   ],
   "source": [
    "longest_word(list_names)"
   ]
  },
  {
   "cell_type": "code",
   "execution_count": 9,
   "metadata": {},
   "outputs": [],
   "source": [
    "# Same Function using a dictionary\n",
    "\n",
    "list_names = ['ana','pedro','eduardo','miguel','alberto','javier']\n",
    "\n",
    "def longest_word_dict(lista):\n",
    "    \n",
    "    '''Function that takes a list \n",
    "    of words and returns the length \n",
    "    of the longest one.'''\n",
    "    \n",
    "    length_dict = {}\n",
    "    for word in lista:\n",
    "        length_dict[word] = len(word)\n",
    "        \n",
    "    return max(length_dict.values())"
   ]
  },
  {
   "cell_type": "code",
   "execution_count": 10,
   "metadata": {},
   "outputs": [
    {
     "data": {
      "text/plain": [
       "7"
      ]
     },
     "execution_count": 10,
     "metadata": {},
     "output_type": "execute_result"
    }
   ],
   "source": [
    "longest_word_dict(list_names)"
   ]
  }
 ],
 "metadata": {
  "kernelspec": {
   "display_name": "Python 3",
   "language": "python",
   "name": "python3"
  },
  "language_info": {
   "codemirror_mode": {
    "name": "ipython",
    "version": 3
   },
   "file_extension": ".py",
   "mimetype": "text/x-python",
   "name": "python",
   "nbconvert_exporter": "python",
   "pygments_lexer": "ipython3",
   "version": "3.6.4"
  }
 },
 "nbformat": 4,
 "nbformat_minor": 2
}
