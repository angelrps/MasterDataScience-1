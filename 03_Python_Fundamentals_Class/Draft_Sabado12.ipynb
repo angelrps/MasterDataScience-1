{
 "cells": [
  {
   "cell_type": "markdown",
   "metadata": {},
   "source": [
    "# Sabado 12"
   ]
  },
  {
   "cell_type": "markdown",
   "metadata": {},
   "source": [
    "Diferencias and or & |"
   ]
  },
  {
   "cell_type": "code",
   "execution_count": 1,
   "metadata": {},
   "outputs": [
    {
     "data": {
      "text/plain": [
       "True"
      ]
     },
     "execution_count": 1,
     "metadata": {},
     "output_type": "execute_result"
    }
   ],
   "source": [
    "# and or are lazy\n",
    "# & | are not lazy, then it's gonna be an error\n",
    "# because hola is not defined\n",
    "\n",
    "True or Hola"
   ]
  },
  {
   "cell_type": "code",
   "execution_count": 2,
   "metadata": {},
   "outputs": [
    {
     "data": {
      "text/plain": [
       "3"
      ]
     },
     "execution_count": 2,
     "metadata": {},
     "output_type": "execute_result"
    }
   ],
   "source": [
    "# 0 means False 3 means True\n",
    "0 or 3"
   ]
  },
  {
   "cell_type": "code",
   "execution_count": 3,
   "metadata": {},
   "outputs": [],
   "source": [
    "# Quick exercises 2"
   ]
  },
  {
   "cell_type": "code",
   "execution_count": 4,
   "metadata": {},
   "outputs": [
    {
     "data": {
      "text/plain": [
       "(7, 2, 31)"
      ]
     },
     "execution_count": 4,
     "metadata": {},
     "output_type": "execute_result"
    }
   ],
   "source": [
    "# Exercise 1\n",
    "\n",
    "def wc_py(string):\n",
    "    \n",
    "        '''Write a function to calculate the number of words,\n",
    "        number of lines, and length of a string the same way \n",
    "        the wc command does in the command line'''\n",
    "        \n",
    "        list_words = string.split()\n",
    "        list_lines = string.split(sep='\\n')\n",
    "        len_string = len(string)\n",
    "        \n",
    "        return len(list_words), len(list_lines), len_string\n",
    "    \n",
    "a = '''Hola que tal\n",
    "esto es una prueba'''\n",
    "\n",
    "wc_py(a)"
   ]
  },
  {
   "cell_type": "code",
   "execution_count": 5,
   "metadata": {},
   "outputs": [
    {
     "data": {
      "text/plain": [
       "'hoamundo'"
      ]
     },
     "execution_count": 5,
     "metadata": {},
     "output_type": "execute_result"
    }
   ],
   "source": [
    "# Exercise 2\n",
    "\n",
    "def remove_n(num, string):\n",
    "    \n",
    "    '''Write a Python program to remove the nth index \n",
    "    character from a string. If the input string is empty print warning.'''\n",
    "    \n",
    "    if len(string) > 0:\n",
    "        new_string = string[:num] + string[num+1:]\n",
    "        return new_string\n",
    "    \n",
    "    else:\n",
    "        return 'Warning'\n",
    "         \n",
    "    \n",
    "\n",
    "test = 'holamundo'\n",
    "\n",
    "remove_n(2,test)"
   ]
  },
  {
   "cell_type": "code",
   "execution_count": 6,
   "metadata": {},
   "outputs": [
    {
     "data": {
      "text/plain": [
       "'Warning'"
      ]
     },
     "execution_count": 6,
     "metadata": {},
     "output_type": "execute_result"
    }
   ],
   "source": [
    "test_empty=''\n",
    "\n",
    "remove_n(3,test_empty)"
   ]
  },
  {
   "cell_type": "code",
   "execution_count": 7,
   "metadata": {},
   "outputs": [
    {
     "data": {
      "text/plain": [
       "'rueba'"
      ]
     },
     "execution_count": 7,
     "metadata": {},
     "output_type": "execute_result"
    }
   ],
   "source": [
    "remove_n(0,'Prueba')"
   ]
  },
  {
   "cell_type": "markdown",
   "metadata": {},
   "source": [
    "# Shell Commands\n",
    "\n",
    "### Estos comandos pueden hacer tu programa NO PORTABLE"
   ]
  },
  {
   "cell_type": "code",
   "execution_count": 21,
   "metadata": {},
   "outputs": [
    {
     "name": "stdout",
     "output_type": "stream",
     "text": [
      "/home/dsc/Repos\n"
     ]
    }
   ],
   "source": [
    "! pwd"
   ]
  },
  {
   "cell_type": "code",
   "execution_count": 22,
   "metadata": {},
   "outputs": [
    {
     "name": "stdout",
     "output_type": "stream",
     "text": [
      "sáb ene 12 10:42:39 CET 2019\n"
     ]
    }
   ],
   "source": [
    "! date"
   ]
  },
  {
   "cell_type": "code",
   "execution_count": 23,
   "metadata": {},
   "outputs": [
    {
     "name": "stdout",
     "output_type": "stream",
     "text": [
      "csvkit\tmaster2\t\t   master_documento\n",
      "dos\tMasterDataScience  proyecto_prueba_github\n"
     ]
    }
   ],
   "source": [
    "! ls"
   ]
  },
  {
   "cell_type": "code",
   "execution_count": 24,
   "metadata": {},
   "outputs": [
    {
     "name": "stdout",
     "output_type": "stream",
     "text": [
      "head: cannot open 'hello.py' for reading: No such file or directory\n"
     ]
    }
   ],
   "source": [
    "! head hello.py"
   ]
  },
  {
   "cell_type": "code",
   "execution_count": 25,
   "metadata": {},
   "outputs": [
    {
     "name": "stdout",
     "output_type": "stream",
     "text": [
      "/home/dsc/Repos\n"
     ]
    }
   ],
   "source": [
    "! cd ~/Repos\n",
    "! pwd"
   ]
  },
  {
   "cell_type": "code",
   "execution_count": 26,
   "metadata": {},
   "outputs": [
    {
     "name": "stdout",
     "output_type": "stream",
     "text": [
      "/home/dsc/Repos\n",
      "/home/dsc/Repos\n"
     ]
    }
   ],
   "source": [
    "%cd ~/Repos/\n",
    "! pwd"
   ]
  },
  {
   "cell_type": "code",
   "execution_count": 27,
   "metadata": {},
   "outputs": [
    {
     "name": "stdout",
     "output_type": "stream",
     "text": [
      "Directory history (kept in _dh)\n",
      "0: /home/dsc/Repos/MasterDataScience/03_Python_Fundamentals_Class\n",
      "1: /home/dsc/Repos\n"
     ]
    }
   ],
   "source": [
    "%dhist"
   ]
  },
  {
   "cell_type": "code",
   "execution_count": 28,
   "metadata": {},
   "outputs": [
    {
     "name": "stdout",
     "output_type": "stream",
     "text": [
      "hola\n"
     ]
    }
   ],
   "source": [
    "! echo hola"
   ]
  },
  {
   "cell_type": "code",
   "execution_count": 30,
   "metadata": {},
   "outputs": [
    {
     "name": "stdout",
     "output_type": "stream",
     "text": [
      "holamundo\n"
     ]
    }
   ],
   "source": [
    "# Llamar desde consola linux una var de python\n",
    "\n",
    "! echo {test}"
   ]
  },
  {
   "cell_type": "code",
   "execution_count": 31,
   "metadata": {},
   "outputs": [
    {
     "data": {
      "text/plain": [
       "'/home/dsc/Repos'"
      ]
     },
     "execution_count": 31,
     "metadata": {},
     "output_type": "execute_result"
    }
   ],
   "source": [
    "pwd"
   ]
  },
  {
   "cell_type": "code",
   "execution_count": 34,
   "metadata": {},
   "outputs": [
    {
     "name": "stdout",
     "output_type": "stream",
     "text": [
      "l\n"
     ]
    }
   ],
   "source": [
    "! echo {test[2]}"
   ]
  },
  {
   "cell_type": "code",
   "execution_count": 35,
   "metadata": {},
   "outputs": [
    {
     "data": {
      "application/json": {
       "cell": {
        "!": "OSMagics",
        "HTML": "Other",
        "SVG": "Other",
        "bash": "Other",
        "capture": "ExecutionMagics",
        "debug": "ExecutionMagics",
        "file": "Other",
        "html": "DisplayMagics",
        "javascript": "DisplayMagics",
        "js": "DisplayMagics",
        "latex": "DisplayMagics",
        "markdown": "DisplayMagics",
        "perl": "Other",
        "prun": "ExecutionMagics",
        "pypy": "Other",
        "python": "Other",
        "python2": "Other",
        "python3": "Other",
        "ruby": "Other",
        "script": "ScriptMagics",
        "sh": "Other",
        "svg": "DisplayMagics",
        "sx": "OSMagics",
        "system": "OSMagics",
        "time": "ExecutionMagics",
        "timeit": "ExecutionMagics",
        "writefile": "OSMagics"
       },
       "line": {
        "alias": "OSMagics",
        "alias_magic": "BasicMagics",
        "autocall": "AutoMagics",
        "automagic": "AutoMagics",
        "autosave": "KernelMagics",
        "bookmark": "OSMagics",
        "cat": "Other",
        "cd": "OSMagics",
        "clear": "KernelMagics",
        "colors": "BasicMagics",
        "config": "ConfigMagics",
        "connect_info": "KernelMagics",
        "cp": "Other",
        "debug": "ExecutionMagics",
        "dhist": "OSMagics",
        "dirs": "OSMagics",
        "doctest_mode": "BasicMagics",
        "ed": "Other",
        "edit": "KernelMagics",
        "env": "OSMagics",
        "gui": "BasicMagics",
        "hist": "Other",
        "history": "HistoryMagics",
        "killbgscripts": "ScriptMagics",
        "ldir": "Other",
        "less": "KernelMagics",
        "lf": "Other",
        "lk": "Other",
        "ll": "Other",
        "load": "CodeMagics",
        "load_ext": "ExtensionMagics",
        "loadpy": "CodeMagics",
        "logoff": "LoggingMagics",
        "logon": "LoggingMagics",
        "logstart": "LoggingMagics",
        "logstate": "LoggingMagics",
        "logstop": "LoggingMagics",
        "ls": "Other",
        "lsmagic": "BasicMagics",
        "lx": "Other",
        "macro": "ExecutionMagics",
        "magic": "BasicMagics",
        "man": "KernelMagics",
        "matplotlib": "PylabMagics",
        "mkdir": "Other",
        "more": "KernelMagics",
        "mv": "Other",
        "notebook": "BasicMagics",
        "page": "BasicMagics",
        "pastebin": "CodeMagics",
        "pdb": "ExecutionMagics",
        "pdef": "NamespaceMagics",
        "pdoc": "NamespaceMagics",
        "pfile": "NamespaceMagics",
        "pinfo": "NamespaceMagics",
        "pinfo2": "NamespaceMagics",
        "pip": "BasicMagics",
        "popd": "OSMagics",
        "pprint": "BasicMagics",
        "precision": "BasicMagics",
        "profile": "BasicMagics",
        "prun": "ExecutionMagics",
        "psearch": "NamespaceMagics",
        "psource": "NamespaceMagics",
        "pushd": "OSMagics",
        "pwd": "OSMagics",
        "pycat": "OSMagics",
        "pylab": "PylabMagics",
        "qtconsole": "KernelMagics",
        "quickref": "BasicMagics",
        "recall": "HistoryMagics",
        "rehashx": "OSMagics",
        "reload_ext": "ExtensionMagics",
        "rep": "Other",
        "rerun": "HistoryMagics",
        "reset": "NamespaceMagics",
        "reset_selective": "NamespaceMagics",
        "rm": "Other",
        "rmdir": "Other",
        "run": "ExecutionMagics",
        "save": "CodeMagics",
        "sc": "OSMagics",
        "set_env": "OSMagics",
        "store": "StoreMagics",
        "sx": "OSMagics",
        "system": "OSMagics",
        "tb": "ExecutionMagics",
        "time": "ExecutionMagics",
        "timeit": "ExecutionMagics",
        "unalias": "OSMagics",
        "unload_ext": "ExtensionMagics",
        "who": "NamespaceMagics",
        "who_ls": "NamespaceMagics",
        "whos": "NamespaceMagics",
        "xdel": "NamespaceMagics",
        "xmode": "BasicMagics"
       }
      },
      "text/plain": [
       "Available line magics:\n",
       "%alias  %alias_magic  %autocall  %automagic  %autosave  %bookmark  %cat  %cd  %clear  %colors  %config  %connect_info  %cp  %debug  %dhist  %dirs  %doctest_mode  %ed  %edit  %env  %gui  %hist  %history  %killbgscripts  %ldir  %less  %lf  %lk  %ll  %load  %load_ext  %loadpy  %logoff  %logon  %logstart  %logstate  %logstop  %ls  %lsmagic  %lx  %macro  %magic  %man  %matplotlib  %mkdir  %more  %mv  %notebook  %page  %pastebin  %pdb  %pdef  %pdoc  %pfile  %pinfo  %pinfo2  %popd  %pprint  %precision  %profile  %prun  %psearch  %psource  %pushd  %pwd  %pycat  %pylab  %qtconsole  %quickref  %recall  %rehashx  %reload_ext  %rep  %rerun  %reset  %reset_selective  %rm  %rmdir  %run  %save  %sc  %set_env  %store  %sx  %system  %tb  %time  %timeit  %unalias  %unload_ext  %who  %who_ls  %whos  %xdel  %xmode\n",
       "\n",
       "Available cell magics:\n",
       "%%!  %%HTML  %%SVG  %%bash  %%capture  %%debug  %%file  %%html  %%javascript  %%js  %%latex  %%markdown  %%perl  %%prun  %%pypy  %%python  %%python2  %%python3  %%ruby  %%script  %%sh  %%svg  %%sx  %%system  %%time  %%timeit  %%writefile\n",
       "\n",
       "Automagic is ON, % prefix IS NOT needed for line magics."
      ]
     },
     "execution_count": 35,
     "metadata": {},
     "output_type": "execute_result"
    }
   ],
   "source": [
    "%lsmagic"
   ]
  },
  {
   "cell_type": "code",
   "execution_count": 36,
   "metadata": {},
   "outputs": [
    {
     "name": "stdout",
     "output_type": "stream",
     "text": [
      "Variable     Type        Data/Info\n",
      "----------------------------------\n",
      "a            str         Hola que tal\\nesto es una prueba\n",
      "remove_n     function    <function remove_n at 0x7f7d2028abf8>\n",
      "test         str         holamundo\n",
      "test_empty   str         \n",
      "wc_py        function    <function wc_py at 0x7f7d2695cf28>\n"
     ]
    }
   ],
   "source": [
    "%whos"
   ]
  },
  {
   "cell_type": "code",
   "execution_count": 37,
   "metadata": {},
   "outputs": [
    {
     "name": "stdout",
     "output_type": "stream",
     "text": [
      ".\n",
      "├── 01_shell\n",
      "│   ├── 01_shell_QuickExercises.md\n",
      "│   ├── 02_shell_SortingandCounting.md\n",
      "│   ├── 03_shell_ProcessingandFiltering.md\n",
      "│   ├── 04_shell_CompressedFiles.md\n",
      "│   ├── 05_shell_CSVtoolkit.md\n",
      "│   └── README.md\n",
      "├── 02_shell_Scripts\n",
      "│   ├── 01_shell_Script.sh\n",
      "│   ├── 02_shell_Script.sh\n",
      "│   ├── 03_shell_Script.sh\n",
      "│   ├── 04_shell_Script.sh\n",
      "│   └── README.md\n",
      "├── 03_Python_Fundamentals_Class\n",
      "│   ├── hello.py\n",
      "│   ├── __pycache__\n",
      "│   │   └── hello.cpython-36.pyc\n",
      "│   ├── Sabado12.ipynb\n",
      "│   └── Viernes11.ipynb\n",
      "└── README.md\n",
      "\n",
      "4 directories, 16 files\n"
     ]
    }
   ],
   "source": [
    "%%bash\n",
    "cd ~/Repos/MasterDataScience/\n",
    "tree"
   ]
  },
  {
   "cell_type": "code",
   "execution_count": 41,
   "metadata": {},
   "outputs": [
    {
     "name": "stdout",
     "output_type": "stream",
     "text": [
      "  10: ! ls\n"
     ]
    }
   ],
   "source": [
    "%history -n 10"
   ]
  },
  {
   "cell_type": "code",
   "execution_count": 65,
   "metadata": {},
   "outputs": [
    {
     "name": "stdout",
     "output_type": "stream",
     "text": [
      "/home/dsc/Repos/MasterDataScience/03_Python_Fundamentals_Class\n"
     ]
    }
   ],
   "source": [
    "# Para descargar archivo\n",
    "% cd /home/dsc/Repos/MasterDataScience/03_Python_Fundamentals_Class/\n",
    "! curl -s https://www.gutenberg.org/files/76/76-0.txt > Finn.txt"
   ]
  },
  {
   "cell_type": "markdown",
   "metadata": {},
   "source": [
    "# Quick Exercises 3"
   ]
  },
  {
   "cell_type": "markdown",
   "metadata": {},
   "source": [
    "#### 1.While inside python, go to ~/Data/opentraveldata/ and list the files. Repeat the same for   /home/dsc/Data/us_dot/otp and ~/Data/us_dot/traffic/. \n",
    "\n",
    "Use the list of visited directories from dhist and write for loop which will return for each visited directory its name and number of files inside."
   ]
  },
  {
   "cell_type": "code",
   "execution_count": 3,
   "metadata": {},
   "outputs": [
    {
     "name": "stdout",
     "output_type": "stream",
     "text": [
      "/home/dsc/Data/opentraveldata\n"
     ]
    }
   ],
   "source": [
    "% cd ~/Data/opentraveldata/"
   ]
  },
  {
   "cell_type": "code",
   "execution_count": 4,
   "metadata": {},
   "outputs": [
    {
     "name": "stdout",
     "output_type": "stream",
     "text": [
      "/home/dsc/Data/us_dot/traffic\n"
     ]
    }
   ],
   "source": [
    "% cd ~/Data/us_dot/traffic/"
   ]
  },
  {
   "cell_type": "code",
   "execution_count": 5,
   "metadata": {},
   "outputs": [
    {
     "name": "stdout",
     "output_type": "stream",
     "text": [
      "/home/dsc/Data/us_dot/otp\n"
     ]
    }
   ],
   "source": [
    "% cd /home/dsc/Data/us_dot/otp"
   ]
  },
  {
   "cell_type": "code",
   "execution_count": 6,
   "metadata": {},
   "outputs": [
    {
     "name": "stdout",
     "output_type": "stream",
     "text": [
      "Directory history (kept in _dh)\n",
      "0: /home/dsc/Repos/MasterDataScience/03_Python_Fundamentals_Class\n",
      "1: /home/dsc/Data/opentraveldata\n",
      "2: /home/dsc/Data/us_dot/traffic\n",
      "3: /home/dsc/Data/us_dot/otp\n"
     ]
    }
   ],
   "source": [
    "%dhist"
   ]
  },
  {
   "cell_type": "code",
   "execution_count": 7,
   "metadata": {},
   "outputs": [
    {
     "data": {
      "text/plain": [
       "['/home/dsc/Repos/MasterDataScience/03_Python_Fundamentals_Class',\n",
       " '/home/dsc/Data/opentraveldata',\n",
       " '/home/dsc/Data/us_dot/traffic',\n",
       " '/home/dsc/Data/us_dot/otp']"
      ]
     },
     "execution_count": 7,
     "metadata": {},
     "output_type": "execute_result"
    }
   ],
   "source": [
    "_dh"
   ]
  },
  {
   "cell_type": "code",
   "execution_count": 13,
   "metadata": {},
   "outputs": [
    {
     "name": "stdout",
     "output_type": "stream",
     "text": [
      "Name: /home/dsc/Repos/MasterDataScience/03_Python_Fundamentals_Class Number of Files: ['5']\n",
      "Name: /home/dsc/Data/opentraveldata Number of Files: ['7']\n",
      "Name: /home/dsc/Data/us_dot/traffic Number of Files: ['2']\n",
      "Name: /home/dsc/Data/us_dot/otp Number of Files: ['8']\n"
     ]
    }
   ],
   "source": [
    "\n",
    "for elem in _dh:\n",
    "    elem\n",
    "    number= ! ls -l {elem} | tail -n +2 | wc -l\n",
    "    print('Name: %s Number of Files: %s' % (elem,number))\n",
    "    \n"
   ]
  },
  {
   "cell_type": "markdown",
   "metadata": {},
   "source": [
    "#### 2.Write a function that will take text file and pattern as input parameters, and return the number of occurances of case insensitive pattern inside a text (similar to: grep -i –o pattern file | wc -l)"
   ]
  },
  {
   "cell_type": "code",
   "execution_count": 77,
   "metadata": {},
   "outputs": [],
   "source": []
  },
  {
   "cell_type": "markdown",
   "metadata": {},
   "source": [
    "#### 3.Open Finn.txt  file, read lines into a list.  Remove trailing white spaces from each line . Write the resulting list to the new file. How many lines does the new file have?  (hint: empty list is made with [ ] ) \n",
    "\n"
   ]
  },
  {
   "cell_type": "code",
   "execution_count": 38,
   "metadata": {},
   "outputs": [
    {
     "name": "stdout",
     "output_type": "stream",
     "text": [
      "/home/dsc/Repos/MasterDataScience/03_Python_Fundamentals_Class\n"
     ]
    }
   ],
   "source": [
    "% cd /home/dsc/Repos/MasterDataScience/03_Python_Fundamentals_Class/\n",
    "\n",
    "book = open('Finn.txt', 'r')"
   ]
  },
  {
   "cell_type": "code",
   "execution_count": 39,
   "metadata": {},
   "outputs": [
    {
     "data": {
      "text/plain": [
       "['\\ufeff\\n',\n",
       " 'The Project Gutenberg EBook of Adventures of Huckleberry Finn, Complete\\n',\n",
       " 'by Mark Twain (Samuel Clemens)\\n',\n",
       " '\\n',\n",
       " 'This eBook is for the use of anyone anywhere at no cost and with almost\\n',\n",
       " 'no restrictions whatsoever. You may copy it, give it away or re-use\\n',\n",
       " 'it under the terms of the Project Gutenberg License included with this\\n',\n",
       " 'eBook or online at www.gutenberg.net\\n',\n",
       " '\\n',\n",
       " 'Title: Adventures of Huckleberry Finn, Complete\\n']"
      ]
     },
     "execution_count": 39,
     "metadata": {},
     "output_type": "execute_result"
    }
   ],
   "source": [
    "lines = book.readlines()\n",
    "lines[:10]"
   ]
  },
  {
   "cell_type": "code",
   "execution_count": 46,
   "metadata": {},
   "outputs": [
    {
     "data": {
      "text/plain": [
       "['\\ufeff',\n",
       " 'The Project Gutenberg EBook of Adventures of Huckleberry Finn, Complete',\n",
       " 'by Mark Twain (Samuel Clemens)',\n",
       " '',\n",
       " 'This eBook is for the use of anyone anywhere at no cost and with almost',\n",
       " 'no restrictions whatsoever. You may copy it, give it away or re-use',\n",
       " 'it under the terms of the Project Gutenberg License included with this',\n",
       " 'eBook or online at www.gutenberg.net',\n",
       " '',\n",
       " 'Title: Adventures of Huckleberry Finn, Complete']"
      ]
     },
     "execution_count": 46,
     "metadata": {},
     "output_type": "execute_result"
    }
   ],
   "source": [
    "clean_lines = []\n",
    "\n",
    "for line in lines:\n",
    "    clean_line = line.strip()\n",
    "    clean_lines.append(clean_line)\n",
    "    \n",
    "\n",
    "clean_lines[:10]"
   ]
  },
  {
   "cell_type": "code",
   "execution_count": 47,
   "metadata": {},
   "outputs": [],
   "source": [
    "nf = open('newfile.txt', 'w')\n",
    "nf.writelines(clean_lines)\n",
    "nf.close()"
   ]
  },
  {
   "cell_type": "code",
   "execution_count": 48,
   "metadata": {},
   "outputs": [
    {
     "name": "stdout",
     "output_type": "stream",
     "text": [
      "     0 104561 591353 newfile.txt\n"
     ]
    }
   ],
   "source": [
    "! wc newfile.txt"
   ]
  },
  {
   "cell_type": "markdown",
   "metadata": {},
   "source": [
    "#### 4.Open Finn.txt  file, read lines into a list. Create a new version of Finn_nbl.txt with no blank lines.\n"
   ]
  },
  {
   "cell_type": "code",
   "execution_count": 50,
   "metadata": {},
   "outputs": [],
   "source": [
    "nf = open('newfile.txt','w')\n",
    "\n",
    "for line in clean_lines:\n",
    "    if line:\n",
    "        nf.write(line + '\\n')"
   ]
  },
  {
   "cell_type": "code",
   "execution_count": 51,
   "metadata": {},
   "outputs": [
    {
     "name": "stdout",
     "output_type": "stream",
     "text": [
      "  9644 114100 600259 newfile.txt\n"
     ]
    }
   ],
   "source": [
    "! wc newfile.txt"
   ]
  },
  {
   "cell_type": "markdown",
   "metadata": {},
   "source": [
    "#### 5.Reset the workspace. Obtain the difference in number of lines between original Finn file and and the one without blank lines  and print the result. (hint: use wc)"
   ]
  },
  {
   "cell_type": "code",
   "execution_count": null,
   "metadata": {},
   "outputs": [],
   "source": []
  },
  {
   "cell_type": "markdown",
   "metadata": {},
   "source": [
    "# Data Structures"
   ]
  },
  {
   "cell_type": "code",
   "execution_count": 52,
   "metadata": {},
   "outputs": [],
   "source": [
    "stars = ['Alderaan','Arcturus','Vega']\n"
   ]
  },
  {
   "cell_type": "code",
   "execution_count": 53,
   "metadata": {},
   "outputs": [
    {
     "data": {
      "text/plain": [
       "'Alderaan'"
      ]
     },
     "execution_count": 53,
     "metadata": {},
     "output_type": "execute_result"
    }
   ],
   "source": [
    "stars[0]"
   ]
  },
  {
   "cell_type": "code",
   "execution_count": 54,
   "metadata": {},
   "outputs": [
    {
     "data": {
      "text/plain": [
       "['Alderaan', 'Arcturus']"
      ]
     },
     "execution_count": 54,
     "metadata": {},
     "output_type": "execute_result"
    }
   ],
   "source": [
    "stars[:2]"
   ]
  },
  {
   "cell_type": "code",
   "execution_count": 55,
   "metadata": {},
   "outputs": [],
   "source": [
    "planets = [['Sol','Tierra'],'Alderaan','Arcturus','Vega']"
   ]
  },
  {
   "cell_type": "code",
   "execution_count": 57,
   "metadata": {},
   "outputs": [
    {
     "data": {
      "text/plain": [
       "'Tierra'"
      ]
     },
     "execution_count": 57,
     "metadata": {},
     "output_type": "execute_result"
    }
   ],
   "source": [
    "planets[0][1]"
   ]
  },
  {
   "cell_type": "code",
   "execution_count": 61,
   "metadata": {},
   "outputs": [
    {
     "data": {
      "text/plain": [
       "['Alderaan', 'Arcturus', 'Vega', 'Polar', 'Polar', 'Polar']"
      ]
     },
     "execution_count": 61,
     "metadata": {},
     "output_type": "execute_result"
    }
   ],
   "source": [
    "stars.append('Polar')\n",
    "stars"
   ]
  },
  {
   "cell_type": "code",
   "execution_count": 62,
   "metadata": {},
   "outputs": [
    {
     "data": {
      "text/plain": [
       "3"
      ]
     },
     "execution_count": 62,
     "metadata": {},
     "output_type": "execute_result"
    }
   ],
   "source": [
    "stars.index('Polar')"
   ]
  },
  {
   "cell_type": "code",
   "execution_count": 64,
   "metadata": {},
   "outputs": [
    {
     "data": {
      "text/plain": [
       "['Alderaan', 'Arcturus', 'Vega', 'Polar', 'Polar', 'Polar', 'Death', 'Death']"
      ]
     },
     "execution_count": 64,
     "metadata": {},
     "output_type": "execute_result"
    }
   ],
   "source": [
    "stars.extend(['Death'])\n",
    "stars"
   ]
  },
  {
   "cell_type": "code",
   "execution_count": 65,
   "metadata": {},
   "outputs": [
    {
     "data": {
      "text/plain": [
       "['Alderaan',\n",
       " 'Arcturus',\n",
       " 'Vega',\n",
       " 'Polar',\n",
       " 'Polar',\n",
       " 'Polar',\n",
       " 'Death',\n",
       " 'Death',\n",
       " 'D',\n",
       " 'e',\n",
       " 'a',\n",
       " 't',\n",
       " 'h']"
      ]
     },
     "execution_count": 65,
     "metadata": {},
     "output_type": "execute_result"
    }
   ],
   "source": [
    "stars.extend('Death')\n",
    "stars"
   ]
  },
  {
   "cell_type": "code",
   "execution_count": 66,
   "metadata": {},
   "outputs": [
    {
     "data": {
      "text/plain": [
       "['Alderaan',\n",
       " 'Arcturus',\n",
       " 'Vega',\n",
       " 'Polar',\n",
       " 'Alpha Centauri',\n",
       " 'Polar',\n",
       " 'Polar',\n",
       " 'Death',\n",
       " 'Death',\n",
       " 'D',\n",
       " 'e',\n",
       " 'a',\n",
       " 't',\n",
       " 'h']"
      ]
     },
     "execution_count": 66,
     "metadata": {},
     "output_type": "execute_result"
    }
   ],
   "source": [
    "stars.insert(4, 'Alpha Centauri')\n",
    "stars"
   ]
  },
  {
   "cell_type": "code",
   "execution_count": 68,
   "metadata": {},
   "outputs": [
    {
     "data": {
      "text/plain": [
       "('t',\n",
       " ['Alderaan',\n",
       "  'Arcturus',\n",
       "  'Vega',\n",
       "  'Polar',\n",
       "  'Alpha Centauri',\n",
       "  'Polar',\n",
       "  'Polar',\n",
       "  'Death',\n",
       "  'Death',\n",
       "  'D',\n",
       "  'e',\n",
       "  'a'])"
      ]
     },
     "execution_count": 68,
     "metadata": {},
     "output_type": "execute_result"
    }
   ],
   "source": [
    "last_element = stars.pop()\n",
    "\n",
    "last_element, stars"
   ]
  },
  {
   "cell_type": "code",
   "execution_count": 69,
   "metadata": {},
   "outputs": [
    {
     "data": {
      "text/plain": [
       "'t'"
      ]
     },
     "execution_count": 69,
     "metadata": {},
     "output_type": "execute_result"
    }
   ],
   "source": [
    "last_element"
   ]
  },
  {
   "cell_type": "code",
   "execution_count": 70,
   "metadata": {},
   "outputs": [],
   "source": [
    "new_list = stars + ['Peter Pan','Campanilla']"
   ]
  },
  {
   "cell_type": "code",
   "execution_count": 71,
   "metadata": {},
   "outputs": [
    {
     "data": {
      "text/plain": [
       "['Alderaan',\n",
       " 'Arcturus',\n",
       " 'Vega',\n",
       " 'Polar',\n",
       " 'Alpha Centauri',\n",
       " 'Polar',\n",
       " 'Polar',\n",
       " 'Death',\n",
       " 'Death',\n",
       " 'D',\n",
       " 'e',\n",
       " 'a',\n",
       " 'Peter Pan',\n",
       " 'Campanilla']"
      ]
     },
     "execution_count": 71,
     "metadata": {},
     "output_type": "execute_result"
    }
   ],
   "source": [
    "new_list"
   ]
  },
  {
   "cell_type": "code",
   "execution_count": 72,
   "metadata": {},
   "outputs": [],
   "source": [
    "my_tup = ('Tortilla','Manzana')\n",
    "\n",
    "my_tup += ('Cafe','Pitillo')"
   ]
  },
  {
   "cell_type": "code",
   "execution_count": 73,
   "metadata": {},
   "outputs": [
    {
     "data": {
      "text/plain": [
       "('Tortilla', 'Manzana', 'Cafe', 'Pitillo')"
      ]
     },
     "execution_count": 73,
     "metadata": {},
     "output_type": "execute_result"
    }
   ],
   "source": [
    "my_tup"
   ]
  },
  {
   "cell_type": "code",
   "execution_count": 74,
   "metadata": {},
   "outputs": [
    {
     "data": {
      "text/plain": [
       "['a',\n",
       " 'e',\n",
       " 'D',\n",
       " 'Death',\n",
       " 'Death',\n",
       " 'Polar',\n",
       " 'Polar',\n",
       " 'Alpha Centauri',\n",
       " 'Polar',\n",
       " 'Vega',\n",
       " 'Arcturus',\n",
       " 'Alderaan']"
      ]
     },
     "execution_count": 74,
     "metadata": {},
     "output_type": "execute_result"
    }
   ],
   "source": [
    "stars.reverse()\n",
    "stars"
   ]
  },
  {
   "cell_type": "code",
   "execution_count": 76,
   "metadata": {},
   "outputs": [
    {
     "data": {
      "text/plain": [
       "['Alderaan',\n",
       " 'Alpha Centauri',\n",
       " 'Arcturus',\n",
       " 'D',\n",
       " 'Death',\n",
       " 'Death',\n",
       " 'Polar',\n",
       " 'Polar',\n",
       " 'Polar',\n",
       " 'Vega',\n",
       " 'a',\n",
       " 'e']"
      ]
     },
     "execution_count": 76,
     "metadata": {},
     "output_type": "execute_result"
    }
   ],
   "source": [
    "stars.sort()\n",
    "stars"
   ]
  },
  {
   "cell_type": "code",
   "execution_count": 80,
   "metadata": {},
   "outputs": [
    {
     "data": {
      "text/plain": [
       "['Alderaan',\n",
       " 'Alpha Centauri',\n",
       " 'Arcturus',\n",
       " 'D',\n",
       " 'Death',\n",
       " 'Death',\n",
       " 'Polar',\n",
       " 'Polar',\n",
       " 'Polar',\n",
       " 'Vega',\n",
       " 'a',\n",
       " 'e']"
      ]
     },
     "execution_count": 80,
     "metadata": {},
     "output_type": "execute_result"
    }
   ],
   "source": [
    "stars.sort()\n",
    "stars"
   ]
  },
  {
   "cell_type": "code",
   "execution_count": 82,
   "metadata": {},
   "outputs": [
    {
     "data": {
      "text/plain": [
       "<list_reverseiterator at 0x7efd2399b0f0>"
      ]
     },
     "execution_count": 82,
     "metadata": {},
     "output_type": "execute_result"
    }
   ],
   "source": [
    "reversed(stars)"
   ]
  },
  {
   "cell_type": "code",
   "execution_count": 83,
   "metadata": {},
   "outputs": [
    {
     "data": {
      "text/plain": [
       "['Alderaan',\n",
       " 'Alpha Centauri',\n",
       " 'Arcturus',\n",
       " 'D',\n",
       " 'Death',\n",
       " 'Death',\n",
       " 'Polar',\n",
       " 'Polar',\n",
       " 'Polar',\n",
       " 'Vega',\n",
       " 'a',\n",
       " 'e']"
      ]
     },
     "execution_count": 83,
     "metadata": {},
     "output_type": "execute_result"
    }
   ],
   "source": [
    "sorted(stars)"
   ]
  },
  {
   "cell_type": "code",
   "execution_count": 84,
   "metadata": {},
   "outputs": [
    {
     "data": {
      "text/plain": [
       "3"
      ]
     },
     "execution_count": 84,
     "metadata": {},
     "output_type": "execute_result"
    }
   ],
   "source": [
    "stars.count('Polar')"
   ]
  },
  {
   "cell_type": "code",
   "execution_count": 85,
   "metadata": {},
   "outputs": [
    {
     "data": {
      "text/plain": [
       "2"
      ]
     },
     "execution_count": 85,
     "metadata": {},
     "output_type": "execute_result"
    }
   ],
   "source": [
    "stars.count('Death')"
   ]
  },
  {
   "cell_type": "markdown",
   "metadata": {},
   "source": [
    "# Dict"
   ]
  },
  {
   "cell_type": "code",
   "execution_count": 86,
   "metadata": {},
   "outputs": [],
   "source": [
    "diseases = {'Measles':'Paperas','Cold':'Resfriado'}"
   ]
  },
  {
   "cell_type": "code",
   "execution_count": 87,
   "metadata": {},
   "outputs": [
    {
     "data": {
      "text/plain": [
       "'Paperas'"
      ]
     },
     "execution_count": 87,
     "metadata": {},
     "output_type": "execute_result"
    }
   ],
   "source": [
    "diseases['Measles']"
   ]
  },
  {
   "cell_type": "code",
   "execution_count": 91,
   "metadata": {},
   "outputs": [],
   "source": [
    "# Claves pueden ser tuplas pero no pueden ser listas\n",
    "\n",
    "death_toll = {('Measles',1911): 300,\n",
    "              ('Measles',1912): 500,\n",
    "              ('Measles',1913): 305,\n",
    "              ('Measles',1914): 400}"
   ]
  },
  {
   "cell_type": "code",
   "execution_count": 92,
   "metadata": {},
   "outputs": [
    {
     "data": {
      "text/plain": [
       "300"
      ]
     },
     "execution_count": 92,
     "metadata": {},
     "output_type": "execute_result"
    }
   ],
   "source": [
    "death_toll['Measles',1911]"
   ]
  },
  {
   "cell_type": "code",
   "execution_count": 96,
   "metadata": {},
   "outputs": [],
   "source": [
    "# Añadir CLave Valor a un diccionario\n",
    "\n",
    "death_toll['Spanish_Flu',1915]= 600"
   ]
  },
  {
   "cell_type": "code",
   "execution_count": 97,
   "metadata": {},
   "outputs": [
    {
     "data": {
      "text/plain": [
       "{('Measles', 1911): 300,\n",
       " ('Measles', 1912): 500,\n",
       " ('Measles', 1913): 305,\n",
       " ('Measles', 1914): 400,\n",
       " ('Spanish_Flu', 1915): 600}"
      ]
     },
     "execution_count": 97,
     "metadata": {},
     "output_type": "execute_result"
    }
   ],
   "source": [
    "death_toll"
   ]
  },
  {
   "cell_type": "code",
   "execution_count": 99,
   "metadata": {},
   "outputs": [
    {
     "data": {
      "text/plain": [
       "True"
      ]
     },
     "execution_count": 99,
     "metadata": {},
     "output_type": "execute_result"
    }
   ],
   "source": [
    "'Arcturus' in stars"
   ]
  },
  {
   "cell_type": "markdown",
   "metadata": {},
   "source": [
    "# Función Anónima"
   ]
  },
  {
   "cell_type": "code",
   "execution_count": 100,
   "metadata": {},
   "outputs": [
    {
     "data": {
      "text/plain": [
       "16"
      ]
     },
     "execution_count": 100,
     "metadata": {},
     "output_type": "execute_result"
    }
   ],
   "source": [
    "def square(n):\n",
    "    return n ** 2\n",
    "square(4)"
   ]
  },
  {
   "cell_type": "code",
   "execution_count": 102,
   "metadata": {},
   "outputs": [],
   "source": [
    "sq = lambda n: n ** 2"
   ]
  },
  {
   "cell_type": "code",
   "execution_count": 103,
   "metadata": {},
   "outputs": [],
   "source": [
    "list_of_numbers = [2,3,5,7,11]"
   ]
  },
  {
   "cell_type": "code",
   "execution_count": 104,
   "metadata": {},
   "outputs": [],
   "source": [
    "result = []\n",
    "\n",
    "for number in list_of_numbers:\n",
    "    \n",
    "    result.append(number ** 2)"
   ]
  },
  {
   "cell_type": "code",
   "execution_count": 105,
   "metadata": {},
   "outputs": [
    {
     "data": {
      "text/plain": [
       "[4, 9, 25, 49, 121]"
      ]
     },
     "execution_count": 105,
     "metadata": {},
     "output_type": "execute_result"
    }
   ],
   "source": [
    "result"
   ]
  },
  {
   "cell_type": "code",
   "execution_count": 106,
   "metadata": {},
   "outputs": [
    {
     "data": {
      "text/plain": [
       "[4, 9, 25, 49, 121]"
      ]
     },
     "execution_count": 106,
     "metadata": {},
     "output_type": "execute_result"
    }
   ],
   "source": [
    "# Map realiza la función en una lista de elementos\n",
    "\n",
    "list(map(square, list_of_numbers))"
   ]
  },
  {
   "cell_type": "markdown",
   "metadata": {},
   "source": [
    "# Quick Exercises 4"
   ]
  },
  {
   "cell_type": "markdown",
   "metadata": {},
   "source": [
    "For a sequence [1, 2, 3, 4, 5, 6, 7, 8 ] get the squared values using the lambda function."
   ]
  },
  {
   "cell_type": "code",
   "execution_count": 108,
   "metadata": {},
   "outputs": [
    {
     "data": {
      "text/plain": [
       "[1, 4, 9, 16, 25, 36, 49, 64]"
      ]
     },
     "execution_count": 108,
     "metadata": {},
     "output_type": "execute_result"
    }
   ],
   "source": [
    "list_Ex = [1,2,3,4,5,6,7,8]\n",
    "\n",
    "list(map(lambda x: x ** 2, list_Ex))"
   ]
  },
  {
   "cell_type": "markdown",
   "metadata": {},
   "source": [
    "Prepare a list with 10 names. Make a code that will put all vowels to capitals and every other character to lower letters."
   ]
  },
  {
   "cell_type": "code",
   "execution_count": 136,
   "metadata": {},
   "outputs": [],
   "source": [
    "list_names = ['ana','pedro','juan','eduardo','alberto','ricardo']\n",
    "\n",
    "list_names_new=[]\n",
    "\n",
    "for name in list_names:\n",
    "    \n",
    "    new_name=''\n",
    "    for char in name:\n",
    "        \n",
    "        if char in 'aeiou':\n",
    "            new_char = char.upper()\n",
    "            new_name = new_name + new_char\n",
    "            \n",
    "        else:\n",
    "            new_char =char.lower()\n",
    "            new_name = new_name + new_char\n",
    "        \n",
    "    list_names_new.append(new_name)"
   ]
  },
  {
   "cell_type": "code",
   "execution_count": 135,
   "metadata": {},
   "outputs": [
    {
     "data": {
      "text/plain": [
       "['AnA', 'pEdrO', 'jUAn', 'EdUArdO', 'AlbErtO', 'rIcArdO']"
      ]
     },
     "execution_count": 135,
     "metadata": {},
     "output_type": "execute_result"
    }
   ],
   "source": [
    "list_names_new"
   ]
  },
  {
   "cell_type": "markdown",
   "metadata": {},
   "source": [
    "Prepare again a list with 10 names. Make a function with two input variables: list, and character; that returns a list of names containing one or more of input characters ’s inside the name.  \n"
   ]
  },
  {
   "cell_type": "code",
   "execution_count": 150,
   "metadata": {},
   "outputs": [],
   "source": [
    "list_names = ['ana','pedro','juan','eduardo','alberto','ricardo']\n",
    "\n",
    "new_list = []\n",
    "\n",
    "def eval_char(lista,char):\n",
    "    for name in lista:\n",
    "        if char in name:\n",
    "            new_list.append(name)\n",
    "    return new_list    \n",
    "            \n",
    "    "
   ]
  },
  {
   "cell_type": "code",
   "execution_count": 151,
   "metadata": {},
   "outputs": [
    {
     "data": {
      "text/plain": [
       "['ana', 'juan', 'eduardo', 'alberto', 'ricardo']"
      ]
     },
     "execution_count": 151,
     "metadata": {},
     "output_type": "execute_result"
    }
   ],
   "source": [
    "eval_char(list_names,'a')"
   ]
  },
  {
   "cell_type": "markdown",
   "metadata": {},
   "source": [
    "Reverse word order from the input string "
   ]
  },
  {
   "cell_type": "code",
   "execution_count": 169,
   "metadata": {},
   "outputs": [],
   "source": [
    "list_names = ['ana','pedro','juan','eduardo','alberto','ricardo']\n",
    "\n",
    "new_list = []\n",
    "\n",
    "def eval_char(lista):\n",
    "    for name in lista:\n",
    "        name = name[::-1]\n",
    "        new_list.append(name)\n",
    "    return new_list  "
   ]
  },
  {
   "cell_type": "code",
   "execution_count": 170,
   "metadata": {},
   "outputs": [
    {
     "data": {
      "text/plain": [
       "['ana', 'ordep', 'nauj', 'odraude', 'otrebla', 'odracir']"
      ]
     },
     "execution_count": 170,
     "metadata": {},
     "output_type": "execute_result"
    }
   ],
   "source": [
    "eval_char(list_names)"
   ]
  }
 ],
 "metadata": {
  "kernelspec": {
   "display_name": "Python 3",
   "language": "python",
   "name": "python3"
  },
  "language_info": {
   "codemirror_mode": {
    "name": "ipython",
    "version": 3
   },
   "file_extension": ".py",
   "mimetype": "text/x-python",
   "name": "python",
   "nbconvert_exporter": "python",
   "pygments_lexer": "ipython3",
   "version": "3.6.4"
  }
 },
 "nbformat": 4,
 "nbformat_minor": 2
}
