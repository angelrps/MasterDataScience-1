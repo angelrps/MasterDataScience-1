{
 "cells": [
  {
   "cell_type": "markdown",
   "metadata": {},
   "source": [
    "# ENUMERATE"
   ]
  },
  {
   "cell_type": "code",
   "execution_count": 2,
   "metadata": {},
   "outputs": [
    {
     "name": "stdout",
     "output_type": "stream",
     "text": [
      "(0, 'Mercury')\n",
      "(1, 'Venus')\n",
      "(2, 'Earth')\n",
      "(3, 'Mars')\n"
     ]
    }
   ],
   "source": [
    "rocky_planets = ('Mercury','Venus','Earth','Mars')\n",
    "\n",
    "for element in enumerate(rocky_planets):\n",
    "    print(element)"
   ]
  },
  {
   "cell_type": "code",
   "execution_count": 5,
   "metadata": {},
   "outputs": [
    {
     "name": "stdout",
     "output_type": "stream",
     "text": [
      "Sol 1 is also known as Mercury\n",
      "Sol 2 is also known as Venus\n",
      "Sol 3 is also known as Earth\n",
      "Sol 4 is also known as Mars\n"
     ]
    }
   ],
   "source": [
    "rocky_planets = ('Mercury','Venus','Earth','Mars')\n",
    "\n",
    "for element in enumerate(rocky_planets):\n",
    "   print('Sol %s is also known as %s' % (element[0] + 1,element[1]))"
   ]
  },
  {
   "cell_type": "code",
   "execution_count": 7,
   "metadata": {},
   "outputs": [
    {
     "name": "stdout",
     "output_type": "stream",
     "text": [
      "Sol 1 is also known as Mercury\n",
      "Sol 2 is also known as Venus\n",
      "Sol 3 is also known as Earth\n",
      "Sol 4 is also known as Mars\n"
     ]
    }
   ],
   "source": [
    "# less pythonic\n",
    "\n",
    "rocky_planets = ('Mercury','Venus','Earth','Mars')\n",
    "\n",
    "for index in range(len(rocky_planets)):\n",
    "   print('Sol %s is also known as %s' % (index + 1,rocky_planets[index]))"
   ]
  },
  {
   "cell_type": "markdown",
   "metadata": {},
   "source": [
    "# ZIP\n",
    "\n",
    "### Mezcla elementos de n listas de m elementos\n",
    "\n",
    "No tienen porque tener el mismo tamaño. Para de mezclar en la lista de menor tamaño"
   ]
  },
  {
   "cell_type": "code",
   "execution_count": 10,
   "metadata": {},
   "outputs": [],
   "source": [
    "# number of moons\n",
    "\n",
    "moons = [0,0,1,2]"
   ]
  },
  {
   "cell_type": "code",
   "execution_count": 11,
   "metadata": {},
   "outputs": [
    {
     "data": {
      "text/plain": [
       "[('Mercury', 0), ('Venus', 0), ('Earth', 1), ('Mars', 2)]"
      ]
     },
     "execution_count": 11,
     "metadata": {},
     "output_type": "execute_result"
    }
   ],
   "source": [
    "list(zip(rocky_planets,moons))"
   ]
  },
  {
   "cell_type": "code",
   "execution_count": 12,
   "metadata": {},
   "outputs": [
    {
     "name": "stdout",
     "output_type": "stream",
     "text": [
      "Planet Mercury has 0 moons\n",
      "Planet Venus has 0 moons\n",
      "Planet Earth has 1 moons\n",
      "Planet Mars has 2 moons\n"
     ]
    }
   ],
   "source": [
    "for planet, n in zip(rocky_planets,moons):\n",
    "    print('Planet %s has %d moons' % (planet,n))"
   ]
  },
  {
   "cell_type": "markdown",
   "metadata": {},
   "source": [
    "# SETS\n",
    "\n",
    "### Conjunto de valores únicos dentro de una estrcutura de datos cuyo ordenamiento no se puede garantizar\n",
    "\n",
    "Comprobar membresía..."
   ]
  },
  {
   "cell_type": "code",
   "execution_count": 16,
   "metadata": {},
   "outputs": [],
   "source": [
    "my_set = {1,2,3,4,3,4,3,3,2,1,5}"
   ]
  },
  {
   "cell_type": "code",
   "execution_count": 17,
   "metadata": {},
   "outputs": [
    {
     "data": {
      "text/plain": [
       "{1, 2, 3, 4, 5}"
      ]
     },
     "execution_count": 17,
     "metadata": {},
     "output_type": "execute_result"
    }
   ],
   "source": [
    "my_set"
   ]
  },
  {
   "cell_type": "markdown",
   "metadata": {},
   "source": [
    "# COMPREHENSIONS"
   ]
  },
  {
   "cell_type": "markdown",
   "metadata": {},
   "source": [
    "[expr for var in collection]\n",
    "\n",
    "Forma rápida de hacer un map"
   ]
  },
  {
   "cell_type": "code",
   "execution_count": 19,
   "metadata": {},
   "outputs": [
    {
     "data": {
      "text/plain": [
       "[0, 1, 8, 27, 64]"
      ]
     },
     "execution_count": 19,
     "metadata": {},
     "output_type": "execute_result"
    }
   ],
   "source": [
    "[n**3 for n in range(5)]"
   ]
  },
  {
   "cell_type": "code",
   "execution_count": 21,
   "metadata": {},
   "outputs": [
    {
     "data": {
      "text/plain": [
       "[0, 8, 64, 216, 512]"
      ]
     },
     "execution_count": 21,
     "metadata": {},
     "output_type": "execute_result"
    }
   ],
   "source": [
    "[n**3 for n in range(10) if n % 2 == 0]"
   ]
  },
  {
   "cell_type": "code",
   "execution_count": 36,
   "metadata": {},
   "outputs": [],
   "source": [
    "points_3D = [(0,4,3),(0,4,1),(2,7,1)]"
   ]
  },
  {
   "cell_type": "code",
   "execution_count": 37,
   "metadata": {},
   "outputs": [
    {
     "data": {
      "text/plain": [
       "[5.0, 4.123105625617661, 7.3484692283495345]"
      ]
     },
     "execution_count": 37,
     "metadata": {},
     "output_type": "execute_result"
    }
   ],
   "source": [
    "[(x**2+y**2+z**2)**0.5 for x,y,z in points_3D]"
   ]
  },
  {
   "cell_type": "code",
   "execution_count": 38,
   "metadata": {},
   "outputs": [
    {
     "data": {
      "text/plain": [
       "[0, 16, 9, 0, 16, 1, 4, 49, 1]"
      ]
     },
     "execution_count": 38,
     "metadata": {},
     "output_type": "execute_result"
    }
   ],
   "source": [
    "[coordinate**2 for point in points_3D for coordinate in point]"
   ]
  },
  {
   "cell_type": "code",
   "execution_count": null,
   "metadata": {},
   "outputs": [],
   "source": []
  }
 ],
 "metadata": {
  "kernelspec": {
   "display_name": "Python 3",
   "language": "python",
   "name": "python3"
  },
  "language_info": {
   "codemirror_mode": {
    "name": "ipython",
    "version": 3
   },
   "file_extension": ".py",
   "mimetype": "text/x-python",
   "name": "python",
   "nbconvert_exporter": "python",
   "pygments_lexer": "ipython3",
   "version": "3.6.4"
  }
 },
 "nbformat": 4,
 "nbformat_minor": 2
}
