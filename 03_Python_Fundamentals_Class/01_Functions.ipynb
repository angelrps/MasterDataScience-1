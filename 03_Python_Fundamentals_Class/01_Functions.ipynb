{
 "cells": [
  {
   "cell_type": "markdown",
   "metadata": {},
   "source": [
    "# Functions"
   ]
  },
  {
   "cell_type": "markdown",
   "metadata": {},
   "source": [
    "### Exercises"
   ]
  },
  {
   "cell_type": "markdown",
   "metadata": {},
   "source": [
    "#### 1. Implement a function that takes as input three variables, and returns the largest of the three.  Do this without using the Python max() function! Make one version without any local variable and another with one local variable. (hint: it might be easier to use edit)"
   ]
  },
  {
   "cell_type": "code",
   "execution_count": 1,
   "metadata": {},
   "outputs": [],
   "source": [
    "def max_number(a,b,c):\n",
    "    \n",
    "    '''Function that takes as input three variables, and returns \n",
    "    the largest of the three.  Do this without using the Python max() \n",
    "    function! Make one version without any localvariable and another\n",
    "    with one local variable. (hint: it might be easier to use edit)'''\n",
    "    \n",
    "    if a > b and a > c:\n",
    "        return '%s is higher than %s and %s' % (a,b,c)\n",
    "    elif b > c:\n",
    "        return '%s is higher than %s and %s' % (b,a,c)\n",
    "    else:\n",
    "        return '%s is higher than %s and %s' % (c,a,b)\n",
    "    "
   ]
  },
  {
   "cell_type": "code",
   "execution_count": 2,
   "metadata": {},
   "outputs": [
    {
     "data": {
      "text/plain": [
       "'3 is higher than 1 and 2'"
      ]
     },
     "execution_count": 2,
     "metadata": {},
     "output_type": "execute_result"
    }
   ],
   "source": [
    "max_number(1,2,3)"
   ]
  },
  {
   "cell_type": "code",
   "execution_count": 3,
   "metadata": {},
   "outputs": [
    {
     "data": {
      "text/plain": [
       "'4 is higher than 1 and 3'"
      ]
     },
     "execution_count": 3,
     "metadata": {},
     "output_type": "execute_result"
    }
   ],
   "source": [
    "max_number(1,4,3)"
   ]
  },
  {
   "cell_type": "code",
   "execution_count": 4,
   "metadata": {},
   "outputs": [
    {
     "data": {
      "text/plain": [
       "'6 is higher than 4 and 3'"
      ]
     },
     "execution_count": 4,
     "metadata": {},
     "output_type": "execute_result"
    }
   ],
   "source": [
    "max_number(6,4,3)"
   ]
  },
  {
   "cell_type": "markdown",
   "metadata": {},
   "source": [
    "#### 2. Write a function “centenario” that will take Name, and year of birth  as inputs, check if year of birth is int and cast it to int if not, and print name together with the text explaining when the person is to have 100 years (hint: use isinstance)\n",
    "\n",
    "call to function: \tcentenario('Antonio', 1967)\n",
    "output: \tAntonio will reach 100 years in 2067.\n"
   ]
  },
  {
   "cell_type": "code",
   "execution_count": 5,
   "metadata": {},
   "outputs": [],
   "source": [
    "def centenario(name,year):\n",
    "    \n",
    "    '''Function “centenario” that will take Name, and year of birth  as inputs, \n",
    "    check if year of birth is int and cast it to int if not, and print name together \n",
    "    with the text explaining when the person is to have 100 years (hint: use isinstance)'''\n",
    "    \n",
    "    return '%s will reach 100 years in %s' % (name, year + 100)\n",
    "    "
   ]
  },
  {
   "cell_type": "code",
   "execution_count": 6,
   "metadata": {},
   "outputs": [
    {
     "data": {
      "text/plain": [
       "'Antonio will reach 100 years in 2067'"
      ]
     },
     "execution_count": 6,
     "metadata": {},
     "output_type": "execute_result"
    }
   ],
   "source": [
    "centenario('Antonio',1967)"
   ]
  },
  {
   "cell_type": "markdown",
   "metadata": {},
   "source": [
    "#### 3. Write a function to calculate the number of words, number of lines, and length of a string the same way the wc command does in the command line"
   ]
  },
  {
   "cell_type": "code",
   "execution_count": 7,
   "metadata": {},
   "outputs": [],
   "source": [
    "def wc_py(string):\n",
    "    \n",
    "    '''Function to calculate the number of words, number of lines, and length\n",
    "    of a string the same way the wc command does in the command line'''\n",
    "    \n",
    "    words = string.split()\n",
    "    lines = string.split(sep='\\n')\n",
    "    \n",
    "    return 'Words:',len(words),'Lines:', len(lines),'Length:', len(string)"
   ]
  },
  {
   "cell_type": "code",
   "execution_count": 8,
   "metadata": {},
   "outputs": [
    {
     "data": {
      "text/plain": [
       "('Words:', 9, 'Lines:', 2, 'Length:', 42)"
      ]
     },
     "execution_count": 8,
     "metadata": {},
     "output_type": "execute_result"
    }
   ],
   "source": [
    "test_str = '''En un lugar de la Mancha\n",
    "de cuyo nombre...'''\n",
    "\n",
    "wc_py(test_str)"
   ]
  },
  {
   "cell_type": "markdown",
   "metadata": {},
   "source": [
    "#### 4. Write a Python program to remove the nth index character from a string. If the input string is empty print warning."
   ]
  },
  {
   "cell_type": "code",
   "execution_count": 9,
   "metadata": {},
   "outputs": [],
   "source": [
    "def remove_n_char(string,num):\n",
    "    \n",
    "    '''Python program to remove the nth index character \n",
    "    from a string. If the input string is empty print warning.'''\n",
    "    \n",
    "    if len(string) == 0:\n",
    "        return 'Warning'\n",
    "    else:\n",
    "        return string[:num] + string[num+1:]"
   ]
  },
  {
   "cell_type": "code",
   "execution_count": 10,
   "metadata": {},
   "outputs": [],
   "source": [
    "test = 'Hello World'\n",
    "test_empty = ''"
   ]
  },
  {
   "cell_type": "code",
   "execution_count": 11,
   "metadata": {},
   "outputs": [
    {
     "data": {
      "text/plain": [
       "'Hllo World'"
      ]
     },
     "execution_count": 11,
     "metadata": {},
     "output_type": "execute_result"
    }
   ],
   "source": [
    "remove_n_char(test,1)"
   ]
  },
  {
   "cell_type": "code",
   "execution_count": 12,
   "metadata": {},
   "outputs": [
    {
     "data": {
      "text/plain": [
       "'Warning'"
      ]
     },
     "execution_count": 12,
     "metadata": {},
     "output_type": "execute_result"
    }
   ],
   "source": [
    "remove_n_char(test_empty,3)"
   ]
  }
 ],
 "metadata": {
  "kernelspec": {
   "display_name": "Python 3",
   "language": "python",
   "name": "python3"
  },
  "language_info": {
   "codemirror_mode": {
    "name": "ipython",
    "version": 3
   },
   "file_extension": ".py",
   "mimetype": "text/x-python",
   "name": "python",
   "nbconvert_exporter": "python",
   "pygments_lexer": "ipython3",
   "version": "3.6.4"
  }
 },
 "nbformat": 4,
 "nbformat_minor": 2
}
