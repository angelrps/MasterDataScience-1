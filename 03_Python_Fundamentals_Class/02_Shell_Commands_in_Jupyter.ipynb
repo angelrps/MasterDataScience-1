{
 "cells": [
  {
   "cell_type": "markdown",
   "metadata": {},
   "source": [
    "# Shell Commands in Jupyter"
   ]
  },
  {
   "cell_type": "markdown",
   "metadata": {},
   "source": [
    "### Exercises"
   ]
  },
  {
   "cell_type": "markdown",
   "metadata": {},
   "source": [
    "#### 1. While inside python, go to ~/Data/opentraveldata/ and list the files. Repeat the same for   /home/dsc/Data/us_dot/otp and ~/Data/us_dot/traffic/. \n",
    "         Use the list of visited directories from dhist and write for loop which will return for each visited directory its name and number of files inside."
   ]
  },
  {
   "cell_type": "code",
   "execution_count": 1,
   "metadata": {},
   "outputs": [
    {
     "name": "stdout",
     "output_type": "stream",
     "text": [
      "/home/dsc/Data/opentraveldata\n"
     ]
    }
   ],
   "source": [
    "% cd ~/Data/opentraveldata/"
   ]
  },
  {
   "cell_type": "code",
   "execution_count": 2,
   "metadata": {},
   "outputs": [
    {
     "name": "stdout",
     "output_type": "stream",
     "text": [
      "/home/dsc/Data/us_dot/otp\n"
     ]
    }
   ],
   "source": [
    "% cd /home/dsc/Data/us_dot/otp "
   ]
  },
  {
   "cell_type": "code",
   "execution_count": 3,
   "metadata": {},
   "outputs": [
    {
     "name": "stdout",
     "output_type": "stream",
     "text": [
      "/home/dsc/Data/us_dot/traffic\n"
     ]
    }
   ],
   "source": [
    "% cd ~/Data/us_dot/traffic/"
   ]
  },
  {
   "cell_type": "code",
   "execution_count": 4,
   "metadata": {},
   "outputs": [
    {
     "data": {
      "text/plain": [
       "['/home/dsc/Repos/MasterDataScience/03_Python_Fundamentals_Class',\n",
       " '/home/dsc/Data/opentraveldata',\n",
       " '/home/dsc/Data/us_dot/otp',\n",
       " '/home/dsc/Data/us_dot/traffic']"
      ]
     },
     "execution_count": 4,
     "metadata": {},
     "output_type": "execute_result"
    }
   ],
   "source": [
    "_dh"
   ]
  },
  {
   "cell_type": "code",
   "execution_count": 5,
   "metadata": {},
   "outputs": [
    {
     "name": "stdout",
     "output_type": "stream",
     "text": [
      "Name: /home/dsc/Repos/MasterDataScience/03_Python_Fundamentals_Class \n",
      "Number of Files: ['8']\n",
      "Name: /home/dsc/Data/opentraveldata \n",
      "Number of Files: ['7']\n",
      "Name: /home/dsc/Data/us_dot/otp \n",
      "Number of Files: ['8']\n",
      "Name: /home/dsc/Data/us_dot/traffic \n",
      "Number of Files: ['2']\n"
     ]
    }
   ],
   "source": [
    "for path in _dh:\n",
    "    number= ! ls -l {path} | tail -n +2 | wc -l\n",
    "    print('Name: %s \\nNumber of Files: %s' % (path,number))"
   ]
  },
  {
   "cell_type": "markdown",
   "metadata": {},
   "source": [
    "#### 2. Write a function that will take text file and pattern as input parameters, and return the number of occurances of case insensitive pattern inside a text (similar to: grep -i –o pattern file | wc -l)"
   ]
  },
  {
   "cell_type": "code",
   "execution_count": 6,
   "metadata": {},
   "outputs": [
    {
     "name": "stdout",
     "output_type": "stream",
     "text": [
      "/home/dsc/Repos/MasterDataScience/03_Python_Fundamentals_Class\n"
     ]
    }
   ],
   "source": [
    "% cd /home/dsc/Repos/MasterDataScience/03_Python_Fundamentals_Class/"
   ]
  },
  {
   "cell_type": "code",
   "execution_count": 7,
   "metadata": {},
   "outputs": [],
   "source": [
    "def pattern(name,patt):\n",
    "    \n",
    "    '''Function that will take text file and pattern \n",
    "    as input parameters, and return the number of \n",
    "    occurances of case insensitive pattern inside a \n",
    "    text (similar to: grep -i –o pattern file | wc -l)'''\n",
    "    \n",
    "    occurrences = ! less {name} | grep -i -o {patt} | wc -l\n",
    "    return occurrences"
   ]
  },
  {
   "cell_type": "code",
   "execution_count": 8,
   "metadata": {},
   "outputs": [
    {
     "data": {
      "text/plain": [
       "['1']"
      ]
     },
     "execution_count": 8,
     "metadata": {},
     "output_type": "execute_result"
    }
   ],
   "source": [
    "pattern('Finn.txt','Civilizing')"
   ]
  },
  {
   "cell_type": "code",
   "execution_count": 9,
   "metadata": {},
   "outputs": [
    {
     "data": {
      "text/plain": [
       "['28636']"
      ]
     },
     "execution_count": 9,
     "metadata": {},
     "output_type": "execute_result"
    }
   ],
   "source": [
    "pattern('Finn.txt','I')"
   ]
  },
  {
   "cell_type": "markdown",
   "metadata": {},
   "source": [
    "#### 3. Open Finn.txt  file, read lines into a list.  Remove trailing white spaces from each line . Write the resulting list to the new file. How many lines does the new file have?  (hint: empty list is made with [ ] ) "
   ]
  },
  {
   "cell_type": "code",
   "execution_count": 10,
   "metadata": {},
   "outputs": [],
   "source": [
    "book = open('Finn.txt','r')"
   ]
  },
  {
   "cell_type": "code",
   "execution_count": 11,
   "metadata": {},
   "outputs": [
    {
     "data": {
      "text/plain": [
       "['\\ufeff\\n',\n",
       " 'The Project Gutenberg EBook of Adventures of Huckleberry Finn, Complete\\n',\n",
       " 'by Mark Twain (Samuel Clemens)\\n',\n",
       " '\\n',\n",
       " 'This eBook is for the use of anyone anywhere at no cost and with almost\\n',\n",
       " 'no restrictions whatsoever. You may copy it, give it away or re-use\\n',\n",
       " 'it under the terms of the Project Gutenberg License included with this\\n',\n",
       " 'eBook or online at www.gutenberg.net\\n',\n",
       " '\\n',\n",
       " 'Title: Adventures of Huckleberry Finn, Complete\\n']"
      ]
     },
     "execution_count": 11,
     "metadata": {},
     "output_type": "execute_result"
    }
   ],
   "source": [
    "list_lines = book.readlines()\n",
    "list_lines[:10]"
   ]
  },
  {
   "cell_type": "code",
   "execution_count": 12,
   "metadata": {},
   "outputs": [],
   "source": [
    "clean_lines = []"
   ]
  },
  {
   "cell_type": "code",
   "execution_count": 13,
   "metadata": {},
   "outputs": [],
   "source": [
    "for line in list_lines:\n",
    "    new_line = line.strip()\n",
    "    clean_lines.append(new_line)"
   ]
  },
  {
   "cell_type": "code",
   "execution_count": 14,
   "metadata": {},
   "outputs": [
    {
     "data": {
      "text/plain": [
       "['\\ufeff',\n",
       " 'The Project Gutenberg EBook of Adventures of Huckleberry Finn, Complete',\n",
       " 'by Mark Twain (Samuel Clemens)',\n",
       " '',\n",
       " 'This eBook is for the use of anyone anywhere at no cost and with almost',\n",
       " 'no restrictions whatsoever. You may copy it, give it away or re-use',\n",
       " 'it under the terms of the Project Gutenberg License included with this',\n",
       " 'eBook or online at www.gutenberg.net',\n",
       " '',\n",
       " 'Title: Adventures of Huckleberry Finn, Complete']"
      ]
     },
     "execution_count": 14,
     "metadata": {},
     "output_type": "execute_result"
    }
   ],
   "source": [
    "clean_lines[:10]"
   ]
  },
  {
   "cell_type": "code",
   "execution_count": 15,
   "metadata": {},
   "outputs": [],
   "source": [
    "# Create a newfile.txt and save clean_lines inside\n",
    "\n",
    "nf = open('newfile.txt', 'w')\n",
    "nf.writelines(clean_lines)\n",
    "nf.close()"
   ]
  },
  {
   "cell_type": "code",
   "execution_count": 16,
   "metadata": {},
   "outputs": [
    {
     "name": "stdout",
     "output_type": "stream",
     "text": [
      "  12325  114217  616320\n"
     ]
    }
   ],
   "source": [
    "! cat Finn.txt | wc"
   ]
  },
  {
   "cell_type": "code",
   "execution_count": 17,
   "metadata": {},
   "outputs": [
    {
     "name": "stdout",
     "output_type": "stream",
     "text": [
      "      0  104561  591353\n"
     ]
    }
   ],
   "source": [
    "! cat newfile.txt | wc"
   ]
  },
  {
   "cell_type": "markdown",
   "metadata": {},
   "source": [
    "#### 4. Open Finn.txt  file, read lines into a list. Create a new version of Finn_nbl.txt with no blank lines."
   ]
  },
  {
   "cell_type": "code",
   "execution_count": 18,
   "metadata": {},
   "outputs": [],
   "source": [
    "nf = open('newfile.txt','w')\n",
    "\n",
    "for line in clean_lines:\n",
    "    if line:\n",
    "        nf.write(line + '\\n')"
   ]
  },
  {
   "cell_type": "markdown",
   "metadata": {},
   "source": [
    "#### 5. Reset the workspace. Obtain the difference in number of lines between original Finn file and and the one without blank lines  and print the result. (hint: use wc)"
   ]
  },
  {
   "cell_type": "code",
   "execution_count": 19,
   "metadata": {},
   "outputs": [
    {
     "name": "stdout",
     "output_type": "stream",
     "text": [
      "12325 Finn.txt\n"
     ]
    }
   ],
   "source": [
    "! wc -l Finn.txt"
   ]
  },
  {
   "cell_type": "code",
   "execution_count": 20,
   "metadata": {},
   "outputs": [
    {
     "name": "stdout",
     "output_type": "stream",
     "text": [
      "9644 newfile.txt\n"
     ]
    }
   ],
   "source": [
    "! wc -l newfile.txt"
   ]
  }
 ],
 "metadata": {
  "kernelspec": {
   "display_name": "Python 3",
   "language": "python",
   "name": "python3"
  },
  "language_info": {
   "codemirror_mode": {
    "name": "ipython",
    "version": 3
   },
   "file_extension": ".py",
   "mimetype": "text/x-python",
   "name": "python",
   "nbconvert_exporter": "python",
   "pygments_lexer": "ipython3",
   "version": "3.6.4"
  }
 },
 "nbformat": 4,
 "nbformat_minor": 2
}
