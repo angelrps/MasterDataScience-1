{
 "cells": [
  {
   "cell_type": "markdown",
   "metadata": {},
   "source": [
    "A practical introduction to Pandas\n",
    "==================="
   ]
  },
  {
   "cell_type": "markdown",
   "metadata": {},
   "source": [
    "We have been asked to *analyze an otp dataset*, without much more information. This kind of scenario is more common than you might imagine!\n",
    "\n",
    "## 1) Quickly examine the files in ~/Data/us_dot/otp. What do they contain, in both technical and functional terms? (Use any tool you want)"
   ]
  },
  {
   "cell_type": "code",
   "execution_count": 1,
   "metadata": {},
   "outputs": [],
   "source": [
    "path = '~/Data/us_dot/otp'"
   ]
  },
  {
   "cell_type": "code",
   "execution_count": 2,
   "metadata": {},
   "outputs": [
    {
     "name": "stdout",
     "output_type": "stream",
     "text": [
      "On_Time_On_Time_Performance_2015_1.zip\tOn_Time_On_Time_Performance_2015_5.zip\n",
      "On_Time_On_Time_Performance_2015_2.zip\tOn_Time_On_Time_Performance_2015_6.zip\n",
      "On_Time_On_Time_Performance_2015_3.zip\tOn_Time_On_Time_Performance_2015_7.zip\n",
      "On_Time_On_Time_Performance_2015_4.zip\tOn_Time_On_Time_Performance_2015_8.zip\n"
     ]
    }
   ],
   "source": [
    "! ls {path}"
   ]
  },
  {
   "cell_type": "markdown",
   "metadata": {},
   "source": [
    "For this example, we are going to begin using the shell from within this notebook, with the ! notation:\n",
    "\n",
    "A ! sign before a line tells the notebook to send that line straight away to the underlying OS. \n",
    "\n",
    "\\* Note that we can substitute python variables into the shell command. We do that by surrounding the name of the variable with curly braces ({}). That's what we are going to do with the `path_to_files` variable"
   ]
  },
  {
   "cell_type": "markdown",
   "metadata": {},
   "source": [
    "### Check what the files contain"
   ]
  },
  {
   "cell_type": "code",
   "execution_count": 3,
   "metadata": {},
   "outputs": [],
   "source": [
    "files = !ls {path}"
   ]
  },
  {
   "cell_type": "code",
   "execution_count": 4,
   "metadata": {},
   "outputs": [
    {
     "data": {
      "text/plain": [
       "['On_Time_On_Time_Performance_2015_2.zip',\n",
       " 'On_Time_On_Time_Performance_2015_3.zip',\n",
       " 'On_Time_On_Time_Performance_2015_4.zip']"
      ]
     },
     "execution_count": 4,
     "metadata": {},
     "output_type": "execute_result"
    }
   ],
   "source": [
    "files[1:4]"
   ]
  },
  {
   "cell_type": "code",
   "execution_count": 5,
   "metadata": {},
   "outputs": [
    {
     "name": "stdout",
     "output_type": "stream",
     "text": [
      "-rwxr-x--- 1 dsc dsc 25M mar 13  2018 /home/dsc/Data/us_dot/otp/On_Time_On_Time_Performance_2015_8.zip\n"
     ]
    }
   ],
   "source": [
    "! ls -lh {path + '/'+ files[-1]}"
   ]
  },
  {
   "cell_type": "code",
   "execution_count": 6,
   "metadata": {},
   "outputs": [
    {
     "name": "stdout",
     "output_type": "stream",
     "text": [
      "Archive:  /home/dsc/Data/us_dot/otp/On_Time_On_Time_Performance_2015_8.zip\n",
      "  Length      Date    Time    Name\n",
      "---------  ---------- -----   ----\n",
      "230183662  2015-10-05 15:33   On_Time_On_Time_Performance_2015_8.csv\n",
      "    12054  2015-10-05 15:33   readme.html\n",
      "---------                     -------\n",
      "230195716                     2 files\n"
     ]
    }
   ],
   "source": [
    "! unzip -l {path + '/'+ files[-1]}"
   ]
  },
  {
   "cell_type": "markdown",
   "metadata": {},
   "source": [
    "Oh, it has a readme! Always good to read it."
   ]
  },
  {
   "cell_type": "markdown",
   "metadata": {},
   "source": [
    "### Unzip the readme to the current directory\n",
    "\n",
    "Use the shell\n",
    "\n",
    "Remember, since the zip file contains several compressed files, we need to specify which one we want."
   ]
  },
  {
   "cell_type": "code",
   "execution_count": 7,
   "metadata": {},
   "outputs": [
    {
     "name": "stdout",
     "output_type": "stream",
     "text": [
      "Archive:  /home/dsc/Data/us_dot/otp/On_Time_On_Time_Performance_2015_8.zip\n",
      "  inflating: readme.html             \n"
     ]
    }
   ],
   "source": [
    "! unzip -o {path + '/'+ files[-1]} readme.html"
   ]
  },
  {
   "cell_type": "markdown",
   "metadata": {},
   "source": [
    "### Take a look at the beginning of the readme file\n",
    "\n",
    "using the shell"
   ]
  },
  {
   "cell_type": "code",
   "execution_count": 8,
   "metadata": {},
   "outputs": [
    {
     "name": "stdout",
     "output_type": "stream",
     "text": [
      "<HTML>\n",
      "<HEAD>\n",
      "\t<TITLE> readme.html </TITLE>\n",
      "</HEAD>\n",
      "<BODY>\n",
      "\t<TABLE><TR><TD COLSPAN=2><H4>BACKGROUND</H4></TD></TR>\n",
      "\t<TR><TD COLSPAN=2>The data contained in the compressed file has been extracted from the \n",
      "\tOn-Time Performance data table of the \"On-Time\" database from the TranStats data library. \n",
      "\tThe time period is indicated in the name of the compressed file; \n",
      "\tfor example, XXX_XXXXX_2001_1 contains data of the first month of the year 2001. </TD></TR>\n"
     ]
    }
   ],
   "source": [
    "! head -n 10 readme.html"
   ]
  },
  {
   "cell_type": "markdown",
   "metadata": {},
   "source": [
    "The readme file is html. Luckily, we are working in an html environment. \n",
    "\n",
    "### Display the contents of `readme.html` within the notebook\n",
    "(Hint: check out [IPython.display.IFrame](https://ipython.org/ipython-doc/3/api/generated/IPython.display.html))"
   ]
  },
  {
   "cell_type": "code",
   "execution_count": 9,
   "metadata": {},
   "outputs": [],
   "source": [
    "from IPython.display import IFrame"
   ]
  },
  {
   "cell_type": "code",
   "execution_count": 10,
   "metadata": {},
   "outputs": [],
   "source": [
    "from bs4 import BeautifulSoup"
   ]
  },
  {
   "cell_type": "code",
   "execution_count": 11,
   "metadata": {},
   "outputs": [
    {
     "data": {
      "text/html": [
       "\n",
       "        <iframe\n",
       "            width=\"800\"\n",
       "            height=\"600\"\n",
       "            src=\"https://elpais.com/\"\n",
       "            frameborder=\"0\"\n",
       "            allowfullscreen\n",
       "        ></iframe>\n",
       "        "
      ],
      "text/plain": [
       "<IPython.lib.display.IFrame at 0x7fe918ffaa20>"
      ]
     },
     "execution_count": 11,
     "metadata": {},
     "output_type": "execute_result"
    }
   ],
   "source": [
    "IFrame('https://elpais.com/',800,600 )"
   ]
  },
  {
   "cell_type": "code",
   "execution_count": 12,
   "metadata": {},
   "outputs": [
    {
     "data": {
      "text/html": [
       "\n",
       "        <iframe\n",
       "            width=\"800\"\n",
       "            height=\"600\"\n",
       "            src=\"readme.html\"\n",
       "            frameborder=\"0\"\n",
       "            allowfullscreen\n",
       "        ></iframe>\n",
       "        "
      ],
      "text/plain": [
       "<IPython.lib.display.IFrame at 0x7fe918156940>"
      ]
     },
     "execution_count": 12,
     "metadata": {},
     "output_type": "execute_result"
    }
   ],
   "source": [
    "IFrame('readme.html',800,600 )"
   ]
  },
  {
   "cell_type": "markdown",
   "metadata": {},
   "source": [
    "That's some very good documentation!\n",
    "\n",
    "### Summary: \n",
    "\n",
    "The files within the zip are \" quoted csv's. They contain information on timeliness of departures in the US, at the departure level."
   ]
  },
  {
   "cell_type": "code",
   "execution_count": 13,
   "metadata": {
    "scrolled": true
   },
   "outputs": [
    {
     "name": "stdout",
     "output_type": "stream",
     "text": [
      "Archive:  /home/dsc/Data/us_dot/otp/On_Time_On_Time_Performance_2015_8.zip\n",
      "  inflating: On_Time_On_Time_Performance_2015_8.csv  \n"
     ]
    }
   ],
   "source": [
    "! unzip -o {path + '/'+ files[-1]} On_Time_On_Time_Performance_2015_8.csv"
   ]
  },
  {
   "cell_type": "code",
   "execution_count": 14,
   "metadata": {},
   "outputs": [
    {
     "data": {
      "text/plain": [
       "'~/Data/us_dot/otp'"
      ]
     },
     "execution_count": 14,
     "metadata": {},
     "output_type": "execute_result"
    }
   ],
   "source": [
    "path"
   ]
  },
  {
   "cell_type": "code",
   "execution_count": 15,
   "metadata": {},
   "outputs": [
    {
     "data": {
      "text/plain": [
       "'On_Time_On_Time_Performance_2015_8.zip'"
      ]
     },
     "execution_count": 15,
     "metadata": {},
     "output_type": "execute_result"
    }
   ],
   "source": [
    "files[-1]"
   ]
  },
  {
   "cell_type": "markdown",
   "metadata": {},
   "source": [
    "Pretty unreadable, so we go for a tool designed specifically for tabular data: **pandas**"
   ]
  },
  {
   "cell_type": "markdown",
   "metadata": {},
   "source": [
    "### Load some of the data (one of the files) into memory as a pandas dataframe. What functions do you need to use?\n",
    "\n",
    "Pro tip: there is no need to decompress the whole file. Check out zipfile.ZipFile"
   ]
  },
  {
   "cell_type": "markdown",
   "metadata": {},
   "source": [
    "First, open a connection to one of the files"
   ]
  },
  {
   "cell_type": "code",
   "execution_count": 16,
   "metadata": {},
   "outputs": [],
   "source": [
    "import pandas as pd\n",
    "import numpy as np\n",
    "import matplotlib.pyplot as plt\n",
    "%matplotlib inline"
   ]
  },
  {
   "cell_type": "code",
   "execution_count": 17,
   "metadata": {},
   "outputs": [
    {
     "name": "stderr",
     "output_type": "stream",
     "text": [
      "/home/dsc/anaconda3/lib/python3.6/site-packages/IPython/core/interactiveshell.py:2728: DtypeWarning: Columns (48,77,84) have mixed types. Specify dtype option on import or set low_memory=False.\n",
      "  interactivity=interactivity, compiler=compiler, result=result)\n"
     ]
    },
    {
     "data": {
      "text/html": [
       "<div>\n",
       "<style scoped>\n",
       "    .dataframe tbody tr th:only-of-type {\n",
       "        vertical-align: middle;\n",
       "    }\n",
       "\n",
       "    .dataframe tbody tr th {\n",
       "        vertical-align: top;\n",
       "    }\n",
       "\n",
       "    .dataframe thead th {\n",
       "        text-align: right;\n",
       "    }\n",
       "</style>\n",
       "<table border=\"1\" class=\"dataframe\">\n",
       "  <thead>\n",
       "    <tr style=\"text-align: right;\">\n",
       "      <th></th>\n",
       "      <th>Year</th>\n",
       "      <th>Quarter</th>\n",
       "      <th>Month</th>\n",
       "      <th>DayofMonth</th>\n",
       "      <th>DayOfWeek</th>\n",
       "      <th>FlightDate</th>\n",
       "      <th>UniqueCarrier</th>\n",
       "      <th>AirlineID</th>\n",
       "      <th>Carrier</th>\n",
       "      <th>TailNum</th>\n",
       "      <th>...</th>\n",
       "      <th>Div4TailNum</th>\n",
       "      <th>Div5Airport</th>\n",
       "      <th>Div5AirportID</th>\n",
       "      <th>Div5AirportSeqID</th>\n",
       "      <th>Div5WheelsOn</th>\n",
       "      <th>Div5TotalGTime</th>\n",
       "      <th>Div5LongestGTime</th>\n",
       "      <th>Div5WheelsOff</th>\n",
       "      <th>Div5TailNum</th>\n",
       "      <th>Unnamed: 109</th>\n",
       "    </tr>\n",
       "  </thead>\n",
       "  <tbody>\n",
       "    <tr>\n",
       "      <th>0</th>\n",
       "      <td>2015</td>\n",
       "      <td>3</td>\n",
       "      <td>8</td>\n",
       "      <td>2</td>\n",
       "      <td>7</td>\n",
       "      <td>2015-08-02</td>\n",
       "      <td>AA</td>\n",
       "      <td>19805</td>\n",
       "      <td>AA</td>\n",
       "      <td>N790AA</td>\n",
       "      <td>...</td>\n",
       "      <td>NaN</td>\n",
       "      <td>NaN</td>\n",
       "      <td>NaN</td>\n",
       "      <td>NaN</td>\n",
       "      <td>NaN</td>\n",
       "      <td>NaN</td>\n",
       "      <td>NaN</td>\n",
       "      <td>NaN</td>\n",
       "      <td>NaN</td>\n",
       "      <td>NaN</td>\n",
       "    </tr>\n",
       "    <tr>\n",
       "      <th>1</th>\n",
       "      <td>2015</td>\n",
       "      <td>3</td>\n",
       "      <td>8</td>\n",
       "      <td>3</td>\n",
       "      <td>1</td>\n",
       "      <td>2015-08-03</td>\n",
       "      <td>AA</td>\n",
       "      <td>19805</td>\n",
       "      <td>AA</td>\n",
       "      <td>N784AA</td>\n",
       "      <td>...</td>\n",
       "      <td>NaN</td>\n",
       "      <td>NaN</td>\n",
       "      <td>NaN</td>\n",
       "      <td>NaN</td>\n",
       "      <td>NaN</td>\n",
       "      <td>NaN</td>\n",
       "      <td>NaN</td>\n",
       "      <td>NaN</td>\n",
       "      <td>NaN</td>\n",
       "      <td>NaN</td>\n",
       "    </tr>\n",
       "    <tr>\n",
       "      <th>2</th>\n",
       "      <td>2015</td>\n",
       "      <td>3</td>\n",
       "      <td>8</td>\n",
       "      <td>4</td>\n",
       "      <td>2</td>\n",
       "      <td>2015-08-04</td>\n",
       "      <td>AA</td>\n",
       "      <td>19805</td>\n",
       "      <td>AA</td>\n",
       "      <td>N793AA</td>\n",
       "      <td>...</td>\n",
       "      <td>NaN</td>\n",
       "      <td>NaN</td>\n",
       "      <td>NaN</td>\n",
       "      <td>NaN</td>\n",
       "      <td>NaN</td>\n",
       "      <td>NaN</td>\n",
       "      <td>NaN</td>\n",
       "      <td>NaN</td>\n",
       "      <td>NaN</td>\n",
       "      <td>NaN</td>\n",
       "    </tr>\n",
       "    <tr>\n",
       "      <th>3</th>\n",
       "      <td>2015</td>\n",
       "      <td>3</td>\n",
       "      <td>8</td>\n",
       "      <td>5</td>\n",
       "      <td>3</td>\n",
       "      <td>2015-08-05</td>\n",
       "      <td>AA</td>\n",
       "      <td>19805</td>\n",
       "      <td>AA</td>\n",
       "      <td>N787AA</td>\n",
       "      <td>...</td>\n",
       "      <td>NaN</td>\n",
       "      <td>NaN</td>\n",
       "      <td>NaN</td>\n",
       "      <td>NaN</td>\n",
       "      <td>NaN</td>\n",
       "      <td>NaN</td>\n",
       "      <td>NaN</td>\n",
       "      <td>NaN</td>\n",
       "      <td>NaN</td>\n",
       "      <td>NaN</td>\n",
       "    </tr>\n",
       "    <tr>\n",
       "      <th>4</th>\n",
       "      <td>2015</td>\n",
       "      <td>3</td>\n",
       "      <td>8</td>\n",
       "      <td>6</td>\n",
       "      <td>4</td>\n",
       "      <td>2015-08-06</td>\n",
       "      <td>AA</td>\n",
       "      <td>19805</td>\n",
       "      <td>AA</td>\n",
       "      <td>N790AA</td>\n",
       "      <td>...</td>\n",
       "      <td>NaN</td>\n",
       "      <td>NaN</td>\n",
       "      <td>NaN</td>\n",
       "      <td>NaN</td>\n",
       "      <td>NaN</td>\n",
       "      <td>NaN</td>\n",
       "      <td>NaN</td>\n",
       "      <td>NaN</td>\n",
       "      <td>NaN</td>\n",
       "      <td>NaN</td>\n",
       "    </tr>\n",
       "  </tbody>\n",
       "</table>\n",
       "<p>5 rows × 110 columns</p>\n",
       "</div>"
      ],
      "text/plain": [
       "   Year  Quarter  Month  DayofMonth  DayOfWeek  FlightDate UniqueCarrier  \\\n",
       "0  2015        3      8           2          7  2015-08-02            AA   \n",
       "1  2015        3      8           3          1  2015-08-03            AA   \n",
       "2  2015        3      8           4          2  2015-08-04            AA   \n",
       "3  2015        3      8           5          3  2015-08-05            AA   \n",
       "4  2015        3      8           6          4  2015-08-06            AA   \n",
       "\n",
       "   AirlineID Carrier TailNum      ...       Div4TailNum  Div5Airport  \\\n",
       "0      19805      AA  N790AA      ...               NaN          NaN   \n",
       "1      19805      AA  N784AA      ...               NaN          NaN   \n",
       "2      19805      AA  N793AA      ...               NaN          NaN   \n",
       "3      19805      AA  N787AA      ...               NaN          NaN   \n",
       "4      19805      AA  N790AA      ...               NaN          NaN   \n",
       "\n",
       "   Div5AirportID  Div5AirportSeqID Div5WheelsOn Div5TotalGTime  \\\n",
       "0            NaN               NaN          NaN            NaN   \n",
       "1            NaN               NaN          NaN            NaN   \n",
       "2            NaN               NaN          NaN            NaN   \n",
       "3            NaN               NaN          NaN            NaN   \n",
       "4            NaN               NaN          NaN            NaN   \n",
       "\n",
       "  Div5LongestGTime  Div5WheelsOff Div5TailNum  Unnamed: 109  \n",
       "0              NaN            NaN         NaN           NaN  \n",
       "1              NaN            NaN         NaN           NaN  \n",
       "2              NaN            NaN         NaN           NaN  \n",
       "3              NaN            NaN         NaN           NaN  \n",
       "4              NaN            NaN         NaN           NaN  \n",
       "\n",
       "[5 rows x 110 columns]"
      ]
     },
     "execution_count": 17,
     "metadata": {},
     "output_type": "execute_result"
    }
   ],
   "source": [
    "df = pd.read_csv('On_Time_On_Time_Performance_2015_8.csv')\n"
   ]
  },
  {
   "cell_type": "code",
   "execution_count": 20,
   "metadata": {},
   "outputs": [
    {
     "data": {
      "text/plain": [
       "20"
      ]
     },
     "execution_count": 20,
     "metadata": {},
     "output_type": "execute_result"
    }
   ],
   "source": [
    "pd.options.display.max_columns"
   ]
  },
  {
   "cell_type": "code",
   "execution_count": 21,
   "metadata": {},
   "outputs": [],
   "source": [
    "pd.options.display.max_columns=None"
   ]
  },
  {
   "cell_type": "code",
   "execution_count": 22,
   "metadata": {},
   "outputs": [
    {
     "data": {
      "text/html": [
       "<div>\n",
       "<style scoped>\n",
       "    .dataframe tbody tr th:only-of-type {\n",
       "        vertical-align: middle;\n",
       "    }\n",
       "\n",
       "    .dataframe tbody tr th {\n",
       "        vertical-align: top;\n",
       "    }\n",
       "\n",
       "    .dataframe thead th {\n",
       "        text-align: right;\n",
       "    }\n",
       "</style>\n",
       "<table border=\"1\" class=\"dataframe\">\n",
       "  <thead>\n",
       "    <tr style=\"text-align: right;\">\n",
       "      <th></th>\n",
       "      <th>Year</th>\n",
       "      <th>Quarter</th>\n",
       "      <th>Month</th>\n",
       "      <th>DayofMonth</th>\n",
       "      <th>DayOfWeek</th>\n",
       "      <th>FlightDate</th>\n",
       "      <th>UniqueCarrier</th>\n",
       "      <th>AirlineID</th>\n",
       "      <th>Carrier</th>\n",
       "      <th>TailNum</th>\n",
       "      <th>FlightNum</th>\n",
       "      <th>OriginAirportID</th>\n",
       "      <th>OriginAirportSeqID</th>\n",
       "      <th>OriginCityMarketID</th>\n",
       "      <th>Origin</th>\n",
       "      <th>OriginCityName</th>\n",
       "      <th>OriginState</th>\n",
       "      <th>OriginStateFips</th>\n",
       "      <th>OriginStateName</th>\n",
       "      <th>OriginWac</th>\n",
       "      <th>DestAirportID</th>\n",
       "      <th>DestAirportSeqID</th>\n",
       "      <th>DestCityMarketID</th>\n",
       "      <th>Dest</th>\n",
       "      <th>DestCityName</th>\n",
       "      <th>DestState</th>\n",
       "      <th>DestStateFips</th>\n",
       "      <th>DestStateName</th>\n",
       "      <th>DestWac</th>\n",
       "      <th>CRSDepTime</th>\n",
       "      <th>DepTime</th>\n",
       "      <th>DepDelay</th>\n",
       "      <th>DepDelayMinutes</th>\n",
       "      <th>DepDel15</th>\n",
       "      <th>DepartureDelayGroups</th>\n",
       "      <th>DepTimeBlk</th>\n",
       "      <th>TaxiOut</th>\n",
       "      <th>WheelsOff</th>\n",
       "      <th>WheelsOn</th>\n",
       "      <th>TaxiIn</th>\n",
       "      <th>CRSArrTime</th>\n",
       "      <th>ArrTime</th>\n",
       "      <th>ArrDelay</th>\n",
       "      <th>ArrDelayMinutes</th>\n",
       "      <th>ArrDel15</th>\n",
       "      <th>ArrivalDelayGroups</th>\n",
       "      <th>ArrTimeBlk</th>\n",
       "      <th>Cancelled</th>\n",
       "      <th>CancellationCode</th>\n",
       "      <th>Diverted</th>\n",
       "      <th>CRSElapsedTime</th>\n",
       "      <th>ActualElapsedTime</th>\n",
       "      <th>AirTime</th>\n",
       "      <th>Flights</th>\n",
       "      <th>Distance</th>\n",
       "      <th>DistanceGroup</th>\n",
       "      <th>CarrierDelay</th>\n",
       "      <th>WeatherDelay</th>\n",
       "      <th>NASDelay</th>\n",
       "      <th>SecurityDelay</th>\n",
       "      <th>LateAircraftDelay</th>\n",
       "      <th>FirstDepTime</th>\n",
       "      <th>TotalAddGTime</th>\n",
       "      <th>LongestAddGTime</th>\n",
       "      <th>DivAirportLandings</th>\n",
       "      <th>DivReachedDest</th>\n",
       "      <th>DivActualElapsedTime</th>\n",
       "      <th>DivArrDelay</th>\n",
       "      <th>DivDistance</th>\n",
       "      <th>Div1Airport</th>\n",
       "      <th>Div1AirportID</th>\n",
       "      <th>Div1AirportSeqID</th>\n",
       "      <th>Div1WheelsOn</th>\n",
       "      <th>Div1TotalGTime</th>\n",
       "      <th>Div1LongestGTime</th>\n",
       "      <th>Div1WheelsOff</th>\n",
       "      <th>Div1TailNum</th>\n",
       "      <th>Div2Airport</th>\n",
       "      <th>Div2AirportID</th>\n",
       "      <th>Div2AirportSeqID</th>\n",
       "      <th>Div2WheelsOn</th>\n",
       "      <th>Div2TotalGTime</th>\n",
       "      <th>Div2LongestGTime</th>\n",
       "      <th>Div2WheelsOff</th>\n",
       "      <th>Div2TailNum</th>\n",
       "      <th>Div3Airport</th>\n",
       "      <th>Div3AirportID</th>\n",
       "      <th>Div3AirportSeqID</th>\n",
       "      <th>Div3WheelsOn</th>\n",
       "      <th>Div3TotalGTime</th>\n",
       "      <th>Div3LongestGTime</th>\n",
       "      <th>Div3WheelsOff</th>\n",
       "      <th>Div3TailNum</th>\n",
       "      <th>Div4Airport</th>\n",
       "      <th>Div4AirportID</th>\n",
       "      <th>Div4AirportSeqID</th>\n",
       "      <th>Div4WheelsOn</th>\n",
       "      <th>Div4TotalGTime</th>\n",
       "      <th>Div4LongestGTime</th>\n",
       "      <th>Div4WheelsOff</th>\n",
       "      <th>Div4TailNum</th>\n",
       "      <th>Div5Airport</th>\n",
       "      <th>Div5AirportID</th>\n",
       "      <th>Div5AirportSeqID</th>\n",
       "      <th>Div5WheelsOn</th>\n",
       "      <th>Div5TotalGTime</th>\n",
       "      <th>Div5LongestGTime</th>\n",
       "      <th>Div5WheelsOff</th>\n",
       "      <th>Div5TailNum</th>\n",
       "      <th>Unnamed: 109</th>\n",
       "    </tr>\n",
       "  </thead>\n",
       "  <tbody>\n",
       "    <tr>\n",
       "      <th>0</th>\n",
       "      <td>2015</td>\n",
       "      <td>3</td>\n",
       "      <td>8</td>\n",
       "      <td>2</td>\n",
       "      <td>7</td>\n",
       "      <td>2015-08-02</td>\n",
       "      <td>AA</td>\n",
       "      <td>19805</td>\n",
       "      <td>AA</td>\n",
       "      <td>N790AA</td>\n",
       "      <td>1</td>\n",
       "      <td>12478</td>\n",
       "      <td>1247803</td>\n",
       "      <td>31703</td>\n",
       "      <td>JFK</td>\n",
       "      <td>New York, NY</td>\n",
       "      <td>NY</td>\n",
       "      <td>36</td>\n",
       "      <td>New York</td>\n",
       "      <td>22</td>\n",
       "      <td>12892</td>\n",
       "      <td>1289203</td>\n",
       "      <td>32575</td>\n",
       "      <td>LAX</td>\n",
       "      <td>Los Angeles, CA</td>\n",
       "      <td>CA</td>\n",
       "      <td>6</td>\n",
       "      <td>California</td>\n",
       "      <td>91</td>\n",
       "      <td>900</td>\n",
       "      <td>854.0</td>\n",
       "      <td>-6.0</td>\n",
       "      <td>0.0</td>\n",
       "      <td>0.0</td>\n",
       "      <td>-1.0</td>\n",
       "      <td>0900-0959</td>\n",
       "      <td>25.0</td>\n",
       "      <td>919.0</td>\n",
       "      <td>1132.0</td>\n",
       "      <td>15.0</td>\n",
       "      <td>1213</td>\n",
       "      <td>1147.0</td>\n",
       "      <td>-26.0</td>\n",
       "      <td>0.0</td>\n",
       "      <td>0.0</td>\n",
       "      <td>-2.0</td>\n",
       "      <td>1200-1259</td>\n",
       "      <td>0.0</td>\n",
       "      <td>NaN</td>\n",
       "      <td>0.0</td>\n",
       "      <td>373.0</td>\n",
       "      <td>353.0</td>\n",
       "      <td>313.0</td>\n",
       "      <td>1.0</td>\n",
       "      <td>2475.0</td>\n",
       "      <td>10</td>\n",
       "      <td>NaN</td>\n",
       "      <td>NaN</td>\n",
       "      <td>NaN</td>\n",
       "      <td>NaN</td>\n",
       "      <td>NaN</td>\n",
       "      <td>NaN</td>\n",
       "      <td>NaN</td>\n",
       "      <td>NaN</td>\n",
       "      <td>0</td>\n",
       "      <td>NaN</td>\n",
       "      <td>NaN</td>\n",
       "      <td>NaN</td>\n",
       "      <td>NaN</td>\n",
       "      <td>NaN</td>\n",
       "      <td>NaN</td>\n",
       "      <td>NaN</td>\n",
       "      <td>NaN</td>\n",
       "      <td>NaN</td>\n",
       "      <td>NaN</td>\n",
       "      <td>NaN</td>\n",
       "      <td>NaN</td>\n",
       "      <td>NaN</td>\n",
       "      <td>NaN</td>\n",
       "      <td>NaN</td>\n",
       "      <td>NaN</td>\n",
       "      <td>NaN</td>\n",
       "      <td>NaN</td>\n",
       "      <td>NaN</td>\n",
       "      <td>NaN</td>\n",
       "      <td>NaN</td>\n",
       "      <td>NaN</td>\n",
       "      <td>NaN</td>\n",
       "      <td>NaN</td>\n",
       "      <td>NaN</td>\n",
       "      <td>NaN</td>\n",
       "      <td>NaN</td>\n",
       "      <td>NaN</td>\n",
       "      <td>NaN</td>\n",
       "      <td>NaN</td>\n",
       "      <td>NaN</td>\n",
       "      <td>NaN</td>\n",
       "      <td>NaN</td>\n",
       "      <td>NaN</td>\n",
       "      <td>NaN</td>\n",
       "      <td>NaN</td>\n",
       "      <td>NaN</td>\n",
       "      <td>NaN</td>\n",
       "      <td>NaN</td>\n",
       "      <td>NaN</td>\n",
       "      <td>NaN</td>\n",
       "      <td>NaN</td>\n",
       "      <td>NaN</td>\n",
       "      <td>NaN</td>\n",
       "      <td>NaN</td>\n",
       "    </tr>\n",
       "    <tr>\n",
       "      <th>1</th>\n",
       "      <td>2015</td>\n",
       "      <td>3</td>\n",
       "      <td>8</td>\n",
       "      <td>3</td>\n",
       "      <td>1</td>\n",
       "      <td>2015-08-03</td>\n",
       "      <td>AA</td>\n",
       "      <td>19805</td>\n",
       "      <td>AA</td>\n",
       "      <td>N784AA</td>\n",
       "      <td>1</td>\n",
       "      <td>12478</td>\n",
       "      <td>1247803</td>\n",
       "      <td>31703</td>\n",
       "      <td>JFK</td>\n",
       "      <td>New York, NY</td>\n",
       "      <td>NY</td>\n",
       "      <td>36</td>\n",
       "      <td>New York</td>\n",
       "      <td>22</td>\n",
       "      <td>12892</td>\n",
       "      <td>1289203</td>\n",
       "      <td>32575</td>\n",
       "      <td>LAX</td>\n",
       "      <td>Los Angeles, CA</td>\n",
       "      <td>CA</td>\n",
       "      <td>6</td>\n",
       "      <td>California</td>\n",
       "      <td>91</td>\n",
       "      <td>900</td>\n",
       "      <td>858.0</td>\n",
       "      <td>-2.0</td>\n",
       "      <td>0.0</td>\n",
       "      <td>0.0</td>\n",
       "      <td>-1.0</td>\n",
       "      <td>0900-0959</td>\n",
       "      <td>33.0</td>\n",
       "      <td>931.0</td>\n",
       "      <td>1147.0</td>\n",
       "      <td>31.0</td>\n",
       "      <td>1213</td>\n",
       "      <td>1218.0</td>\n",
       "      <td>5.0</td>\n",
       "      <td>5.0</td>\n",
       "      <td>0.0</td>\n",
       "      <td>0.0</td>\n",
       "      <td>1200-1259</td>\n",
       "      <td>0.0</td>\n",
       "      <td>NaN</td>\n",
       "      <td>0.0</td>\n",
       "      <td>373.0</td>\n",
       "      <td>380.0</td>\n",
       "      <td>316.0</td>\n",
       "      <td>1.0</td>\n",
       "      <td>2475.0</td>\n",
       "      <td>10</td>\n",
       "      <td>NaN</td>\n",
       "      <td>NaN</td>\n",
       "      <td>NaN</td>\n",
       "      <td>NaN</td>\n",
       "      <td>NaN</td>\n",
       "      <td>NaN</td>\n",
       "      <td>NaN</td>\n",
       "      <td>NaN</td>\n",
       "      <td>0</td>\n",
       "      <td>NaN</td>\n",
       "      <td>NaN</td>\n",
       "      <td>NaN</td>\n",
       "      <td>NaN</td>\n",
       "      <td>NaN</td>\n",
       "      <td>NaN</td>\n",
       "      <td>NaN</td>\n",
       "      <td>NaN</td>\n",
       "      <td>NaN</td>\n",
       "      <td>NaN</td>\n",
       "      <td>NaN</td>\n",
       "      <td>NaN</td>\n",
       "      <td>NaN</td>\n",
       "      <td>NaN</td>\n",
       "      <td>NaN</td>\n",
       "      <td>NaN</td>\n",
       "      <td>NaN</td>\n",
       "      <td>NaN</td>\n",
       "      <td>NaN</td>\n",
       "      <td>NaN</td>\n",
       "      <td>NaN</td>\n",
       "      <td>NaN</td>\n",
       "      <td>NaN</td>\n",
       "      <td>NaN</td>\n",
       "      <td>NaN</td>\n",
       "      <td>NaN</td>\n",
       "      <td>NaN</td>\n",
       "      <td>NaN</td>\n",
       "      <td>NaN</td>\n",
       "      <td>NaN</td>\n",
       "      <td>NaN</td>\n",
       "      <td>NaN</td>\n",
       "      <td>NaN</td>\n",
       "      <td>NaN</td>\n",
       "      <td>NaN</td>\n",
       "      <td>NaN</td>\n",
       "      <td>NaN</td>\n",
       "      <td>NaN</td>\n",
       "      <td>NaN</td>\n",
       "      <td>NaN</td>\n",
       "      <td>NaN</td>\n",
       "      <td>NaN</td>\n",
       "      <td>NaN</td>\n",
       "      <td>NaN</td>\n",
       "      <td>NaN</td>\n",
       "    </tr>\n",
       "    <tr>\n",
       "      <th>2</th>\n",
       "      <td>2015</td>\n",
       "      <td>3</td>\n",
       "      <td>8</td>\n",
       "      <td>4</td>\n",
       "      <td>2</td>\n",
       "      <td>2015-08-04</td>\n",
       "      <td>AA</td>\n",
       "      <td>19805</td>\n",
       "      <td>AA</td>\n",
       "      <td>N793AA</td>\n",
       "      <td>1</td>\n",
       "      <td>12478</td>\n",
       "      <td>1247803</td>\n",
       "      <td>31703</td>\n",
       "      <td>JFK</td>\n",
       "      <td>New York, NY</td>\n",
       "      <td>NY</td>\n",
       "      <td>36</td>\n",
       "      <td>New York</td>\n",
       "      <td>22</td>\n",
       "      <td>12892</td>\n",
       "      <td>1289203</td>\n",
       "      <td>32575</td>\n",
       "      <td>LAX</td>\n",
       "      <td>Los Angeles, CA</td>\n",
       "      <td>CA</td>\n",
       "      <td>6</td>\n",
       "      <td>California</td>\n",
       "      <td>91</td>\n",
       "      <td>900</td>\n",
       "      <td>902.0</td>\n",
       "      <td>2.0</td>\n",
       "      <td>2.0</td>\n",
       "      <td>0.0</td>\n",
       "      <td>0.0</td>\n",
       "      <td>0900-0959</td>\n",
       "      <td>43.0</td>\n",
       "      <td>945.0</td>\n",
       "      <td>1211.0</td>\n",
       "      <td>8.0</td>\n",
       "      <td>1213</td>\n",
       "      <td>1219.0</td>\n",
       "      <td>6.0</td>\n",
       "      <td>6.0</td>\n",
       "      <td>0.0</td>\n",
       "      <td>0.0</td>\n",
       "      <td>1200-1259</td>\n",
       "      <td>0.0</td>\n",
       "      <td>NaN</td>\n",
       "      <td>0.0</td>\n",
       "      <td>373.0</td>\n",
       "      <td>377.0</td>\n",
       "      <td>326.0</td>\n",
       "      <td>1.0</td>\n",
       "      <td>2475.0</td>\n",
       "      <td>10</td>\n",
       "      <td>NaN</td>\n",
       "      <td>NaN</td>\n",
       "      <td>NaN</td>\n",
       "      <td>NaN</td>\n",
       "      <td>NaN</td>\n",
       "      <td>NaN</td>\n",
       "      <td>NaN</td>\n",
       "      <td>NaN</td>\n",
       "      <td>0</td>\n",
       "      <td>NaN</td>\n",
       "      <td>NaN</td>\n",
       "      <td>NaN</td>\n",
       "      <td>NaN</td>\n",
       "      <td>NaN</td>\n",
       "      <td>NaN</td>\n",
       "      <td>NaN</td>\n",
       "      <td>NaN</td>\n",
       "      <td>NaN</td>\n",
       "      <td>NaN</td>\n",
       "      <td>NaN</td>\n",
       "      <td>NaN</td>\n",
       "      <td>NaN</td>\n",
       "      <td>NaN</td>\n",
       "      <td>NaN</td>\n",
       "      <td>NaN</td>\n",
       "      <td>NaN</td>\n",
       "      <td>NaN</td>\n",
       "      <td>NaN</td>\n",
       "      <td>NaN</td>\n",
       "      <td>NaN</td>\n",
       "      <td>NaN</td>\n",
       "      <td>NaN</td>\n",
       "      <td>NaN</td>\n",
       "      <td>NaN</td>\n",
       "      <td>NaN</td>\n",
       "      <td>NaN</td>\n",
       "      <td>NaN</td>\n",
       "      <td>NaN</td>\n",
       "      <td>NaN</td>\n",
       "      <td>NaN</td>\n",
       "      <td>NaN</td>\n",
       "      <td>NaN</td>\n",
       "      <td>NaN</td>\n",
       "      <td>NaN</td>\n",
       "      <td>NaN</td>\n",
       "      <td>NaN</td>\n",
       "      <td>NaN</td>\n",
       "      <td>NaN</td>\n",
       "      <td>NaN</td>\n",
       "      <td>NaN</td>\n",
       "      <td>NaN</td>\n",
       "      <td>NaN</td>\n",
       "      <td>NaN</td>\n",
       "      <td>NaN</td>\n",
       "    </tr>\n",
       "    <tr>\n",
       "      <th>3</th>\n",
       "      <td>2015</td>\n",
       "      <td>3</td>\n",
       "      <td>8</td>\n",
       "      <td>5</td>\n",
       "      <td>3</td>\n",
       "      <td>2015-08-05</td>\n",
       "      <td>AA</td>\n",
       "      <td>19805</td>\n",
       "      <td>AA</td>\n",
       "      <td>N787AA</td>\n",
       "      <td>1</td>\n",
       "      <td>12478</td>\n",
       "      <td>1247803</td>\n",
       "      <td>31703</td>\n",
       "      <td>JFK</td>\n",
       "      <td>New York, NY</td>\n",
       "      <td>NY</td>\n",
       "      <td>36</td>\n",
       "      <td>New York</td>\n",
       "      <td>22</td>\n",
       "      <td>12892</td>\n",
       "      <td>1289203</td>\n",
       "      <td>32575</td>\n",
       "      <td>LAX</td>\n",
       "      <td>Los Angeles, CA</td>\n",
       "      <td>CA</td>\n",
       "      <td>6</td>\n",
       "      <td>California</td>\n",
       "      <td>91</td>\n",
       "      <td>900</td>\n",
       "      <td>857.0</td>\n",
       "      <td>-3.0</td>\n",
       "      <td>0.0</td>\n",
       "      <td>0.0</td>\n",
       "      <td>-1.0</td>\n",
       "      <td>0900-0959</td>\n",
       "      <td>39.0</td>\n",
       "      <td>936.0</td>\n",
       "      <td>1207.0</td>\n",
       "      <td>28.0</td>\n",
       "      <td>1213</td>\n",
       "      <td>1235.0</td>\n",
       "      <td>22.0</td>\n",
       "      <td>22.0</td>\n",
       "      <td>1.0</td>\n",
       "      <td>1.0</td>\n",
       "      <td>1200-1259</td>\n",
       "      <td>0.0</td>\n",
       "      <td>NaN</td>\n",
       "      <td>0.0</td>\n",
       "      <td>373.0</td>\n",
       "      <td>398.0</td>\n",
       "      <td>331.0</td>\n",
       "      <td>1.0</td>\n",
       "      <td>2475.0</td>\n",
       "      <td>10</td>\n",
       "      <td>0.0</td>\n",
       "      <td>0.0</td>\n",
       "      <td>22.0</td>\n",
       "      <td>0.0</td>\n",
       "      <td>0.0</td>\n",
       "      <td>NaN</td>\n",
       "      <td>NaN</td>\n",
       "      <td>NaN</td>\n",
       "      <td>0</td>\n",
       "      <td>NaN</td>\n",
       "      <td>NaN</td>\n",
       "      <td>NaN</td>\n",
       "      <td>NaN</td>\n",
       "      <td>NaN</td>\n",
       "      <td>NaN</td>\n",
       "      <td>NaN</td>\n",
       "      <td>NaN</td>\n",
       "      <td>NaN</td>\n",
       "      <td>NaN</td>\n",
       "      <td>NaN</td>\n",
       "      <td>NaN</td>\n",
       "      <td>NaN</td>\n",
       "      <td>NaN</td>\n",
       "      <td>NaN</td>\n",
       "      <td>NaN</td>\n",
       "      <td>NaN</td>\n",
       "      <td>NaN</td>\n",
       "      <td>NaN</td>\n",
       "      <td>NaN</td>\n",
       "      <td>NaN</td>\n",
       "      <td>NaN</td>\n",
       "      <td>NaN</td>\n",
       "      <td>NaN</td>\n",
       "      <td>NaN</td>\n",
       "      <td>NaN</td>\n",
       "      <td>NaN</td>\n",
       "      <td>NaN</td>\n",
       "      <td>NaN</td>\n",
       "      <td>NaN</td>\n",
       "      <td>NaN</td>\n",
       "      <td>NaN</td>\n",
       "      <td>NaN</td>\n",
       "      <td>NaN</td>\n",
       "      <td>NaN</td>\n",
       "      <td>NaN</td>\n",
       "      <td>NaN</td>\n",
       "      <td>NaN</td>\n",
       "      <td>NaN</td>\n",
       "      <td>NaN</td>\n",
       "      <td>NaN</td>\n",
       "      <td>NaN</td>\n",
       "      <td>NaN</td>\n",
       "      <td>NaN</td>\n",
       "      <td>NaN</td>\n",
       "    </tr>\n",
       "    <tr>\n",
       "      <th>4</th>\n",
       "      <td>2015</td>\n",
       "      <td>3</td>\n",
       "      <td>8</td>\n",
       "      <td>6</td>\n",
       "      <td>4</td>\n",
       "      <td>2015-08-06</td>\n",
       "      <td>AA</td>\n",
       "      <td>19805</td>\n",
       "      <td>AA</td>\n",
       "      <td>N790AA</td>\n",
       "      <td>1</td>\n",
       "      <td>12478</td>\n",
       "      <td>1247803</td>\n",
       "      <td>31703</td>\n",
       "      <td>JFK</td>\n",
       "      <td>New York, NY</td>\n",
       "      <td>NY</td>\n",
       "      <td>36</td>\n",
       "      <td>New York</td>\n",
       "      <td>22</td>\n",
       "      <td>12892</td>\n",
       "      <td>1289203</td>\n",
       "      <td>32575</td>\n",
       "      <td>LAX</td>\n",
       "      <td>Los Angeles, CA</td>\n",
       "      <td>CA</td>\n",
       "      <td>6</td>\n",
       "      <td>California</td>\n",
       "      <td>91</td>\n",
       "      <td>900</td>\n",
       "      <td>857.0</td>\n",
       "      <td>-3.0</td>\n",
       "      <td>0.0</td>\n",
       "      <td>0.0</td>\n",
       "      <td>-1.0</td>\n",
       "      <td>0900-0959</td>\n",
       "      <td>46.0</td>\n",
       "      <td>943.0</td>\n",
       "      <td>1209.0</td>\n",
       "      <td>14.0</td>\n",
       "      <td>1213</td>\n",
       "      <td>1223.0</td>\n",
       "      <td>10.0</td>\n",
       "      <td>10.0</td>\n",
       "      <td>0.0</td>\n",
       "      <td>0.0</td>\n",
       "      <td>1200-1259</td>\n",
       "      <td>0.0</td>\n",
       "      <td>NaN</td>\n",
       "      <td>0.0</td>\n",
       "      <td>373.0</td>\n",
       "      <td>386.0</td>\n",
       "      <td>326.0</td>\n",
       "      <td>1.0</td>\n",
       "      <td>2475.0</td>\n",
       "      <td>10</td>\n",
       "      <td>NaN</td>\n",
       "      <td>NaN</td>\n",
       "      <td>NaN</td>\n",
       "      <td>NaN</td>\n",
       "      <td>NaN</td>\n",
       "      <td>NaN</td>\n",
       "      <td>NaN</td>\n",
       "      <td>NaN</td>\n",
       "      <td>0</td>\n",
       "      <td>NaN</td>\n",
       "      <td>NaN</td>\n",
       "      <td>NaN</td>\n",
       "      <td>NaN</td>\n",
       "      <td>NaN</td>\n",
       "      <td>NaN</td>\n",
       "      <td>NaN</td>\n",
       "      <td>NaN</td>\n",
       "      <td>NaN</td>\n",
       "      <td>NaN</td>\n",
       "      <td>NaN</td>\n",
       "      <td>NaN</td>\n",
       "      <td>NaN</td>\n",
       "      <td>NaN</td>\n",
       "      <td>NaN</td>\n",
       "      <td>NaN</td>\n",
       "      <td>NaN</td>\n",
       "      <td>NaN</td>\n",
       "      <td>NaN</td>\n",
       "      <td>NaN</td>\n",
       "      <td>NaN</td>\n",
       "      <td>NaN</td>\n",
       "      <td>NaN</td>\n",
       "      <td>NaN</td>\n",
       "      <td>NaN</td>\n",
       "      <td>NaN</td>\n",
       "      <td>NaN</td>\n",
       "      <td>NaN</td>\n",
       "      <td>NaN</td>\n",
       "      <td>NaN</td>\n",
       "      <td>NaN</td>\n",
       "      <td>NaN</td>\n",
       "      <td>NaN</td>\n",
       "      <td>NaN</td>\n",
       "      <td>NaN</td>\n",
       "      <td>NaN</td>\n",
       "      <td>NaN</td>\n",
       "      <td>NaN</td>\n",
       "      <td>NaN</td>\n",
       "      <td>NaN</td>\n",
       "      <td>NaN</td>\n",
       "      <td>NaN</td>\n",
       "      <td>NaN</td>\n",
       "      <td>NaN</td>\n",
       "      <td>NaN</td>\n",
       "    </tr>\n",
       "  </tbody>\n",
       "</table>\n",
       "</div>"
      ],
      "text/plain": [
       "   Year  Quarter  Month  DayofMonth  DayOfWeek  FlightDate UniqueCarrier  \\\n",
       "0  2015        3      8           2          7  2015-08-02            AA   \n",
       "1  2015        3      8           3          1  2015-08-03            AA   \n",
       "2  2015        3      8           4          2  2015-08-04            AA   \n",
       "3  2015        3      8           5          3  2015-08-05            AA   \n",
       "4  2015        3      8           6          4  2015-08-06            AA   \n",
       "\n",
       "   AirlineID Carrier TailNum  FlightNum  OriginAirportID  OriginAirportSeqID  \\\n",
       "0      19805      AA  N790AA          1            12478             1247803   \n",
       "1      19805      AA  N784AA          1            12478             1247803   \n",
       "2      19805      AA  N793AA          1            12478             1247803   \n",
       "3      19805      AA  N787AA          1            12478             1247803   \n",
       "4      19805      AA  N790AA          1            12478             1247803   \n",
       "\n",
       "   OriginCityMarketID Origin OriginCityName OriginState  OriginStateFips  \\\n",
       "0               31703    JFK   New York, NY          NY               36   \n",
       "1               31703    JFK   New York, NY          NY               36   \n",
       "2               31703    JFK   New York, NY          NY               36   \n",
       "3               31703    JFK   New York, NY          NY               36   \n",
       "4               31703    JFK   New York, NY          NY               36   \n",
       "\n",
       "  OriginStateName  OriginWac  DestAirportID  DestAirportSeqID  \\\n",
       "0        New York         22          12892           1289203   \n",
       "1        New York         22          12892           1289203   \n",
       "2        New York         22          12892           1289203   \n",
       "3        New York         22          12892           1289203   \n",
       "4        New York         22          12892           1289203   \n",
       "\n",
       "   DestCityMarketID Dest     DestCityName DestState  DestStateFips  \\\n",
       "0             32575  LAX  Los Angeles, CA        CA              6   \n",
       "1             32575  LAX  Los Angeles, CA        CA              6   \n",
       "2             32575  LAX  Los Angeles, CA        CA              6   \n",
       "3             32575  LAX  Los Angeles, CA        CA              6   \n",
       "4             32575  LAX  Los Angeles, CA        CA              6   \n",
       "\n",
       "  DestStateName  DestWac  CRSDepTime  DepTime  DepDelay  DepDelayMinutes  \\\n",
       "0    California       91         900    854.0      -6.0              0.0   \n",
       "1    California       91         900    858.0      -2.0              0.0   \n",
       "2    California       91         900    902.0       2.0              2.0   \n",
       "3    California       91         900    857.0      -3.0              0.0   \n",
       "4    California       91         900    857.0      -3.0              0.0   \n",
       "\n",
       "   DepDel15  DepartureDelayGroups DepTimeBlk  TaxiOut  WheelsOff  WheelsOn  \\\n",
       "0       0.0                  -1.0  0900-0959     25.0      919.0    1132.0   \n",
       "1       0.0                  -1.0  0900-0959     33.0      931.0    1147.0   \n",
       "2       0.0                   0.0  0900-0959     43.0      945.0    1211.0   \n",
       "3       0.0                  -1.0  0900-0959     39.0      936.0    1207.0   \n",
       "4       0.0                  -1.0  0900-0959     46.0      943.0    1209.0   \n",
       "\n",
       "   TaxiIn  CRSArrTime  ArrTime  ArrDelay  ArrDelayMinutes  ArrDel15  \\\n",
       "0    15.0        1213   1147.0     -26.0              0.0       0.0   \n",
       "1    31.0        1213   1218.0       5.0              5.0       0.0   \n",
       "2     8.0        1213   1219.0       6.0              6.0       0.0   \n",
       "3    28.0        1213   1235.0      22.0             22.0       1.0   \n",
       "4    14.0        1213   1223.0      10.0             10.0       0.0   \n",
       "\n",
       "   ArrivalDelayGroups ArrTimeBlk  Cancelled CancellationCode  Diverted  \\\n",
       "0                -2.0  1200-1259        0.0              NaN       0.0   \n",
       "1                 0.0  1200-1259        0.0              NaN       0.0   \n",
       "2                 0.0  1200-1259        0.0              NaN       0.0   \n",
       "3                 1.0  1200-1259        0.0              NaN       0.0   \n",
       "4                 0.0  1200-1259        0.0              NaN       0.0   \n",
       "\n",
       "   CRSElapsedTime  ActualElapsedTime  AirTime  Flights  Distance  \\\n",
       "0           373.0              353.0    313.0      1.0    2475.0   \n",
       "1           373.0              380.0    316.0      1.0    2475.0   \n",
       "2           373.0              377.0    326.0      1.0    2475.0   \n",
       "3           373.0              398.0    331.0      1.0    2475.0   \n",
       "4           373.0              386.0    326.0      1.0    2475.0   \n",
       "\n",
       "   DistanceGroup  CarrierDelay  WeatherDelay  NASDelay  SecurityDelay  \\\n",
       "0             10           NaN           NaN       NaN            NaN   \n",
       "1             10           NaN           NaN       NaN            NaN   \n",
       "2             10           NaN           NaN       NaN            NaN   \n",
       "3             10           0.0           0.0      22.0            0.0   \n",
       "4             10           NaN           NaN       NaN            NaN   \n",
       "\n",
       "   LateAircraftDelay  FirstDepTime  TotalAddGTime  LongestAddGTime  \\\n",
       "0                NaN           NaN            NaN              NaN   \n",
       "1                NaN           NaN            NaN              NaN   \n",
       "2                NaN           NaN            NaN              NaN   \n",
       "3                0.0           NaN            NaN              NaN   \n",
       "4                NaN           NaN            NaN              NaN   \n",
       "\n",
       "   DivAirportLandings  DivReachedDest  DivActualElapsedTime  DivArrDelay  \\\n",
       "0                   0             NaN                   NaN          NaN   \n",
       "1                   0             NaN                   NaN          NaN   \n",
       "2                   0             NaN                   NaN          NaN   \n",
       "3                   0             NaN                   NaN          NaN   \n",
       "4                   0             NaN                   NaN          NaN   \n",
       "\n",
       "   DivDistance Div1Airport  Div1AirportID  Div1AirportSeqID  Div1WheelsOn  \\\n",
       "0          NaN         NaN            NaN               NaN           NaN   \n",
       "1          NaN         NaN            NaN               NaN           NaN   \n",
       "2          NaN         NaN            NaN               NaN           NaN   \n",
       "3          NaN         NaN            NaN               NaN           NaN   \n",
       "4          NaN         NaN            NaN               NaN           NaN   \n",
       "\n",
       "   Div1TotalGTime  Div1LongestGTime  Div1WheelsOff Div1TailNum Div2Airport  \\\n",
       "0             NaN               NaN            NaN         NaN         NaN   \n",
       "1             NaN               NaN            NaN         NaN         NaN   \n",
       "2             NaN               NaN            NaN         NaN         NaN   \n",
       "3             NaN               NaN            NaN         NaN         NaN   \n",
       "4             NaN               NaN            NaN         NaN         NaN   \n",
       "\n",
       "   Div2AirportID  Div2AirportSeqID  Div2WheelsOn  Div2TotalGTime  \\\n",
       "0            NaN               NaN           NaN             NaN   \n",
       "1            NaN               NaN           NaN             NaN   \n",
       "2            NaN               NaN           NaN             NaN   \n",
       "3            NaN               NaN           NaN             NaN   \n",
       "4            NaN               NaN           NaN             NaN   \n",
       "\n",
       "   Div2LongestGTime  Div2WheelsOff Div2TailNum  Div3Airport  Div3AirportID  \\\n",
       "0               NaN            NaN         NaN          NaN            NaN   \n",
       "1               NaN            NaN         NaN          NaN            NaN   \n",
       "2               NaN            NaN         NaN          NaN            NaN   \n",
       "3               NaN            NaN         NaN          NaN            NaN   \n",
       "4               NaN            NaN         NaN          NaN            NaN   \n",
       "\n",
       "   Div3AirportSeqID  Div3WheelsOn  Div3TotalGTime  Div3LongestGTime  \\\n",
       "0               NaN           NaN             NaN               NaN   \n",
       "1               NaN           NaN             NaN               NaN   \n",
       "2               NaN           NaN             NaN               NaN   \n",
       "3               NaN           NaN             NaN               NaN   \n",
       "4               NaN           NaN             NaN               NaN   \n",
       "\n",
       "   Div3WheelsOff  Div3TailNum  Div4Airport  Div4AirportID  Div4AirportSeqID  \\\n",
       "0            NaN          NaN          NaN            NaN               NaN   \n",
       "1            NaN          NaN          NaN            NaN               NaN   \n",
       "2            NaN          NaN          NaN            NaN               NaN   \n",
       "3            NaN          NaN          NaN            NaN               NaN   \n",
       "4            NaN          NaN          NaN            NaN               NaN   \n",
       "\n",
       "   Div4WheelsOn  Div4TotalGTime  Div4LongestGTime  Div4WheelsOff  Div4TailNum  \\\n",
       "0           NaN             NaN               NaN            NaN          NaN   \n",
       "1           NaN             NaN               NaN            NaN          NaN   \n",
       "2           NaN             NaN               NaN            NaN          NaN   \n",
       "3           NaN             NaN               NaN            NaN          NaN   \n",
       "4           NaN             NaN               NaN            NaN          NaN   \n",
       "\n",
       "   Div5Airport  Div5AirportID  Div5AirportSeqID  Div5WheelsOn  Div5TotalGTime  \\\n",
       "0          NaN            NaN               NaN           NaN             NaN   \n",
       "1          NaN            NaN               NaN           NaN             NaN   \n",
       "2          NaN            NaN               NaN           NaN             NaN   \n",
       "3          NaN            NaN               NaN           NaN             NaN   \n",
       "4          NaN            NaN               NaN           NaN             NaN   \n",
       "\n",
       "   Div5LongestGTime  Div5WheelsOff  Div5TailNum  Unnamed: 109  \n",
       "0               NaN            NaN          NaN           NaN  \n",
       "1               NaN            NaN          NaN           NaN  \n",
       "2               NaN            NaN          NaN           NaN  \n",
       "3               NaN            NaN          NaN           NaN  \n",
       "4               NaN            NaN          NaN           NaN  "
      ]
     },
     "execution_count": 22,
     "metadata": {},
     "output_type": "execute_result"
    }
   ],
   "source": [
    "df.head()"
   ]
  },
  {
   "cell_type": "code",
   "execution_count": 18,
   "metadata": {},
   "outputs": [
    {
     "data": {
      "text/plain": [
       "(510536, 110)"
      ]
     },
     "execution_count": 18,
     "metadata": {},
     "output_type": "execute_result"
    }
   ],
   "source": [
    "df.shape"
   ]
  },
  {
   "cell_type": "markdown",
   "metadata": {},
   "source": [
    "zip_file is a connection to the compressed file, the .zip. We can use it to open a connection to one of the files it contains, which will behave like a normal uncompressed file that we had opened with open()"
   ]
  },
  {
   "cell_type": "code",
   "execution_count": null,
   "metadata": {},
   "outputs": [],
   "source": []
  },
  {
   "cell_type": "markdown",
   "metadata": {},
   "source": [
    "Now we're ready to load the file into memory as a pandas dataframe. Remember to close the connections to the files!"
   ]
  },
  {
   "cell_type": "code",
   "execution_count": null,
   "metadata": {},
   "outputs": [],
   "source": []
  },
  {
   "cell_type": "markdown",
   "metadata": {},
   "source": [
    "Let's start examining the data: show the beginning of the file. How many records does it contain?"
   ]
  },
  {
   "cell_type": "code",
   "execution_count": null,
   "metadata": {},
   "outputs": [],
   "source": []
  },
  {
   "cell_type": "markdown",
   "metadata": {},
   "source": [
    "## Trimming the data\n",
    "\n",
    "The table is quite wide, and it seems that there are many columns without much data. Which, exactly, are those? (let's consider empty a column that doesn't contain at least 1000 records, arbitrarily)"
   ]
  },
  {
   "cell_type": "code",
   "execution_count": 26,
   "metadata": {},
   "outputs": [
    {
     "data": {
      "text/plain": [
       "Year                  510536\n",
       "Quarter               510536\n",
       "Month                 510536\n",
       "DayofMonth            510536\n",
       "DayOfWeek             510536\n",
       "FlightDate            510536\n",
       "UniqueCarrier         510536\n",
       "AirlineID             510536\n",
       "Carrier               510536\n",
       "TailNum               509727\n",
       "FlightNum             510536\n",
       "OriginAirportID       510536\n",
       "OriginAirportSeqID    510536\n",
       "OriginCityMarketID    510536\n",
       "Origin                510536\n",
       "OriginCityName        510536\n",
       "OriginState           510536\n",
       "OriginStateFips       510536\n",
       "OriginStateName       510536\n",
       "OriginWac             510536\n",
       "DestAirportID         510536\n",
       "DestAirportSeqID      510536\n",
       "DestCityMarketID      510536\n",
       "Dest                  510536\n",
       "DestCityName          510536\n",
       "DestState             510536\n",
       "DestStateFips         510536\n",
       "DestStateName         510536\n",
       "DestWac               510536\n",
       "CRSDepTime            510536\n",
       "                       ...  \n",
       "Div2WheelsOn              10\n",
       "Div2TotalGTime            10\n",
       "Div2LongestGTime          10\n",
       "Div2WheelsOff              3\n",
       "Div2TailNum                3\n",
       "Div3Airport                0\n",
       "Div3AirportID              0\n",
       "Div3AirportSeqID           0\n",
       "Div3WheelsOn               0\n",
       "Div3TotalGTime             0\n",
       "Div3LongestGTime           0\n",
       "Div3WheelsOff              0\n",
       "Div3TailNum                0\n",
       "Div4Airport                0\n",
       "Div4AirportID              0\n",
       "Div4AirportSeqID           0\n",
       "Div4WheelsOn               0\n",
       "Div4TotalGTime             0\n",
       "Div4LongestGTime           0\n",
       "Div4WheelsOff              0\n",
       "Div4TailNum                0\n",
       "Div5Airport                0\n",
       "Div5AirportID              0\n",
       "Div5AirportSeqID           0\n",
       "Div5WheelsOn               0\n",
       "Div5TotalGTime             0\n",
       "Div5LongestGTime           0\n",
       "Div5WheelsOff              0\n",
       "Div5TailNum                0\n",
       "Unnamed: 109               0\n",
       "Length: 110, dtype: int64"
      ]
     },
     "execution_count": 26,
     "metadata": {},
     "output_type": "execute_result"
    }
   ],
   "source": [
    "df.count()"
   ]
  },
  {
   "cell_type": "code",
   "execution_count": 25,
   "metadata": {
    "scrolled": true
   },
   "outputs": [
    {
     "data": {
      "text/plain": [
       "Index(['Div2Airport', 'Div2AirportID', 'Div2AirportSeqID', 'Div2WheelsOn',\n",
       "       'Div2TotalGTime', 'Div2LongestGTime', 'Div2WheelsOff', 'Div2TailNum',\n",
       "       'Div3Airport', 'Div3AirportID', 'Div3AirportSeqID', 'Div3WheelsOn',\n",
       "       'Div3TotalGTime', 'Div3LongestGTime', 'Div3WheelsOff', 'Div3TailNum',\n",
       "       'Div4Airport', 'Div4AirportID', 'Div4AirportSeqID', 'Div4WheelsOn',\n",
       "       'Div4TotalGTime', 'Div4LongestGTime', 'Div4WheelsOff', 'Div4TailNum',\n",
       "       'Div5Airport', 'Div5AirportID', 'Div5AirportSeqID', 'Div5WheelsOn',\n",
       "       'Div5TotalGTime', 'Div5LongestGTime', 'Div5WheelsOff', 'Div5TailNum',\n",
       "       'Unnamed: 109'],\n",
       "      dtype='object')"
      ]
     },
     "execution_count": 25,
     "metadata": {},
     "output_type": "execute_result"
    }
   ],
   "source": [
    "df.columns[df.count() < 1000]"
   ]
  },
  {
   "cell_type": "markdown",
   "metadata": {},
   "source": [
    "It seems that the \"diverted\" fields, after the first, are often empty. No big surprise, since not that many flights must be diverted more than once in a month. Let's drop those columns, since we are not that interested in those, at least for now."
   ]
  },
  {
   "cell_type": "code",
   "execution_count": 28,
   "metadata": {
    "collapsed": true
   },
   "outputs": [],
   "source": [
    "df2 = df.drop(df.columns[df.count() < 1000], axis= 1)"
   ]
  },
  {
   "cell_type": "markdown",
   "metadata": {},
   "source": [
    "Now that we have eliminated some inconvenient data columns, let's have a look at the rest: let's loook at how the location data is encoded.\n"
   ]
  },
  {
   "cell_type": "markdown",
   "metadata": {},
   "source": [
    "#### Exercise:\n",
    "\n",
    "First, generate a list of the columns that have 'Origin' in their name\n",
    "\n",
    "Second, show a sample of the values that those columns take.\n",
    "\n",
    "Hint: we are going to use the str attribute of Series and Indexes\n"
   ]
  },
  {
   "cell_type": "code",
   "execution_count": 35,
   "metadata": {},
   "outputs": [],
   "source": [
    "origin_cols = df2.columns[df2.columns.str.contains('Origin')]"
   ]
  },
  {
   "cell_type": "code",
   "execution_count": 36,
   "metadata": {},
   "outputs": [
    {
     "data": {
      "text/html": [
       "<div>\n",
       "<style scoped>\n",
       "    .dataframe tbody tr th:only-of-type {\n",
       "        vertical-align: middle;\n",
       "    }\n",
       "\n",
       "    .dataframe tbody tr th {\n",
       "        vertical-align: top;\n",
       "    }\n",
       "\n",
       "    .dataframe thead th {\n",
       "        text-align: right;\n",
       "    }\n",
       "</style>\n",
       "<table border=\"1\" class=\"dataframe\">\n",
       "  <thead>\n",
       "    <tr style=\"text-align: right;\">\n",
       "      <th></th>\n",
       "      <th>OriginAirportID</th>\n",
       "      <th>OriginAirportSeqID</th>\n",
       "      <th>OriginCityMarketID</th>\n",
       "      <th>Origin</th>\n",
       "      <th>OriginCityName</th>\n",
       "      <th>OriginState</th>\n",
       "      <th>OriginStateFips</th>\n",
       "      <th>OriginStateName</th>\n",
       "      <th>OriginWac</th>\n",
       "    </tr>\n",
       "  </thead>\n",
       "  <tbody>\n",
       "    <tr>\n",
       "      <th>292973</th>\n",
       "      <td>13930</td>\n",
       "      <td>1393003</td>\n",
       "      <td>30977</td>\n",
       "      <td>ORD</td>\n",
       "      <td>Chicago, IL</td>\n",
       "      <td>IL</td>\n",
       "      <td>17</td>\n",
       "      <td>Illinois</td>\n",
       "      <td>41</td>\n",
       "    </tr>\n",
       "    <tr>\n",
       "      <th>376670</th>\n",
       "      <td>10792</td>\n",
       "      <td>1079204</td>\n",
       "      <td>30792</td>\n",
       "      <td>BUF</td>\n",
       "      <td>Buffalo, NY</td>\n",
       "      <td>NY</td>\n",
       "      <td>36</td>\n",
       "      <td>New York</td>\n",
       "      <td>22</td>\n",
       "    </tr>\n",
       "    <tr>\n",
       "      <th>473867</th>\n",
       "      <td>11042</td>\n",
       "      <td>1104203</td>\n",
       "      <td>30647</td>\n",
       "      <td>CLE</td>\n",
       "      <td>Cleveland, OH</td>\n",
       "      <td>OH</td>\n",
       "      <td>39</td>\n",
       "      <td>Ohio</td>\n",
       "      <td>44</td>\n",
       "    </tr>\n",
       "    <tr>\n",
       "      <th>82808</th>\n",
       "      <td>14747</td>\n",
       "      <td>1474703</td>\n",
       "      <td>30559</td>\n",
       "      <td>SEA</td>\n",
       "      <td>Seattle, WA</td>\n",
       "      <td>WA</td>\n",
       "      <td>53</td>\n",
       "      <td>Washington</td>\n",
       "      <td>93</td>\n",
       "    </tr>\n",
       "    <tr>\n",
       "      <th>219845</th>\n",
       "      <td>14107</td>\n",
       "      <td>1410702</td>\n",
       "      <td>30466</td>\n",
       "      <td>PHX</td>\n",
       "      <td>Phoenix, AZ</td>\n",
       "      <td>AZ</td>\n",
       "      <td>4</td>\n",
       "      <td>Arizona</td>\n",
       "      <td>81</td>\n",
       "    </tr>\n",
       "  </tbody>\n",
       "</table>\n",
       "</div>"
      ],
      "text/plain": [
       "        OriginAirportID  OriginAirportSeqID  OriginCityMarketID Origin  \\\n",
       "292973            13930             1393003               30977    ORD   \n",
       "376670            10792             1079204               30792    BUF   \n",
       "473867            11042             1104203               30647    CLE   \n",
       "82808             14747             1474703               30559    SEA   \n",
       "219845            14107             1410702               30466    PHX   \n",
       "\n",
       "       OriginCityName OriginState  OriginStateFips OriginStateName  OriginWac  \n",
       "292973    Chicago, IL          IL               17        Illinois         41  \n",
       "376670    Buffalo, NY          NY               36        New York         22  \n",
       "473867  Cleveland, OH          OH               39            Ohio         44  \n",
       "82808     Seattle, WA          WA               53      Washington         93  \n",
       "219845    Phoenix, AZ          AZ                4         Arizona         81  "
      ]
     },
     "execution_count": 36,
     "metadata": {},
     "output_type": "execute_result"
    }
   ],
   "source": [
    "df2[origin_cols].sample(5)"
   ]
  },
  {
   "cell_type": "markdown",
   "metadata": {},
   "source": [
    "So much redundant information!"
   ]
  },
  {
   "cell_type": "markdown",
   "metadata": {},
   "source": [
    "## Fast forward\n",
    "\n",
    "Just taking out the redundant columns would take a while, so let's jump ahead with this list of interesting columns:"
   ]
  },
  {
   "cell_type": "code",
   "execution_count": 38,
   "metadata": {},
   "outputs": [
    {
     "data": {
      "text/html": [
       "<div>\n",
       "<style scoped>\n",
       "    .dataframe tbody tr th:only-of-type {\n",
       "        vertical-align: middle;\n",
       "    }\n",
       "\n",
       "    .dataframe tbody tr th {\n",
       "        vertical-align: top;\n",
       "    }\n",
       "\n",
       "    .dataframe thead th {\n",
       "        text-align: right;\n",
       "    }\n",
       "</style>\n",
       "<table border=\"1\" class=\"dataframe\">\n",
       "  <thead>\n",
       "    <tr style=\"text-align: right;\">\n",
       "      <th></th>\n",
       "      <th>FlightDate</th>\n",
       "      <th>DayOfWeek</th>\n",
       "      <th>Carrier</th>\n",
       "      <th>TailNum</th>\n",
       "      <th>FlightNum</th>\n",
       "      <th>Origin</th>\n",
       "      <th>OriginCityName</th>\n",
       "      <th>OriginStateName</th>\n",
       "      <th>Dest</th>\n",
       "      <th>DestCityName</th>\n",
       "      <th>DestStateName</th>\n",
       "      <th>DepTime</th>\n",
       "      <th>DepDelay</th>\n",
       "      <th>AirTime</th>\n",
       "      <th>Distance</th>\n",
       "    </tr>\n",
       "  </thead>\n",
       "  <tbody>\n",
       "    <tr>\n",
       "      <th>0</th>\n",
       "      <td>2015-08-02</td>\n",
       "      <td>7</td>\n",
       "      <td>AA</td>\n",
       "      <td>N790AA</td>\n",
       "      <td>1</td>\n",
       "      <td>JFK</td>\n",
       "      <td>New York, NY</td>\n",
       "      <td>New York</td>\n",
       "      <td>LAX</td>\n",
       "      <td>Los Angeles, CA</td>\n",
       "      <td>California</td>\n",
       "      <td>854.0</td>\n",
       "      <td>-6.0</td>\n",
       "      <td>313.0</td>\n",
       "      <td>2475.0</td>\n",
       "    </tr>\n",
       "    <tr>\n",
       "      <th>1</th>\n",
       "      <td>2015-08-03</td>\n",
       "      <td>1</td>\n",
       "      <td>AA</td>\n",
       "      <td>N784AA</td>\n",
       "      <td>1</td>\n",
       "      <td>JFK</td>\n",
       "      <td>New York, NY</td>\n",
       "      <td>New York</td>\n",
       "      <td>LAX</td>\n",
       "      <td>Los Angeles, CA</td>\n",
       "      <td>California</td>\n",
       "      <td>858.0</td>\n",
       "      <td>-2.0</td>\n",
       "      <td>316.0</td>\n",
       "      <td>2475.0</td>\n",
       "    </tr>\n",
       "    <tr>\n",
       "      <th>2</th>\n",
       "      <td>2015-08-04</td>\n",
       "      <td>2</td>\n",
       "      <td>AA</td>\n",
       "      <td>N793AA</td>\n",
       "      <td>1</td>\n",
       "      <td>JFK</td>\n",
       "      <td>New York, NY</td>\n",
       "      <td>New York</td>\n",
       "      <td>LAX</td>\n",
       "      <td>Los Angeles, CA</td>\n",
       "      <td>California</td>\n",
       "      <td>902.0</td>\n",
       "      <td>2.0</td>\n",
       "      <td>326.0</td>\n",
       "      <td>2475.0</td>\n",
       "    </tr>\n",
       "    <tr>\n",
       "      <th>3</th>\n",
       "      <td>2015-08-05</td>\n",
       "      <td>3</td>\n",
       "      <td>AA</td>\n",
       "      <td>N787AA</td>\n",
       "      <td>1</td>\n",
       "      <td>JFK</td>\n",
       "      <td>New York, NY</td>\n",
       "      <td>New York</td>\n",
       "      <td>LAX</td>\n",
       "      <td>Los Angeles, CA</td>\n",
       "      <td>California</td>\n",
       "      <td>857.0</td>\n",
       "      <td>-3.0</td>\n",
       "      <td>331.0</td>\n",
       "      <td>2475.0</td>\n",
       "    </tr>\n",
       "    <tr>\n",
       "      <th>4</th>\n",
       "      <td>2015-08-06</td>\n",
       "      <td>4</td>\n",
       "      <td>AA</td>\n",
       "      <td>N790AA</td>\n",
       "      <td>1</td>\n",
       "      <td>JFK</td>\n",
       "      <td>New York, NY</td>\n",
       "      <td>New York</td>\n",
       "      <td>LAX</td>\n",
       "      <td>Los Angeles, CA</td>\n",
       "      <td>California</td>\n",
       "      <td>857.0</td>\n",
       "      <td>-3.0</td>\n",
       "      <td>326.0</td>\n",
       "      <td>2475.0</td>\n",
       "    </tr>\n",
       "  </tbody>\n",
       "</table>\n",
       "</div>"
      ],
      "text/plain": [
       "   FlightDate  DayOfWeek Carrier TailNum  FlightNum Origin OriginCityName  \\\n",
       "0  2015-08-02          7      AA  N790AA          1    JFK   New York, NY   \n",
       "1  2015-08-03          1      AA  N784AA          1    JFK   New York, NY   \n",
       "2  2015-08-04          2      AA  N793AA          1    JFK   New York, NY   \n",
       "3  2015-08-05          3      AA  N787AA          1    JFK   New York, NY   \n",
       "4  2015-08-06          4      AA  N790AA          1    JFK   New York, NY   \n",
       "\n",
       "  OriginStateName Dest     DestCityName DestStateName  DepTime  DepDelay  \\\n",
       "0        New York  LAX  Los Angeles, CA    California    854.0      -6.0   \n",
       "1        New York  LAX  Los Angeles, CA    California    858.0      -2.0   \n",
       "2        New York  LAX  Los Angeles, CA    California    902.0       2.0   \n",
       "3        New York  LAX  Los Angeles, CA    California    857.0      -3.0   \n",
       "4        New York  LAX  Los Angeles, CA    California    857.0      -3.0   \n",
       "\n",
       "   AirTime  Distance  \n",
       "0    313.0    2475.0  \n",
       "1    316.0    2475.0  \n",
       "2    326.0    2475.0  \n",
       "3    331.0    2475.0  \n",
       "4    326.0    2475.0  "
      ]
     },
     "execution_count": 38,
     "metadata": {},
     "output_type": "execute_result"
    }
   ],
   "source": [
    "interesting_cols = ['FlightDate', 'DayOfWeek', 'Carrier', 'TailNum', 'FlightNum', 'Origin', \n",
    "         'OriginCityName', 'OriginStateName', 'Dest', 'DestCityName', 'DestStateName',\n",
    "         'DepTime', 'DepDelay', 'AirTime', 'Distance']\n",
    "\n",
    "df3 = df2[interesting_cols]\n",
    "df3.head()"
   ]
  },
  {
   "cell_type": "markdown",
   "metadata": {},
   "source": [
    "## Formatting columns and parsing dates and times\n",
    "\n",
    "Hurray! we have almost cleaned our dataset. Soon we will begin to do some actual work with it. "
   ]
  },
  {
   "cell_type": "code",
   "execution_count": 40,
   "metadata": {},
   "outputs": [
    {
     "data": {
      "text/plain": [
       "FlightDate          object\n",
       "DayOfWeek            int64\n",
       "Carrier             object\n",
       "TailNum             object\n",
       "FlightNum            int64\n",
       "Origin              object\n",
       "OriginCityName      object\n",
       "OriginStateName     object\n",
       "Dest                object\n",
       "DestCityName        object\n",
       "DestStateName       object\n",
       "DepTime            float64\n",
       "DepDelay           float64\n",
       "AirTime            float64\n",
       "Distance           float64\n",
       "dtype: object"
      ]
     },
     "execution_count": 40,
     "metadata": {},
     "output_type": "execute_result"
    }
   ],
   "source": [
    "df3.dtypes"
   ]
  },
  {
   "cell_type": "markdown",
   "metadata": {},
   "source": [
    "Pandas interpreted the Deptime column as ints and the FlighDate column as strings. We want to combine them and parse them into a DateTime column, so that we can use them properly as datetimes."
   ]
  },
  {
   "cell_type": "markdown",
   "metadata": {},
   "source": [
    "First step:\n",
    "\n",
    "#### Exercise\n",
    "\n",
    "Define a function that will parse our int hours into a reasonable format (\"HH:MM\"). It should take only one int hour and return the appropriate representation."
   ]
  },
  {
   "cell_type": "code",
   "execution_count": 60,
   "metadata": {},
   "outputs": [],
   "source": [
    "# rjust devuelve un string de longitud fijada si el string no tiene esa longitud lo rellena con el parámetro que le demos\n",
    "\n",
    "def float_to_timestr(number):\n",
    "    standarised = str(number).rjust(6,'0')\n",
    "    return standarised[:2] + ':' + standarised[2:4]"
   ]
  },
  {
   "cell_type": "code",
   "execution_count": 59,
   "metadata": {},
   "outputs": [
    {
     "data": {
      "text/plain": [
       "'18:54'"
      ]
     },
     "execution_count": 59,
     "metadata": {},
     "output_type": "execute_result"
    }
   ],
   "source": [
    "float_to_timestr(1854.0)"
   ]
  },
  {
   "cell_type": "code",
   "execution_count": 91,
   "metadata": {},
   "outputs": [],
   "source": [
    "def float_to_timestr2(number):\n",
    "    hour = (number // 100) % 24\n",
    "    minutes = number % 100\n",
    "    return '%.2d:%.2d' % (hour,minutes)"
   ]
  },
  {
   "cell_type": "code",
   "execution_count": 92,
   "metadata": {},
   "outputs": [
    {
     "data": {
      "text/plain": [
       "'08:54'"
      ]
     },
     "execution_count": 92,
     "metadata": {},
     "output_type": "execute_result"
    }
   ],
   "source": [
    "float_to_timestr2(854.0)"
   ]
  },
  {
   "cell_type": "markdown",
   "metadata": {},
   "source": [
    "Now, we can use that function to build datetime strings that we will then pass to pd.to_datetime, with a format we will specify. Let's do that\n",
    "\n",
    "Hint: Check out [pd.to_datetime's documentatoin](http://pandas.pydata.org/pandas-docs/stable/generated/pandas.to_datetime.html) for info on the acceptable format."
   ]
  },
  {
   "cell_type": "markdown",
   "metadata": {},
   "source": [
    "#### Exercise\n",
    "\n",
    "Overwrite the 'DepTime' column with its version in the proper format\n",
    "\n",
    "Hint: Before overwriting your column in the dataframe, make sure that everything works by assigning the modified column to a Series variable."
   ]
  },
  {
   "cell_type": "markdown",
   "metadata": {},
   "source": [
    "#### Exercise\n",
    "\n",
    "Now, create a DepDateTime with the proper type using `pd.to_datetime`"
   ]
  },
  {
   "cell_type": "code",
   "execution_count": 93,
   "metadata": {},
   "outputs": [],
   "source": [
    "dep_times = df3['DepTime'].fillna(0.0).apply(float_to_timestr2) "
   ]
  },
  {
   "cell_type": "code",
   "execution_count": 94,
   "metadata": {},
   "outputs": [
    {
     "data": {
      "text/plain": [
       "dtype('O')"
      ]
     },
     "execution_count": 94,
     "metadata": {},
     "output_type": "execute_result"
    }
   ],
   "source": [
    "datetime_strs= df3['FlightDate'] + ' ' + dep_times\n",
    "datetime_strs.dtype"
   ]
  },
  {
   "cell_type": "code",
   "execution_count": 101,
   "metadata": {},
   "outputs": [
    {
     "name": "stderr",
     "output_type": "stream",
     "text": [
      "/home/dsc/anaconda3/lib/python3.6/site-packages/ipykernel_launcher.py:1: SettingWithCopyWarning: \n",
      "A value is trying to be set on a copy of a slice from a DataFrame.\n",
      "Try using .loc[row_indexer,col_indexer] = value instead\n",
      "\n",
      "See the caveats in the documentation: http://pandas.pydata.org/pandas-docs/stable/indexing.html#indexing-view-versus-copy\n",
      "  \"\"\"Entry point for launching an IPython kernel.\n"
     ]
    }
   ],
   "source": [
    "df3['FlightDateTime'] = pd.to_datetime(datetime_strs)"
   ]
  },
  {
   "cell_type": "code",
   "execution_count": 102,
   "metadata": {},
   "outputs": [
    {
     "data": {
      "text/html": [
       "<div>\n",
       "<style scoped>\n",
       "    .dataframe tbody tr th:only-of-type {\n",
       "        vertical-align: middle;\n",
       "    }\n",
       "\n",
       "    .dataframe tbody tr th {\n",
       "        vertical-align: top;\n",
       "    }\n",
       "\n",
       "    .dataframe thead th {\n",
       "        text-align: right;\n",
       "    }\n",
       "</style>\n",
       "<table border=\"1\" class=\"dataframe\">\n",
       "  <thead>\n",
       "    <tr style=\"text-align: right;\">\n",
       "      <th></th>\n",
       "      <th>FlightDate</th>\n",
       "      <th>DayOfWeek</th>\n",
       "      <th>Carrier</th>\n",
       "      <th>TailNum</th>\n",
       "      <th>FlightNum</th>\n",
       "      <th>Origin</th>\n",
       "      <th>OriginCityName</th>\n",
       "      <th>OriginStateName</th>\n",
       "      <th>Dest</th>\n",
       "      <th>DestCityName</th>\n",
       "      <th>DestStateName</th>\n",
       "      <th>DepTime</th>\n",
       "      <th>DepDelay</th>\n",
       "      <th>AirTime</th>\n",
       "      <th>Distance</th>\n",
       "      <th>FlightDateTime</th>\n",
       "    </tr>\n",
       "  </thead>\n",
       "  <tbody>\n",
       "    <tr>\n",
       "      <th>0</th>\n",
       "      <td>2015-08-02</td>\n",
       "      <td>7</td>\n",
       "      <td>AA</td>\n",
       "      <td>N790AA</td>\n",
       "      <td>1</td>\n",
       "      <td>JFK</td>\n",
       "      <td>New York, NY</td>\n",
       "      <td>New York</td>\n",
       "      <td>LAX</td>\n",
       "      <td>Los Angeles, CA</td>\n",
       "      <td>California</td>\n",
       "      <td>854.0</td>\n",
       "      <td>-6.0</td>\n",
       "      <td>313.0</td>\n",
       "      <td>2475.0</td>\n",
       "      <td>2015-08-02 08:54:00</td>\n",
       "    </tr>\n",
       "    <tr>\n",
       "      <th>1</th>\n",
       "      <td>2015-08-03</td>\n",
       "      <td>1</td>\n",
       "      <td>AA</td>\n",
       "      <td>N784AA</td>\n",
       "      <td>1</td>\n",
       "      <td>JFK</td>\n",
       "      <td>New York, NY</td>\n",
       "      <td>New York</td>\n",
       "      <td>LAX</td>\n",
       "      <td>Los Angeles, CA</td>\n",
       "      <td>California</td>\n",
       "      <td>858.0</td>\n",
       "      <td>-2.0</td>\n",
       "      <td>316.0</td>\n",
       "      <td>2475.0</td>\n",
       "      <td>2015-08-03 08:58:00</td>\n",
       "    </tr>\n",
       "    <tr>\n",
       "      <th>2</th>\n",
       "      <td>2015-08-04</td>\n",
       "      <td>2</td>\n",
       "      <td>AA</td>\n",
       "      <td>N793AA</td>\n",
       "      <td>1</td>\n",
       "      <td>JFK</td>\n",
       "      <td>New York, NY</td>\n",
       "      <td>New York</td>\n",
       "      <td>LAX</td>\n",
       "      <td>Los Angeles, CA</td>\n",
       "      <td>California</td>\n",
       "      <td>902.0</td>\n",
       "      <td>2.0</td>\n",
       "      <td>326.0</td>\n",
       "      <td>2475.0</td>\n",
       "      <td>2015-08-04 09:02:00</td>\n",
       "    </tr>\n",
       "    <tr>\n",
       "      <th>3</th>\n",
       "      <td>2015-08-05</td>\n",
       "      <td>3</td>\n",
       "      <td>AA</td>\n",
       "      <td>N787AA</td>\n",
       "      <td>1</td>\n",
       "      <td>JFK</td>\n",
       "      <td>New York, NY</td>\n",
       "      <td>New York</td>\n",
       "      <td>LAX</td>\n",
       "      <td>Los Angeles, CA</td>\n",
       "      <td>California</td>\n",
       "      <td>857.0</td>\n",
       "      <td>-3.0</td>\n",
       "      <td>331.0</td>\n",
       "      <td>2475.0</td>\n",
       "      <td>2015-08-05 08:57:00</td>\n",
       "    </tr>\n",
       "    <tr>\n",
       "      <th>4</th>\n",
       "      <td>2015-08-06</td>\n",
       "      <td>4</td>\n",
       "      <td>AA</td>\n",
       "      <td>N790AA</td>\n",
       "      <td>1</td>\n",
       "      <td>JFK</td>\n",
       "      <td>New York, NY</td>\n",
       "      <td>New York</td>\n",
       "      <td>LAX</td>\n",
       "      <td>Los Angeles, CA</td>\n",
       "      <td>California</td>\n",
       "      <td>857.0</td>\n",
       "      <td>-3.0</td>\n",
       "      <td>326.0</td>\n",
       "      <td>2475.0</td>\n",
       "      <td>2015-08-06 08:57:00</td>\n",
       "    </tr>\n",
       "  </tbody>\n",
       "</table>\n",
       "</div>"
      ],
      "text/plain": [
       "   FlightDate  DayOfWeek Carrier TailNum  FlightNum Origin OriginCityName  \\\n",
       "0  2015-08-02          7      AA  N790AA          1    JFK   New York, NY   \n",
       "1  2015-08-03          1      AA  N784AA          1    JFK   New York, NY   \n",
       "2  2015-08-04          2      AA  N793AA          1    JFK   New York, NY   \n",
       "3  2015-08-05          3      AA  N787AA          1    JFK   New York, NY   \n",
       "4  2015-08-06          4      AA  N790AA          1    JFK   New York, NY   \n",
       "\n",
       "  OriginStateName Dest     DestCityName DestStateName  DepTime  DepDelay  \\\n",
       "0        New York  LAX  Los Angeles, CA    California    854.0      -6.0   \n",
       "1        New York  LAX  Los Angeles, CA    California    858.0      -2.0   \n",
       "2        New York  LAX  Los Angeles, CA    California    902.0       2.0   \n",
       "3        New York  LAX  Los Angeles, CA    California    857.0      -3.0   \n",
       "4        New York  LAX  Los Angeles, CA    California    857.0      -3.0   \n",
       "\n",
       "   AirTime  Distance      FlightDateTime  \n",
       "0    313.0    2475.0 2015-08-02 08:54:00  \n",
       "1    316.0    2475.0 2015-08-03 08:58:00  \n",
       "2    326.0    2475.0 2015-08-04 09:02:00  \n",
       "3    331.0    2475.0 2015-08-05 08:57:00  \n",
       "4    326.0    2475.0 2015-08-06 08:57:00  "
      ]
     },
     "execution_count": 102,
     "metadata": {},
     "output_type": "execute_result"
    }
   ],
   "source": [
    "df3.head()"
   ]
  },
  {
   "cell_type": "markdown",
   "metadata": {},
   "source": [
    "### Inspect the types, see if everything is in order"
   ]
  },
  {
   "cell_type": "code",
   "execution_count": 103,
   "metadata": {},
   "outputs": [
    {
     "data": {
      "text/plain": [
       "FlightDate                 object\n",
       "DayOfWeek                   int64\n",
       "Carrier                    object\n",
       "TailNum                    object\n",
       "FlightNum                   int64\n",
       "Origin                     object\n",
       "OriginCityName             object\n",
       "OriginStateName            object\n",
       "Dest                       object\n",
       "DestCityName               object\n",
       "DestStateName              object\n",
       "DepTime                   float64\n",
       "DepDelay                  float64\n",
       "AirTime                   float64\n",
       "Distance                  float64\n",
       "FlightDateTime     datetime64[ns]\n",
       "dtype: object"
      ]
     },
     "execution_count": 103,
     "metadata": {},
     "output_type": "execute_result"
    }
   ],
   "source": [
    "df3.dtypes"
   ]
  },
  {
   "cell_type": "code",
   "execution_count": 107,
   "metadata": {},
   "outputs": [
    {
     "data": {
      "text/plain": [
       "(0    8\n",
       " 1    8\n",
       " 2    9\n",
       " 3    8\n",
       " 4    8\n",
       " Name: FlightDateTime, dtype: int64, 0    54\n",
       " 1    58\n",
       " 2     2\n",
       " 3    57\n",
       " 4    57\n",
       " Name: FlightDateTime, dtype: int64, 0       Sunday\n",
       " 1       Monday\n",
       " 2      Tuesday\n",
       " 3    Wednesday\n",
       " 4     Thursday\n",
       " Name: FlightDateTime, dtype: object)"
      ]
     },
     "execution_count": 107,
     "metadata": {},
     "output_type": "execute_result"
    }
   ],
   "source": [
    "fdt = df3['FlightDateTime']\n",
    "fdt.dt.hour.head(), fdt.dt.minute.head(), fdt.dt.weekday_name.head()"
   ]
  },
  {
   "cell_type": "markdown",
   "metadata": {},
   "source": [
    "## Examining the data"
   ]
  },
  {
   "cell_type": "markdown",
   "metadata": {},
   "source": [
    "Finally clean! Let's start to do some preliminary work on the data."
   ]
  },
  {
   "cell_type": "markdown",
   "metadata": {},
   "source": [
    "#### Exercise:\n",
    "\n",
    "Find the biggest delays. \n",
    "\n",
    "How would you find the 5 maximum delays?"
   ]
  },
  {
   "cell_type": "code",
   "execution_count": 122,
   "metadata": {},
   "outputs": [
    {
     "data": {
      "text/plain": [
       "4106     1878.0\n",
       "7165     1515.0\n",
       "19225    1402.0\n",
       "33642    1259.0\n",
       "7028     1235.0\n",
       "Name: DepDelay, dtype: float64"
      ]
     },
     "execution_count": 122,
     "metadata": {},
     "output_type": "execute_result"
    }
   ],
   "source": [
    "df3['DepDelay'].sort_values(ascending = False).head(5)"
   ]
  },
  {
   "cell_type": "markdown",
   "metadata": {},
   "source": [
    "#### Exercise\n",
    "\n",
    "What was the average delay for this month? Standard deviation and typical value?"
   ]
  },
  {
   "cell_type": "code",
   "execution_count": 143,
   "metadata": {},
   "outputs": [
    {
     "data": {
      "text/plain": [
       "mean     9.932045\n",
       "std     36.920822\n",
       "Name: DepDelay, dtype: float64"
      ]
     },
     "execution_count": 143,
     "metadata": {},
     "output_type": "execute_result"
    }
   ],
   "source": [
    "df3['DepDelay'].agg(['mean','std'])"
   ]
  },
  {
   "cell_type": "code",
   "execution_count": 128,
   "metadata": {},
   "outputs": [
    {
     "data": {
      "text/plain": [
       "-3.0    41450\n",
       "-2.0    39232\n",
       "-4.0    39217\n",
       "Name: DepDelay, dtype: int64"
      ]
     },
     "execution_count": 128,
     "metadata": {},
     "output_type": "execute_result"
    }
   ],
   "source": [
    "df3['DepDelay'].value_counts().head(3)"
   ]
  },
  {
   "cell_type": "code",
   "execution_count": 129,
   "metadata": {},
   "outputs": [
    {
     "data": {
      "text/plain": [
       "0   -3.0\n",
       "dtype: float64"
      ]
     },
     "execution_count": 129,
     "metadata": {},
     "output_type": "execute_result"
    }
   ],
   "source": [
    "df3['DepDelay'].mode()"
   ]
  },
  {
   "cell_type": "markdown",
   "metadata": {},
   "source": [
    "Also: a quick look at the correlation between the numerical variables is extremely easy with pandas:"
   ]
  },
  {
   "cell_type": "code",
   "execution_count": 144,
   "metadata": {},
   "outputs": [
    {
     "data": {
      "text/html": [
       "<div>\n",
       "<style scoped>\n",
       "    .dataframe tbody tr th:only-of-type {\n",
       "        vertical-align: middle;\n",
       "    }\n",
       "\n",
       "    .dataframe tbody tr th {\n",
       "        vertical-align: top;\n",
       "    }\n",
       "\n",
       "    .dataframe thead th {\n",
       "        text-align: right;\n",
       "    }\n",
       "</style>\n",
       "<table border=\"1\" class=\"dataframe\">\n",
       "  <thead>\n",
       "    <tr style=\"text-align: right;\">\n",
       "      <th></th>\n",
       "      <th>DepDelay</th>\n",
       "      <th>Distance</th>\n",
       "      <th>AirTime</th>\n",
       "    </tr>\n",
       "  </thead>\n",
       "  <tbody>\n",
       "    <tr>\n",
       "      <th>DepDelay</th>\n",
       "      <td>1.000000</td>\n",
       "      <td>0.025826</td>\n",
       "      <td>0.024412</td>\n",
       "    </tr>\n",
       "    <tr>\n",
       "      <th>Distance</th>\n",
       "      <td>0.025826</td>\n",
       "      <td>1.000000</td>\n",
       "      <td>0.991452</td>\n",
       "    </tr>\n",
       "    <tr>\n",
       "      <th>AirTime</th>\n",
       "      <td>0.024412</td>\n",
       "      <td>0.991452</td>\n",
       "      <td>1.000000</td>\n",
       "    </tr>\n",
       "  </tbody>\n",
       "</table>\n",
       "</div>"
      ],
      "text/plain": [
       "          DepDelay  Distance   AirTime\n",
       "DepDelay  1.000000  0.025826  0.024412\n",
       "Distance  0.025826  1.000000  0.991452\n",
       "AirTime   0.024412  0.991452  1.000000"
      ]
     },
     "execution_count": 144,
     "metadata": {},
     "output_type": "execute_result"
    }
   ],
   "source": [
    "df3[['DepDelay','Distance','AirTime']].corr()"
   ]
  },
  {
   "cell_type": "code",
   "execution_count": 149,
   "metadata": {},
   "outputs": [
    {
     "data": {
      "text/plain": [
       "<matplotlib.collections.PathCollection at 0x7fe8aeec3710>"
      ]
     },
     "execution_count": 149,
     "metadata": {},
     "output_type": "execute_result"
    },
    {
     "data": {
      "image/png": "[encoded data removed]",
      "text/plain": [
       "<Figure size 432x288 with 1 Axes>"
      ]
     },
     "metadata": {},
     "output_type": "display_data"
    }
   ],
   "source": [
    "sample = df3.sample(50000)\n",
    "plt.scatter(sample['Distance'],sample['AirTime'],alpha=0.5)"
   ]
  },
  {
   "cell_type": "markdown",
   "metadata": {},
   "source": [
    "#### Exercise\n",
    "\n",
    "What is the plane that has the highest average delay? We'll first group by tail number (the *license plate* of a plane) and then calculate the relevant statistic for each group (group of *departures*)"
   ]
  },
  {
   "cell_type": "code",
   "execution_count": 153,
   "metadata": {},
   "outputs": [
    {
     "data": {
      "text/plain": [
       "TailNum\n",
       "N37018    293.000000\n",
       "N218UA    270.000000\n",
       "N283AY    208.000000\n",
       "N795UA    193.000000\n",
       "N7AEAA    191.666667\n",
       "Name: DepDelay, dtype: float64"
      ]
     },
     "execution_count": 153,
     "metadata": {},
     "output_type": "execute_result"
    }
   ],
   "source": [
    "df3.groupby('TailNum')['DepDelay'].mean().sort_values(ascending=False).head(5)"
   ]
  },
  {
   "cell_type": "markdown",
   "metadata": {},
   "source": [
    "Oh, but those numbers smell like these planes had only a few, very delayed, departures! how can we count the number of departures *and* calculate the average delay at the same time?"
   ]
  },
  {
   "cell_type": "code",
   "execution_count": 165,
   "metadata": {
    "collapsed": true
   },
   "outputs": [
    {
     "data": {
      "text/html": [
       "<div>\n",
       "<style scoped>\n",
       "    .dataframe tbody tr th:only-of-type {\n",
       "        vertical-align: middle;\n",
       "    }\n",
       "\n",
       "    .dataframe tbody tr th {\n",
       "        vertical-align: top;\n",
       "    }\n",
       "\n",
       "    .dataframe thead th {\n",
       "        text-align: right;\n",
       "    }\n",
       "</style>\n",
       "<table border=\"1\" class=\"dataframe\">\n",
       "  <thead>\n",
       "    <tr style=\"text-align: right;\">\n",
       "      <th></th>\n",
       "      <th>mean</th>\n",
       "      <th>count</th>\n",
       "    </tr>\n",
       "    <tr>\n",
       "      <th>TailNum</th>\n",
       "      <th></th>\n",
       "      <th></th>\n",
       "    </tr>\n",
       "  </thead>\n",
       "  <tbody>\n",
       "    <tr>\n",
       "      <th>N37018</th>\n",
       "      <td>293.000000</td>\n",
       "      <td>2</td>\n",
       "    </tr>\n",
       "    <tr>\n",
       "      <th>N218UA</th>\n",
       "      <td>270.000000</td>\n",
       "      <td>1</td>\n",
       "    </tr>\n",
       "    <tr>\n",
       "      <th>N283AY</th>\n",
       "      <td>208.000000</td>\n",
       "      <td>2</td>\n",
       "    </tr>\n",
       "    <tr>\n",
       "      <th>N795UA</th>\n",
       "      <td>193.000000</td>\n",
       "      <td>1</td>\n",
       "    </tr>\n",
       "    <tr>\n",
       "      <th>N7AEAA</th>\n",
       "      <td>191.666667</td>\n",
       "      <td>3</td>\n",
       "    </tr>\n",
       "    <tr>\n",
       "      <th>N182DN</th>\n",
       "      <td>187.500000</td>\n",
       "      <td>2</td>\n",
       "    </tr>\n",
       "    <tr>\n",
       "      <th>N793UA</th>\n",
       "      <td>136.750000</td>\n",
       "      <td>4</td>\n",
       "    </tr>\n",
       "    <tr>\n",
       "      <th>N7AHAA</th>\n",
       "      <td>115.250000</td>\n",
       "      <td>4</td>\n",
       "    </tr>\n",
       "    <tr>\n",
       "      <th>N7BPAA</th>\n",
       "      <td>98.500000</td>\n",
       "      <td>2</td>\n",
       "    </tr>\n",
       "    <tr>\n",
       "      <th>N7BXAA</th>\n",
       "      <td>92.800000</td>\n",
       "      <td>5</td>\n",
       "    </tr>\n",
       "  </tbody>\n",
       "</table>\n",
       "</div>"
      ],
      "text/plain": [
       "               mean  count\n",
       "TailNum                   \n",
       "N37018   293.000000      2\n",
       "N218UA   270.000000      1\n",
       "N283AY   208.000000      2\n",
       "N795UA   193.000000      1\n",
       "N7AEAA   191.666667      3\n",
       "N182DN   187.500000      2\n",
       "N793UA   136.750000      4\n",
       "N7AHAA   115.250000      4\n",
       "N7BPAA    98.500000      2\n",
       "N7BXAA    92.800000      5"
      ]
     },
     "execution_count": 165,
     "metadata": {},
     "output_type": "execute_result"
    }
   ],
   "source": [
    "delays = df3.groupby('TailNum')['DepDelay'].agg(['mean','count'])\n",
    "top_delays = delays.sort_values(by='mean', ascending=False).head(10)\n",
    "top_delays"
   ]
  },
  {
   "cell_type": "markdown",
   "metadata": {},
   "source": [
    "Awesome! now, let's look at the average delay of the planes with some departures (let's say, at least 15)"
   ]
  },
  {
   "cell_type": "code",
   "execution_count": 167,
   "metadata": {
    "scrolled": true
   },
   "outputs": [
    {
     "data": {
      "text/html": [
       "<div>\n",
       "<style scoped>\n",
       "    .dataframe tbody tr th:only-of-type {\n",
       "        vertical-align: middle;\n",
       "    }\n",
       "\n",
       "    .dataframe tbody tr th {\n",
       "        vertical-align: top;\n",
       "    }\n",
       "\n",
       "    .dataframe thead th {\n",
       "        text-align: right;\n",
       "    }\n",
       "</style>\n",
       "<table border=\"1\" class=\"dataframe\">\n",
       "  <thead>\n",
       "    <tr style=\"text-align: right;\">\n",
       "      <th></th>\n",
       "      <th>mean</th>\n",
       "      <th>count</th>\n",
       "    </tr>\n",
       "    <tr>\n",
       "      <th>TailNum</th>\n",
       "      <th></th>\n",
       "      <th></th>\n",
       "    </tr>\n",
       "  </thead>\n",
       "  <tbody>\n",
       "    <tr>\n",
       "      <th>N357AA</th>\n",
       "      <td>90.047619</td>\n",
       "      <td>21</td>\n",
       "    </tr>\n",
       "    <tr>\n",
       "      <th>N13110</th>\n",
       "      <td>74.187500</td>\n",
       "      <td>16</td>\n",
       "    </tr>\n",
       "    <tr>\n",
       "      <th>N448SW</th>\n",
       "      <td>71.473684</td>\n",
       "      <td>19</td>\n",
       "    </tr>\n",
       "    <tr>\n",
       "      <th>N780UA</th>\n",
       "      <td>62.368421</td>\n",
       "      <td>19</td>\n",
       "    </tr>\n",
       "    <tr>\n",
       "      <th>N374SW</th>\n",
       "      <td>61.173913</td>\n",
       "      <td>23</td>\n",
       "    </tr>\n",
       "    <tr>\n",
       "      <th>N76064</th>\n",
       "      <td>59.000000</td>\n",
       "      <td>15</td>\n",
       "    </tr>\n",
       "    <tr>\n",
       "      <th>N8ACAA</th>\n",
       "      <td>56.187500</td>\n",
       "      <td>16</td>\n",
       "    </tr>\n",
       "    <tr>\n",
       "      <th>N5ELAA</th>\n",
       "      <td>50.076923</td>\n",
       "      <td>78</td>\n",
       "    </tr>\n",
       "    <tr>\n",
       "      <th>N73275</th>\n",
       "      <td>49.949153</td>\n",
       "      <td>59</td>\n",
       "    </tr>\n",
       "    <tr>\n",
       "      <th>N504NK</th>\n",
       "      <td>48.538462</td>\n",
       "      <td>143</td>\n",
       "    </tr>\n",
       "  </tbody>\n",
       "</table>\n",
       "</div>"
      ],
      "text/plain": [
       "              mean  count\n",
       "TailNum                  \n",
       "N357AA   90.047619     21\n",
       "N13110   74.187500     16\n",
       "N448SW   71.473684     19\n",
       "N780UA   62.368421     19\n",
       "N374SW   61.173913     23\n",
       "N76064   59.000000     15\n",
       "N8ACAA   56.187500     16\n",
       "N5ELAA   50.076923     78\n",
       "N73275   49.949153     59\n",
       "N504NK   48.538462    143"
      ]
     },
     "execution_count": 167,
     "metadata": {},
     "output_type": "execute_result"
    }
   ],
   "source": [
    "delays[delays['count'] >= 15].sort_values(by='mean', ascending=False).head(10)"
   ]
  },
  {
   "cell_type": "markdown",
   "metadata": {},
   "source": [
    "#### Exercise: \n",
    "\n",
    "Show cities by descending number of airports"
   ]
  },
  {
   "cell_type": "code",
   "execution_count": 180,
   "metadata": {},
   "outputs": [
    {
     "data": {
      "text/plain": [
       "OriginCityName\n",
       "Houston, TX            2\n",
       "Chicago, IL            2\n",
       "New York, NY           2\n",
       "Washington, DC         2\n",
       "Fayetteville, AR       1\n",
       "Fayetteville, NC       1\n",
       "Flagstaff, AZ          1\n",
       "Flint, MI              1\n",
       "Fort Lauderdale, FL    1\n",
       "Fort Myers, FL         1\n",
       "Name: Origin, dtype: int64"
      ]
     },
     "execution_count": 180,
     "metadata": {},
     "output_type": "execute_result"
    }
   ],
   "source": [
    "df3.groupby('OriginCityName')['Origin'].nunique().sort_values(ascending= False).head(10)"
   ]
  },
  {
   "cell_type": "code",
   "execution_count": 183,
   "metadata": {},
   "outputs": [
    {
     "name": "stdout",
     "output_type": "stream",
     "text": [
      "CPU times: user 1.33 s, sys: 9.17 ms, total: 1.34 s\n",
      "Wall time: 1.35 s\n"
     ]
    },
    {
     "data": {
      "text/plain": [
       "OriginCityMarketID\n",
       "31703    6\n",
       "32575    5\n",
       "30852    3\n",
       "32457    3\n",
       "30721    3\n",
       "31453    2\n",
       "30647    2\n",
       "32467    2\n",
       "30194    2\n",
       "30977    2\n",
       "Name: Origin, dtype: int64"
      ]
     },
     "execution_count": 183,
     "metadata": {},
     "output_type": "execute_result"
    }
   ],
   "source": [
    "%%time\n",
    "\n",
    "df2.groupby('OriginCityMarketID')['Origin'].nunique().sort_values(ascending= False).head(10)"
   ]
  },
  {
   "cell_type": "markdown",
   "metadata": {},
   "source": [
    "## Plotting\n",
    "\n",
    "There are several ways in which we could go about plotting this dataset in order to get acquainted with it. "
   ]
  },
  {
   "cell_type": "markdown",
   "metadata": {},
   "source": [
    "For example, do the delays have a relationship with the number of departures a plane does?"
   ]
  },
  {
   "cell_type": "markdown",
   "metadata": {},
   "source": [
    "#### Exercise\n",
    "\n",
    "Do a scatter plot with matplotlib. Check the documentation"
   ]
  },
  {
   "cell_type": "code",
   "execution_count": null,
   "metadata": {},
   "outputs": [],
   "source": []
  },
  {
   "cell_type": "markdown",
   "metadata": {},
   "source": [
    "Pretty impossible to see anything in there. Maybe a different kind of plottting is required:"
   ]
  },
  {
   "cell_type": "code",
   "execution_count": null,
   "metadata": {},
   "outputs": [],
   "source": []
  },
  {
   "cell_type": "markdown",
   "metadata": {},
   "source": [
    "#### Exercise:\n",
    "\n",
    "Plot the distribution of delays as a histogram, both with a linear and a logarithmic scale"
   ]
  },
  {
   "cell_type": "code",
   "execution_count": null,
   "metadata": {},
   "outputs": [],
   "source": []
  },
  {
   "cell_type": "markdown",
   "metadata": {},
   "source": [
    "### Another question:\n",
    "\n",
    "how do the delays stack over the course of the day? We are going to look at it by plotting the distribution of delays for each hour of the day. The very best way to compare distributions side by side is a boxplot, so we'll use that."
   ]
  },
  {
   "cell_type": "code",
   "execution_count": null,
   "metadata": {},
   "outputs": [],
   "source": []
  },
  {
   "cell_type": "markdown",
   "metadata": {},
   "source": [
    "We need to provide `plt.boxplot()` with a sequence that contains 24 elements. Each of those will be a sequence containing every individual delay for one hour of the day. We'll need, therefore, to extract hours of the day for each departure and group based on that."
   ]
  },
  {
   "cell_type": "code",
   "execution_count": null,
   "metadata": {},
   "outputs": [],
   "source": []
  },
  {
   "cell_type": "markdown",
   "metadata": {},
   "source": [
    "### Everything looks ok! let's plot this thing!"
   ]
  },
  {
   "cell_type": "code",
   "execution_count": null,
   "metadata": {},
   "outputs": [],
   "source": []
  }
 ],
 "metadata": {
  "kernelspec": {
   "display_name": "Python 3",
   "language": "python",
   "name": "python3"
  },
  "language_info": {
   "codemirror_mode": {
    "name": "ipython",
    "version": 3
   },
   "file_extension": ".py",
   "mimetype": "text/x-python",
   "name": "python",
   "nbconvert_exporter": "python",
   "pygments_lexer": "ipython3",
   "version": "3.6.8"
  }
 },
 "nbformat": 4,
 "nbformat_minor": 2
}
