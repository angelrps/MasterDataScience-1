{
 "cells": [
  {
   "cell_type": "markdown",
   "metadata": {},
   "source": [
    "# Ejercicios de repaso de Pandas\n",
    "\n",
    "En este notebook vamos a repasar algunos conceptos de Pandas. Este notebook está vacío, pero viene acompanhado de otro notebook con todas las soluciones.\n",
    "\n",
    "**Es extremadamente importante evitar consultar las soluciones hasta que no hayas terminado los ejercicios en este notebook**. Las soluciones pueden parecer sencillas cuando las ves, pero sacarlas por uno mismo puede ser mucho más difícil. **Por favor, solo consulta las soluciones si no puedes avanzar después de varios intentos**."
   ]
  },
  {
   "cell_type": "code",
   "execution_count": 1,
   "metadata": {},
   "outputs": [],
   "source": [
    "import pandas as pd\n",
    "import numpy as np\n",
    "import matplotlib.pyplot as plt\n",
    "%matplotlib inline"
   ]
  },
  {
   "cell_type": "markdown",
   "metadata": {},
   "source": [
    "## Datos\n",
    "\n",
    "Los datos se encuentran en el directorio `data`. Se trata de un fichero CSV, usando comas como separador, y con los nombres de las columnas en la primera fila.\n",
    "\n",
    "*Puedes intentar usar la shell antes para comprobar cómo es el fichero*.\n",
    "\n",
    "**Ejercicio:** Usa la shell antes de cargar el CSV para comprobar cómo de grande es. **Es posible cargar todo el fichero en memoria?**"
   ]
  },
  {
   "cell_type": "code",
   "execution_count": 2,
   "metadata": {},
   "outputs": [
    {
     "name": "stdout",
     "output_type": "stream",
     "text": [
      "/home/dsc/Repos/MasterDataScience/04_Pandas\n"
     ]
    }
   ],
   "source": [
    "! pwd"
   ]
  },
  {
   "cell_type": "code",
   "execution_count": 3,
   "metadata": {},
   "outputs": [
    {
     "name": "stdout",
     "output_type": "stream",
     "text": [
      "/home/dsc/Data\n",
      "total 60\n",
      " 4 drwxr-x--- 2 dsc dsc  4096 mar 13  2018 airline_tickets\n",
      " 4 drwxr-x--- 2 dsc dsc  4096 feb  2 12:40 challenge\n",
      " 4 drwx------ 2 dsc dsc  4096 ene 25 11:30 challenge2\n",
      " 4 drwxr-x--- 2 dsc dsc  4096 feb  6 12:45 opentraveldata\n",
      " 4 -rwxr-x--- 1 dsc dsc   102 mar 13  2018 README.md\n",
      " 4 drwxr-x--- 9 dsc dsc  4096 ene  8 16:56 shell\n",
      " 4 drwxr-x--- 4 dsc dsc  4096 mar 13  2018 us_dot\n",
      "32 -rw-r--r-- 1 dsc dsc 31904 feb  1 17:12 weather_year.csv\n"
     ]
    }
   ],
   "source": [
    "% cd /home/dsc/Data\n",
    "! ls -ls"
   ]
  },
  {
   "cell_type": "markdown",
   "metadata": {},
   "source": [
    "## El dataframe\n",
    "\n",
    "**Ejercicio**: Cuántas filas tiene el dataframe? Y cuántas columnas?\n",
    "\n",
    "*Solución*: 366 filas y 23 columnas"
   ]
  },
  {
   "cell_type": "code",
   "execution_count": 4,
   "metadata": {},
   "outputs": [
    {
     "data": {
      "text/plain": [
       "(366, 23)"
      ]
     },
     "execution_count": 4,
     "metadata": {},
     "output_type": "execute_result"
    }
   ],
   "source": [
    "df = pd.read_csv('weather_year.csv')\n",
    "df.shape"
   ]
  },
  {
   "cell_type": "code",
   "execution_count": 5,
   "metadata": {},
   "outputs": [
    {
     "data": {
      "text/html": [
       "<div>\n",
       "<style scoped>\n",
       "    .dataframe tbody tr th:only-of-type {\n",
       "        vertical-align: middle;\n",
       "    }\n",
       "\n",
       "    .dataframe tbody tr th {\n",
       "        vertical-align: top;\n",
       "    }\n",
       "\n",
       "    .dataframe thead th {\n",
       "        text-align: right;\n",
       "    }\n",
       "</style>\n",
       "<table border=\"1\" class=\"dataframe\">\n",
       "  <thead>\n",
       "    <tr style=\"text-align: right;\">\n",
       "      <th></th>\n",
       "      <th>EDT</th>\n",
       "      <th>Max TemperatureF</th>\n",
       "      <th>Mean TemperatureF</th>\n",
       "      <th>Min TemperatureF</th>\n",
       "      <th>Max Dew PointF</th>\n",
       "      <th>MeanDew PointF</th>\n",
       "      <th>Min DewpointF</th>\n",
       "      <th>Max Humidity</th>\n",
       "      <th>Mean Humidity</th>\n",
       "      <th>Min Humidity</th>\n",
       "      <th>...</th>\n",
       "      <th>Max VisibilityMiles</th>\n",
       "      <th>Mean VisibilityMiles</th>\n",
       "      <th>Min VisibilityMiles</th>\n",
       "      <th>Max Wind SpeedMPH</th>\n",
       "      <th>Mean Wind SpeedMPH</th>\n",
       "      <th>Max Gust SpeedMPH</th>\n",
       "      <th>PrecipitationIn</th>\n",
       "      <th>CloudCover</th>\n",
       "      <th>Events</th>\n",
       "      <th>WindDirDegrees</th>\n",
       "    </tr>\n",
       "  </thead>\n",
       "  <tbody>\n",
       "    <tr>\n",
       "      <th>0</th>\n",
       "      <td>2012-3-10</td>\n",
       "      <td>56</td>\n",
       "      <td>40</td>\n",
       "      <td>24</td>\n",
       "      <td>24</td>\n",
       "      <td>20</td>\n",
       "      <td>16</td>\n",
       "      <td>74</td>\n",
       "      <td>50</td>\n",
       "      <td>26</td>\n",
       "      <td>...</td>\n",
       "      <td>10</td>\n",
       "      <td>10</td>\n",
       "      <td>10</td>\n",
       "      <td>13</td>\n",
       "      <td>6</td>\n",
       "      <td>17.0</td>\n",
       "      <td>0.00</td>\n",
       "      <td>0</td>\n",
       "      <td>NaN</td>\n",
       "      <td>138</td>\n",
       "    </tr>\n",
       "    <tr>\n",
       "      <th>1</th>\n",
       "      <td>2012-3-11</td>\n",
       "      <td>67</td>\n",
       "      <td>49</td>\n",
       "      <td>30</td>\n",
       "      <td>43</td>\n",
       "      <td>31</td>\n",
       "      <td>24</td>\n",
       "      <td>78</td>\n",
       "      <td>53</td>\n",
       "      <td>28</td>\n",
       "      <td>...</td>\n",
       "      <td>10</td>\n",
       "      <td>10</td>\n",
       "      <td>10</td>\n",
       "      <td>22</td>\n",
       "      <td>7</td>\n",
       "      <td>32.0</td>\n",
       "      <td>T</td>\n",
       "      <td>1</td>\n",
       "      <td>Rain</td>\n",
       "      <td>163</td>\n",
       "    </tr>\n",
       "    <tr>\n",
       "      <th>2</th>\n",
       "      <td>2012-3-12</td>\n",
       "      <td>71</td>\n",
       "      <td>62</td>\n",
       "      <td>53</td>\n",
       "      <td>59</td>\n",
       "      <td>55</td>\n",
       "      <td>43</td>\n",
       "      <td>90</td>\n",
       "      <td>76</td>\n",
       "      <td>61</td>\n",
       "      <td>...</td>\n",
       "      <td>10</td>\n",
       "      <td>10</td>\n",
       "      <td>6</td>\n",
       "      <td>24</td>\n",
       "      <td>14</td>\n",
       "      <td>36.0</td>\n",
       "      <td>0.03</td>\n",
       "      <td>6</td>\n",
       "      <td>Rain</td>\n",
       "      <td>190</td>\n",
       "    </tr>\n",
       "    <tr>\n",
       "      <th>3</th>\n",
       "      <td>2012-3-13</td>\n",
       "      <td>76</td>\n",
       "      <td>63</td>\n",
       "      <td>50</td>\n",
       "      <td>57</td>\n",
       "      <td>53</td>\n",
       "      <td>47</td>\n",
       "      <td>93</td>\n",
       "      <td>66</td>\n",
       "      <td>38</td>\n",
       "      <td>...</td>\n",
       "      <td>10</td>\n",
       "      <td>10</td>\n",
       "      <td>4</td>\n",
       "      <td>16</td>\n",
       "      <td>5</td>\n",
       "      <td>24.0</td>\n",
       "      <td>0.00</td>\n",
       "      <td>0</td>\n",
       "      <td>NaN</td>\n",
       "      <td>242</td>\n",
       "    </tr>\n",
       "    <tr>\n",
       "      <th>4</th>\n",
       "      <td>2012-3-14</td>\n",
       "      <td>80</td>\n",
       "      <td>62</td>\n",
       "      <td>44</td>\n",
       "      <td>58</td>\n",
       "      <td>52</td>\n",
       "      <td>43</td>\n",
       "      <td>93</td>\n",
       "      <td>68</td>\n",
       "      <td>42</td>\n",
       "      <td>...</td>\n",
       "      <td>10</td>\n",
       "      <td>10</td>\n",
       "      <td>10</td>\n",
       "      <td>16</td>\n",
       "      <td>6</td>\n",
       "      <td>22.0</td>\n",
       "      <td>0.00</td>\n",
       "      <td>0</td>\n",
       "      <td>NaN</td>\n",
       "      <td>202</td>\n",
       "    </tr>\n",
       "  </tbody>\n",
       "</table>\n",
       "<p>5 rows × 23 columns</p>\n",
       "</div>"
      ],
      "text/plain": [
       "         EDT  Max TemperatureF  Mean TemperatureF  Min TemperatureF  \\\n",
       "0  2012-3-10                56                 40                24   \n",
       "1  2012-3-11                67                 49                30   \n",
       "2  2012-3-12                71                 62                53   \n",
       "3  2012-3-13                76                 63                50   \n",
       "4  2012-3-14                80                 62                44   \n",
       "\n",
       "   Max Dew PointF  MeanDew PointF  Min DewpointF  Max Humidity  \\\n",
       "0              24              20             16            74   \n",
       "1              43              31             24            78   \n",
       "2              59              55             43            90   \n",
       "3              57              53             47            93   \n",
       "4              58              52             43            93   \n",
       "\n",
       "    Mean Humidity   Min Humidity       ...         Max VisibilityMiles  \\\n",
       "0              50             26       ...                          10   \n",
       "1              53             28       ...                          10   \n",
       "2              76             61       ...                          10   \n",
       "3              66             38       ...                          10   \n",
       "4              68             42       ...                          10   \n",
       "\n",
       "    Mean VisibilityMiles   Min VisibilityMiles   Max Wind SpeedMPH  \\\n",
       "0                     10                    10                  13   \n",
       "1                     10                    10                  22   \n",
       "2                     10                     6                  24   \n",
       "3                     10                     4                  16   \n",
       "4                     10                    10                  16   \n",
       "\n",
       "    Mean Wind SpeedMPH   Max Gust SpeedMPH  PrecipitationIn   CloudCover  \\\n",
       "0                    6                17.0             0.00            0   \n",
       "1                    7                32.0                T            1   \n",
       "2                   14                36.0             0.03            6   \n",
       "3                    5                24.0             0.00            0   \n",
       "4                    6                22.0             0.00            0   \n",
       "\n",
       "    Events  WindDirDegrees  \n",
       "0      NaN             138  \n",
       "1     Rain             163  \n",
       "2     Rain             190  \n",
       "3      NaN             242  \n",
       "4      NaN             202  \n",
       "\n",
       "[5 rows x 23 columns]"
      ]
     },
     "execution_count": 5,
     "metadata": {},
     "output_type": "execute_result"
    }
   ],
   "source": [
    "df.head()"
   ]
  },
  {
   "cell_type": "markdown",
   "metadata": {},
   "source": [
    "## Transformar los datos\n",
    "\n",
    "Los datos de la columna EDT parecen ser fechas, pero sin embargo no se han leído como fechas al cargar el data frame.\n",
    "\n",
    "**Ejercicio**: Comprueba de qué tipo son los datos incluidos en la columna EDT. **Vuelve a leer el dataframe (sobre-escribiendo la variable d) para que los datos sea lean como una fecha**."
   ]
  },
  {
   "cell_type": "code",
   "execution_count": 6,
   "metadata": {
    "collapsed": true
   },
   "outputs": [
    {
     "name": "stdout",
     "output_type": "stream",
     "text": [
      "<class 'pandas.core.frame.DataFrame'>\n",
      "RangeIndex: 366 entries, 0 to 365\n",
      "Data columns (total 23 columns):\n",
      "EDT                           366 non-null object\n",
      "Max TemperatureF              366 non-null int64\n",
      "Mean TemperatureF             366 non-null int64\n",
      "Min TemperatureF              366 non-null int64\n",
      "Max Dew PointF                366 non-null int64\n",
      "MeanDew PointF                366 non-null int64\n",
      "Min DewpointF                 366 non-null int64\n",
      "Max Humidity                  366 non-null int64\n",
      " Mean Humidity                366 non-null int64\n",
      " Min Humidity                 366 non-null int64\n",
      " Max Sea Level PressureIn     366 non-null float64\n",
      " Mean Sea Level PressureIn    366 non-null float64\n",
      " Min Sea Level PressureIn     366 non-null float64\n",
      " Max VisibilityMiles          366 non-null int64\n",
      " Mean VisibilityMiles         366 non-null int64\n",
      " Min VisibilityMiles          366 non-null int64\n",
      " Max Wind SpeedMPH            366 non-null int64\n",
      " Mean Wind SpeedMPH           366 non-null int64\n",
      " Max Gust SpeedMPH            365 non-null float64\n",
      "PrecipitationIn               366 non-null object\n",
      " CloudCover                   366 non-null int64\n",
      " Events                       162 non-null object\n",
      " WindDirDegrees               366 non-null int64\n",
      "dtypes: float64(4), int64(16), object(3)\n",
      "memory usage: 65.8+ KB\n"
     ]
    }
   ],
   "source": [
    "df.info()"
   ]
  },
  {
   "cell_type": "markdown",
   "metadata": {},
   "source": [
    "Para comprobar que los datos se han leído correctamente como una fecha, obtén el año, mes y semana (semana dentro del año, de 1 a 52) de la fecha que está en la cuarta fila en la columna EDT\n",
    "\n",
    "*Solución*: 2012, 3 y 13"
   ]
  },
  {
   "cell_type": "code",
   "execution_count": 7,
   "metadata": {},
   "outputs": [],
   "source": [
    "df['EDT'] = pd.to_datetime(df['EDT'])"
   ]
  },
  {
   "cell_type": "code",
   "execution_count": 8,
   "metadata": {},
   "outputs": [
    {
     "data": {
      "text/plain": [
       "(2012, 3, 13)"
      ]
     },
     "execution_count": 8,
     "metadata": {},
     "output_type": "execute_result"
    }
   ],
   "source": [
    "df.loc[3,'EDT'].year,df.loc[3,'EDT'].month,df.loc[3,'EDT'].day"
   ]
  },
  {
   "cell_type": "markdown",
   "metadata": {},
   "source": [
    "## Renombrar columnas\n",
    "\n",
    "Vamos a cambiar los nombres de todas las columnas para que sea más sencillo manejarlas"
   ]
  },
  {
   "cell_type": "code",
   "execution_count": 9,
   "metadata": {
    "collapsed": true
   },
   "outputs": [
    {
     "data": {
      "text/plain": [
       "Index(['EDT', 'Max TemperatureF', 'Mean TemperatureF', 'Min TemperatureF',\n",
       "       'Max Dew PointF', 'MeanDew PointF', 'Min DewpointF', 'Max Humidity',\n",
       "       ' Mean Humidity', ' Min Humidity', ' Max Sea Level PressureIn',\n",
       "       ' Mean Sea Level PressureIn', ' Min Sea Level PressureIn',\n",
       "       ' Max VisibilityMiles', ' Mean VisibilityMiles', ' Min VisibilityMiles',\n",
       "       ' Max Wind SpeedMPH', ' Mean Wind SpeedMPH', ' Max Gust SpeedMPH',\n",
       "       'PrecipitationIn', ' CloudCover', ' Events', ' WindDirDegrees'],\n",
       "      dtype='object')"
      ]
     },
     "execution_count": 9,
     "metadata": {},
     "output_type": "execute_result"
    }
   ],
   "source": [
    "df.columns"
   ]
  },
  {
   "cell_type": "code",
   "execution_count": 10,
   "metadata": {},
   "outputs": [],
   "source": [
    "df.columns = ['date', 'maxT_F', 'meanT_F', 'minT_F',\n",
    "       'maxDewPoint_F', 'meanDewPoint_F', 'minDewPoint_F', 'maxHum',\n",
    "       'meanHum', 'minHum', 'maxSeaLevelPress_In',\n",
    "       'meanSeaLevelPress_In', 'minSeaLevelPress_In',\n",
    "       'maxVis_Mil', 'meanVis_Mil', 'minVis_Mil',\n",
    "       'maxWindSpeed_MPH', 'meanWindSpeed_MPH', 'minWindSpeed_MPH',\n",
    "       'Precip_In', 'CloudCover', 'Events', 'WindDirDegrees']"
   ]
  },
  {
   "cell_type": "code",
   "execution_count": 11,
   "metadata": {},
   "outputs": [
    {
     "data": {
      "text/html": [
       "<div>\n",
       "<style scoped>\n",
       "    .dataframe tbody tr th:only-of-type {\n",
       "        vertical-align: middle;\n",
       "    }\n",
       "\n",
       "    .dataframe tbody tr th {\n",
       "        vertical-align: top;\n",
       "    }\n",
       "\n",
       "    .dataframe thead th {\n",
       "        text-align: right;\n",
       "    }\n",
       "</style>\n",
       "<table border=\"1\" class=\"dataframe\">\n",
       "  <thead>\n",
       "    <tr style=\"text-align: right;\">\n",
       "      <th></th>\n",
       "      <th>date</th>\n",
       "      <th>maxT_F</th>\n",
       "      <th>meanT_F</th>\n",
       "      <th>minT_F</th>\n",
       "      <th>maxDewPoint_F</th>\n",
       "      <th>meanDewPoint_F</th>\n",
       "      <th>minDewPoint_F</th>\n",
       "      <th>maxHum</th>\n",
       "      <th>meanHum</th>\n",
       "      <th>minHum</th>\n",
       "      <th>...</th>\n",
       "      <th>maxVis_Mil</th>\n",
       "      <th>meanVis_Mil</th>\n",
       "      <th>minVis_Mil</th>\n",
       "      <th>maxWindSpeed_MPH</th>\n",
       "      <th>meanWindSpeed_MPH</th>\n",
       "      <th>minWindSpeed_MPH</th>\n",
       "      <th>Precip_In</th>\n",
       "      <th>CloudCover</th>\n",
       "      <th>Events</th>\n",
       "      <th>WindDirDegrees</th>\n",
       "    </tr>\n",
       "  </thead>\n",
       "  <tbody>\n",
       "    <tr>\n",
       "      <th>0</th>\n",
       "      <td>2012-03-10</td>\n",
       "      <td>56</td>\n",
       "      <td>40</td>\n",
       "      <td>24</td>\n",
       "      <td>24</td>\n",
       "      <td>20</td>\n",
       "      <td>16</td>\n",
       "      <td>74</td>\n",
       "      <td>50</td>\n",
       "      <td>26</td>\n",
       "      <td>...</td>\n",
       "      <td>10</td>\n",
       "      <td>10</td>\n",
       "      <td>10</td>\n",
       "      <td>13</td>\n",
       "      <td>6</td>\n",
       "      <td>17.0</td>\n",
       "      <td>0.00</td>\n",
       "      <td>0</td>\n",
       "      <td>NaN</td>\n",
       "      <td>138</td>\n",
       "    </tr>\n",
       "    <tr>\n",
       "      <th>1</th>\n",
       "      <td>2012-03-11</td>\n",
       "      <td>67</td>\n",
       "      <td>49</td>\n",
       "      <td>30</td>\n",
       "      <td>43</td>\n",
       "      <td>31</td>\n",
       "      <td>24</td>\n",
       "      <td>78</td>\n",
       "      <td>53</td>\n",
       "      <td>28</td>\n",
       "      <td>...</td>\n",
       "      <td>10</td>\n",
       "      <td>10</td>\n",
       "      <td>10</td>\n",
       "      <td>22</td>\n",
       "      <td>7</td>\n",
       "      <td>32.0</td>\n",
       "      <td>T</td>\n",
       "      <td>1</td>\n",
       "      <td>Rain</td>\n",
       "      <td>163</td>\n",
       "    </tr>\n",
       "    <tr>\n",
       "      <th>2</th>\n",
       "      <td>2012-03-12</td>\n",
       "      <td>71</td>\n",
       "      <td>62</td>\n",
       "      <td>53</td>\n",
       "      <td>59</td>\n",
       "      <td>55</td>\n",
       "      <td>43</td>\n",
       "      <td>90</td>\n",
       "      <td>76</td>\n",
       "      <td>61</td>\n",
       "      <td>...</td>\n",
       "      <td>10</td>\n",
       "      <td>10</td>\n",
       "      <td>6</td>\n",
       "      <td>24</td>\n",
       "      <td>14</td>\n",
       "      <td>36.0</td>\n",
       "      <td>0.03</td>\n",
       "      <td>6</td>\n",
       "      <td>Rain</td>\n",
       "      <td>190</td>\n",
       "    </tr>\n",
       "    <tr>\n",
       "      <th>3</th>\n",
       "      <td>2012-03-13</td>\n",
       "      <td>76</td>\n",
       "      <td>63</td>\n",
       "      <td>50</td>\n",
       "      <td>57</td>\n",
       "      <td>53</td>\n",
       "      <td>47</td>\n",
       "      <td>93</td>\n",
       "      <td>66</td>\n",
       "      <td>38</td>\n",
       "      <td>...</td>\n",
       "      <td>10</td>\n",
       "      <td>10</td>\n",
       "      <td>4</td>\n",
       "      <td>16</td>\n",
       "      <td>5</td>\n",
       "      <td>24.0</td>\n",
       "      <td>0.00</td>\n",
       "      <td>0</td>\n",
       "      <td>NaN</td>\n",
       "      <td>242</td>\n",
       "    </tr>\n",
       "    <tr>\n",
       "      <th>4</th>\n",
       "      <td>2012-03-14</td>\n",
       "      <td>80</td>\n",
       "      <td>62</td>\n",
       "      <td>44</td>\n",
       "      <td>58</td>\n",
       "      <td>52</td>\n",
       "      <td>43</td>\n",
       "      <td>93</td>\n",
       "      <td>68</td>\n",
       "      <td>42</td>\n",
       "      <td>...</td>\n",
       "      <td>10</td>\n",
       "      <td>10</td>\n",
       "      <td>10</td>\n",
       "      <td>16</td>\n",
       "      <td>6</td>\n",
       "      <td>22.0</td>\n",
       "      <td>0.00</td>\n",
       "      <td>0</td>\n",
       "      <td>NaN</td>\n",
       "      <td>202</td>\n",
       "    </tr>\n",
       "  </tbody>\n",
       "</table>\n",
       "<p>5 rows × 23 columns</p>\n",
       "</div>"
      ],
      "text/plain": [
       "        date  maxT_F  meanT_F  minT_F  maxDewPoint_F  meanDewPoint_F  \\\n",
       "0 2012-03-10      56       40      24             24              20   \n",
       "1 2012-03-11      67       49      30             43              31   \n",
       "2 2012-03-12      71       62      53             59              55   \n",
       "3 2012-03-13      76       63      50             57              53   \n",
       "4 2012-03-14      80       62      44             58              52   \n",
       "\n",
       "   minDewPoint_F  maxHum  meanHum  minHum      ...        maxVis_Mil  \\\n",
       "0             16      74       50      26      ...                10   \n",
       "1             24      78       53      28      ...                10   \n",
       "2             43      90       76      61      ...                10   \n",
       "3             47      93       66      38      ...                10   \n",
       "4             43      93       68      42      ...                10   \n",
       "\n",
       "   meanVis_Mil  minVis_Mil  maxWindSpeed_MPH  meanWindSpeed_MPH  \\\n",
       "0           10          10                13                  6   \n",
       "1           10          10                22                  7   \n",
       "2           10           6                24                 14   \n",
       "3           10           4                16                  5   \n",
       "4           10          10                16                  6   \n",
       "\n",
       "   minWindSpeed_MPH  Precip_In  CloudCover  Events WindDirDegrees  \n",
       "0              17.0       0.00           0     NaN            138  \n",
       "1              32.0          T           1    Rain            163  \n",
       "2              36.0       0.03           6    Rain            190  \n",
       "3              24.0       0.00           0     NaN            242  \n",
       "4              22.0       0.00           0     NaN            202  \n",
       "\n",
       "[5 rows x 23 columns]"
      ]
     },
     "execution_count": 11,
     "metadata": {},
     "output_type": "execute_result"
    }
   ],
   "source": [
    "df.head()"
   ]
  },
  {
   "cell_type": "markdown",
   "metadata": {},
   "source": [
    "## Propiedades de las columnas\n",
    "\n",
    "Obtén la media, desviación estándar, mínimo y máximo, y los cuartiles de la columna mean_temp\n",
    "\n",
    "Hay un método para dataframes y columnas de dataframes (series) que te permite obtener todos esos valores de una vez. **Puedes encontrar qué método es?**\n",
    "\n",
    "*Solución*:\n",
    "mean      55.683060\n",
    "std       18.436506\n",
    "min       11.000000\n",
    "25%       41.000000\n",
    "50%       59.000000\n",
    "75%       70.750000\n",
    "max       89.000000"
   ]
  },
  {
   "cell_type": "code",
   "execution_count": 12,
   "metadata": {},
   "outputs": [
    {
     "data": {
      "text/plain": [
       "count    366.000000\n",
       "mean      55.683060\n",
       "std       18.436506\n",
       "min       11.000000\n",
       "25%       41.000000\n",
       "50%       59.000000\n",
       "75%       70.750000\n",
       "max       89.000000\n",
       "Name: meanT_F, dtype: float64"
      ]
     },
     "execution_count": 12,
     "metadata": {},
     "output_type": "execute_result"
    }
   ],
   "source": [
    "df['meanT_F'].describe()"
   ]
  },
  {
   "cell_type": "markdown",
   "metadata": {},
   "source": [
    "Ahora vamos a dibujar la evolución de mean_temp.\n",
    "\n",
    "Extrae la columna mean_temp e intenta usar el método plot sobre ella"
   ]
  },
  {
   "cell_type": "code",
   "execution_count": 13,
   "metadata": {},
   "outputs": [
    {
     "data": {
      "image/png": "[encoded data removed]",
      "text/plain": [
       "<Figure size 432x288 with 1 Axes>"
      ]
     },
     "metadata": {},
     "output_type": "display_data"
    }
   ],
   "source": [
    "plt.plot(df['meanT_F'])\n",
    "plt.grid(True)\n",
    "plt.xlabel('Index')\n",
    "plt.ylabel('Mean Temp F');"
   ]
  },
  {
   "cell_type": "markdown",
   "metadata": {},
   "source": [
    "En el eje horizontal se incluye el 'indice de la serie, que en este caso es un número autocorrelativo.\n",
    "\n",
    "Vamos a sustituir el 'indice del dataframe por la columna date, de manera que ahora la fecha sea el 'indice, y por tanto se dibuje en el eje horizontal."
   ]
  },
  {
   "cell_type": "code",
   "execution_count": 14,
   "metadata": {},
   "outputs": [],
   "source": [
    "df.set_index(df['date'],inplace=True)"
   ]
  },
  {
   "cell_type": "markdown",
   "metadata": {},
   "source": [
    "Comprueba que ahora al dibujar la columna mean_temp, en el eje horizontal vemos la fecha en vez del 'indice autocorrelativo"
   ]
  },
  {
   "cell_type": "code",
   "execution_count": 15,
   "metadata": {
    "collapsed": true
   },
   "outputs": [
    {
     "data": {
      "image/png": "[encoded data removed]",
      "text/plain": [
       "<Figure size 432x288 with 1 Axes>"
      ]
     },
     "metadata": {},
     "output_type": "display_data"
    }
   ],
   "source": [
    "plt.plot(df['meanT_F'],'orange',alpha = 0.8)\n",
    "plt.grid(True)\n",
    "plt.xlabel('Date')\n",
    "plt.ylabel('Mean Temp F')\n",
    "plt.title('Mean Temperature Fahrenheit');"
   ]
  },
  {
   "cell_type": "code",
   "execution_count": 16,
   "metadata": {},
   "outputs": [
    {
     "data": {
      "image/png": "[encoded data removed]",
      "text/plain": [
       "<Figure size 432x288 with 1 Axes>"
      ]
     },
     "metadata": {},
     "output_type": "display_data"
    }
   ],
   "source": [
    "plt.plot(((df['meanT_F']-32)*(5 / 9)) ,'green',alpha = 0.8)\n",
    "plt.grid(True)\n",
    "plt.xlabel('Date')\n",
    "plt.ylabel('Mean Temp C')\n",
    "plt.title('Mean Temperature Celsius');"
   ]
  },
  {
   "cell_type": "markdown",
   "metadata": {},
   "source": [
    "Sin embargo, ahora el dataframe tiene a la vez el índice y la columna date con los mismos valores. La columna date es redundante. **Podrías eliminarla?**\n",
    "\n",
    "Ten cuidado, porque al eliminar una columna no actúas sobre el dataframe, sino que obtienes una copia del dataframe con la columna eliminada. No necesitamos el dataframe original, así que sobreescribe d con el nuevo dataframe sin la columna date."
   ]
  },
  {
   "cell_type": "code",
   "execution_count": 17,
   "metadata": {
    "collapsed": true
   },
   "outputs": [
    {
     "data": {
      "text/html": [
       "<div>\n",
       "<style scoped>\n",
       "    .dataframe tbody tr th:only-of-type {\n",
       "        vertical-align: middle;\n",
       "    }\n",
       "\n",
       "    .dataframe tbody tr th {\n",
       "        vertical-align: top;\n",
       "    }\n",
       "\n",
       "    .dataframe thead th {\n",
       "        text-align: right;\n",
       "    }\n",
       "</style>\n",
       "<table border=\"1\" class=\"dataframe\">\n",
       "  <thead>\n",
       "    <tr style=\"text-align: right;\">\n",
       "      <th></th>\n",
       "      <th>maxT_F</th>\n",
       "      <th>meanT_F</th>\n",
       "      <th>minT_F</th>\n",
       "      <th>maxDewPoint_F</th>\n",
       "      <th>meanDewPoint_F</th>\n",
       "      <th>minDewPoint_F</th>\n",
       "      <th>maxHum</th>\n",
       "      <th>meanHum</th>\n",
       "      <th>minHum</th>\n",
       "      <th>maxSeaLevelPress_In</th>\n",
       "      <th>...</th>\n",
       "      <th>maxVis_Mil</th>\n",
       "      <th>meanVis_Mil</th>\n",
       "      <th>minVis_Mil</th>\n",
       "      <th>maxWindSpeed_MPH</th>\n",
       "      <th>meanWindSpeed_MPH</th>\n",
       "      <th>minWindSpeed_MPH</th>\n",
       "      <th>Precip_In</th>\n",
       "      <th>CloudCover</th>\n",
       "      <th>Events</th>\n",
       "      <th>WindDirDegrees</th>\n",
       "    </tr>\n",
       "    <tr>\n",
       "      <th>date</th>\n",
       "      <th></th>\n",
       "      <th></th>\n",
       "      <th></th>\n",
       "      <th></th>\n",
       "      <th></th>\n",
       "      <th></th>\n",
       "      <th></th>\n",
       "      <th></th>\n",
       "      <th></th>\n",
       "      <th></th>\n",
       "      <th></th>\n",
       "      <th></th>\n",
       "      <th></th>\n",
       "      <th></th>\n",
       "      <th></th>\n",
       "      <th></th>\n",
       "      <th></th>\n",
       "      <th></th>\n",
       "      <th></th>\n",
       "      <th></th>\n",
       "      <th></th>\n",
       "    </tr>\n",
       "  </thead>\n",
       "  <tbody>\n",
       "    <tr>\n",
       "      <th>2012-03-10</th>\n",
       "      <td>56</td>\n",
       "      <td>40</td>\n",
       "      <td>24</td>\n",
       "      <td>24</td>\n",
       "      <td>20</td>\n",
       "      <td>16</td>\n",
       "      <td>74</td>\n",
       "      <td>50</td>\n",
       "      <td>26</td>\n",
       "      <td>30.53</td>\n",
       "      <td>...</td>\n",
       "      <td>10</td>\n",
       "      <td>10</td>\n",
       "      <td>10</td>\n",
       "      <td>13</td>\n",
       "      <td>6</td>\n",
       "      <td>17.0</td>\n",
       "      <td>0.00</td>\n",
       "      <td>0</td>\n",
       "      <td>NaN</td>\n",
       "      <td>138</td>\n",
       "    </tr>\n",
       "    <tr>\n",
       "      <th>2012-03-11</th>\n",
       "      <td>67</td>\n",
       "      <td>49</td>\n",
       "      <td>30</td>\n",
       "      <td>43</td>\n",
       "      <td>31</td>\n",
       "      <td>24</td>\n",
       "      <td>78</td>\n",
       "      <td>53</td>\n",
       "      <td>28</td>\n",
       "      <td>30.37</td>\n",
       "      <td>...</td>\n",
       "      <td>10</td>\n",
       "      <td>10</td>\n",
       "      <td>10</td>\n",
       "      <td>22</td>\n",
       "      <td>7</td>\n",
       "      <td>32.0</td>\n",
       "      <td>T</td>\n",
       "      <td>1</td>\n",
       "      <td>Rain</td>\n",
       "      <td>163</td>\n",
       "    </tr>\n",
       "    <tr>\n",
       "      <th>2012-03-12</th>\n",
       "      <td>71</td>\n",
       "      <td>62</td>\n",
       "      <td>53</td>\n",
       "      <td>59</td>\n",
       "      <td>55</td>\n",
       "      <td>43</td>\n",
       "      <td>90</td>\n",
       "      <td>76</td>\n",
       "      <td>61</td>\n",
       "      <td>30.13</td>\n",
       "      <td>...</td>\n",
       "      <td>10</td>\n",
       "      <td>10</td>\n",
       "      <td>6</td>\n",
       "      <td>24</td>\n",
       "      <td>14</td>\n",
       "      <td>36.0</td>\n",
       "      <td>0.03</td>\n",
       "      <td>6</td>\n",
       "      <td>Rain</td>\n",
       "      <td>190</td>\n",
       "    </tr>\n",
       "    <tr>\n",
       "      <th>2012-03-13</th>\n",
       "      <td>76</td>\n",
       "      <td>63</td>\n",
       "      <td>50</td>\n",
       "      <td>57</td>\n",
       "      <td>53</td>\n",
       "      <td>47</td>\n",
       "      <td>93</td>\n",
       "      <td>66</td>\n",
       "      <td>38</td>\n",
       "      <td>30.12</td>\n",
       "      <td>...</td>\n",
       "      <td>10</td>\n",
       "      <td>10</td>\n",
       "      <td>4</td>\n",
       "      <td>16</td>\n",
       "      <td>5</td>\n",
       "      <td>24.0</td>\n",
       "      <td>0.00</td>\n",
       "      <td>0</td>\n",
       "      <td>NaN</td>\n",
       "      <td>242</td>\n",
       "    </tr>\n",
       "    <tr>\n",
       "      <th>2012-03-14</th>\n",
       "      <td>80</td>\n",
       "      <td>62</td>\n",
       "      <td>44</td>\n",
       "      <td>58</td>\n",
       "      <td>52</td>\n",
       "      <td>43</td>\n",
       "      <td>93</td>\n",
       "      <td>68</td>\n",
       "      <td>42</td>\n",
       "      <td>30.15</td>\n",
       "      <td>...</td>\n",
       "      <td>10</td>\n",
       "      <td>10</td>\n",
       "      <td>10</td>\n",
       "      <td>16</td>\n",
       "      <td>6</td>\n",
       "      <td>22.0</td>\n",
       "      <td>0.00</td>\n",
       "      <td>0</td>\n",
       "      <td>NaN</td>\n",
       "      <td>202</td>\n",
       "    </tr>\n",
       "  </tbody>\n",
       "</table>\n",
       "<p>5 rows × 22 columns</p>\n",
       "</div>"
      ],
      "text/plain": [
       "            maxT_F  meanT_F  minT_F  maxDewPoint_F  meanDewPoint_F  \\\n",
       "date                                                                 \n",
       "2012-03-10      56       40      24             24              20   \n",
       "2012-03-11      67       49      30             43              31   \n",
       "2012-03-12      71       62      53             59              55   \n",
       "2012-03-13      76       63      50             57              53   \n",
       "2012-03-14      80       62      44             58              52   \n",
       "\n",
       "            minDewPoint_F  maxHum  meanHum  minHum  maxSeaLevelPress_In  \\\n",
       "date                                                                      \n",
       "2012-03-10             16      74       50      26                30.53   \n",
       "2012-03-11             24      78       53      28                30.37   \n",
       "2012-03-12             43      90       76      61                30.13   \n",
       "2012-03-13             47      93       66      38                30.12   \n",
       "2012-03-14             43      93       68      42                30.15   \n",
       "\n",
       "                 ...        maxVis_Mil  meanVis_Mil  minVis_Mil  \\\n",
       "date             ...                                              \n",
       "2012-03-10       ...                10           10          10   \n",
       "2012-03-11       ...                10           10          10   \n",
       "2012-03-12       ...                10           10           6   \n",
       "2012-03-13       ...                10           10           4   \n",
       "2012-03-14       ...                10           10          10   \n",
       "\n",
       "            maxWindSpeed_MPH  meanWindSpeed_MPH  minWindSpeed_MPH  Precip_In  \\\n",
       "date                                                                           \n",
       "2012-03-10                13                  6              17.0       0.00   \n",
       "2012-03-11                22                  7              32.0          T   \n",
       "2012-03-12                24                 14              36.0       0.03   \n",
       "2012-03-13                16                  5              24.0       0.00   \n",
       "2012-03-14                16                  6              22.0       0.00   \n",
       "\n",
       "            CloudCover Events  WindDirDegrees  \n",
       "date                                           \n",
       "2012-03-10           0    NaN             138  \n",
       "2012-03-11           1   Rain             163  \n",
       "2012-03-12           6   Rain             190  \n",
       "2012-03-13           0    NaN             242  \n",
       "2012-03-14           0    NaN             202  \n",
       "\n",
       "[5 rows x 22 columns]"
      ]
     },
     "execution_count": 17,
     "metadata": {},
     "output_type": "execute_result"
    }
   ],
   "source": [
    "df = df.drop(columns='date')\n",
    "df.head()"
   ]
  },
  {
   "cell_type": "markdown",
   "metadata": {},
   "source": [
    "Al usar plot, obtenemos un gráfico de la serie temporal de la columna mean_temp. Vamos ahora a dibujar un histograma de esta columna, usando hist en vez de plot. **Intenta entender cuál es la diferencia entre ambos gráficos. Por qué ya no aparece la fecha en el gráfico? Qué valores se muestran en cada uno de los ejes?**\n",
    "\n",
    "**En qué situaciones es útil un histograma?**"
   ]
  },
  {
   "cell_type": "code",
   "execution_count": 18,
   "metadata": {
    "scrolled": true
   },
   "outputs": [
    {
     "data": {
      "image/png": "[encoded data removed]",
      "text/plain": [
       "<Figure size 432x288 with 1 Axes>"
      ]
     },
     "metadata": {},
     "output_type": "display_data"
    }
   ],
   "source": [
    "df['meanT_F'].hist();"
   ]
  },
  {
   "cell_type": "markdown",
   "metadata": {},
   "source": [
    "Los valores de la temperatura estan en grados Farenheit, unas unidades que son difíciles de interpretar para la mayoría de nosotros.\n",
    "\n",
    "Vamos a crear una columna mean_tempC que contenga los valores de mean_temp, pero transformados a grados centígrados, más fáciles de interpretar para nosotros. Para ello haremos uso de la función definida en la siguiente celda:"
   ]
  },
  {
   "cell_type": "code",
   "execution_count": 19,
   "metadata": {
    "collapsed": true
   },
   "outputs": [],
   "source": [
    "def F_to_C(x):\n",
    "    return (x-32)*(5/9)"
   ]
  },
  {
   "cell_type": "markdown",
   "metadata": {},
   "source": [
    "Usa la función para crear la columna adicional con los valores en grados centígrados (grados Celsius), de nombre **mean_tempC**"
   ]
  },
  {
   "cell_type": "code",
   "execution_count": 20,
   "metadata": {},
   "outputs": [
    {
     "data": {
      "text/plain": [
       "date\n",
       "2012-03-10    40\n",
       "2012-03-11    49\n",
       "2012-03-12    62\n",
       "2012-03-13    63\n",
       "2012-03-14    62\n",
       "Name: meanT_F, dtype: int64"
      ]
     },
     "execution_count": 20,
     "metadata": {},
     "output_type": "execute_result"
    }
   ],
   "source": [
    "df['meanT_F'].head()"
   ]
  },
  {
   "cell_type": "code",
   "execution_count": 21,
   "metadata": {
    "collapsed": true
   },
   "outputs": [
    {
     "data": {
      "text/plain": [
       "date\n",
       "2012-03-10     4.444444\n",
       "2012-03-11     9.444444\n",
       "2012-03-12    16.666667\n",
       "2012-03-13    17.222222\n",
       "2012-03-14    16.666667\n",
       "Name: meanT_C, dtype: float64"
      ]
     },
     "execution_count": 21,
     "metadata": {},
     "output_type": "execute_result"
    }
   ],
   "source": [
    "df['meanT_C'] = df['meanT_F'].apply(F_to_C)\n",
    "df['meanT_C'].head()"
   ]
  },
  {
   "cell_type": "code",
   "execution_count": 22,
   "metadata": {},
   "outputs": [
    {
     "data": {
      "text/plain": [
       "date\n",
       "2012-03-10     4.444444\n",
       "2012-03-11     9.444444\n",
       "2012-03-12    16.666667\n",
       "2012-03-13    17.222222\n",
       "2012-03-14    16.666667\n",
       "Name: meanT_F, dtype: float64"
      ]
     },
     "execution_count": 22,
     "metadata": {},
     "output_type": "execute_result"
    }
   ],
   "source": [
    "df['meanT_F'].map(F_to_C).head()"
   ]
  },
  {
   "cell_type": "markdown",
   "metadata": {},
   "source": [
    "Dibuja ahora la serie temporal con esta nueva columna, usando plot. Incluye una rejilla (grid) en el gráfico para que sea más fácil de leer e interpretar"
   ]
  },
  {
   "cell_type": "code",
   "execution_count": 23,
   "metadata": {},
   "outputs": [
    {
     "data": {
      "image/png": "[encoded data removed]",
      "text/plain": [
       "<Figure size 432x288 with 1 Axes>"
      ]
     },
     "metadata": {},
     "output_type": "display_data"
    }
   ],
   "source": [
    "plt.plot(df['meanT_C'],'orange',alpha = 0.8)\n",
    "plt.grid(True)\n",
    "plt.xlabel('Date')\n",
    "plt.ylabel('Mean Temp C')\n",
    "plt.title('Mean Temperature Celsius');"
   ]
  },
  {
   "cell_type": "markdown",
   "metadata": {},
   "source": [
    "Dibuja ahora también un histograma de esta nueva columna. **Cuál es el rango de temperaturas más frecuente en los datos?**"
   ]
  },
  {
   "cell_type": "code",
   "execution_count": 24,
   "metadata": {},
   "outputs": [
    {
     "data": {
      "image/png": "[encoded data removed]",
      "text/plain": [
       "<Figure size 432x288 with 1 Axes>"
      ]
     },
     "metadata": {},
     "output_type": "display_data"
    }
   ],
   "source": [
    "df['meanT_C'].hist();"
   ]
  },
  {
   "cell_type": "markdown",
   "metadata": {},
   "source": [
    "Como se puede ver en ambos gráficos, hay algunos días con temperaturas bajo 0.\n",
    "\n",
    "**En qué día ocurrió la temperatura más baja? Cuál fue la temperatura media ese día?**\n",
    "\n",
    "**Cuántos días de temperaturas bajo cero hay en los datos?**\n",
    "\n",
    "*Solución: El 1 de febrero de 2013 con -11.67 C, 44 d'ias"
   ]
  },
  {
   "cell_type": "code",
   "execution_count": 25,
   "metadata": {},
   "outputs": [
    {
     "data": {
      "text/html": [
       "<div>\n",
       "<style scoped>\n",
       "    .dataframe tbody tr th:only-of-type {\n",
       "        vertical-align: middle;\n",
       "    }\n",
       "\n",
       "    .dataframe tbody tr th {\n",
       "        vertical-align: top;\n",
       "    }\n",
       "\n",
       "    .dataframe thead th {\n",
       "        text-align: right;\n",
       "    }\n",
       "</style>\n",
       "<table border=\"1\" class=\"dataframe\">\n",
       "  <thead>\n",
       "    <tr style=\"text-align: right;\">\n",
       "      <th></th>\n",
       "      <th>maxT_F</th>\n",
       "      <th>meanT_F</th>\n",
       "      <th>minT_F</th>\n",
       "      <th>maxDewPoint_F</th>\n",
       "      <th>meanDewPoint_F</th>\n",
       "      <th>minDewPoint_F</th>\n",
       "      <th>maxHum</th>\n",
       "      <th>meanHum</th>\n",
       "      <th>minHum</th>\n",
       "      <th>maxSeaLevelPress_In</th>\n",
       "      <th>...</th>\n",
       "      <th>minSeaLevelPress_In</th>\n",
       "      <th>maxVis_Mil</th>\n",
       "      <th>meanVis_Mil</th>\n",
       "      <th>minVis_Mil</th>\n",
       "      <th>maxWindSpeed_MPH</th>\n",
       "      <th>meanWindSpeed_MPH</th>\n",
       "      <th>minWindSpeed_MPH</th>\n",
       "      <th>CloudCover</th>\n",
       "      <th>WindDirDegrees</th>\n",
       "      <th>meanT_C</th>\n",
       "    </tr>\n",
       "  </thead>\n",
       "  <tbody>\n",
       "    <tr>\n",
       "      <th>count</th>\n",
       "      <td>366.000000</td>\n",
       "      <td>366.000000</td>\n",
       "      <td>366.000000</td>\n",
       "      <td>366.000000</td>\n",
       "      <td>366.000000</td>\n",
       "      <td>366.000000</td>\n",
       "      <td>366.000000</td>\n",
       "      <td>366.000000</td>\n",
       "      <td>366.000000</td>\n",
       "      <td>366.000000</td>\n",
       "      <td>...</td>\n",
       "      <td>366.000000</td>\n",
       "      <td>366.000000</td>\n",
       "      <td>366.000000</td>\n",
       "      <td>366.000000</td>\n",
       "      <td>366.000000</td>\n",
       "      <td>366.000000</td>\n",
       "      <td>365.000000</td>\n",
       "      <td>366.000000</td>\n",
       "      <td>366.000000</td>\n",
       "      <td>366.000000</td>\n",
       "    </tr>\n",
       "    <tr>\n",
       "      <th>mean</th>\n",
       "      <td>66.803279</td>\n",
       "      <td>55.683060</td>\n",
       "      <td>44.101093</td>\n",
       "      <td>49.549180</td>\n",
       "      <td>44.057377</td>\n",
       "      <td>37.980874</td>\n",
       "      <td>90.027322</td>\n",
       "      <td>67.860656</td>\n",
       "      <td>45.193989</td>\n",
       "      <td>30.108907</td>\n",
       "      <td>...</td>\n",
       "      <td>29.936831</td>\n",
       "      <td>9.994536</td>\n",
       "      <td>8.732240</td>\n",
       "      <td>5.797814</td>\n",
       "      <td>16.418033</td>\n",
       "      <td>6.057377</td>\n",
       "      <td>22.764384</td>\n",
       "      <td>2.885246</td>\n",
       "      <td>189.704918</td>\n",
       "      <td>13.157256</td>\n",
       "    </tr>\n",
       "    <tr>\n",
       "      <th>std</th>\n",
       "      <td>20.361247</td>\n",
       "      <td>18.436506</td>\n",
       "      <td>17.301141</td>\n",
       "      <td>16.397178</td>\n",
       "      <td>16.829996</td>\n",
       "      <td>17.479449</td>\n",
       "      <td>9.108438</td>\n",
       "      <td>9.945591</td>\n",
       "      <td>15.360261</td>\n",
       "      <td>0.172189</td>\n",
       "      <td>...</td>\n",
       "      <td>0.182476</td>\n",
       "      <td>0.073821</td>\n",
       "      <td>1.875406</td>\n",
       "      <td>3.792219</td>\n",
       "      <td>5.564329</td>\n",
       "      <td>3.200940</td>\n",
       "      <td>8.131092</td>\n",
       "      <td>2.707261</td>\n",
       "      <td>94.045080</td>\n",
       "      <td>10.242503</td>\n",
       "    </tr>\n",
       "    <tr>\n",
       "      <th>min</th>\n",
       "      <td>16.000000</td>\n",
       "      <td>11.000000</td>\n",
       "      <td>1.000000</td>\n",
       "      <td>0.000000</td>\n",
       "      <td>-3.000000</td>\n",
       "      <td>-5.000000</td>\n",
       "      <td>54.000000</td>\n",
       "      <td>37.000000</td>\n",
       "      <td>15.000000</td>\n",
       "      <td>29.640000</td>\n",
       "      <td>...</td>\n",
       "      <td>29.230000</td>\n",
       "      <td>9.000000</td>\n",
       "      <td>2.000000</td>\n",
       "      <td>0.000000</td>\n",
       "      <td>6.000000</td>\n",
       "      <td>0.000000</td>\n",
       "      <td>7.000000</td>\n",
       "      <td>0.000000</td>\n",
       "      <td>1.000000</td>\n",
       "      <td>-11.666667</td>\n",
       "    </tr>\n",
       "    <tr>\n",
       "      <th>25%</th>\n",
       "      <td>51.000000</td>\n",
       "      <td>41.000000</td>\n",
       "      <td>30.000000</td>\n",
       "      <td>36.000000</td>\n",
       "      <td>30.000000</td>\n",
       "      <td>24.000000</td>\n",
       "      <td>85.000000</td>\n",
       "      <td>61.250000</td>\n",
       "      <td>35.000000</td>\n",
       "      <td>29.990000</td>\n",
       "      <td>...</td>\n",
       "      <td>29.830000</td>\n",
       "      <td>10.000000</td>\n",
       "      <td>8.000000</td>\n",
       "      <td>2.000000</td>\n",
       "      <td>13.000000</td>\n",
       "      <td>4.000000</td>\n",
       "      <td>17.000000</td>\n",
       "      <td>0.000000</td>\n",
       "      <td>131.000000</td>\n",
       "      <td>5.000000</td>\n",
       "    </tr>\n",
       "    <tr>\n",
       "      <th>50%</th>\n",
       "      <td>69.000000</td>\n",
       "      <td>59.000000</td>\n",
       "      <td>47.000000</td>\n",
       "      <td>54.500000</td>\n",
       "      <td>48.000000</td>\n",
       "      <td>41.000000</td>\n",
       "      <td>93.000000</td>\n",
       "      <td>68.000000</td>\n",
       "      <td>42.000000</td>\n",
       "      <td>30.100000</td>\n",
       "      <td>...</td>\n",
       "      <td>29.940000</td>\n",
       "      <td>10.000000</td>\n",
       "      <td>10.000000</td>\n",
       "      <td>6.000000</td>\n",
       "      <td>16.000000</td>\n",
       "      <td>6.000000</td>\n",
       "      <td>22.000000</td>\n",
       "      <td>2.000000</td>\n",
       "      <td>192.500000</td>\n",
       "      <td>15.000000</td>\n",
       "    </tr>\n",
       "    <tr>\n",
       "      <th>75%</th>\n",
       "      <td>84.000000</td>\n",
       "      <td>70.750000</td>\n",
       "      <td>57.750000</td>\n",
       "      <td>62.000000</td>\n",
       "      <td>57.000000</td>\n",
       "      <td>51.000000</td>\n",
       "      <td>96.000000</td>\n",
       "      <td>74.000000</td>\n",
       "      <td>54.000000</td>\n",
       "      <td>30.210000</td>\n",
       "      <td>...</td>\n",
       "      <td>30.040000</td>\n",
       "      <td>10.000000</td>\n",
       "      <td>10.000000</td>\n",
       "      <td>10.000000</td>\n",
       "      <td>20.000000</td>\n",
       "      <td>8.000000</td>\n",
       "      <td>26.000000</td>\n",
       "      <td>5.000000</td>\n",
       "      <td>259.750000</td>\n",
       "      <td>21.527778</td>\n",
       "    </tr>\n",
       "    <tr>\n",
       "      <th>max</th>\n",
       "      <td>106.000000</td>\n",
       "      <td>89.000000</td>\n",
       "      <td>77.000000</td>\n",
       "      <td>77.000000</td>\n",
       "      <td>72.000000</td>\n",
       "      <td>71.000000</td>\n",
       "      <td>100.000000</td>\n",
       "      <td>95.000000</td>\n",
       "      <td>90.000000</td>\n",
       "      <td>30.600000</td>\n",
       "      <td>...</td>\n",
       "      <td>30.440000</td>\n",
       "      <td>10.000000</td>\n",
       "      <td>10.000000</td>\n",
       "      <td>10.000000</td>\n",
       "      <td>39.000000</td>\n",
       "      <td>19.000000</td>\n",
       "      <td>63.000000</td>\n",
       "      <td>8.000000</td>\n",
       "      <td>360.000000</td>\n",
       "      <td>31.666667</td>\n",
       "    </tr>\n",
       "  </tbody>\n",
       "</table>\n",
       "<p>8 rows × 21 columns</p>\n",
       "</div>"
      ],
      "text/plain": [
       "           maxT_F     meanT_F      minT_F  maxDewPoint_F  meanDewPoint_F  \\\n",
       "count  366.000000  366.000000  366.000000     366.000000      366.000000   \n",
       "mean    66.803279   55.683060   44.101093      49.549180       44.057377   \n",
       "std     20.361247   18.436506   17.301141      16.397178       16.829996   \n",
       "min     16.000000   11.000000    1.000000       0.000000       -3.000000   \n",
       "25%     51.000000   41.000000   30.000000      36.000000       30.000000   \n",
       "50%     69.000000   59.000000   47.000000      54.500000       48.000000   \n",
       "75%     84.000000   70.750000   57.750000      62.000000       57.000000   \n",
       "max    106.000000   89.000000   77.000000      77.000000       72.000000   \n",
       "\n",
       "       minDewPoint_F      maxHum     meanHum      minHum  maxSeaLevelPress_In  \\\n",
       "count     366.000000  366.000000  366.000000  366.000000           366.000000   \n",
       "mean       37.980874   90.027322   67.860656   45.193989            30.108907   \n",
       "std        17.479449    9.108438    9.945591   15.360261             0.172189   \n",
       "min        -5.000000   54.000000   37.000000   15.000000            29.640000   \n",
       "25%        24.000000   85.000000   61.250000   35.000000            29.990000   \n",
       "50%        41.000000   93.000000   68.000000   42.000000            30.100000   \n",
       "75%        51.000000   96.000000   74.000000   54.000000            30.210000   \n",
       "max        71.000000  100.000000   95.000000   90.000000            30.600000   \n",
       "\n",
       "          ...      minSeaLevelPress_In  maxVis_Mil  meanVis_Mil  minVis_Mil  \\\n",
       "count     ...               366.000000  366.000000   366.000000  366.000000   \n",
       "mean      ...                29.936831    9.994536     8.732240    5.797814   \n",
       "std       ...                 0.182476    0.073821     1.875406    3.792219   \n",
       "min       ...                29.230000    9.000000     2.000000    0.000000   \n",
       "25%       ...                29.830000   10.000000     8.000000    2.000000   \n",
       "50%       ...                29.940000   10.000000    10.000000    6.000000   \n",
       "75%       ...                30.040000   10.000000    10.000000   10.000000   \n",
       "max       ...                30.440000   10.000000    10.000000   10.000000   \n",
       "\n",
       "       maxWindSpeed_MPH  meanWindSpeed_MPH  minWindSpeed_MPH  CloudCover  \\\n",
       "count        366.000000         366.000000        365.000000  366.000000   \n",
       "mean          16.418033           6.057377         22.764384    2.885246   \n",
       "std            5.564329           3.200940          8.131092    2.707261   \n",
       "min            6.000000           0.000000          7.000000    0.000000   \n",
       "25%           13.000000           4.000000         17.000000    0.000000   \n",
       "50%           16.000000           6.000000         22.000000    2.000000   \n",
       "75%           20.000000           8.000000         26.000000    5.000000   \n",
       "max           39.000000          19.000000         63.000000    8.000000   \n",
       "\n",
       "       WindDirDegrees     meanT_C  \n",
       "count      366.000000  366.000000  \n",
       "mean       189.704918   13.157256  \n",
       "std         94.045080   10.242503  \n",
       "min          1.000000  -11.666667  \n",
       "25%        131.000000    5.000000  \n",
       "50%        192.500000   15.000000  \n",
       "75%        259.750000   21.527778  \n",
       "max        360.000000   31.666667  \n",
       "\n",
       "[8 rows x 21 columns]"
      ]
     },
     "execution_count": 25,
     "metadata": {},
     "output_type": "execute_result"
    }
   ],
   "source": [
    "df.describe()"
   ]
  },
  {
   "cell_type": "code",
   "execution_count": 26,
   "metadata": {},
   "outputs": [
    {
     "data": {
      "text/plain": [
       "date\n",
       "2013-02-01   -11.666667\n",
       "Name: meanT_C, dtype: float64"
      ]
     },
     "execution_count": 26,
     "metadata": {},
     "output_type": "execute_result"
    }
   ],
   "source": [
    "df['meanT_C'][df['meanT_C'] == min(df['meanT_C'])]"
   ]
  },
  {
   "cell_type": "code",
   "execution_count": 27,
   "metadata": {},
   "outputs": [
    {
     "data": {
      "text/plain": [
       "date\n",
       "2013-01-02    1\n",
       "Name: minT_F, dtype: int64"
      ]
     },
     "execution_count": 27,
     "metadata": {},
     "output_type": "execute_result"
    }
   ],
   "source": [
    "# 1 ºF = -17.2222 ºC\n",
    "\n",
    "df['minT_F'][df['minT_F'] == min(df['minT_F'])]"
   ]
  },
  {
   "cell_type": "code",
   "execution_count": 28,
   "metadata": {},
   "outputs": [
    {
     "data": {
      "text/plain": [
       "minT_F      1\n",
       "maxT_F     25\n",
       "meanT_F    13\n",
       "Name: 2013-01-02 00:00:00, dtype: object"
      ]
     },
     "execution_count": 28,
     "metadata": {},
     "output_type": "execute_result"
    }
   ],
   "source": [
    "df.loc['2013-01-02',['minT_F','maxT_F','meanT_F']]"
   ]
  },
  {
   "cell_type": "code",
   "execution_count": 29,
   "metadata": {},
   "outputs": [
    {
     "data": {
      "text/plain": [
       "44"
      ]
     },
     "execution_count": 29,
     "metadata": {},
     "output_type": "execute_result"
    }
   ],
   "source": [
    "len(df[df['meanT_C'] < 0])"
   ]
  },
  {
   "cell_type": "markdown",
   "metadata": {},
   "source": [
    "En el dataframe tenemos también las columnas min_temp y max_temp, que están también en grados Farenheit.\n",
    "\n",
    "Crea dos columnas nuevas min_tempC y max_tempC, que contengan las temperaturas en grados centígrados. Recuerda que tienes la función f2c disponible."
   ]
  },
  {
   "cell_type": "code",
   "execution_count": 30,
   "metadata": {
    "collapsed": true
   },
   "outputs": [],
   "source": [
    "df['minT_C'] = df['minT_F'].apply(lambda x: F_to_C(x))\n",
    "df['maxT_C'] = df['maxT_F'].apply(lambda x: F_to_C(x))"
   ]
  },
  {
   "cell_type": "markdown",
   "metadata": {},
   "source": [
    "Dibuja las series temporales de min_tempC, mean_tempC y max_tempC en una misma gráfica con tres curvas de diferentes columnas y leyenda. Añade una rejilla (grid) al gr'afico.\n",
    "\n",
    "*Pista*: Si tienes un dataframe con la fecha en el índice y solo esas tres columnas, puedes usar el método plot del dataframe para obtener justo ese gráfico. Intenta extraer solo las tres columnas del dataframe d"
   ]
  },
  {
   "cell_type": "code",
   "execution_count": 31,
   "metadata": {},
   "outputs": [
    {
     "data": {
      "image/png": "[encoded data removed]",
      "text/plain": [
       "<Figure size 432x288 with 1 Axes>"
      ]
     },
     "metadata": {},
     "output_type": "display_data"
    }
   ],
   "source": [
    "df[['minT_C','meanT_C','maxT_C']].plot()\n",
    "plt.grid(True)\n",
    "plt.xlabel('Date')\n",
    "plt.ylabel('Temp C')\n",
    "plt.title('Temperature Celsius');"
   ]
  },
  {
   "cell_type": "markdown",
   "metadata": {},
   "source": [
    "La columna precipitation contiene la cantidad de lluvias diarias. Pero tenemos un problema, no todos los datos son numéricos. Obtén los primeros diez valores de la columna precipitation y comprueba si existe algún valor no numérico. **Que valor no numérico has encontrado?**\n",
    "\n",
    "*Solución*: Hay valores que contienen T"
   ]
  },
  {
   "cell_type": "code",
   "execution_count": 32,
   "metadata": {},
   "outputs": [
    {
     "data": {
      "text/plain": [
       "0.00    215\n",
       "T        36\n",
       "0.01     16\n",
       "0.03      9\n",
       "0.02      7\n",
       "Name: Precip_In, dtype: int64"
      ]
     },
     "execution_count": 32,
     "metadata": {},
     "output_type": "execute_result"
    }
   ],
   "source": [
    "# Hay 36 valores T\n",
    "\n",
    "df['Precip_In'].value_counts().head()"
   ]
  },
  {
   "cell_type": "markdown",
   "metadata": {},
   "source": [
    "Además, el resto de datos de la columna se han interpretado como texto. **Usa la siguiente función para crear una columna de nombre precipitationN que contendrá los valores numéricos**.\n",
    "\n",
    "Lo que vamos a hacer es transformar en un número si encontramos un valor numérico, y en el caso de que encontremos T, el valor correspondiente será 0.00. El valor T significa que en ese día hubo trazas de lluvia. Es decir, llovió, pero muy poco, y no ha quedado registrado el volumen de precipitación."
   ]
  },
  {
   "cell_type": "code",
   "execution_count": 33,
   "metadata": {},
   "outputs": [
    {
     "name": "stdout",
     "output_type": "stream",
     "text": [
      "<class 'pandas.core.frame.DataFrame'>\n",
      "DatetimeIndex: 366 entries, 2012-03-10 to 2013-03-10\n",
      "Data columns (total 25 columns):\n",
      "maxT_F                  366 non-null int64\n",
      "meanT_F                 366 non-null int64\n",
      "minT_F                  366 non-null int64\n",
      "maxDewPoint_F           366 non-null int64\n",
      "meanDewPoint_F          366 non-null int64\n",
      "minDewPoint_F           366 non-null int64\n",
      "maxHum                  366 non-null int64\n",
      "meanHum                 366 non-null int64\n",
      "minHum                  366 non-null int64\n",
      "maxSeaLevelPress_In     366 non-null float64\n",
      "meanSeaLevelPress_In    366 non-null float64\n",
      "minSeaLevelPress_In     366 non-null float64\n",
      "maxVis_Mil              366 non-null int64\n",
      "meanVis_Mil             366 non-null int64\n",
      "minVis_Mil              366 non-null int64\n",
      "maxWindSpeed_MPH        366 non-null int64\n",
      "meanWindSpeed_MPH       366 non-null int64\n",
      "minWindSpeed_MPH        365 non-null float64\n",
      "Precip_In               366 non-null object\n",
      "CloudCover              366 non-null int64\n",
      "Events                  162 non-null object\n",
      "WindDirDegrees          366 non-null int64\n",
      "meanT_C                 366 non-null float64\n",
      "minT_C                  366 non-null float64\n",
      "maxT_C                  366 non-null float64\n",
      "dtypes: float64(7), int64(16), object(2)\n",
      "memory usage: 84.3+ KB\n"
     ]
    }
   ],
   "source": [
    "df.info()"
   ]
  },
  {
   "cell_type": "code",
   "execution_count": 34,
   "metadata": {
    "collapsed": true
   },
   "outputs": [],
   "source": [
    "def fun(x):\n",
    "    if x == 'T':\n",
    "        return 0\n",
    "    else:\n",
    "        return float(x)"
   ]
  },
  {
   "cell_type": "code",
   "execution_count": 35,
   "metadata": {},
   "outputs": [
    {
     "data": {
      "text/plain": [
       "date\n",
       "2012-03-10    0.00\n",
       "2012-03-11    0.00\n",
       "2012-03-12    0.03\n",
       "2012-03-13    0.00\n",
       "2012-03-14    0.00\n",
       "Name: Precip_In, dtype: float64"
      ]
     },
     "execution_count": 35,
     "metadata": {},
     "output_type": "execute_result"
    }
   ],
   "source": [
    "df['Precip_In'] = df['Precip_In'].apply(fun)\n",
    "df['Precip_In'].head()"
   ]
  },
  {
   "cell_type": "markdown",
   "metadata": {},
   "source": [
    "Desde este momento, vamos a trabajar solo con las siguientes columnas:\n",
    "* min_tempC\n",
    "* mean_tempC\n",
    "* max_tempC\n",
    "* precipitationN\n",
    "\n",
    "El índice del dataframe lo vamos a conservar también, para tener las fechas para dibujar diversos gráficos.\n",
    "\n",
    "**Crea un dataframe de nombre w que contenga solo esas columnas, pero que conserve el índice de d**"
   ]
  },
  {
   "cell_type": "code",
   "execution_count": 36,
   "metadata": {
    "collapsed": true
   },
   "outputs": [
    {
     "data": {
      "text/html": [
       "<div>\n",
       "<style scoped>\n",
       "    .dataframe tbody tr th:only-of-type {\n",
       "        vertical-align: middle;\n",
       "    }\n",
       "\n",
       "    .dataframe tbody tr th {\n",
       "        vertical-align: top;\n",
       "    }\n",
       "\n",
       "    .dataframe thead th {\n",
       "        text-align: right;\n",
       "    }\n",
       "</style>\n",
       "<table border=\"1\" class=\"dataframe\">\n",
       "  <thead>\n",
       "    <tr style=\"text-align: right;\">\n",
       "      <th></th>\n",
       "      <th>minT_C</th>\n",
       "      <th>meanT_C</th>\n",
       "      <th>maxT_C</th>\n",
       "      <th>Precip_In</th>\n",
       "    </tr>\n",
       "    <tr>\n",
       "      <th>date</th>\n",
       "      <th></th>\n",
       "      <th></th>\n",
       "      <th></th>\n",
       "      <th></th>\n",
       "    </tr>\n",
       "  </thead>\n",
       "  <tbody>\n",
       "    <tr>\n",
       "      <th>2012-03-10</th>\n",
       "      <td>-4.444444</td>\n",
       "      <td>4.444444</td>\n",
       "      <td>13.333333</td>\n",
       "      <td>0.00</td>\n",
       "    </tr>\n",
       "    <tr>\n",
       "      <th>2012-03-11</th>\n",
       "      <td>-1.111111</td>\n",
       "      <td>9.444444</td>\n",
       "      <td>19.444444</td>\n",
       "      <td>0.00</td>\n",
       "    </tr>\n",
       "    <tr>\n",
       "      <th>2012-03-12</th>\n",
       "      <td>11.666667</td>\n",
       "      <td>16.666667</td>\n",
       "      <td>21.666667</td>\n",
       "      <td>0.03</td>\n",
       "    </tr>\n",
       "    <tr>\n",
       "      <th>2012-03-13</th>\n",
       "      <td>10.000000</td>\n",
       "      <td>17.222222</td>\n",
       "      <td>24.444444</td>\n",
       "      <td>0.00</td>\n",
       "    </tr>\n",
       "    <tr>\n",
       "      <th>2012-03-14</th>\n",
       "      <td>6.666667</td>\n",
       "      <td>16.666667</td>\n",
       "      <td>26.666667</td>\n",
       "      <td>0.00</td>\n",
       "    </tr>\n",
       "  </tbody>\n",
       "</table>\n",
       "</div>"
      ],
      "text/plain": [
       "               minT_C    meanT_C     maxT_C  Precip_In\n",
       "date                                                  \n",
       "2012-03-10  -4.444444   4.444444  13.333333       0.00\n",
       "2012-03-11  -1.111111   9.444444  19.444444       0.00\n",
       "2012-03-12  11.666667  16.666667  21.666667       0.03\n",
       "2012-03-13  10.000000  17.222222  24.444444       0.00\n",
       "2012-03-14   6.666667  16.666667  26.666667       0.00"
      ]
     },
     "execution_count": 36,
     "metadata": {},
     "output_type": "execute_result"
    }
   ],
   "source": [
    "df2 = df[['minT_C','meanT_C','maxT_C','Precip_In']]\n",
    "df2.head()"
   ]
  },
  {
   "cell_type": "code",
   "execution_count": 41,
   "metadata": {},
   "outputs": [
    {
     "data": {
      "image/png": "[encoded data removed]",
      "text/plain": [
       "<Figure size 432x288 with 1 Axes>"
      ]
     },
     "metadata": {},
     "output_type": "display_data"
    }
   ],
   "source": [
    "df2.plot.scatter(x='meanT_C',y='Precip_In')\n",
    "plt.xlabel('Precipitation In')\n",
    "plt.ylabel('Mean Temperature C')\n",
    "plt.grid(True);"
   ]
  },
  {
   "cell_type": "markdown",
   "metadata": {},
   "source": [
    "A modo de ejemplo, vemos cómo realizar una nube de puntos relacionando precipitación con la temperatura media.\n",
    "\n",
    "Existen muchos gráficos que se pueden hacer directamente con Pandas y sus Series y Dataframes. Para más información, consulta la documentación en http://pandas.pydata.org/pandas-docs/stable/visualization.html\n",
    "\n",
    "**Llovió algún día en los que la temperatura media era menor que 0?**\n",
    "\n",
    "*Solución*: Sí, algunos puntos con temperaturas negativas tienen precipitaciones positivas."
   ]
  }
 ],
 "metadata": {
  "kernelspec": {
   "display_name": "Python 3",
   "language": "python",
   "name": "python3"
  },
  "language_info": {
   "codemirror_mode": {
    "name": "ipython",
    "version": 3
   },
   "file_extension": ".py",
   "mimetype": "text/x-python",
   "name": "python",
   "nbconvert_exporter": "python",
   "pygments_lexer": "ipython3",
   "version": "3.6.8"
  }
 },
 "nbformat": 4,
 "nbformat_minor": 2
}
