{
 "cells": [
  {
   "cell_type": "markdown",
   "metadata": {},
   "source": [
    "# Preparación y Limpieza de datos ![](https://www.r-project.org/Rlogo.png)\n",
    "\n"
   ]
  },
  {
   "cell_type": "markdown",
   "metadata": {},
   "source": [
    "Muchos de los datasets a los que los que nos enfrentaremos estarán sucios de una manera\n",
    "o de otra. Por ejemplo:\n",
    "\n",
    "\n",
    "+ <font color=#0000FF>Valores de una variable/atributo codificados como columnas.</font>\n",
    "+ <font color=#0000FF>Variable codificadas en filas y columnas.</font>\n",
    "+ <font color=#0000FF>Más de una variable contenida en la misma columna. Por ejemplo: trimestre y año.</font>\n",
    "+ <font color=#0000FF>Almacenar medidas en distintas unidades en la misma tabla.</font>\n",
    "+ <font color=#0000FF>Contienen missing values: valores desconocidos que habrá que eliminar o imputar.  </font>\n",
    "    <font color=#0000FF>OJO! Es importante saber por qué esos valores son desconocidos.</font>\n",
    "…\n",
    "\n",
    "Al proceso, por el cual, transformamos un dataset en otro más conveniente para nuestro  análisis, se le llama proceso de **limpieza**.\n",
    "\n",
    "Se suele decir que el proceso de limpieza y preparación de datos se lleva el **80%** del  tiempo, mientras que el resto de tareas conllevan sólo el **20%**. Es por este motivo, por el  que el proceso de preparación es tan importante."
   ]
  },
  {
   "cell_type": "markdown",
   "metadata": {},
   "source": [
    "# Preparación y Limpieza de datos: Exploración\n",
    "\n",
    "El proceso de exploración tiene como objetivo crear una composición general de un dataset.\n",
    "\n",
    "Contiene tres fases:\n",
    "+ <font color=#0000FF>Comprender y asimilar la estructura de los datos.</font>\n",
    "+ <font color=#0000FF>Ver los datos que lo componen.</font>\n",
    "+ <font color=#0000FF>Visualizar los datos que lo componen.</font>\n",
    "\n",
    "Mediante estos tres sencillos pasos podremos identificar los primeros “problemas” en  nuestros datos.\n",
    "\n",
    "Normalmente nuestro dataset estará contenido en un data frame de R, con las  observaciones en las filas y las variables en las columnas."
   ]
  },
  {
   "cell_type": "markdown",
   "metadata": {},
   "source": [
    "## Explorando la Estructura\n",
    "![cleaning_structure](imgs/10_01.png)"
   ]
  },
  {
   "cell_type": "markdown",
   "metadata": {},
   "source": [
    "## Explorando los datos\n",
    "![clean_data](imgs/10_02.png)"
   ]
  },
  {
   "cell_type": "markdown",
   "metadata": {},
   "source": [
    "## Visualizando los datos\n",
    "![plot_data](imgs/10_03.png)"
   ]
  },
  {
   "cell_type": "code",
   "execution_count": null,
   "metadata": {},
   "outputs": [],
   "source": [
    "#######################################\n",
    "# Limpieza: exploración               #\n",
    "#######################################\n",
    "\n",
    "# Cargamos el dataset\n",
    "vinos <- read.csv(\"dat/wine.csv\", \n",
    "                  header = T)\n",
    "\n",
    "# Exploración de la estructura\n",
    "class(vinos)"
   ]
  },
  {
   "cell_type": "code",
   "execution_count": null,
   "metadata": {},
   "outputs": [],
   "source": [
    "dim(vinos)"
   ]
  },
  {
   "cell_type": "code",
   "execution_count": null,
   "metadata": {},
   "outputs": [],
   "source": [
    "names(vinos)"
   ]
  },
  {
   "cell_type": "code",
   "execution_count": null,
   "metadata": {},
   "outputs": [],
   "source": [
    "str(vinos)"
   ]
  },
  {
   "cell_type": "code",
   "execution_count": null,
   "metadata": {},
   "outputs": [],
   "source": [
    "summary(vinos)"
   ]
  },
  {
   "cell_type": "code",
   "execution_count": null,
   "metadata": {},
   "outputs": [],
   "source": [
    "# Exploración de los datos\n",
    "head(vinos)"
   ]
  },
  {
   "cell_type": "code",
   "execution_count": null,
   "metadata": {},
   "outputs": [],
   "source": [
    "tail(vinos)"
   ]
  },
  {
   "cell_type": "code",
   "execution_count": null,
   "metadata": {},
   "outputs": [],
   "source": [
    "print(vinos)"
   ]
  },
  {
   "cell_type": "code",
   "execution_count": null,
   "metadata": {},
   "outputs": [],
   "source": [
    "# Visualizando los datos\n",
    "hist(vinos$alcohol)"
   ]
  },
  {
   "cell_type": "code",
   "execution_count": null,
   "metadata": {},
   "outputs": [],
   "source": [
    "plot(vinos$alcohol, vinos$proline)"
   ]
  },
  {
   "cell_type": "markdown",
   "metadata": {},
   "source": [
    "# Preparación y limpieza: Poniendo orden"
   ]
  },
  {
   "cell_type": "markdown",
   "metadata": {},
   "source": [
    "¿Cuáles son los principios de unos datos “limpios”? [Artículo de Hadley Wickham](https://www.jstatsoft.org/article/view/v059i10) en\n",
    "Journal of Statistical Software.\n",
    "\n",
    "Estos principios son muy parecidos a los que aplicaríamos al diseñar una base de datos relacional.\n",
    "\n",
    "Los principios son:\n",
    "+ <font color=#0000FF>Observaciones en filas.</font>\n",
    "+ <font color=#0000FF>Variables y atributos como columnas</font>.\n",
    "+ <font color=#0000FF>Cada fila de la tabla (data frame) contiene únicamente una unidad observacional. O lo\n",
    "que es los mismo, no mezclar distintas entidades o cosas dentro de la misma tabla.\n",
    "Todas las observaciones de una variable están medidas en la misma unidad.</font>\n",
    "\n",
    "Los paquetes `tidyr` y `reshape2` de Hadley Wickham, contienen varias funciones que nos\n",
    "permitirán poner orden en nuestros datos."
   ]
  },
  {
   "cell_type": "markdown",
   "metadata": {},
   "source": [
    "## Preparación y limpieza: datos limpios y ordenados\n",
    "\n",
    "![limpios](imgs\\10_04.png)\n",
    "\n"
   ]
  },
  {
   "cell_type": "markdown",
   "metadata": {},
   "source": [
    "## Preparación y limpieza: valores como columnas\n",
    "\n",
    "![cols](imgs\\10_05.png)\n",
    "\n"
   ]
  },
  {
   "cell_type": "markdown",
   "metadata": {},
   "source": [
    "## Preparación y limpieza: variables en filas y columnas\n",
    "\n",
    "\n",
    "![row_cols](imgs\\10_06.png)\n",
    "\n"
   ]
  },
  {
   "cell_type": "markdown",
   "metadata": {},
   "source": [
    "## `tidyr`: quitando valores como columnas\n",
    "\n",
    "Para corregir los problemas anteriores usaremos las funciones `gather` y `spread` del paquete\n",
    "`tidyr`.\n",
    "\n",
    "La función `gather` une columnas en pares clave valor. Los parámetros de la función son:\n",
    "+ `data`: el data frame de datos a corregir.\n",
    "+ `key`: el nombre de la nueva columna que contendrá la clave.\n",
    "+ `value`: el nombre de la nueva columna que contendrá el valor.\n",
    "+ `…`: nombres de las columnas a juntar (o no).\n",
    "\n",
    "La función `spread` separa pares clave valor en columnas. Los parámetros de la función son:\n",
    "+ `data`: el data frame de datos a corregir.\n",
    "+ `key`: el nombre de la columna que contiene la clave.\n",
    "+ `value`: el nombre de la columna que contiene el valor."
   ]
  },
  {
   "cell_type": "code",
   "execution_count": null,
   "metadata": {},
   "outputs": [],
   "source": [
    "#######################################\n",
    "# Limpieza: ordenación                #\n",
    "#######################################\n",
    "\n",
    "# install.packages('tidyr', repos =\"https://cloud.r-project.org\")\n",
    "library(tidyr)\n",
    "\n",
    "wide_df <- data.frame(col = c(\"X\", \"Y\"), A = c(1, 4), B = c(2, 5), C = c(3, 6))\n",
    "wide_df"
   ]
  },
  {
   "cell_type": "code",
   "execution_count": null,
   "metadata": {},
   "outputs": [],
   "source": [
    "# Gather\n",
    "long_df <- gather(wide_df, my_key, my_val, -col)\n",
    "long_df"
   ]
  },
  {
   "cell_type": "code",
   "execution_count": null,
   "metadata": {},
   "outputs": [],
   "source": [
    "# Spread\n",
    "new_wide_df <- spread(long_df, my_key, my_val) #Obtenemos el data.frame original\n",
    "new_wide_df"
   ]
  },
  {
   "cell_type": "markdown",
   "metadata": {},
   "source": [
    "## Preparación y limpieza: dos variables en la  misma columna\n",
    "\n",
    "![two_var_same_col](imgs/10_07.png)"
   ]
  },
  {
   "cell_type": "markdown",
   "metadata": {},
   "source": [
    "## `tidyr`: separando columnas\n",
    "\n",
    "Para corregir el anterior problema usaremos la función `separate` del paquete `tidyr`. Esta\n",
    "función separa una columna en múltiples columnas. Los parámetros de la función son:\n",
    "+ `data`: el data frame de datos a corregir.\n",
    "+ `col`: el nombre de la columna a separar.\n",
    "+ `into`: vector de caracteres con el nombre de las nuevas columnas.\n",
    "+ `sep`: el separador a emplear. Por defecto se usa como separador cualquier carácter no  alfanumérico.\n",
    "\n",
    "Existe otra función en el paquete tidyr para realizar el proceso inverso, `unite`. Esta función  une varias columnas en una única columnas. Los parámetros de la función son:\n",
    "+ `data`: el data frame de datos a corregir.\n",
    "+ `col`: el nombre de la nueva columna que contendrá la unión.\n",
    "+ `…`: el nombre de las columnas a unir.\n",
    "+ `sep`: el separador a emplear. Por defecto: \"_\"."
   ]
  },
  {
   "cell_type": "code",
   "execution_count": null,
   "metadata": {},
   "outputs": [],
   "source": [
    "treatments <- data.frame(patient = c(\"X\", \"Y\", \"X\", \"Y\", \"X\", \"Y\"), \n",
    "                         treatment = c(\"A\", \"A\", \"B\", \"B\", \"c\", \"C\"), \n",
    "                         year_mo = c(\"2010-10\", \"2010-10\", \"2012-08\", \n",
    "                                     \"2012-08\", \"2014-12\", \"2014-12\"), \n",
    "                         responde = c(1, 4, 2, 5, 3, 6))\n",
    "\n",
    "treatments"
   ]
  },
  {
   "cell_type": "code",
   "execution_count": null,
   "metadata": {},
   "outputs": [],
   "source": [
    "# Separate\n",
    "treatments_sep <- separate(treatments, year_mo, c(\"year\", \"month\"))\n",
    "treatments_sep"
   ]
  },
  {
   "cell_type": "code",
   "execution_count": null,
   "metadata": {},
   "outputs": [],
   "source": [
    "# Unite\n",
    "new_treatments <- unite(treatments_sep, year_mo, year, month, sep = \"-\")\n",
    "new_treatments"
   ]
  },
  {
   "cell_type": "markdown",
   "metadata": {},
   "source": [
    "## Preparación y limpieza: más de una medida observacional en la misma tabla\n",
    "\n",
    "![more_than_one_obs](imgs/10_08.png)\n",
    "\n",
    "Existen personas duplicadas (x3). Esto puede indicar que tenemos que separar en dos data  frames los datos.\n",
    "\n",
    "OJO! A la hora de separar en varios data frames debemos crear una PK que nos permita  cruzarlos. Similar a las Primary Keys de una base de datos relacional."
   ]
  },
  {
   "cell_type": "markdown",
   "metadata": {},
   "source": [
    "## Preparación y limpieza: wide vs long\n",
    "\n",
    "![wide_long](imgs/10_09.png)\n",
    "\n",
    "+ Hablamos de **wide datasets cuando  tienen más variables que  observaciones**.\n",
    "\n",
    "+ Hablamos de **long datasets cuando  tienen más observaciones que  atributos**.\n",
    "\n",
    "Un wide dataset puede indicar que  tenemos valores almacenados  como columnas. Trataremos de  convertirlo en un long dataset."
   ]
  },
  {
   "cell_type": "markdown",
   "metadata": {},
   "source": [
    "## `reshape2`: wide dataset to long dataset\n",
    "\n",
    "Dentro del paquete reshape2 existe una función, análoga a `gather` de tidyr, para pasar de un\n",
    "wide dataset a un long dataset: `melt`.\n",
    "\n",
    "La función `melt` recibe los siguientes parámetros:\n",
    "+ data`: el data frame de datos a pivotar.\n",
    "+ `id.vars`: un vector con el nombre de las variables a mantener.\n",
    "+ `variable.name`: el nombre de la nueva variable que contendrá las variables fundidas.\n",
    "+ `value.name`: el nombre de la nueva variable que contendrá los valores."
   ]
  },
  {
   "cell_type": "code",
   "execution_count": null,
   "metadata": {},
   "outputs": [],
   "source": [
    "#install.packages('reshape2', repos =\"https://cloud.r-project.org\")\n",
    "\n",
    "library(reshape2)\n",
    "\n",
    "wide_df <- data.frame(col = c(\"X\", \"Y\"), A = c(1, 4), B = c(2, 5), C = c(3, 6))\n",
    "wide_df"
   ]
  },
  {
   "cell_type": "code",
   "execution_count": null,
   "metadata": {},
   "outputs": [],
   "source": [
    "# melt\n",
    "long_df <- melt(wide_df, id.vars = c(\"col\"), variable.name = \"my_key\", value.name = \"my_val\")\n",
    "long_df"
   ]
  },
  {
   "cell_type": "markdown",
   "metadata": {},
   "source": [
    "## `reshape2`: long dataset to wide dataset\n",
    "\n",
    "Dentro del paquete `reshape2` existe otra función, análoga a `spread` de `tidyr`, para pasar de\n",
    "un wide dataset a un long dataset: `dcast`.\n",
    "\n",
    "La función `dcast` recibe los siguientes parámetros:\n",
    "+ `data`: el data frame de datos a pivotar.\n",
    "+ `variable1 + variable2 + … ~ variable`: `variable1, variable2…` son las columnas que se  mantendrán y `variable` la columna que contiene los valores que generarán nuevas  columnas.\n",
    "+ `value.var`: nombre de la columna donde están los valores.\n",
    "+ `fun.agregate`: en el caso de tener múltiples valores por fila especifica la función de\n",
    "agregación. Por ejemplo: `sum, mean, max…`"
   ]
  },
  {
   "cell_type": "code",
   "execution_count": null,
   "metadata": {},
   "outputs": [],
   "source": [
    "# dcast\n",
    "new_wide_df <- dcast(long_df, col ~ my_key, value.var = \"my_val\")\n",
    "new_wide_df"
   ]
  },
  {
   "cell_type": "code",
   "execution_count": null,
   "metadata": {},
   "outputs": [],
   "source": []
  },
  {
   "cell_type": "markdown",
   "metadata": {},
   "source": [
    "## Ejercicio"
   ]
  },
  {
   "cell_type": "code",
   "execution_count": null,
   "metadata": {},
   "outputs": [],
   "source": [
    "###################################\n",
    "# tidyr                           #\n",
    "###################################\n",
    "library(tidyr)\n",
    "\n",
    "# Arregla el siguiente data frame\n",
    "people_1 <- data.frame(name = c(\"Jake\", \"Alice\", \"Tim\", \"Denise\"), \n",
    "                       age = c(34, 55, 76, 19), \n",
    "                       brown = c(0, 0, 1, 0), \n",
    "                       blue = c(0, 1, 0, 0),\n",
    "                       other = c(1, 0, 0, 1),\n",
    "                       height = c(6.1, 5.9, 5.7, 5.1))\n",
    "\n",
    "\n",
    "\n",
    "\n",
    "# Arregla el siguiente data frame\n",
    "people_2 <- data.frame(name = c(\"Jake\", \"Jake\", \"Jake\", \"Alice\", \"Alice\", \"Alice\"), \n",
    "                       measurement = c(\"n_dog\", \"n_cats\", \"n_birds\", \"n_dog\", \"n_cats\", \"n_birds\"), \n",
    "                       value = c(1, 0, 1, 1, 2, 0))\n",
    "\n",
    "\n",
    "\n",
    "\n",
    "# Arregla el siguiente data frame\n",
    "people_3 <- data.frame(name = c(\"Jake\", \"Alice\", \"Tim\", \"Denise\"), \n",
    "                       sex_age = c(\"M:34\", \"F:55\", \"M:76\", \"F:19\"), \n",
    "                       eye_color = c(\"other\", \"blue\", \"brown\", \"other\"), \n",
    "                       height = c(6.1, 5.9, 5.7, 5.1))\n",
    "\n",
    "\n",
    "\n",
    "\n",
    "# Consigue el data frame original del último arreglo\n"
   ]
  },
  {
   "cell_type": "markdown",
   "metadata": {},
   "source": [
    "## Preparación y limpieza: preparando los datos  para el análisis\n",
    "\n",
    "El último paso del proceso de limpieza es la **preparación de los datos para el análisis**.\n",
    "\n",
    "Normalmente, nuestro dataset contendrá distintos tipos de variables (cadenas de caracteres,  numéricas, lógicas, fechas…).\n",
    "\n",
    "Es importante asegurar que cada variable está almacenada en el formato adecuado.\n",
    "\n",
    "Otro punto especialmente importante es el tratamiento de **missing values y outliers (valores  atípicos)**."
   ]
  },
  {
   "cell_type": "markdown",
   "metadata": {},
   "source": [
    "### Preparación y limpieza: conversión de tipos\n",
    "\n",
    "![as_type](imgs/10_10.png)"
   ]
  },
  {
   "cell_type": "markdown",
   "metadata": {},
   "source": [
    "Para **manipulación de fechas** es recomendable utilizar el paquete `lubridate` de Hadley\n",
    "Wickham.\n",
    "\n",
    "Contiene numerosas funciones para parsear y operar con fechas."
   ]
  },
  {
   "cell_type": "code",
   "execution_count": null,
   "metadata": {},
   "outputs": [],
   "source": [
    "#######################################\n",
    "# Limpieza: preparación               #\n",
    "#######################################\n",
    "\n",
    "library(lubridate)\n",
    "\n",
    "ymd(\"2015-08-25\")"
   ]
  },
  {
   "cell_type": "code",
   "execution_count": null,
   "metadata": {},
   "outputs": [],
   "source": [
    "ymd(\"2015 August 25\")"
   ]
  },
  {
   "cell_type": "code",
   "execution_count": null,
   "metadata": {},
   "outputs": [],
   "source": [
    "hms(\"14:17:07\")"
   ]
  },
  {
   "cell_type": "code",
   "execution_count": null,
   "metadata": {},
   "outputs": [],
   "source": [
    "ymd_hms(\"2015/08/25 13.33.09\")"
   ]
  },
  {
   "cell_type": "markdown",
   "metadata": {},
   "source": [
    "Para **manipulación de cadenas de caracteres** existe el paquete `stringr` de Hadley Wickham."
   ]
  },
  {
   "cell_type": "code",
   "execution_count": null,
   "metadata": {},
   "outputs": [],
   "source": [
    "library(stringr)\n",
    "str_trim(\"    this is a test    \")"
   ]
  },
  {
   "cell_type": "code",
   "execution_count": null,
   "metadata": {},
   "outputs": [],
   "source": [
    "str_pad(\"244493\", width = 7, side = \"left\", pad = \"0\")"
   ]
  },
  {
   "cell_type": "code",
   "execution_count": null,
   "metadata": {},
   "outputs": [],
   "source": [
    "names <- c(\"Sarah\", \"Tom\", \"Alice\")"
   ]
  },
  {
   "cell_type": "code",
   "execution_count": null,
   "metadata": {},
   "outputs": [],
   "source": [
    "str_detect(names, \"Alice\")"
   ]
  },
  {
   "cell_type": "code",
   "execution_count": null,
   "metadata": {},
   "outputs": [],
   "source": [
    "str_replace(names, \"Alice\", \"David\")"
   ]
  },
  {
   "cell_type": "markdown",
   "metadata": {},
   "source": [
    "### Preparación y limpieza: missing values\n",
    "\n",
    "<font color=#0000FF>¿Por qué no están los datos? Es importante descubrir y saber el motivo por el cual faltan\n",
    "datos en un dataset.</font>\n",
    "\n",
    "Dependiendo del motivo tendremos principalmente dos (más una) opciones:\n",
    "+ **<font color=#0000FF>Borrarlos</font>**\n",
    "+ **<font color=#0000FF>Imputarlos</font>**\n",
    "    + Ceros\n",
    "    + Media/Mediana\n",
    "    + Empleando un modelo para rellenarlos\n",
    "+ (**<font color=#0000FF>Mantenerlos</font>**)\n",
    "\n",
    "En R los missing values se representan con `NA`.\n",
    "\n",
    "Otros valores especiales:\n",
    "+ `Inf`: ¿pueden representar outliers? Divisiones por cero\n",
    "+ `NaN`: ¿pueden representar errores?"
   ]
  },
  {
   "cell_type": "markdown",
   "metadata": {},
   "source": [
    "Para encontrar missing values podemos utilizar algunas de las funciones que hemos visto\n",
    "anteriormente. Por ejemplo: `is.na(x)`, `summary(x)`…"
   ]
  },
  {
   "cell_type": "code",
   "execution_count": null,
   "metadata": {},
   "outputs": [],
   "source": [
    "#NAs\n",
    "df <- data.frame(A = c(1, NA, 8, NA),\n",
    "                 B = c(3, NA, 88, 23),\n",
    "                 C = c(2, 45, 3, 1))\n",
    "\n",
    "#Detección\n",
    "is.na(df) #Util en dataset pequeños.\n",
    "any(is.na(df))\n",
    "sum(is.na(df))\n",
    "summary(df)"
   ]
  },
  {
   "cell_type": "markdown",
   "metadata": {},
   "source": [
    "Si finalmente decidimos eliminarlos podemos utlizar la función `complete.cases(x)` para\n",
    "indexar y eliminar o directamente `na.omit(x)`"
   ]
  },
  {
   "cell_type": "code",
   "execution_count": null,
   "metadata": {},
   "outputs": [],
   "source": [
    "#Eliminación\n",
    "df[complete.cases(df), ]\n",
    "na.omit(df)"
   ]
  },
  {
   "attachments": {
    "image.png": {
     "image/png": "[encoded data removed]"
    }
   },
   "cell_type": "markdown",
   "metadata": {},
   "source": [
    "### Preparación y limpieza: outliers\n",
    "\n",
    "Los **outliers, o valores atípicos**, son valores extremos, distantes del resto de los valores.\n",
    "\n",
    "Algunas causas por las que pueden existir outliers:\n",
    "+ <font color=#0000FF>Son errores de medición</font>\n",
    "+ <font color=#0000FF>Son errores producidos al transcribir los datos</font>\n",
    "+ <font color=#0000FF>Son medidas válidas</font>\n",
    "+ <font color=#0000FF>Representan valores por defecto o valores faltantes</font>\n",
    "…\n",
    "\n",
    "Una de las herramientas mas útiles será  el **diagrama de caja o boxplot**.\n",
    "\n",
    "![image.png](attachment:image.png)"
   ]
  },
  {
   "cell_type": "markdown",
   "metadata": {},
   "source": [
    "Existen varias herramientas para encontrar outliers: `boxplot`, `hist`, `summary`"
   ]
  },
  {
   "cell_type": "code",
   "execution_count": null,
   "metadata": {},
   "outputs": [],
   "source": [
    "#Outliers\n",
    "set.seed(10)\n",
    "x <- c(rnorm(30, mean = 15, sd = 5), -5, 28, 35)\n",
    "\n",
    "boxplot(x, horizontal = T)"
   ]
  },
  {
   "cell_type": "code",
   "execution_count": null,
   "metadata": {},
   "outputs": [],
   "source": [
    "df2 <- data.frame(A = rnorm(100, 50, 100),\n",
    "                 B = c(rnorm(99, 50, 10), 500),\n",
    "                 C = c(rnorm(99, 50, 10), -1))\n",
    "\n",
    "summary(df2)"
   ]
  },
  {
   "cell_type": "code",
   "execution_count": null,
   "metadata": {},
   "outputs": [],
   "source": [
    "hist(df2$B, 20) #¿Qué le pasa al 500? Es un error de medición."
   ]
  },
  {
   "cell_type": "code",
   "execution_count": null,
   "metadata": {},
   "outputs": [],
   "source": [
    "boxplot(df2)"
   ]
  },
  {
   "cell_type": "markdown",
   "metadata": {},
   "source": [
    "Dependiendo del contexto debemos decidir que hacer:\n",
    "+ Eliminarlos. ¿Puede la edad de una persona ser negativa? Valores sin sentido. ¿Y superior a 200? Valores tan extremos que no tienen sentido.\n",
    "+ Dejarlos ¿Puede la edad de una persona ser 110?"
   ]
  },
  {
   "cell_type": "code",
   "execution_count": null,
   "metadata": {},
   "outputs": [],
   "source": []
  }
 ],
 "metadata": {
  "kernelspec": {
   "display_name": "R",
   "language": "R",
   "name": "ir"
  },
  "language_info": {
   "codemirror_mode": "r",
   "file_extension": ".r",
   "mimetype": "text/x-r-source",
   "name": "R",
   "pygments_lexer": "r",
   "version": "3.5.1"
  }
 },
 "nbformat": 4,
 "nbformat_minor": 2
}
