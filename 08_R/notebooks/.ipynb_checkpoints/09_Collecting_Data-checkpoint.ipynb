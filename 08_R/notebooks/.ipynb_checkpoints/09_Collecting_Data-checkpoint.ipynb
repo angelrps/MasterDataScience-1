{
 "cells": [
  {
   "cell_type": "markdown",
   "metadata": {},
   "source": [
    "# Importación de datos ![](https://www.r-project.org/Rlogo.png)\n",
    "\n"
   ]
  },
  {
   "cell_type": "markdown",
   "metadata": {},
   "source": [
    "# Importación\n",
    "\n",
    "En la mayoría de casos los datos los encontraremos en diferentes formatos y provenientes\n",
    "de diferentes fuentes de información. Las más habituales:\n",
    "+ Ficheros de texto plano: csv, tsv,…\n",
    "+ Excel\n",
    "+ Otras herramientas estadísticas: SAS, STATA, SPSS\n",
    "+ BD relacionales\n",
    "…\n",
    "\n",
    "Existen numerosas funciones y paquetes en R para cargar información. Algunos ejemplos:\n",
    "+ Fichero de texto plano: `utils, readr, data.table`\n",
    "+ Excel: `readxl, gdata, XLConnect`\n",
    "+ SAS, STATA, SPSS: `haven, foreign`\n",
    "+ BD relacionales: `RMySQL, RPostgreSQL, ROracle`"
   ]
  },
  {
   "cell_type": "markdown",
   "metadata": {},
   "source": [
    "## Importación de Ficheros de Texto Plano"
   ]
  },
  {
   "cell_type": "markdown",
   "metadata": {},
   "source": [
    "Dentro del paquete `utils` (el cual se carga por defecto al iniciar la sesión de R) existen varias\n",
    "funciones para leer ficheros de texto plano y cargar su contenido en un data frame.\n",
    "\n",
    "La función más importante del paquete es `read.table(fileName)`. Dicha función tiene una  enorme cantidad de parámetros que nos permitirán configurar la carga según el fichero. Los  más importantes:\n",
    "+ `header`: para indicar si el fichero tiene cabeceras.\n",
    "+ `sep`: para indicar el separador de nuestro fichero.\n",
    "+ `stringsAsFactors`: para indicar si las cadenas de caracteres se convertirán en factores.\n",
    "\n",
    "La ruta al fichero es relativa al directorio de trabajo."
   ]
  },
  {
   "cell_type": "code",
   "execution_count": 1,
   "metadata": {
    "scrolled": false
   },
   "outputs": [
    {
     "name": "stdout",
     "output_type": "stream",
     "text": [
      "'data.frame':\t8125 obs. of  2 variables:\n",
      " $ id_municipio        : int  1001 1002 1003 1004 1006 1008 1009 1010 1011 1013 ...\n",
      " $ unidades_catastrales: int  3543 12407 2185 311 668 2054 3188 564 1084 2177 ...\n"
     ]
    }
   ],
   "source": [
    "#######################################\n",
    "# Importación: fichero de texto plano #\n",
    "#######################################\n",
    "\n",
    "# Con read.table\n",
    "mun_csv_1 <- read.table(\"dat/municipios1.csv\",\n",
    "                   header = TRUE, \n",
    "                   sep = \",\", \n",
    "                   stringsAsFactors = FALSE)\n",
    "str(mun_csv_1)"
   ]
  },
  {
   "cell_type": "code",
   "execution_count": 12,
   "metadata": {},
   "outputs": [
    {
     "name": "stdout",
     "output_type": "stream",
     "text": [
      "'data.frame':\t8122 obs. of  11 variables:\n",
      " $ id_municipio           : int  1001 1002 1003 1004 1006 1008 1009 1010 1011 1013 ...\n",
      " $ municipio              : chr  \"Alegría-Dulantzi\" \"Amurrio\" \"Aramaio\" \"Artziniega\" ...\n",
      " $ id_provincia           : int  1 1 1 1 1 1 1 1 1 1 ...\n",
      " $ provincia              : chr  \"Araba/Álava\" \"Araba/Álava\" \"Araba/Álava\" \"Araba/Álava\" ...\n",
      " $ id_comunidad           : int  16 16 16 16 16 16 16 16 16 16 ...\n",
      " $ comunidad              : chr  \"País Vasco\" \"País Vasco\" \"País Vasco\" \"País Vasco\" ...\n",
      " $ es_capital_de_provincia: int  0 0 0 0 0 0 0 0 0 0 ...\n",
      " $ es_capital_de_comunidad: int  0 0 0 0 0 0 0 0 0 0 ...\n",
      " $ latitud                : num  42.8 43.1 43.1 43.1 42.7 ...\n",
      " $ longitud               : num  -2.51 -3 -2.57 -3.13 -2.87 ...\n",
      " $ poblacion              : int  2870 10139 1491 1832 237 981 1671 2935 323 924 ...\n"
     ]
    }
   ],
   "source": [
    "# Con read.table\n",
    "mun_tsv_1 <- read.table(\"dat/municipios2.tsv\",\n",
    "                   header = TRUE, \n",
    "                   sep = \"\\t\", \n",
    "                   stringsAsFactors = FALSE,\n",
    "                   dec = \",\",\n",
    "                   quote = \"\")\n",
    "str(mun_tsv_1)"
   ]
  },
  {
   "cell_type": "markdown",
   "metadata": {},
   "source": [
    "Existen otras funciones para leer directamente ficheros csv (**coma como separador**) o tsv\n",
    "(**tabulador como separador**):\n",
    "\n",
    "+ Con punto como separador decimal\n",
    "    + csv: `read.csv`\n",
    "    + tsv: `read.delim`"
   ]
  },
  {
   "cell_type": "code",
   "execution_count": 10,
   "metadata": {
    "scrolled": true
   },
   "outputs": [
    {
     "name": "stdout",
     "output_type": "stream",
     "text": [
      "'data.frame':\t8125 obs. of  2 variables:\n",
      " $ id_municipio        : int  1001 1002 1003 1004 1006 1008 1009 1010 1011 1013 ...\n",
      " $ unidades_catastrales: int  3543 12407 2185 311 668 2054 3188 564 1084 2177 ...\n"
     ]
    }
   ],
   "source": [
    "# Con read.csv\n",
    "mun_csv_2 <- read.csv(\"dat/municipios1.csv\", stringsAsFactors = FALSE)\n",
    "str(mun_csv_2)"
   ]
  },
  {
   "cell_type": "markdown",
   "metadata": {},
   "source": [
    "+ Con coma como separador decimal\n",
    "    + csv: `read.csv2`\n",
    "    + tsv: `read.delim2`\n",
    "\n",
    "Son variantes de `read.table` pero con distintos valores por defecto."
   ]
  },
  {
   "cell_type": "code",
   "execution_count": 11,
   "metadata": {},
   "outputs": [
    {
     "name": "stdout",
     "output_type": "stream",
     "text": [
      "'data.frame':\t8122 obs. of  11 variables:\n",
      " $ id_municipio           : int  1001 1002 1003 1004 1006 1008 1009 1010 1011 1013 ...\n",
      " $ municipio              : chr  \"Alegría-Dulantzi\" \"Amurrio\" \"Aramaio\" \"Artziniega\" ...\n",
      " $ id_provincia           : int  1 1 1 1 1 1 1 1 1 1 ...\n",
      " $ provincia              : chr  \"Araba/Álava\" \"Araba/Álava\" \"Araba/Álava\" \"Araba/Álava\" ...\n",
      " $ id_comunidad           : int  16 16 16 16 16 16 16 16 16 16 ...\n",
      " $ comunidad              : chr  \"País Vasco\" \"País Vasco\" \"País Vasco\" \"País Vasco\" ...\n",
      " $ es_capital_de_provincia: int  0 0 0 0 0 0 0 0 0 0 ...\n",
      " $ es_capital_de_comunidad: int  0 0 0 0 0 0 0 0 0 0 ...\n",
      " $ latitud                : num  42.8 43.1 43.1 43.1 42.7 ...\n",
      " $ longitud               : num  -2.51 -3 -2.57 -3.13 -2.87 ...\n",
      " $ poblacion              : int  2870 10139 1491 1832 237 981 1671 2935 323 924 ...\n"
     ]
    }
   ],
   "source": [
    "# Con read.delim2\n",
    "mun_tsv_2 <- read.delim2(\"dat/municipios2.tsv\", stringsAsFactors = FALSE)\n",
    "str(mun_tsv_2)"
   ]
  },
  {
   "cell_type": "code",
   "execution_count": 3,
   "metadata": {},
   "outputs": [
    {
     "name": "stdout",
     "output_type": "stream",
     "text": [
      "'data.frame':\t8122 obs. of  11 variables:\n",
      " $ id_municipio           : int  1001 1002 1003 1004 1006 1008 1009 1010 1011 1013 ...\n",
      " $ municipio              : chr  \"Alegría-Dulantzi\" \"Amurrio\" \"Aramaio\" \"Artziniega\" ...\n",
      " $ id_provincia           : int  1 1 1 1 1 1 1 1 1 1 ...\n",
      " $ provincia              : chr  \"Araba/Álava\" \"Araba/Álava\" \"Araba/Álava\" \"Araba/Álava\" ...\n",
      " $ id_comunidad           : int  16 16 16 16 16 16 16 16 16 16 ...\n",
      " $ comunidad              : chr  \"País Vasco\" \"País Vasco\" \"País Vasco\" \"País Vasco\" ...\n",
      " $ es_capital_de_provincia: int  0 0 0 0 0 0 0 0 0 0 ...\n",
      " $ es_capital_de_comunidad: int  0 0 0 0 0 0 0 0 0 0 ...\n",
      " $ latitud                : num  42.8 43.1 43.1 43.1 42.7 ...\n",
      " $ longitud               : num  -2.51 -3 -2.57 -3.13 -2.87 ...\n",
      " $ poblacion              : int  2870 10139 1491 1832 237 981 1671 2935 323 924 ...\n"
     ]
    }
   ],
   "source": [
    "# Con read.table\n",
    "mun_tsv_1 <- read.table(\"dat/municipios2.tsv\",\n",
    "                   header = TRUE, \n",
    "                   sep = \"\\t\", \n",
    "                   stringsAsFactors = FALSE,\n",
    "                   dec = \",\",\n",
    "                   quote = \"\")\n",
    "str(mun_tsv_1)"
   ]
  },
  {
   "cell_type": "markdown",
   "metadata": {},
   "source": [
    "## Alternativas al paquete `utils`\n",
    "\n",
    "![import_table.png](imgs/08_01.png)"
   ]
  },
  {
   "cell_type": "markdown",
   "metadata": {},
   "source": [
    "### `readr`\n",
    "\n",
    "Paquete desarrollado por Hadley  Wickham (creador de varios paquetes famosos de  R como `ggplot2`).\n",
    "\n",
    "Es más rápido cargando datos que el paquete utils.\n",
    "\n",
    "Por defecto, no convierte las cadenas de  caracteres en factores."
   ]
  },
  {
   "cell_type": "code",
   "execution_count": 14,
   "metadata": {},
   "outputs": [
    {
     "name": "stdout",
     "output_type": "stream",
     "text": [
      "Classes 'spec_tbl_df', 'tbl_df', 'tbl' and 'data.frame':\t8125 obs. of  2 variables:\n",
      " $ id_municipio        : chr  \"01001\" \"01002\" \"01003\" \"01004\" ...\n",
      " $ unidades_catastrales: int  3543 12407 2185 311 668 2054 3188 564 1084 2177 ...\n",
      " - attr(*, \"spec\")=\n",
      "  .. cols(\n",
      "  ..   id_municipio = col_character(),\n",
      "  ..   unidades_catastrales = col_integer()\n",
      "  .. )\n"
     ]
    }
   ],
   "source": [
    "# Con readr\n",
    "library(readr)\n",
    "mun_csv_3 <- read_delim(\"dat/municipios1.csv\",\n",
    "                     delim = \",\",\n",
    "                     col_types = \"ci\") #c: characters, d: double, i: integer, l: logical, _: ignore\n",
    "str(mun_csv_3)"
   ]
  },
  {
   "cell_type": "code",
   "execution_count": 15,
   "metadata": {},
   "outputs": [
    {
     "name": "stdout",
     "output_type": "stream",
     "text": [
      "Classes 'spec_tbl_df', 'tbl_df', 'tbl' and 'data.frame':\t8122 obs. of  11 variables:\n",
      " $ id_municipio           : chr  \"01001\" \"01002\" \"01003\" \"01004\" ...\n",
      " $ municipio              : chr  \"Alegr<ed>a-Dulantzi\" \"Amurrio\" \"Aramaio\" \"Artziniega\" ...\n",
      " $ id_provincia           : chr  \"01\" \"01\" \"01\" \"01\" ...\n",
      " $ provincia              : chr  \"Araba/<c1>lava\" \"Araba/<c1>lava\" \"Araba/<c1>lava\" \"Araba/<c1>lava\" ...\n",
      " $ id_comunidad           : chr  \"16\" \"16\" \"16\" \"16\" ...\n",
      " $ comunidad              : chr  \"Pa<ed>s Vasco\" \"Pa<ed>s Vasco\" \"Pa<ed>s Vasco\" \"Pa<ed>s Vasco\" ...\n",
      " $ es_capital_de_provincia: int  0 0 0 0 0 0 0 0 0 0 ...\n",
      " $ es_capital_de_comunidad: int  0 0 0 0 0 0 0 0 0 0 ...\n",
      " $ latitud                : num  42.8 43.1 43.1 43.1 42.7 ...\n",
      " $ longitud               : num  -2.51 -3 -2.57 -3.13 -2.87 ...\n",
      " $ poblacion              : int  2870 10139 1491 1832 237 981 1671 2935 323 924 ...\n",
      " - attr(*, \"spec\")=\n",
      "  .. cols(\n",
      "  ..   id_municipio = col_character(),\n",
      "  ..   municipio = col_character(),\n",
      "  ..   id_provincia = col_character(),\n",
      "  ..   provincia = col_character(),\n",
      "  ..   id_comunidad = col_character(),\n",
      "  ..   comunidad = col_character(),\n",
      "  ..   es_capital_de_provincia = col_integer(),\n",
      "  ..   es_capital_de_comunidad = col_integer(),\n",
      "  ..   latitud = col_double(),\n",
      "  ..   longitud = col_double(),\n",
      "  ..   poblacion = col_integer()\n",
      "  .. )\n"
     ]
    }
   ],
   "source": [
    "mun_tsv_3 <- read_tsv(\"dat/municipios2.tsv\", col_types = \"cccccciiddi\", \n",
    "                      locale = locale(\"es\", decimal_mark = \",\"))\n",
    "str(mun_tsv_3)"
   ]
  },
  {
   "cell_type": "markdown",
   "metadata": {},
   "source": [
    "### **`data.table`**\n",
    "\n",
    "Paquete para manipulación de datos en R (no está creado exclusivamente  para leer ficheros).\n",
    "\n",
    "`fread` infiere los tipos de las columnas y los separadores.\n",
    "\n",
    "Extremadamente rápido."
   ]
  },
  {
   "cell_type": "code",
   "execution_count": 18,
   "metadata": {},
   "outputs": [
    {
     "name": "stderr",
     "output_type": "stream",
     "text": [
      "Warning message:\n",
      "\"package 'data.table' was built under R version 3.5.2\""
     ]
    },
    {
     "name": "stdout",
     "output_type": "stream",
     "text": [
      "Classes 'data.table' and 'data.frame':\t8125 obs. of  2 variables:\n",
      " $ id_municipio        : int  1001 1002 1003 1004 1006 1008 1009 1010 1011 1013 ...\n",
      " $ unidades_catastrales: int  3543 12407 2185 311 668 2054 3188 564 1084 2177 ...\n",
      " - attr(*, \".internal.selfref\")=<externalptr> \n"
     ]
    }
   ],
   "source": [
    "# Con fread\n",
    "# install.packages(\"data.table\", repos =\"https://cloud.r-project.org\")\n",
    "\n",
    "library(data.table)\n",
    "mun_csv_4 <- fread(\"dat/municipios1.csv\")\n",
    "str(mun_csv_4)"
   ]
  },
  {
   "cell_type": "markdown",
   "metadata": {},
   "source": [
    "## Importación de Ficheros Excel"
   ]
  },
  {
   "cell_type": "markdown",
   "metadata": {},
   "source": [
    "El paquete más simple para cargar datos desde Excel es `readxl`. \n",
    "\n",
    "Lee ficheros con extensión `xls` y `xlsx`. Muy similar a `readr` (mismo creador, Hadley Wickham).\n",
    "\n",
    "Para leer los archivos de Excel nos apoyaremos en dos funciones:\n",
    "\n",
    "+ `excel_sheets()`: devuelve la lista de hojas disponibles en el archivo.\n",
    "\n",
    "+ `read_excel()`: realiza la carga. Algunos parámetros:\n",
    "    + `sheet`: para indicar el número de hoja a cargar.\n",
    "    + `col_names`: para indicar si la tabla tiene cabeceras.\n",
    "    + `col_types`: para indicar el tipo básico de las columnas (también se pueden omitir)\n",
    "    + `skip`: para omitir las primeras filas del fichero.\n",
    "\n",
    "Otros paquetes: `gdata` y `XLConnect`."
   ]
  },
  {
   "cell_type": "code",
   "execution_count": 23,
   "metadata": {},
   "outputs": [
    {
     "name": "stderr",
     "output_type": "stream",
     "text": [
      "Warning message:\n",
      "\"package 'readxl' was built under R version 3.5.2\""
     ]
    },
    {
     "data": {
      "text/html": [
       "'data'"
      ],
      "text/latex": [
       "'data'"
      ],
      "text/markdown": [
       "'data'"
      ],
      "text/plain": [
       "[1] \"data\""
      ]
     },
     "metadata": {},
     "output_type": "display_data"
    },
    {
     "name": "stderr",
     "output_type": "stream",
     "text": [
      "readxl works best with a newer version of the tibble package.\n",
      "You currently have tibble v1.4.2.\n",
      "Falling back to column name repair from tibble <= v1.4.2.\n",
      "Message displays once per session.\n"
     ]
    }
   ],
   "source": [
    "#######################################\n",
    "# Importación: fichero Excel          #\n",
    "#######################################\n",
    "# install.packages(\"readxl\", repos =\"https://cloud.r-project.org\")\n",
    "\n",
    "library(readxl)\n",
    "excel_sheets(\"dat/municipios.xlsx\")\n",
    "\n",
    "mun_xlsx <- read_excel(\"dat/municipios.xlsx\")"
   ]
  },
  {
   "cell_type": "code",
   "execution_count": 24,
   "metadata": {},
   "outputs": [
    {
     "data": {
      "text/html": [
       "<table>\n",
       "<thead><tr><th scope=col>id_municipio</th><th scope=col>municipio</th><th scope=col>id_provincia</th><th scope=col>provincia</th><th scope=col>id_comunidad</th><th scope=col>comunidad</th><th scope=col>es_capital_de_provincia</th><th scope=col>es_capital_de_comunidad</th><th scope=col>latitud</th><th scope=col>longitud</th><th scope=col>poblacion</th></tr></thead>\n",
       "<tbody>\n",
       "\t<tr><td>01001                       </td><td>Alegría-Dulantzi            </td><td>01                          </td><td>Araba/Álava                 </td><td>16                          </td><td>País Vasco                  </td><td>0                           </td><td>0                           </td><td>42.84149                    </td><td>-2.513507                   </td><td> 2870                       </td></tr>\n",
       "\t<tr><td>01002                       </td><td>Amurrio                     </td><td>01                          </td><td>Araba/Álava                 </td><td>16                          </td><td>País Vasco                  </td><td>0                           </td><td>0                           </td><td>43.05265                    </td><td>-3.001022                   </td><td>10139                       </td></tr>\n",
       "\t<tr><td>01003                       </td><td>Aramaio                     </td><td>01                          </td><td>Araba/Álava                 </td><td>16                          </td><td>País Vasco                  </td><td>0                           </td><td>0                           </td><td>43.05400                    </td><td>-2.566000                   </td><td> 1491                       </td></tr>\n",
       "\t<tr><td>01004                       </td><td>Artziniega                  </td><td>01                          </td><td>Araba/Álava                 </td><td>16                          </td><td>País Vasco                  </td><td>0                           </td><td>0                           </td><td>43.12220                    </td><td>-3.128209                   </td><td> 1832                       </td></tr>\n",
       "\t<tr><td>01006                       </td><td>Armiñón                     </td><td>01                          </td><td>Araba/Álava                 </td><td>16                          </td><td>País Vasco                  </td><td>0                           </td><td>0                           </td><td>42.72305                    </td><td>-2.872574                   </td><td>  237                       </td></tr>\n",
       "\t<tr><td>01008                       </td><td>Arratzua-Ubarrundia         </td><td>01                          </td><td>Araba/Álava                 </td><td>16                          </td><td>País Vasco                  </td><td>0                           </td><td>0                           </td><td>42.89028                    </td><td>-2.639167                   </td><td>  981                       </td></tr>\n",
       "\t<tr><td>01009                       </td><td>Asparrena                   </td><td>01                          </td><td>Araba/Álava                 </td><td>16                          </td><td>País Vasco                  </td><td>0                           </td><td>0                           </td><td>42.89567                    </td><td>-2.321000                   </td><td> 1671                       </td></tr>\n",
       "\t<tr><td>01010                       </td><td>Ayala/Aiara                 </td><td>01                          </td><td>Araba/Álava                 </td><td>16                          </td><td>País Vasco                  </td><td>0                           </td><td>0                           </td><td>43.08333                    </td><td>-3.063056                   </td><td> 2935                       </td></tr>\n",
       "\t<tr><td>01011                       </td><td>Baños de Ebro/Mañueta       </td><td>01                          </td><td>Araba/Álava                 </td><td>16                          </td><td>País Vasco                  </td><td>0                           </td><td>0                           </td><td>42.53029                    </td><td>-2.679144                   </td><td>  323                       </td></tr>\n",
       "\t<tr><td>01013                       </td><td>Barrundia                   </td><td>01                          </td><td>Araba/Álava                 </td><td>16                          </td><td>País Vasco                  </td><td>0                           </td><td>0                           </td><td>42.91669                    </td><td>-2.491817                   </td><td>  924                       </td></tr>\n",
       "\t<tr><td>01014                       </td><td>Berantevilla                </td><td>01                          </td><td>Araba/Álava                 </td><td>16                          </td><td>País Vasco                  </td><td>0                           </td><td>0                           </td><td>42.68245                    </td><td>-2.860401                   </td><td>  479                       </td></tr>\n",
       "\t<tr><td>01016                       </td><td>Bernedo                     </td><td>01                          </td><td>Araba/Álava                 </td><td>16                          </td><td>País Vasco                  </td><td>0                           </td><td>0                           </td><td>42.62669                    </td><td>-2.497532                   </td><td>  567                       </td></tr>\n",
       "\t<tr><td>01017                       </td><td>Campezo/Kanpezu             </td><td>01                          </td><td>Araba/Álava                 </td><td>16                          </td><td>País Vasco                  </td><td>0                           </td><td>0                           </td><td>42.69194                    </td><td>-2.370000                   </td><td> 1127                       </td></tr>\n",
       "\t<tr><td>01018                       </td><td>Zigoitia                    </td><td>01                          </td><td>Araba/Álava                 </td><td>16                          </td><td>País Vasco                  </td><td>0                           </td><td>0                           </td><td>42.96820                    </td><td>-2.718300                   </td><td> 1755                       </td></tr>\n",
       "\t<tr><td>01019                       </td><td>Kripan                      </td><td>01                          </td><td>Araba/Álava                 </td><td>16                          </td><td>País Vasco                  </td><td>0                           </td><td>0                           </td><td>42.59167                    </td><td>-2.516079                   </td><td>  198                       </td></tr>\n",
       "\t<tr><td>01020                       </td><td>Kuartango                   </td><td>01                          </td><td>Araba/Álava                 </td><td>16                          </td><td>País Vasco                  </td><td>0                           </td><td>0                           </td><td>42.87139                    </td><td>-2.885556                   </td><td>  357                       </td></tr>\n",
       "\t<tr><td>01021                       </td><td>Elburgo/Burgelu             </td><td>01                          </td><td>Araba/Álava                 </td><td>16                          </td><td>País Vasco                  </td><td>0                           </td><td>0                           </td><td>42.84956                    </td><td>-2.544762                   </td><td>  617                       </td></tr>\n",
       "\t<tr><td>01022                       </td><td>Elciego                     </td><td>01                          </td><td>Araba/Álava                 </td><td>16                          </td><td>País Vasco                  </td><td>0                           </td><td>0                           </td><td>42.51507                    </td><td>-2.618277                   </td><td> 1045                       </td></tr>\n",
       "\t<tr><td>01023                       </td><td>Elvillar/Bilar              </td><td>01                          </td><td>Araba/Álava                 </td><td>16                          </td><td>País Vasco                  </td><td>0                           </td><td>0                           </td><td>42.57050                    </td><td>-2.544915                   </td><td>  357                       </td></tr>\n",
       "\t<tr><td>01027                       </td><td>Iruraiz-Gauna               </td><td>01                          </td><td>Araba/Álava                 </td><td>16                          </td><td>País Vasco                  </td><td>0                           </td><td>0                           </td><td>42.82207                    </td><td>-2.495043                   </td><td>  517                       </td></tr>\n",
       "\t<tr><td>01028                       </td><td>Labastida/Bastida           </td><td>01                          </td><td>Araba/Álava                 </td><td>16                          </td><td>País Vasco                  </td><td>0                           </td><td>0                           </td><td>42.59042                    </td><td>-2.793166                   </td><td> 1476                       </td></tr>\n",
       "\t<tr><td>01030                       </td><td>Lagrán                      </td><td>01                          </td><td>Araba/Álava                 </td><td>16                          </td><td>País Vasco                  </td><td>0                           </td><td>0                           </td><td>42.62640                    </td><td>-2.583820                   </td><td>  170                       </td></tr>\n",
       "\t<tr><td>01031                       </td><td>Laguardia                   </td><td>01                          </td><td>Araba/Álava                 </td><td>16                          </td><td>País Vasco                  </td><td>0                           </td><td>0                           </td><td>42.55428                    </td><td>-2.584237                   </td><td> 1528                       </td></tr>\n",
       "\t<tr><td>01032                       </td><td>Lanciego/Lantziego          </td><td>01                          </td><td>Araba/Álava                 </td><td>16                          </td><td>País Vasco                  </td><td>0                           </td><td>0                           </td><td>42.56262                    </td><td>-2.513204                   </td><td>  685                       </td></tr>\n",
       "\t<tr><td>01033                       </td><td>Lapuebla de Labarca         </td><td>01                          </td><td>Araba/Álava                 </td><td>16                          </td><td>País Vasco                  </td><td>0                           </td><td>0                           </td><td>42.49467                    </td><td>-2.575167                   </td><td>  828                       </td></tr>\n",
       "\t<tr><td>01034                       </td><td>Leza                        </td><td>01                          </td><td>Araba/Álava                 </td><td>16                          </td><td>País Vasco                  </td><td>0                           </td><td>0                           </td><td>42.56607                    </td><td>-2.633635                   </td><td>  213                       </td></tr>\n",
       "\t<tr><td>01036                       </td><td>Laudio/Llodio               </td><td>01                          </td><td>Araba/Álava                 </td><td>16                          </td><td>País Vasco                  </td><td>0                           </td><td>0                           </td><td>43.14333                    </td><td>-2.962985                   </td><td>18510                       </td></tr>\n",
       "\t<tr><td>01037                       </td><td>Arraia-Maeztu               </td><td>01                          </td><td>Araba/Álava                 </td><td>16                          </td><td>País Vasco                  </td><td>0                           </td><td>0                           </td><td>42.73981                    </td><td>-2.445980                   </td><td>  731                       </td></tr>\n",
       "\t<tr><td>01039                       </td><td>Moreda de Álava/Moreda Araba</td><td>01                          </td><td>Araba/Álava                 </td><td>16                          </td><td>País Vasco                  </td><td>0                           </td><td>0                           </td><td>42.52802                    </td><td>-2.407670                   </td><td>  238                       </td></tr>\n",
       "\t<tr><td>01041                       </td><td>Navaridas                   </td><td>01                          </td><td>Araba/Álava                 </td><td>16                          </td><td>País Vasco                  </td><td>0                           </td><td>0                           </td><td>42.54517                    </td><td>-2.624532                   </td><td>  223                       </td></tr>\n",
       "\t<tr><td>...</td><td>...</td><td>...</td><td>...</td><td>...</td><td>...</td><td>...</td><td>...</td><td>...</td><td>...</td><td>...</td></tr>\n",
       "\t<tr><td>50274                  </td><td>Val de San Martín      </td><td>50                     </td><td>Zaragoza               </td><td>02                     </td><td>Aragón                 </td><td>0                      </td><td>0                      </td><td>41.05718               </td><td>-1.4463030             </td><td>    71                 </td></tr>\n",
       "\t<tr><td>50275                  </td><td>Valmadrid              </td><td>50                     </td><td>Zaragoza               </td><td>02                     </td><td>Aragón                 </td><td>0                      </td><td>0                      </td><td>41.44337               </td><td>-0.8846827             </td><td>   141                 </td></tr>\n",
       "\t<tr><td>50276                  </td><td>Valpalmas              </td><td>50                     </td><td>Zaragoza               </td><td>02                     </td><td>Aragón                 </td><td>0                      </td><td>0                      </td><td>42.15822               </td><td>-0.8547610             </td><td>   144                 </td></tr>\n",
       "\t<tr><td>50277                  </td><td>Valtorres              </td><td>50                     </td><td>Zaragoza               </td><td>02                     </td><td>Aragón                 </td><td>0                      </td><td>0                      </td><td>41.29880               </td><td>-1.7406840             </td><td>    87                 </td></tr>\n",
       "\t<tr><td>50278                  </td><td>Velilla de Ebro        </td><td>50                     </td><td>Zaragoza               </td><td>02                     </td><td>Aragón                 </td><td>0                      </td><td>0                      </td><td>41.37500               </td><td>-0.4378378             </td><td>   241                 </td></tr>\n",
       "\t<tr><td>50279                  </td><td>Velilla de Jiloca      </td><td>50                     </td><td>Zaragoza               </td><td>02                     </td><td>Aragón                 </td><td>0                      </td><td>0                      </td><td>41.27439               </td><td>-1.6043390             </td><td>   128                 </td></tr>\n",
       "\t<tr><td>50280                  </td><td>Vera de Moncayo        </td><td>50                     </td><td>Zaragoza               </td><td>02                     </td><td>Aragón                 </td><td>0                      </td><td>0                      </td><td>41.82396               </td><td>-1.6880100             </td><td>   392                 </td></tr>\n",
       "\t<tr><td>50281                  </td><td>Vierlas                </td><td>50                     </td><td>Zaragoza               </td><td>02                     </td><td>Aragón                 </td><td>0                      </td><td>0                      </td><td>41.92807               </td><td>-1.6811150             </td><td>   105                 </td></tr>\n",
       "\t<tr><td>50282                  </td><td>La Vilueña             </td><td>50                     </td><td>Zaragoza               </td><td>02                     </td><td>Aragón                 </td><td>0                      </td><td>0                      </td><td>41.27230               </td><td>-1.7252300             </td><td>   106                 </td></tr>\n",
       "\t<tr><td>50283                  </td><td>Villadoz               </td><td>50                     </td><td>Zaragoza               </td><td>02                     </td><td>Aragón                 </td><td>0                      </td><td>0                      </td><td>41.16254               </td><td>-1.2873420             </td><td>    94                 </td></tr>\n",
       "\t<tr><td>50284                  </td><td>Villafeliche           </td><td>50                     </td><td>Zaragoza               </td><td>02                     </td><td>Aragón                 </td><td>0                      </td><td>0                      </td><td>41.19633               </td><td>-1.5106090             </td><td>   200                 </td></tr>\n",
       "\t<tr><td>50285                  </td><td>Villafranca de Ebro    </td><td>50                     </td><td>Zaragoza               </td><td>02                     </td><td>Aragón                 </td><td>0                      </td><td>0                      </td><td>41.57368               </td><td>-0.6503196             </td><td>   820                 </td></tr>\n",
       "\t<tr><td>50286                  </td><td>Villalba de Perejil    </td><td>50                     </td><td>Zaragoza               </td><td>02                     </td><td>Aragón                 </td><td>0                      </td><td>0                      </td><td>41.32730               </td><td>-1.5486730             </td><td>   102                 </td></tr>\n",
       "\t<tr><td>50287                  </td><td>Villalengua            </td><td>50                     </td><td>Zaragoza               </td><td>02                     </td><td>Aragón                 </td><td>0                      </td><td>0                      </td><td>41.43472               </td><td>-1.8395390             </td><td>   360                 </td></tr>\n",
       "\t<tr><td>50288                  </td><td>Villanueva de Gállego  </td><td>50                     </td><td>Zaragoza               </td><td>02                     </td><td>Aragón                 </td><td>0                      </td><td>0                      </td><td>41.76796               </td><td>-0.8275479             </td><td>  4616                 </td></tr>\n",
       "\t<tr><td>50289                  </td><td>Villanueva de Jiloca   </td><td>50                     </td><td>Zaragoza               </td><td>02                     </td><td>Aragón                 </td><td>0                      </td><td>0                      </td><td>41.07542               </td><td>-1.3923710             </td><td>    52                 </td></tr>\n",
       "\t<tr><td>50290                  </td><td>Villanueva de Huerva   </td><td>50                     </td><td>Zaragoza               </td><td>02                     </td><td>Aragón                 </td><td>0                      </td><td>0                      </td><td>41.35206               </td><td>-1.0369830             </td><td>   511                 </td></tr>\n",
       "\t<tr><td>50291                  </td><td>Villar de los Navarros </td><td>50                     </td><td>Zaragoza               </td><td>02                     </td><td>Aragón                 </td><td>0                      </td><td>0                      </td><td>41.15837               </td><td>-1.0427930             </td><td>   111                 </td></tr>\n",
       "\t<tr><td>50292                  </td><td>Villarreal de Huerva   </td><td>50                     </td><td>Zaragoza               </td><td>02                     </td><td>Aragón                 </td><td>0                      </td><td>0                      </td><td>41.19093               </td><td>-1.2872820             </td><td>   241                 </td></tr>\n",
       "\t<tr><td>50293                  </td><td>Villarroya de la Sierra</td><td>50                     </td><td>Zaragoza               </td><td>02                     </td><td>Aragón                 </td><td>0                      </td><td>0                      </td><td>41.46388               </td><td>-1.7857970             </td><td>   521                 </td></tr>\n",
       "\t<tr><td>50294                  </td><td>Villarroya del Campo   </td><td>50                     </td><td>Zaragoza               </td><td>02                     </td><td>Aragón                 </td><td>0                      </td><td>0                      </td><td>41.14323               </td><td>-1.3243640             </td><td>    83                 </td></tr>\n",
       "\t<tr><td>50295                  </td><td>Vistabella             </td><td>50                     </td><td>Zaragoza               </td><td>02                     </td><td>Aragón                 </td><td>0                      </td><td>0                      </td><td>41.21913               </td><td>-1.1534460             </td><td>    47                 </td></tr>\n",
       "\t<tr><td>50296                  </td><td>La Zaida               </td><td>50                     </td><td>Zaragoza               </td><td>02                     </td><td>Aragón                 </td><td>0                      </td><td>0                      </td><td>41.32636               </td><td>-0.4269484             </td><td>   481                 </td></tr>\n",
       "\t<tr><td>50297                  </td><td>Zaragoza               </td><td>50                     </td><td>Zaragoza               </td><td>02                     </td><td>Aragón                 </td><td>1                      </td><td>1                      </td><td>41.65629               </td><td>-0.8765379             </td><td>666058                 </td></tr>\n",
       "\t<tr><td>50298                  </td><td>Zuera                  </td><td>50                     </td><td>Zaragoza               </td><td>02                     </td><td>Aragón                 </td><td>0                      </td><td>0                      </td><td>41.86918               </td><td>-0.7881644             </td><td>  7742                 </td></tr>\n",
       "\t<tr><td>50901                  </td><td>Biel                   </td><td>50                     </td><td>Zaragoza               </td><td>02                     </td><td>Aragón                 </td><td>0                      </td><td>0                      </td><td>42.38749               </td><td>-0.9365878             </td><td>   157                 </td></tr>\n",
       "\t<tr><td>50902                  </td><td>Marracos               </td><td>50                     </td><td>Zaragoza               </td><td>02                     </td><td>Aragón                 </td><td>0                      </td><td>0                      </td><td>42.09059               </td><td>-0.7760469             </td><td>    97                 </td></tr>\n",
       "\t<tr><td>50903                  </td><td>Villamayor de Gállego  </td><td>50                     </td><td>Zaragoza               </td><td>02                     </td><td>Aragón                 </td><td>0                      </td><td>0                      </td><td>41.68518               </td><td>-0.7733151             </td><td>  2820                 </td></tr>\n",
       "\t<tr><td>51001                  </td><td>Ceuta                  </td><td>51                     </td><td>Ceuta                  </td><td>18                     </td><td>Ceuta                  </td><td>1                      </td><td>1                      </td><td>35.88829               </td><td>-5.3161950             </td><td> 84963                 </td></tr>\n",
       "\t<tr><td>52001                  </td><td>Melilla                </td><td>52                     </td><td>Melilla                </td><td>19                     </td><td>Melilla                </td><td>1                      </td><td>1                      </td><td>35.29234               </td><td>-2.9387940             </td><td> 84509                 </td></tr>\n",
       "</tbody>\n",
       "</table>\n"
      ],
      "text/latex": [
       "\\begin{tabular}{r|lllllllllll}\n",
       " id\\_municipio & municipio & id\\_provincia & provincia & id\\_comunidad & comunidad & es\\_capital\\_de\\_provincia & es\\_capital\\_de\\_comunidad & latitud & longitud & poblacion\\\\\n",
       "\\hline\n",
       "\t 01001                        & Alegría-Dulantzi             & 01                           & Araba/Álava                  & 16                           & País Vasco                   & 0                            & 0                            & 42.84149                     & -2.513507                    &  2870                       \\\\\n",
       "\t 01002                        & Amurrio                      & 01                           & Araba/Álava                  & 16                           & País Vasco                   & 0                            & 0                            & 43.05265                     & -3.001022                    & 10139                       \\\\\n",
       "\t 01003                        & Aramaio                      & 01                           & Araba/Álava                  & 16                           & País Vasco                   & 0                            & 0                            & 43.05400                     & -2.566000                    &  1491                       \\\\\n",
       "\t 01004                        & Artziniega                   & 01                           & Araba/Álava                  & 16                           & País Vasco                   & 0                            & 0                            & 43.12220                     & -3.128209                    &  1832                       \\\\\n",
       "\t 01006                        & Armiñón                      & 01                           & Araba/Álava                  & 16                           & País Vasco                   & 0                            & 0                            & 42.72305                     & -2.872574                    &   237                       \\\\\n",
       "\t 01008                        & Arratzua-Ubarrundia          & 01                           & Araba/Álava                  & 16                           & País Vasco                   & 0                            & 0                            & 42.89028                     & -2.639167                    &   981                       \\\\\n",
       "\t 01009                        & Asparrena                    & 01                           & Araba/Álava                  & 16                           & País Vasco                   & 0                            & 0                            & 42.89567                     & -2.321000                    &  1671                       \\\\\n",
       "\t 01010                        & Ayala/Aiara                  & 01                           & Araba/Álava                  & 16                           & País Vasco                   & 0                            & 0                            & 43.08333                     & -3.063056                    &  2935                       \\\\\n",
       "\t 01011                        & Baños de Ebro/Mañueta        & 01                           & Araba/Álava                  & 16                           & País Vasco                   & 0                            & 0                            & 42.53029                     & -2.679144                    &   323                       \\\\\n",
       "\t 01013                        & Barrundia                    & 01                           & Araba/Álava                  & 16                           & País Vasco                   & 0                            & 0                            & 42.91669                     & -2.491817                    &   924                       \\\\\n",
       "\t 01014                        & Berantevilla                 & 01                           & Araba/Álava                  & 16                           & País Vasco                   & 0                            & 0                            & 42.68245                     & -2.860401                    &   479                       \\\\\n",
       "\t 01016                        & Bernedo                      & 01                           & Araba/Álava                  & 16                           & País Vasco                   & 0                            & 0                            & 42.62669                     & -2.497532                    &   567                       \\\\\n",
       "\t 01017                        & Campezo/Kanpezu              & 01                           & Araba/Álava                  & 16                           & País Vasco                   & 0                            & 0                            & 42.69194                     & -2.370000                    &  1127                       \\\\\n",
       "\t 01018                        & Zigoitia                     & 01                           & Araba/Álava                  & 16                           & País Vasco                   & 0                            & 0                            & 42.96820                     & -2.718300                    &  1755                       \\\\\n",
       "\t 01019                        & Kripan                       & 01                           & Araba/Álava                  & 16                           & País Vasco                   & 0                            & 0                            & 42.59167                     & -2.516079                    &   198                       \\\\\n",
       "\t 01020                        & Kuartango                    & 01                           & Araba/Álava                  & 16                           & País Vasco                   & 0                            & 0                            & 42.87139                     & -2.885556                    &   357                       \\\\\n",
       "\t 01021                        & Elburgo/Burgelu              & 01                           & Araba/Álava                  & 16                           & País Vasco                   & 0                            & 0                            & 42.84956                     & -2.544762                    &   617                       \\\\\n",
       "\t 01022                        & Elciego                      & 01                           & Araba/Álava                  & 16                           & País Vasco                   & 0                            & 0                            & 42.51507                     & -2.618277                    &  1045                       \\\\\n",
       "\t 01023                        & Elvillar/Bilar               & 01                           & Araba/Álava                  & 16                           & País Vasco                   & 0                            & 0                            & 42.57050                     & -2.544915                    &   357                       \\\\\n",
       "\t 01027                        & Iruraiz-Gauna                & 01                           & Araba/Álava                  & 16                           & País Vasco                   & 0                            & 0                            & 42.82207                     & -2.495043                    &   517                       \\\\\n",
       "\t 01028                        & Labastida/Bastida            & 01                           & Araba/Álava                  & 16                           & País Vasco                   & 0                            & 0                            & 42.59042                     & -2.793166                    &  1476                       \\\\\n",
       "\t 01030                        & Lagrán                       & 01                           & Araba/Álava                  & 16                           & País Vasco                   & 0                            & 0                            & 42.62640                     & -2.583820                    &   170                       \\\\\n",
       "\t 01031                        & Laguardia                    & 01                           & Araba/Álava                  & 16                           & País Vasco                   & 0                            & 0                            & 42.55428                     & -2.584237                    &  1528                       \\\\\n",
       "\t 01032                        & Lanciego/Lantziego           & 01                           & Araba/Álava                  & 16                           & País Vasco                   & 0                            & 0                            & 42.56262                     & -2.513204                    &   685                       \\\\\n",
       "\t 01033                        & Lapuebla de Labarca          & 01                           & Araba/Álava                  & 16                           & País Vasco                   & 0                            & 0                            & 42.49467                     & -2.575167                    &   828                       \\\\\n",
       "\t 01034                        & Leza                         & 01                           & Araba/Álava                  & 16                           & País Vasco                   & 0                            & 0                            & 42.56607                     & -2.633635                    &   213                       \\\\\n",
       "\t 01036                        & Laudio/Llodio                & 01                           & Araba/Álava                  & 16                           & País Vasco                   & 0                            & 0                            & 43.14333                     & -2.962985                    & 18510                       \\\\\n",
       "\t 01037                        & Arraia-Maeztu                & 01                           & Araba/Álava                  & 16                           & País Vasco                   & 0                            & 0                            & 42.73981                     & -2.445980                    &   731                       \\\\\n",
       "\t 01039                        & Moreda de Álava/Moreda Araba & 01                           & Araba/Álava                  & 16                           & País Vasco                   & 0                            & 0                            & 42.52802                     & -2.407670                    &   238                       \\\\\n",
       "\t 01041                        & Navaridas                    & 01                           & Araba/Álava                  & 16                           & País Vasco                   & 0                            & 0                            & 42.54517                     & -2.624532                    &   223                       \\\\\n",
       "\t ... & ... & ... & ... & ... & ... & ... & ... & ... & ... & ...\\\\\n",
       "\t 50274                   & Val de San Martín       & 50                      & Zaragoza                & 02                      & Aragón                  & 0                       & 0                       & 41.05718                & -1.4463030              &     71                 \\\\\n",
       "\t 50275                   & Valmadrid               & 50                      & Zaragoza                & 02                      & Aragón                  & 0                       & 0                       & 41.44337                & -0.8846827              &    141                 \\\\\n",
       "\t 50276                   & Valpalmas               & 50                      & Zaragoza                & 02                      & Aragón                  & 0                       & 0                       & 42.15822                & -0.8547610              &    144                 \\\\\n",
       "\t 50277                   & Valtorres               & 50                      & Zaragoza                & 02                      & Aragón                  & 0                       & 0                       & 41.29880                & -1.7406840              &     87                 \\\\\n",
       "\t 50278                   & Velilla de Ebro         & 50                      & Zaragoza                & 02                      & Aragón                  & 0                       & 0                       & 41.37500                & -0.4378378              &    241                 \\\\\n",
       "\t 50279                   & Velilla de Jiloca       & 50                      & Zaragoza                & 02                      & Aragón                  & 0                       & 0                       & 41.27439                & -1.6043390              &    128                 \\\\\n",
       "\t 50280                   & Vera de Moncayo         & 50                      & Zaragoza                & 02                      & Aragón                  & 0                       & 0                       & 41.82396                & -1.6880100              &    392                 \\\\\n",
       "\t 50281                   & Vierlas                 & 50                      & Zaragoza                & 02                      & Aragón                  & 0                       & 0                       & 41.92807                & -1.6811150              &    105                 \\\\\n",
       "\t 50282                   & La Vilueña              & 50                      & Zaragoza                & 02                      & Aragón                  & 0                       & 0                       & 41.27230                & -1.7252300              &    106                 \\\\\n",
       "\t 50283                   & Villadoz                & 50                      & Zaragoza                & 02                      & Aragón                  & 0                       & 0                       & 41.16254                & -1.2873420              &     94                 \\\\\n",
       "\t 50284                   & Villafeliche            & 50                      & Zaragoza                & 02                      & Aragón                  & 0                       & 0                       & 41.19633                & -1.5106090              &    200                 \\\\\n",
       "\t 50285                   & Villafranca de Ebro     & 50                      & Zaragoza                & 02                      & Aragón                  & 0                       & 0                       & 41.57368                & -0.6503196              &    820                 \\\\\n",
       "\t 50286                   & Villalba de Perejil     & 50                      & Zaragoza                & 02                      & Aragón                  & 0                       & 0                       & 41.32730                & -1.5486730              &    102                 \\\\\n",
       "\t 50287                   & Villalengua             & 50                      & Zaragoza                & 02                      & Aragón                  & 0                       & 0                       & 41.43472                & -1.8395390              &    360                 \\\\\n",
       "\t 50288                   & Villanueva de Gállego   & 50                      & Zaragoza                & 02                      & Aragón                  & 0                       & 0                       & 41.76796                & -0.8275479              &   4616                 \\\\\n",
       "\t 50289                   & Villanueva de Jiloca    & 50                      & Zaragoza                & 02                      & Aragón                  & 0                       & 0                       & 41.07542                & -1.3923710              &     52                 \\\\\n",
       "\t 50290                   & Villanueva de Huerva    & 50                      & Zaragoza                & 02                      & Aragón                  & 0                       & 0                       & 41.35206                & -1.0369830              &    511                 \\\\\n",
       "\t 50291                   & Villar de los Navarros  & 50                      & Zaragoza                & 02                      & Aragón                  & 0                       & 0                       & 41.15837                & -1.0427930              &    111                 \\\\\n",
       "\t 50292                   & Villarreal de Huerva    & 50                      & Zaragoza                & 02                      & Aragón                  & 0                       & 0                       & 41.19093                & -1.2872820              &    241                 \\\\\n",
       "\t 50293                   & Villarroya de la Sierra & 50                      & Zaragoza                & 02                      & Aragón                  & 0                       & 0                       & 41.46388                & -1.7857970              &    521                 \\\\\n",
       "\t 50294                   & Villarroya del Campo    & 50                      & Zaragoza                & 02                      & Aragón                  & 0                       & 0                       & 41.14323                & -1.3243640              &     83                 \\\\\n",
       "\t 50295                   & Vistabella              & 50                      & Zaragoza                & 02                      & Aragón                  & 0                       & 0                       & 41.21913                & -1.1534460              &     47                 \\\\\n",
       "\t 50296                   & La Zaida                & 50                      & Zaragoza                & 02                      & Aragón                  & 0                       & 0                       & 41.32636                & -0.4269484              &    481                 \\\\\n",
       "\t 50297                   & Zaragoza                & 50                      & Zaragoza                & 02                      & Aragón                  & 1                       & 1                       & 41.65629                & -0.8765379              & 666058                 \\\\\n",
       "\t 50298                   & Zuera                   & 50                      & Zaragoza                & 02                      & Aragón                  & 0                       & 0                       & 41.86918                & -0.7881644              &   7742                 \\\\\n",
       "\t 50901                   & Biel                    & 50                      & Zaragoza                & 02                      & Aragón                  & 0                       & 0                       & 42.38749                & -0.9365878              &    157                 \\\\\n",
       "\t 50902                   & Marracos                & 50                      & Zaragoza                & 02                      & Aragón                  & 0                       & 0                       & 42.09059                & -0.7760469              &     97                 \\\\\n",
       "\t 50903                   & Villamayor de Gállego   & 50                      & Zaragoza                & 02                      & Aragón                  & 0                       & 0                       & 41.68518                & -0.7733151              &   2820                 \\\\\n",
       "\t 51001                   & Ceuta                   & 51                      & Ceuta                   & 18                      & Ceuta                   & 1                       & 1                       & 35.88829                & -5.3161950              &  84963                 \\\\\n",
       "\t 52001                   & Melilla                 & 52                      & Melilla                 & 19                      & Melilla                 & 1                       & 1                       & 35.29234                & -2.9387940              &  84509                 \\\\\n",
       "\\end{tabular}\n"
      ],
      "text/markdown": [
       "\n",
       "id_municipio | municipio | id_provincia | provincia | id_comunidad | comunidad | es_capital_de_provincia | es_capital_de_comunidad | latitud | longitud | poblacion | \n",
       "|---|---|---|---|---|---|---|---|---|---|---|---|---|---|---|---|---|---|---|---|---|---|---|---|---|---|---|---|---|---|---|---|---|---|---|---|---|---|---|---|---|---|---|---|---|---|---|---|---|---|---|---|---|---|---|---|---|---|---|---|---|\n",
       "| 01001                        | Alegría-Dulantzi             | 01                           | Araba/Álava                  | 16                           | País Vasco                   | 0                            | 0                            | 42.84149                     | -2.513507                    |  2870                        | \n",
       "| 01002                        | Amurrio                      | 01                           | Araba/Álava                  | 16                           | País Vasco                   | 0                            | 0                            | 43.05265                     | -3.001022                    | 10139                        | \n",
       "| 01003                        | Aramaio                      | 01                           | Araba/Álava                  | 16                           | País Vasco                   | 0                            | 0                            | 43.05400                     | -2.566000                    |  1491                        | \n",
       "| 01004                        | Artziniega                   | 01                           | Araba/Álava                  | 16                           | País Vasco                   | 0                            | 0                            | 43.12220                     | -3.128209                    |  1832                        | \n",
       "| 01006                        | Armiñón                      | 01                           | Araba/Álava                  | 16                           | País Vasco                   | 0                            | 0                            | 42.72305                     | -2.872574                    |   237                        | \n",
       "| 01008                        | Arratzua-Ubarrundia          | 01                           | Araba/Álava                  | 16                           | País Vasco                   | 0                            | 0                            | 42.89028                     | -2.639167                    |   981                        | \n",
       "| 01009                        | Asparrena                    | 01                           | Araba/Álava                  | 16                           | País Vasco                   | 0                            | 0                            | 42.89567                     | -2.321000                    |  1671                        | \n",
       "| 01010                        | Ayala/Aiara                  | 01                           | Araba/Álava                  | 16                           | País Vasco                   | 0                            | 0                            | 43.08333                     | -3.063056                    |  2935                        | \n",
       "| 01011                        | Baños de Ebro/Mañueta        | 01                           | Araba/Álava                  | 16                           | País Vasco                   | 0                            | 0                            | 42.53029                     | -2.679144                    |   323                        | \n",
       "| 01013                        | Barrundia                    | 01                           | Araba/Álava                  | 16                           | País Vasco                   | 0                            | 0                            | 42.91669                     | -2.491817                    |   924                        | \n",
       "| 01014                        | Berantevilla                 | 01                           | Araba/Álava                  | 16                           | País Vasco                   | 0                            | 0                            | 42.68245                     | -2.860401                    |   479                        | \n",
       "| 01016                        | Bernedo                      | 01                           | Araba/Álava                  | 16                           | País Vasco                   | 0                            | 0                            | 42.62669                     | -2.497532                    |   567                        | \n",
       "| 01017                        | Campezo/Kanpezu              | 01                           | Araba/Álava                  | 16                           | País Vasco                   | 0                            | 0                            | 42.69194                     | -2.370000                    |  1127                        | \n",
       "| 01018                        | Zigoitia                     | 01                           | Araba/Álava                  | 16                           | País Vasco                   | 0                            | 0                            | 42.96820                     | -2.718300                    |  1755                        | \n",
       "| 01019                        | Kripan                       | 01                           | Araba/Álava                  | 16                           | País Vasco                   | 0                            | 0                            | 42.59167                     | -2.516079                    |   198                        | \n",
       "| 01020                        | Kuartango                    | 01                           | Araba/Álava                  | 16                           | País Vasco                   | 0                            | 0                            | 42.87139                     | -2.885556                    |   357                        | \n",
       "| 01021                        | Elburgo/Burgelu              | 01                           | Araba/Álava                  | 16                           | País Vasco                   | 0                            | 0                            | 42.84956                     | -2.544762                    |   617                        | \n",
       "| 01022                        | Elciego                      | 01                           | Araba/Álava                  | 16                           | País Vasco                   | 0                            | 0                            | 42.51507                     | -2.618277                    |  1045                        | \n",
       "| 01023                        | Elvillar/Bilar               | 01                           | Araba/Álava                  | 16                           | País Vasco                   | 0                            | 0                            | 42.57050                     | -2.544915                    |   357                        | \n",
       "| 01027                        | Iruraiz-Gauna                | 01                           | Araba/Álava                  | 16                           | País Vasco                   | 0                            | 0                            | 42.82207                     | -2.495043                    |   517                        | \n",
       "| 01028                        | Labastida/Bastida            | 01                           | Araba/Álava                  | 16                           | País Vasco                   | 0                            | 0                            | 42.59042                     | -2.793166                    |  1476                        | \n",
       "| 01030                        | Lagrán                       | 01                           | Araba/Álava                  | 16                           | País Vasco                   | 0                            | 0                            | 42.62640                     | -2.583820                    |   170                        | \n",
       "| 01031                        | Laguardia                    | 01                           | Araba/Álava                  | 16                           | País Vasco                   | 0                            | 0                            | 42.55428                     | -2.584237                    |  1528                        | \n",
       "| 01032                        | Lanciego/Lantziego           | 01                           | Araba/Álava                  | 16                           | País Vasco                   | 0                            | 0                            | 42.56262                     | -2.513204                    |   685                        | \n",
       "| 01033                        | Lapuebla de Labarca          | 01                           | Araba/Álava                  | 16                           | País Vasco                   | 0                            | 0                            | 42.49467                     | -2.575167                    |   828                        | \n",
       "| 01034                        | Leza                         | 01                           | Araba/Álava                  | 16                           | País Vasco                   | 0                            | 0                            | 42.56607                     | -2.633635                    |   213                        | \n",
       "| 01036                        | Laudio/Llodio                | 01                           | Araba/Álava                  | 16                           | País Vasco                   | 0                            | 0                            | 43.14333                     | -2.962985                    | 18510                        | \n",
       "| 01037                        | Arraia-Maeztu                | 01                           | Araba/Álava                  | 16                           | País Vasco                   | 0                            | 0                            | 42.73981                     | -2.445980                    |   731                        | \n",
       "| 01039                        | Moreda de Álava/Moreda Araba | 01                           | Araba/Álava                  | 16                           | País Vasco                   | 0                            | 0                            | 42.52802                     | -2.407670                    |   238                        | \n",
       "| 01041                        | Navaridas                    | 01                           | Araba/Álava                  | 16                           | País Vasco                   | 0                            | 0                            | 42.54517                     | -2.624532                    |   223                        | \n",
       "| ... | ... | ... | ... | ... | ... | ... | ... | ... | ... | ... | \n",
       "| 50274                   | Val de San Martín       | 50                      | Zaragoza                | 02                      | Aragón                  | 0                       | 0                       | 41.05718                | -1.4463030              |     71                  | \n",
       "| 50275                   | Valmadrid               | 50                      | Zaragoza                | 02                      | Aragón                  | 0                       | 0                       | 41.44337                | -0.8846827              |    141                  | \n",
       "| 50276                   | Valpalmas               | 50                      | Zaragoza                | 02                      | Aragón                  | 0                       | 0                       | 42.15822                | -0.8547610              |    144                  | \n",
       "| 50277                   | Valtorres               | 50                      | Zaragoza                | 02                      | Aragón                  | 0                       | 0                       | 41.29880                | -1.7406840              |     87                  | \n",
       "| 50278                   | Velilla de Ebro         | 50                      | Zaragoza                | 02                      | Aragón                  | 0                       | 0                       | 41.37500                | -0.4378378              |    241                  | \n",
       "| 50279                   | Velilla de Jiloca       | 50                      | Zaragoza                | 02                      | Aragón                  | 0                       | 0                       | 41.27439                | -1.6043390              |    128                  | \n",
       "| 50280                   | Vera de Moncayo         | 50                      | Zaragoza                | 02                      | Aragón                  | 0                       | 0                       | 41.82396                | -1.6880100              |    392                  | \n",
       "| 50281                   | Vierlas                 | 50                      | Zaragoza                | 02                      | Aragón                  | 0                       | 0                       | 41.92807                | -1.6811150              |    105                  | \n",
       "| 50282                   | La Vilueña              | 50                      | Zaragoza                | 02                      | Aragón                  | 0                       | 0                       | 41.27230                | -1.7252300              |    106                  | \n",
       "| 50283                   | Villadoz                | 50                      | Zaragoza                | 02                      | Aragón                  | 0                       | 0                       | 41.16254                | -1.2873420              |     94                  | \n",
       "| 50284                   | Villafeliche            | 50                      | Zaragoza                | 02                      | Aragón                  | 0                       | 0                       | 41.19633                | -1.5106090              |    200                  | \n",
       "| 50285                   | Villafranca de Ebro     | 50                      | Zaragoza                | 02                      | Aragón                  | 0                       | 0                       | 41.57368                | -0.6503196              |    820                  | \n",
       "| 50286                   | Villalba de Perejil     | 50                      | Zaragoza                | 02                      | Aragón                  | 0                       | 0                       | 41.32730                | -1.5486730              |    102                  | \n",
       "| 50287                   | Villalengua             | 50                      | Zaragoza                | 02                      | Aragón                  | 0                       | 0                       | 41.43472                | -1.8395390              |    360                  | \n",
       "| 50288                   | Villanueva de Gállego   | 50                      | Zaragoza                | 02                      | Aragón                  | 0                       | 0                       | 41.76796                | -0.8275479              |   4616                  | \n",
       "| 50289                   | Villanueva de Jiloca    | 50                      | Zaragoza                | 02                      | Aragón                  | 0                       | 0                       | 41.07542                | -1.3923710              |     52                  | \n",
       "| 50290                   | Villanueva de Huerva    | 50                      | Zaragoza                | 02                      | Aragón                  | 0                       | 0                       | 41.35206                | -1.0369830              |    511                  | \n",
       "| 50291                   | Villar de los Navarros  | 50                      | Zaragoza                | 02                      | Aragón                  | 0                       | 0                       | 41.15837                | -1.0427930              |    111                  | \n",
       "| 50292                   | Villarreal de Huerva    | 50                      | Zaragoza                | 02                      | Aragón                  | 0                       | 0                       | 41.19093                | -1.2872820              |    241                  | \n",
       "| 50293                   | Villarroya de la Sierra | 50                      | Zaragoza                | 02                      | Aragón                  | 0                       | 0                       | 41.46388                | -1.7857970              |    521                  | \n",
       "| 50294                   | Villarroya del Campo    | 50                      | Zaragoza                | 02                      | Aragón                  | 0                       | 0                       | 41.14323                | -1.3243640              |     83                  | \n",
       "| 50295                   | Vistabella              | 50                      | Zaragoza                | 02                      | Aragón                  | 0                       | 0                       | 41.21913                | -1.1534460              |     47                  | \n",
       "| 50296                   | La Zaida                | 50                      | Zaragoza                | 02                      | Aragón                  | 0                       | 0                       | 41.32636                | -0.4269484              |    481                  | \n",
       "| 50297                   | Zaragoza                | 50                      | Zaragoza                | 02                      | Aragón                  | 1                       | 1                       | 41.65629                | -0.8765379              | 666058                  | \n",
       "| 50298                   | Zuera                   | 50                      | Zaragoza                | 02                      | Aragón                  | 0                       | 0                       | 41.86918                | -0.7881644              |   7742                  | \n",
       "| 50901                   | Biel                    | 50                      | Zaragoza                | 02                      | Aragón                  | 0                       | 0                       | 42.38749                | -0.9365878              |    157                  | \n",
       "| 50902                   | Marracos                | 50                      | Zaragoza                | 02                      | Aragón                  | 0                       | 0                       | 42.09059                | -0.7760469              |     97                  | \n",
       "| 50903                   | Villamayor de Gállego   | 50                      | Zaragoza                | 02                      | Aragón                  | 0                       | 0                       | 41.68518                | -0.7733151              |   2820                  | \n",
       "| 51001                   | Ceuta                   | 51                      | Ceuta                   | 18                      | Ceuta                   | 1                       | 1                       | 35.88829                | -5.3161950              |  84963                  | \n",
       "| 52001                   | Melilla                 | 52                      | Melilla                 | 19                      | Melilla                 | 1                       | 1                       | 35.29234                | -2.9387940              |  84509                  | \n",
       "\n",
       "\n"
      ],
      "text/plain": [
       "     id_municipio municipio                    id_provincia provincia  \n",
       "1    01001        Alegría-Dulantzi             01           Araba/Álava\n",
       "2    01002        Amurrio                      01           Araba/Álava\n",
       "3    01003        Aramaio                      01           Araba/Álava\n",
       "4    01004        Artziniega                   01           Araba/Álava\n",
       "5    01006        Armiñón                      01           Araba/Álava\n",
       "6    01008        Arratzua-Ubarrundia          01           Araba/Álava\n",
       "7    01009        Asparrena                    01           Araba/Álava\n",
       "8    01010        Ayala/Aiara                  01           Araba/Álava\n",
       "9    01011        Baños de Ebro/Mañueta        01           Araba/Álava\n",
       "10   01013        Barrundia                    01           Araba/Álava\n",
       "11   01014        Berantevilla                 01           Araba/Álava\n",
       "12   01016        Bernedo                      01           Araba/Álava\n",
       "13   01017        Campezo/Kanpezu              01           Araba/Álava\n",
       "14   01018        Zigoitia                     01           Araba/Álava\n",
       "15   01019        Kripan                       01           Araba/Álava\n",
       "16   01020        Kuartango                    01           Araba/Álava\n",
       "17   01021        Elburgo/Burgelu              01           Araba/Álava\n",
       "18   01022        Elciego                      01           Araba/Álava\n",
       "19   01023        Elvillar/Bilar               01           Araba/Álava\n",
       "20   01027        Iruraiz-Gauna                01           Araba/Álava\n",
       "21   01028        Labastida/Bastida            01           Araba/Álava\n",
       "22   01030        Lagrán                       01           Araba/Álava\n",
       "23   01031        Laguardia                    01           Araba/Álava\n",
       "24   01032        Lanciego/Lantziego           01           Araba/Álava\n",
       "25   01033        Lapuebla de Labarca          01           Araba/Álava\n",
       "26   01034        Leza                         01           Araba/Álava\n",
       "27   01036        Laudio/Llodio                01           Araba/Álava\n",
       "28   01037        Arraia-Maeztu                01           Araba/Álava\n",
       "29   01039        Moreda de Álava/Moreda Araba 01           Araba/Álava\n",
       "30   01041        Navaridas                    01           Araba/Álava\n",
       "...  ...          ...                          ...          ...        \n",
       "8093 50274        Val de San Martín            50           Zaragoza   \n",
       "8094 50275        Valmadrid                    50           Zaragoza   \n",
       "8095 50276        Valpalmas                    50           Zaragoza   \n",
       "8096 50277        Valtorres                    50           Zaragoza   \n",
       "8097 50278        Velilla de Ebro              50           Zaragoza   \n",
       "8098 50279        Velilla de Jiloca            50           Zaragoza   \n",
       "8099 50280        Vera de Moncayo              50           Zaragoza   \n",
       "8100 50281        Vierlas                      50           Zaragoza   \n",
       "8101 50282        La Vilueña                   50           Zaragoza   \n",
       "8102 50283        Villadoz                     50           Zaragoza   \n",
       "8103 50284        Villafeliche                 50           Zaragoza   \n",
       "8104 50285        Villafranca de Ebro          50           Zaragoza   \n",
       "8105 50286        Villalba de Perejil          50           Zaragoza   \n",
       "8106 50287        Villalengua                  50           Zaragoza   \n",
       "8107 50288        Villanueva de Gállego        50           Zaragoza   \n",
       "8108 50289        Villanueva de Jiloca         50           Zaragoza   \n",
       "8109 50290        Villanueva de Huerva         50           Zaragoza   \n",
       "8110 50291        Villar de los Navarros       50           Zaragoza   \n",
       "8111 50292        Villarreal de Huerva         50           Zaragoza   \n",
       "8112 50293        Villarroya de la Sierra      50           Zaragoza   \n",
       "8113 50294        Villarroya del Campo         50           Zaragoza   \n",
       "8114 50295        Vistabella                   50           Zaragoza   \n",
       "8115 50296        La Zaida                     50           Zaragoza   \n",
       "8116 50297        Zaragoza                     50           Zaragoza   \n",
       "8117 50298        Zuera                        50           Zaragoza   \n",
       "8118 50901        Biel                         50           Zaragoza   \n",
       "8119 50902        Marracos                     50           Zaragoza   \n",
       "8120 50903        Villamayor de Gállego        50           Zaragoza   \n",
       "8121 51001        Ceuta                        51           Ceuta      \n",
       "8122 52001        Melilla                      52           Melilla    \n",
       "     id_comunidad comunidad  es_capital_de_provincia es_capital_de_comunidad\n",
       "1    16           País Vasco 0                       0                      \n",
       "2    16           País Vasco 0                       0                      \n",
       "3    16           País Vasco 0                       0                      \n",
       "4    16           País Vasco 0                       0                      \n",
       "5    16           País Vasco 0                       0                      \n",
       "6    16           País Vasco 0                       0                      \n",
       "7    16           País Vasco 0                       0                      \n",
       "8    16           País Vasco 0                       0                      \n",
       "9    16           País Vasco 0                       0                      \n",
       "10   16           País Vasco 0                       0                      \n",
       "11   16           País Vasco 0                       0                      \n",
       "12   16           País Vasco 0                       0                      \n",
       "13   16           País Vasco 0                       0                      \n",
       "14   16           País Vasco 0                       0                      \n",
       "15   16           País Vasco 0                       0                      \n",
       "16   16           País Vasco 0                       0                      \n",
       "17   16           País Vasco 0                       0                      \n",
       "18   16           País Vasco 0                       0                      \n",
       "19   16           País Vasco 0                       0                      \n",
       "20   16           País Vasco 0                       0                      \n",
       "21   16           País Vasco 0                       0                      \n",
       "22   16           País Vasco 0                       0                      \n",
       "23   16           País Vasco 0                       0                      \n",
       "24   16           País Vasco 0                       0                      \n",
       "25   16           País Vasco 0                       0                      \n",
       "26   16           País Vasco 0                       0                      \n",
       "27   16           País Vasco 0                       0                      \n",
       "28   16           País Vasco 0                       0                      \n",
       "29   16           País Vasco 0                       0                      \n",
       "30   16           País Vasco 0                       0                      \n",
       "...  ...          ...        ...                     ...                    \n",
       "8093 02           Aragón     0                       0                      \n",
       "8094 02           Aragón     0                       0                      \n",
       "8095 02           Aragón     0                       0                      \n",
       "8096 02           Aragón     0                       0                      \n",
       "8097 02           Aragón     0                       0                      \n",
       "8098 02           Aragón     0                       0                      \n",
       "8099 02           Aragón     0                       0                      \n",
       "8100 02           Aragón     0                       0                      \n",
       "8101 02           Aragón     0                       0                      \n",
       "8102 02           Aragón     0                       0                      \n",
       "8103 02           Aragón     0                       0                      \n",
       "8104 02           Aragón     0                       0                      \n",
       "8105 02           Aragón     0                       0                      \n",
       "8106 02           Aragón     0                       0                      \n",
       "8107 02           Aragón     0                       0                      \n",
       "8108 02           Aragón     0                       0                      \n",
       "8109 02           Aragón     0                       0                      \n",
       "8110 02           Aragón     0                       0                      \n",
       "8111 02           Aragón     0                       0                      \n",
       "8112 02           Aragón     0                       0                      \n",
       "8113 02           Aragón     0                       0                      \n",
       "8114 02           Aragón     0                       0                      \n",
       "8115 02           Aragón     0                       0                      \n",
       "8116 02           Aragón     1                       1                      \n",
       "8117 02           Aragón     0                       0                      \n",
       "8118 02           Aragón     0                       0                      \n",
       "8119 02           Aragón     0                       0                      \n",
       "8120 02           Aragón     0                       0                      \n",
       "8121 18           Ceuta      1                       1                      \n",
       "8122 19           Melilla    1                       1                      \n",
       "     latitud  longitud   poblacion\n",
       "1    42.84149 -2.513507   2870    \n",
       "2    43.05265 -3.001022  10139    \n",
       "3    43.05400 -2.566000   1491    \n",
       "4    43.12220 -3.128209   1832    \n",
       "5    42.72305 -2.872574    237    \n",
       "6    42.89028 -2.639167    981    \n",
       "7    42.89567 -2.321000   1671    \n",
       "8    43.08333 -3.063056   2935    \n",
       "9    42.53029 -2.679144    323    \n",
       "10   42.91669 -2.491817    924    \n",
       "11   42.68245 -2.860401    479    \n",
       "12   42.62669 -2.497532    567    \n",
       "13   42.69194 -2.370000   1127    \n",
       "14   42.96820 -2.718300   1755    \n",
       "15   42.59167 -2.516079    198    \n",
       "16   42.87139 -2.885556    357    \n",
       "17   42.84956 -2.544762    617    \n",
       "18   42.51507 -2.618277   1045    \n",
       "19   42.57050 -2.544915    357    \n",
       "20   42.82207 -2.495043    517    \n",
       "21   42.59042 -2.793166   1476    \n",
       "22   42.62640 -2.583820    170    \n",
       "23   42.55428 -2.584237   1528    \n",
       "24   42.56262 -2.513204    685    \n",
       "25   42.49467 -2.575167    828    \n",
       "26   42.56607 -2.633635    213    \n",
       "27   43.14333 -2.962985  18510    \n",
       "28   42.73981 -2.445980    731    \n",
       "29   42.52802 -2.407670    238    \n",
       "30   42.54517 -2.624532    223    \n",
       "...  ...      ...        ...      \n",
       "8093 41.05718 -1.4463030     71   \n",
       "8094 41.44337 -0.8846827    141   \n",
       "8095 42.15822 -0.8547610    144   \n",
       "8096 41.29880 -1.7406840     87   \n",
       "8097 41.37500 -0.4378378    241   \n",
       "8098 41.27439 -1.6043390    128   \n",
       "8099 41.82396 -1.6880100    392   \n",
       "8100 41.92807 -1.6811150    105   \n",
       "8101 41.27230 -1.7252300    106   \n",
       "8102 41.16254 -1.2873420     94   \n",
       "8103 41.19633 -1.5106090    200   \n",
       "8104 41.57368 -0.6503196    820   \n",
       "8105 41.32730 -1.5486730    102   \n",
       "8106 41.43472 -1.8395390    360   \n",
       "8107 41.76796 -0.8275479   4616   \n",
       "8108 41.07542 -1.3923710     52   \n",
       "8109 41.35206 -1.0369830    511   \n",
       "8110 41.15837 -1.0427930    111   \n",
       "8111 41.19093 -1.2872820    241   \n",
       "8112 41.46388 -1.7857970    521   \n",
       "8113 41.14323 -1.3243640     83   \n",
       "8114 41.21913 -1.1534460     47   \n",
       "8115 41.32636 -0.4269484    481   \n",
       "8116 41.65629 -0.8765379 666058   \n",
       "8117 41.86918 -0.7881644   7742   \n",
       "8118 42.38749 -0.9365878    157   \n",
       "8119 42.09059 -0.7760469     97   \n",
       "8120 41.68518 -0.7733151   2820   \n",
       "8121 35.88829 -5.3161950  84963   \n",
       "8122 35.29234 -2.9387940  84509   "
      ]
     },
     "metadata": {},
     "output_type": "display_data"
    }
   ],
   "source": [
    "mun_xlsx"
   ]
  },
  {
   "cell_type": "markdown",
   "metadata": {},
   "source": [
    "### Importación desde BBDD Relacionales\n",
    "\n"
   ]
  },
  {
   "attachments": {},
   "cell_type": "markdown",
   "metadata": {},
   "source": [
    "Existen diversos paquetes en R para conectar a base de datos. Estos paquetes son\n",
    "específicos para cada software de base de datos.\n",
    "+ MySQL: `RMySQL`\n",
    "+ PostgresSQL: `RPostgresSQL`\n",
    "+ Oracle: `ROracle`\n",
    "+ SQL Server: `RODBC`\n",
    "+ Otros paquetes: `DBI`\n",
    "\n",
    "En particular, `RODBC` es un paquete universal para conectar a las bases de datos que admiten el estándar Open Data Base Conector.\n",
    "\n",
    "El procedimiento de trabajo es análogo al de otros lenguajes de programación\n",
    "+ Establecer conexión.\n",
    "+ Ejecutar la consulta para obtener los datos.\n",
    "+ Traer los resultados (todo el resultset de una vez o fila a fila).\n",
    "+ Cerrar conexión.\n",
    "\n",
    "Hacer consultas a una base de datos nos permite extraer la información de manera  selectiva."
   ]
  },
  {
   "cell_type": "code",
   "execution_count": 2,
   "metadata": {},
   "outputs": [
    {
     "name": "stderr",
     "output_type": "stream",
     "text": [
      "Warning message:\n",
      "\"package 'RODBC' was built under R version 3.5.2\""
     ]
    }
   ],
   "source": [
    "# install.packages(\"RODBC\", repos =\"https://cloud.r-project.org\")\n",
    "library(RODBC)"
   ]
  },
  {
   "cell_type": "code",
   "execution_count": 8,
   "metadata": {},
   "outputs": [
    {
     "name": "stderr",
     "output_type": "stream",
     "text": [
      "Warning message in RODBC::odbcDriverConnect(\"DSN=Cloudera Hive 64-bit\"):\n",
      "\"[RODBC] ERROR: state IM002, code 0, message [Microsoft][Administrador de controladores ODBC] No se encuentra el nombre del origen de datos y no se especificó ningún controlador predeterminado\"Warning message in RODBC::odbcDriverConnect(\"DSN=Cloudera Hive 64-bit\"):\n",
      "\"ODBC connection failed\""
     ]
    },
    {
     "ename": "ERROR",
     "evalue": "Error in odbcGetInfo(hiveConn): argument is not an open RODBC channel\n",
     "output_type": "error",
     "traceback": [
      "Error in odbcGetInfo(hiveConn): argument is not an open RODBC channel\nTraceback:\n",
      "1. odbcGetInfo(hiveConn)",
      "2. stop(\"argument is not an open RODBC channel\")"
     ]
    }
   ],
   "source": [
    "userName <- \"\"\n",
    "passwd <- \"\"\n",
    "hive_schema <- \"schema_name\"\n",
    "dataSourceName <- \"Cloudera Hive 64-bit\"\n",
    "\n",
    "\n",
    "hiveConn <- odbcConnect(dataSourceName, uid=userName, pwd=passwd)\n",
    "odbcGetInfo(hiveConn)"
   ]
  },
  {
   "cell_type": "code",
   "execution_count": 9,
   "metadata": {},
   "outputs": [
    {
     "ename": "ERROR",
     "evalue": "Error in sqlQuery(hiveConn, \"\"): first argument is not an open RODBC channel\n",
     "output_type": "error",
     "traceback": [
      "Error in sqlQuery(hiveConn, \"\"): first argument is not an open RODBC channel\nTraceback:\n",
      "1. sqlQuery(hiveConn, \"\")",
      "2. stop(\"first argument is not an open RODBC channel\")"
     ]
    }
   ],
   "source": [
    "sqlQuery(hiveConn,\"\")\n",
    "\n",
    "bdm_agentes <- sqlQuery(hiveConn,\"SELECT * FROM TABLA_1;\")"
   ]
  },
  {
   "cell_type": "code",
   "execution_count": null,
   "metadata": {},
   "outputs": [],
   "source": []
  }
 ],
 "metadata": {
  "kernelspec": {
   "display_name": "R",
   "language": "R",
   "name": "ir"
  },
  "language_info": {
   "codemirror_mode": "r",
   "file_extension": ".r",
   "mimetype": "text/x-r-source",
   "name": "R",
   "pygments_lexer": "r",
   "version": "3.5.1"
  }
 },
 "nbformat": 4,
 "nbformat_minor": 2
}
