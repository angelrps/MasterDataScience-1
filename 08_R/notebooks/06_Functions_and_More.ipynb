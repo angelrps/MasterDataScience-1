{
 "cells": [
  {
   "cell_type": "markdown",
   "metadata": {},
   "source": [
    "# Funciones en ![](https://www.r-project.org/Rlogo.png)\n",
    "\n"
   ]
  },
  {
   "cell_type": "markdown",
   "metadata": {},
   "source": [
    "Las funciones son objetos de R que evalúan un conjunto de argumentos de entrada y devuelven una salida. También son llamadas **closures**."
   ]
  },
  {
   "cell_type": "code",
   "execution_count": 1,
   "metadata": {},
   "outputs": [],
   "source": [
    "###################################\n",
    "# Functions: creación             #\n",
    "###################################\n",
    "\n",
    "func <- function(x) {\n",
    "  #body  \n",
    "}"
   ]
  },
  {
   "cell_type": "markdown",
   "metadata": {},
   "source": [
    "Los argumentos son un conjunto de nombres de variables que se emplearán dentro de la\n",
    "función.\n",
    "\n",
    "Los argumentos pueden ser:\n",
    "+ Obligatorios.\n",
    "+ Opcionales (tienen asignados un valor por defecto).\n",
    "+ De longitud variable (se accede a cada uno de estos parámetros con ..1, ..2, etc.).\n",
    "\n",
    "El retorno de la función se especifica llamando a la función `return(x)`. En algunas ocasiones  no es necesario, y se devolverá el resultado de la última expresión evaluada. Es  recomendable utilizarlo por legibilidad"
   ]
  },
  {
   "cell_type": "code",
   "execution_count": 9,
   "metadata": {},
   "outputs": [
    {
     "data": {
      "text/html": [
       "8"
      ],
      "text/latex": [
       "8"
      ],
      "text/markdown": [
       "8"
      ],
      "text/plain": [
       "[1] 8"
      ]
     },
     "metadata": {},
     "output_type": "display_data"
    },
    {
     "data": {
      "text/html": [
       "0"
      ],
      "text/latex": [
       "0"
      ],
      "text/markdown": [
       "0"
      ],
      "text/plain": [
       "[1] 0"
      ]
     },
     "metadata": {},
     "output_type": "display_data"
    }
   ],
   "source": [
    "do_something <- function(a, b = 1) {\n",
    "    if (b == 0)\n",
    "        return(0)\n",
    "    a*b + a/b\n",
    "}\n",
    "\n",
    "do_something(4)\n",
    "do_something(4,0)"
   ]
  },
  {
   "cell_type": "markdown",
   "metadata": {},
   "source": [
    "La función anterior tiene un parámetro obligatorio (a) y otro opcional (b).\n",
    "\n",
    "El parámetro b al ser opcional, si no es pasado en la llamada, tomará el valor 1.\n",
    "\n",
    "La función tiene dos retornos:\n",
    "+ Cuando b es igual a cero (con return)\n",
    "+ Cuando b no es igual a cero (sin return)"
   ]
  },
  {
   "cell_type": "markdown",
   "metadata": {},
   "source": [
    "Para realizar el retorno de la función hay que utilizar `return(x)`.\n",
    "OJO! En R `return` es una función.\n",
    "\n",
    "Es posible definir funciones en una única línea. En estos casos las llaves resultan  opcionales."
   ]
  },
  {
   "cell_type": "code",
   "execution_count": 10,
   "metadata": {},
   "outputs": [],
   "source": [
    "pow_two <- function(x) return(x^2)"
   ]
  },
  {
   "cell_type": "markdown",
   "metadata": {},
   "source": [
    "Dado que las funciones son objetos, se pueden pasar como argumentos a otras funciones  (funciones de la familia `apply`). \n",
    "\n",
    "En estos casos es muy común utilizar funciones anónimas.\n",
    "\n",
    "Para ver los argumentos que recibe una función se puede utilizar la función `args(f)`."
   ]
  },
  {
   "cell_type": "markdown",
   "metadata": {},
   "source": [
    "## Ámbito de las variables en las funciones"
   ]
  },
  {
   "cell_type": "markdown",
   "metadata": {},
   "source": [
    "Cuando una función es invocada se crea un nuevo entorno (frame) para ella.\n",
    "\n",
    "Cada frame se encuentra dentro de la pila de llamadas, correspondiendo el primer frame al  entorno global.\n",
    "\n",
    "Cada llamada a una función creará un frame local.\n",
    "\n",
    "Los nombres de las variables dentro de una función se resuelven en el siguiente orden:\n",
    "+ Entorno local.\n",
    "+ Entorno padre (funciones definidas dentro de funciones).\n",
    "…\n",
    "+ Entorno global.\n",
    "\n",
    "De esta manera, una variable que está definida dentro de una función no está disponible\n",
    "fuera de la función (en los entornos superiores, aunque sí en los inferiores)."
   ]
  },
  {
   "cell_type": "markdown",
   "metadata": {},
   "source": [
    "## Argumentos por valor\n",
    "\n",
    "R pasa los argumentos por valor. Es decir, una función no puede alterar el valor de la variable que se pasa como argumento en la llamada.\n",
    "\n",
    "Se generan copias locales de las variables en el ámbito de la función. Es posible modificar el  valor de una variable en los entornos superiores (global) desde un entorno local con el operador de asignación `<<-`.\n",
    "\n",
    "Los argumentos no tienen tipo, por lo que podemos pasar “cualquier cosa” en la llamada.\n",
    "\n",
    "En R no es necesario pasar los argumentos en orden, puesto que los podemos pasar por nombre."
   ]
  },
  {
   "cell_type": "code",
   "execution_count": 15,
   "metadata": {},
   "outputs": [
    {
     "data": {
      "text/html": [
       "<ol class=list-inline>\n",
       "\t<li>1</li>\n",
       "\t<li>2</li>\n",
       "\t<li>3</li>\n",
       "</ol>\n"
      ],
      "text/latex": [
       "\\begin{enumerate*}\n",
       "\\item 1\n",
       "\\item 2\n",
       "\\item 3\n",
       "\\end{enumerate*}\n"
      ],
      "text/markdown": [
       "1. 1\n",
       "2. 2\n",
       "3. 3\n",
       "\n",
       "\n"
      ],
      "text/plain": [
       "[1] 1 2 3"
      ]
     },
     "metadata": {},
     "output_type": "display_data"
    },
    {
     "data": {
      "text/html": [
       "<ol class=list-inline>\n",
       "\t<li>1</li>\n",
       "\t<li>2</li>\n",
       "\t<li>3</li>\n",
       "</ol>\n"
      ],
      "text/latex": [
       "\\begin{enumerate*}\n",
       "\\item 1\n",
       "\\item 2\n",
       "\\item 3\n",
       "\\end{enumerate*}\n"
      ],
      "text/markdown": [
       "1. 1\n",
       "2. 2\n",
       "3. 3\n",
       "\n",
       "\n"
      ],
      "text/plain": [
       "[1] 1 2 3"
      ]
     },
     "metadata": {},
     "output_type": "display_data"
    }
   ],
   "source": [
    "my_function <- function(a, b, c) {\n",
    "  c(a,b,c)\n",
    "    #d <<- c(a, b, c)\n",
    "}\n",
    "\n",
    "my_function(1, 2, 3)\n",
    "\n",
    "my_function(c = 3, a = 1, b = 2)"
   ]
  },
  {
   "attachments": {
    "image.png": {
     "image/png": "[encoded data removed]"
    }
   },
   "cell_type": "markdown",
   "metadata": {},
   "source": [
    "# Paquetes\n",
    "\n",
    "Un paquete es una colección de funciones, datos y código compilado que han sido\n",
    "empaquetados juntos.\n",
    "\n",
    "Similares a las librerías de C/C++ o paquetes de clases de Java.\n",
    "\n",
    "Para utilizar un paquete hay que instalarlo y a continuación cargarlo:\n",
    "+ install.packages(“packageName”)\n",
    "+ library(packageName) o require(packageName)\n",
    "\n",
    "En RStudio se pueden gestionar los paquetes desde la pestaña Packages\n",
    "\n",
    "![image.png](attachment:image.png)"
   ]
  },
  {
   "cell_type": "markdown",
   "metadata": {},
   "source": [
    "## CRAN\n",
    "\n",
    "Los paquetes de R se almacenan en un repositorio llamado CRAN (Comprehensive R\n",
    "Archive Network). Existen numerosas URLs para acceder al repositorio.\n",
    "\n",
    "Más de 6.000 paquetes disponibles.\n",
    "\n",
    "Paquetes por temática: https://cran.r-project.org/web/views/\n",
    "\n",
    "Paquetes por nombre: https://cran.r-project.org/web/packages/available_packages_by_name.html\n",
    "\n",
    "Paquetes por fecha de publicación: https://cran.r-project.org/web/packages/available_packages_by_date.html"
   ]
  },
  {
   "cell_type": "code",
   "execution_count": 16,
   "metadata": {},
   "outputs": [],
   "source": [
    "?install.packages"
   ]
  },
  {
   "cell_type": "code",
   "execution_count": 17,
   "metadata": {},
   "outputs": [
    {
     "name": "stderr",
     "output_type": "stream",
     "text": [
      "also installing the dependencies 'hms', 'clipr'\n",
      "\n"
     ]
    },
    {
     "name": "stdout",
     "output_type": "stream",
     "text": [
      "package 'hms' successfully unpacked and MD5 sums checked\n",
      "package 'clipr' successfully unpacked and MD5 sums checked\n",
      "package 'readr' successfully unpacked and MD5 sums checked\n",
      "\n",
      "The downloaded binary packages are in\n",
      "\tC:\\Users\\marioen\\AppData\\Local\\Temp\\RtmpkXCqJN\\downloaded_packages\n"
     ]
    }
   ],
   "source": [
    "install.packages('readr', repos =\"https://cloud.r-project.org\")"
   ]
  },
  {
   "cell_type": "code",
   "execution_count": 18,
   "metadata": {
    "scrolled": false
   },
   "outputs": [
    {
     "name": "stderr",
     "output_type": "stream",
     "text": [
      "Warning message:\n",
      "\"package 'readr' was built under R version 3.5.2\""
     ]
    }
   ],
   "source": [
    "library(readr)"
   ]
  },
  {
   "cell_type": "code",
   "execution_count": 21,
   "metadata": {
    "scrolled": true
   },
   "outputs": [
    {
     "data": {
      "text/html": [
       "<ol class=list-inline>\n",
       "\t<li>'AccumulateCallback'</li>\n",
       "\t<li>'as.col_spec'</li>\n",
       "\t<li>'ChunkCallback'</li>\n",
       "\t<li>'clipboard'</li>\n",
       "\t<li>'col_character'</li>\n",
       "\t<li>'col_date'</li>\n",
       "\t<li>'col_datetime'</li>\n",
       "\t<li>'col_double'</li>\n",
       "\t<li>'col_factor'</li>\n",
       "\t<li>'col_guess'</li>\n",
       "\t<li>'col_integer'</li>\n",
       "\t<li>'col_logical'</li>\n",
       "\t<li>'col_number'</li>\n",
       "\t<li>'col_skip'</li>\n",
       "\t<li>'col_time'</li>\n",
       "\t<li>'cols'</li>\n",
       "\t<li>'cols_condense'</li>\n",
       "\t<li>'cols_only'</li>\n",
       "\t<li>'count_fields'</li>\n",
       "\t<li>'DataFrameCallback'</li>\n",
       "\t<li>'datasource'</li>\n",
       "\t<li>'date_names'</li>\n",
       "\t<li>'date_names_lang'</li>\n",
       "\t<li>'date_names_langs'</li>\n",
       "\t<li>'default_locale'</li>\n",
       "\t<li>'format_csv'</li>\n",
       "\t<li>'format_csv2'</li>\n",
       "\t<li>'format_delim'</li>\n",
       "\t<li>'format_tsv'</li>\n",
       "\t<li>'fwf_cols'</li>\n",
       "\t<li>'fwf_empty'</li>\n",
       "\t<li>'fwf_positions'</li>\n",
       "\t<li>'fwf_widths'</li>\n",
       "\t<li>'guess_encoding'</li>\n",
       "\t<li>'guess_parser'</li>\n",
       "\t<li>'ListCallback'</li>\n",
       "\t<li>'locale'</li>\n",
       "\t<li>'melt_csv'</li>\n",
       "\t<li>'melt_csv_chunked'</li>\n",
       "\t<li>'melt_csv2'</li>\n",
       "\t<li>'melt_csv2_chunked'</li>\n",
       "\t<li>'melt_delim'</li>\n",
       "\t<li>'melt_delim_chunked'</li>\n",
       "\t<li>'melt_fwf'</li>\n",
       "\t<li>'melt_table'</li>\n",
       "\t<li>'melt_table2'</li>\n",
       "\t<li>'melt_tsv'</li>\n",
       "\t<li>'melt_tsv_chunked'</li>\n",
       "\t<li>'output_column'</li>\n",
       "\t<li>'parse_character'</li>\n",
       "\t<li>'parse_date'</li>\n",
       "\t<li>'parse_datetime'</li>\n",
       "\t<li>'parse_double'</li>\n",
       "\t<li>'parse_factor'</li>\n",
       "\t<li>'parse_guess'</li>\n",
       "\t<li>'parse_integer'</li>\n",
       "\t<li>'parse_logical'</li>\n",
       "\t<li>'parse_number'</li>\n",
       "\t<li>'parse_time'</li>\n",
       "\t<li>'parse_vector'</li>\n",
       "\t<li>'problems'</li>\n",
       "\t<li>'read_csv'</li>\n",
       "\t<li>'read_csv_chunked'</li>\n",
       "\t<li>'read_csv2'</li>\n",
       "\t<li>'read_csv2_chunked'</li>\n",
       "\t<li>'read_delim'</li>\n",
       "\t<li>'read_delim_chunked'</li>\n",
       "\t<li>'read_file'</li>\n",
       "\t<li>'read_file_raw'</li>\n",
       "\t<li>'read_fwf'</li>\n",
       "\t<li>'read_lines'</li>\n",
       "\t<li>'read_lines_chunked'</li>\n",
       "\t<li>'read_lines_raw'</li>\n",
       "\t<li>'read_lines_raw_chunked'</li>\n",
       "\t<li>'read_log'</li>\n",
       "\t<li>'read_rds'</li>\n",
       "\t<li>'read_table'</li>\n",
       "\t<li>'read_table2'</li>\n",
       "\t<li>'read_tsv'</li>\n",
       "\t<li>'read_tsv_chunked'</li>\n",
       "\t<li>'readr_example'</li>\n",
       "\t<li>'show_progress'</li>\n",
       "\t<li>'SideEffectChunkCallback'</li>\n",
       "\t<li>'spec'</li>\n",
       "\t<li>'spec_csv'</li>\n",
       "\t<li>'spec_csv2'</li>\n",
       "\t<li>'spec_delim'</li>\n",
       "\t<li>'spec_table'</li>\n",
       "\t<li>'spec_table2'</li>\n",
       "\t<li>'spec_tsv'</li>\n",
       "\t<li>'stop_for_problems'</li>\n",
       "\t<li>'tokenize'</li>\n",
       "\t<li>'tokenizer_csv'</li>\n",
       "\t<li>'tokenizer_delim'</li>\n",
       "\t<li>'tokenizer_fwf'</li>\n",
       "\t<li>'tokenizer_line'</li>\n",
       "\t<li>'tokenizer_log'</li>\n",
       "\t<li>'tokenizer_tsv'</li>\n",
       "\t<li>'tokenizer_ws'</li>\n",
       "\t<li>'type_convert'</li>\n",
       "\t<li>'write_csv'</li>\n",
       "\t<li>'write_csv2'</li>\n",
       "\t<li>'write_delim'</li>\n",
       "\t<li>'write_excel_csv'</li>\n",
       "\t<li>'write_excel_csv2'</li>\n",
       "\t<li>'write_file'</li>\n",
       "\t<li>'write_lines'</li>\n",
       "\t<li>'write_rds'</li>\n",
       "\t<li>'write_tsv'</li>\n",
       "</ol>\n"
      ],
      "text/latex": [
       "\\begin{enumerate*}\n",
       "\\item 'AccumulateCallback'\n",
       "\\item 'as.col\\_spec'\n",
       "\\item 'ChunkCallback'\n",
       "\\item 'clipboard'\n",
       "\\item 'col\\_character'\n",
       "\\item 'col\\_date'\n",
       "\\item 'col\\_datetime'\n",
       "\\item 'col\\_double'\n",
       "\\item 'col\\_factor'\n",
       "\\item 'col\\_guess'\n",
       "\\item 'col\\_integer'\n",
       "\\item 'col\\_logical'\n",
       "\\item 'col\\_number'\n",
       "\\item 'col\\_skip'\n",
       "\\item 'col\\_time'\n",
       "\\item 'cols'\n",
       "\\item 'cols\\_condense'\n",
       "\\item 'cols\\_only'\n",
       "\\item 'count\\_fields'\n",
       "\\item 'DataFrameCallback'\n",
       "\\item 'datasource'\n",
       "\\item 'date\\_names'\n",
       "\\item 'date\\_names\\_lang'\n",
       "\\item 'date\\_names\\_langs'\n",
       "\\item 'default\\_locale'\n",
       "\\item 'format\\_csv'\n",
       "\\item 'format\\_csv2'\n",
       "\\item 'format\\_delim'\n",
       "\\item 'format\\_tsv'\n",
       "\\item 'fwf\\_cols'\n",
       "\\item 'fwf\\_empty'\n",
       "\\item 'fwf\\_positions'\n",
       "\\item 'fwf\\_widths'\n",
       "\\item 'guess\\_encoding'\n",
       "\\item 'guess\\_parser'\n",
       "\\item 'ListCallback'\n",
       "\\item 'locale'\n",
       "\\item 'melt\\_csv'\n",
       "\\item 'melt\\_csv\\_chunked'\n",
       "\\item 'melt\\_csv2'\n",
       "\\item 'melt\\_csv2\\_chunked'\n",
       "\\item 'melt\\_delim'\n",
       "\\item 'melt\\_delim\\_chunked'\n",
       "\\item 'melt\\_fwf'\n",
       "\\item 'melt\\_table'\n",
       "\\item 'melt\\_table2'\n",
       "\\item 'melt\\_tsv'\n",
       "\\item 'melt\\_tsv\\_chunked'\n",
       "\\item 'output\\_column'\n",
       "\\item 'parse\\_character'\n",
       "\\item 'parse\\_date'\n",
       "\\item 'parse\\_datetime'\n",
       "\\item 'parse\\_double'\n",
       "\\item 'parse\\_factor'\n",
       "\\item 'parse\\_guess'\n",
       "\\item 'parse\\_integer'\n",
       "\\item 'parse\\_logical'\n",
       "\\item 'parse\\_number'\n",
       "\\item 'parse\\_time'\n",
       "\\item 'parse\\_vector'\n",
       "\\item 'problems'\n",
       "\\item 'read\\_csv'\n",
       "\\item 'read\\_csv\\_chunked'\n",
       "\\item 'read\\_csv2'\n",
       "\\item 'read\\_csv2\\_chunked'\n",
       "\\item 'read\\_delim'\n",
       "\\item 'read\\_delim\\_chunked'\n",
       "\\item 'read\\_file'\n",
       "\\item 'read\\_file\\_raw'\n",
       "\\item 'read\\_fwf'\n",
       "\\item 'read\\_lines'\n",
       "\\item 'read\\_lines\\_chunked'\n",
       "\\item 'read\\_lines\\_raw'\n",
       "\\item 'read\\_lines\\_raw\\_chunked'\n",
       "\\item 'read\\_log'\n",
       "\\item 'read\\_rds'\n",
       "\\item 'read\\_table'\n",
       "\\item 'read\\_table2'\n",
       "\\item 'read\\_tsv'\n",
       "\\item 'read\\_tsv\\_chunked'\n",
       "\\item 'readr\\_example'\n",
       "\\item 'show\\_progress'\n",
       "\\item 'SideEffectChunkCallback'\n",
       "\\item 'spec'\n",
       "\\item 'spec\\_csv'\n",
       "\\item 'spec\\_csv2'\n",
       "\\item 'spec\\_delim'\n",
       "\\item 'spec\\_table'\n",
       "\\item 'spec\\_table2'\n",
       "\\item 'spec\\_tsv'\n",
       "\\item 'stop\\_for\\_problems'\n",
       "\\item 'tokenize'\n",
       "\\item 'tokenizer\\_csv'\n",
       "\\item 'tokenizer\\_delim'\n",
       "\\item 'tokenizer\\_fwf'\n",
       "\\item 'tokenizer\\_line'\n",
       "\\item 'tokenizer\\_log'\n",
       "\\item 'tokenizer\\_tsv'\n",
       "\\item 'tokenizer\\_ws'\n",
       "\\item 'type\\_convert'\n",
       "\\item 'write\\_csv'\n",
       "\\item 'write\\_csv2'\n",
       "\\item 'write\\_delim'\n",
       "\\item 'write\\_excel\\_csv'\n",
       "\\item 'write\\_excel\\_csv2'\n",
       "\\item 'write\\_file'\n",
       "\\item 'write\\_lines'\n",
       "\\item 'write\\_rds'\n",
       "\\item 'write\\_tsv'\n",
       "\\end{enumerate*}\n"
      ],
      "text/markdown": [
       "1. 'AccumulateCallback'\n",
       "2. 'as.col_spec'\n",
       "3. 'ChunkCallback'\n",
       "4. 'clipboard'\n",
       "5. 'col_character'\n",
       "6. 'col_date'\n",
       "7. 'col_datetime'\n",
       "8. 'col_double'\n",
       "9. 'col_factor'\n",
       "10. 'col_guess'\n",
       "11. 'col_integer'\n",
       "12. 'col_logical'\n",
       "13. 'col_number'\n",
       "14. 'col_skip'\n",
       "15. 'col_time'\n",
       "16. 'cols'\n",
       "17. 'cols_condense'\n",
       "18. 'cols_only'\n",
       "19. 'count_fields'\n",
       "20. 'DataFrameCallback'\n",
       "21. 'datasource'\n",
       "22. 'date_names'\n",
       "23. 'date_names_lang'\n",
       "24. 'date_names_langs'\n",
       "25. 'default_locale'\n",
       "26. 'format_csv'\n",
       "27. 'format_csv2'\n",
       "28. 'format_delim'\n",
       "29. 'format_tsv'\n",
       "30. 'fwf_cols'\n",
       "31. 'fwf_empty'\n",
       "32. 'fwf_positions'\n",
       "33. 'fwf_widths'\n",
       "34. 'guess_encoding'\n",
       "35. 'guess_parser'\n",
       "36. 'ListCallback'\n",
       "37. 'locale'\n",
       "38. 'melt_csv'\n",
       "39. 'melt_csv_chunked'\n",
       "40. 'melt_csv2'\n",
       "41. 'melt_csv2_chunked'\n",
       "42. 'melt_delim'\n",
       "43. 'melt_delim_chunked'\n",
       "44. 'melt_fwf'\n",
       "45. 'melt_table'\n",
       "46. 'melt_table2'\n",
       "47. 'melt_tsv'\n",
       "48. 'melt_tsv_chunked'\n",
       "49. 'output_column'\n",
       "50. 'parse_character'\n",
       "51. 'parse_date'\n",
       "52. 'parse_datetime'\n",
       "53. 'parse_double'\n",
       "54. 'parse_factor'\n",
       "55. 'parse_guess'\n",
       "56. 'parse_integer'\n",
       "57. 'parse_logical'\n",
       "58. 'parse_number'\n",
       "59. 'parse_time'\n",
       "60. 'parse_vector'\n",
       "61. 'problems'\n",
       "62. 'read_csv'\n",
       "63. 'read_csv_chunked'\n",
       "64. 'read_csv2'\n",
       "65. 'read_csv2_chunked'\n",
       "66. 'read_delim'\n",
       "67. 'read_delim_chunked'\n",
       "68. 'read_file'\n",
       "69. 'read_file_raw'\n",
       "70. 'read_fwf'\n",
       "71. 'read_lines'\n",
       "72. 'read_lines_chunked'\n",
       "73. 'read_lines_raw'\n",
       "74. 'read_lines_raw_chunked'\n",
       "75. 'read_log'\n",
       "76. 'read_rds'\n",
       "77. 'read_table'\n",
       "78. 'read_table2'\n",
       "79. 'read_tsv'\n",
       "80. 'read_tsv_chunked'\n",
       "81. 'readr_example'\n",
       "82. 'show_progress'\n",
       "83. 'SideEffectChunkCallback'\n",
       "84. 'spec'\n",
       "85. 'spec_csv'\n",
       "86. 'spec_csv2'\n",
       "87. 'spec_delim'\n",
       "88. 'spec_table'\n",
       "89. 'spec_table2'\n",
       "90. 'spec_tsv'\n",
       "91. 'stop_for_problems'\n",
       "92. 'tokenize'\n",
       "93. 'tokenizer_csv'\n",
       "94. 'tokenizer_delim'\n",
       "95. 'tokenizer_fwf'\n",
       "96. 'tokenizer_line'\n",
       "97. 'tokenizer_log'\n",
       "98. 'tokenizer_tsv'\n",
       "99. 'tokenizer_ws'\n",
       "100. 'type_convert'\n",
       "101. 'write_csv'\n",
       "102. 'write_csv2'\n",
       "103. 'write_delim'\n",
       "104. 'write_excel_csv'\n",
       "105. 'write_excel_csv2'\n",
       "106. 'write_file'\n",
       "107. 'write_lines'\n",
       "108. 'write_rds'\n",
       "109. 'write_tsv'\n",
       "\n",
       "\n"
      ],
      "text/plain": [
       "  [1] \"AccumulateCallback\"      \"as.col_spec\"            \n",
       "  [3] \"ChunkCallback\"           \"clipboard\"              \n",
       "  [5] \"col_character\"           \"col_date\"               \n",
       "  [7] \"col_datetime\"            \"col_double\"             \n",
       "  [9] \"col_factor\"              \"col_guess\"              \n",
       " [11] \"col_integer\"             \"col_logical\"            \n",
       " [13] \"col_number\"              \"col_skip\"               \n",
       " [15] \"col_time\"                \"cols\"                   \n",
       " [17] \"cols_condense\"           \"cols_only\"              \n",
       " [19] \"count_fields\"            \"DataFrameCallback\"      \n",
       " [21] \"datasource\"              \"date_names\"             \n",
       " [23] \"date_names_lang\"         \"date_names_langs\"       \n",
       " [25] \"default_locale\"          \"format_csv\"             \n",
       " [27] \"format_csv2\"             \"format_delim\"           \n",
       " [29] \"format_tsv\"              \"fwf_cols\"               \n",
       " [31] \"fwf_empty\"               \"fwf_positions\"          \n",
       " [33] \"fwf_widths\"              \"guess_encoding\"         \n",
       " [35] \"guess_parser\"            \"ListCallback\"           \n",
       " [37] \"locale\"                  \"melt_csv\"               \n",
       " [39] \"melt_csv_chunked\"        \"melt_csv2\"              \n",
       " [41] \"melt_csv2_chunked\"       \"melt_delim\"             \n",
       " [43] \"melt_delim_chunked\"      \"melt_fwf\"               \n",
       " [45] \"melt_table\"              \"melt_table2\"            \n",
       " [47] \"melt_tsv\"                \"melt_tsv_chunked\"       \n",
       " [49] \"output_column\"           \"parse_character\"        \n",
       " [51] \"parse_date\"              \"parse_datetime\"         \n",
       " [53] \"parse_double\"            \"parse_factor\"           \n",
       " [55] \"parse_guess\"             \"parse_integer\"          \n",
       " [57] \"parse_logical\"           \"parse_number\"           \n",
       " [59] \"parse_time\"              \"parse_vector\"           \n",
       " [61] \"problems\"                \"read_csv\"               \n",
       " [63] \"read_csv_chunked\"        \"read_csv2\"              \n",
       " [65] \"read_csv2_chunked\"       \"read_delim\"             \n",
       " [67] \"read_delim_chunked\"      \"read_file\"              \n",
       " [69] \"read_file_raw\"           \"read_fwf\"               \n",
       " [71] \"read_lines\"              \"read_lines_chunked\"     \n",
       " [73] \"read_lines_raw\"          \"read_lines_raw_chunked\" \n",
       " [75] \"read_log\"                \"read_rds\"               \n",
       " [77] \"read_table\"              \"read_table2\"            \n",
       " [79] \"read_tsv\"                \"read_tsv_chunked\"       \n",
       " [81] \"readr_example\"           \"show_progress\"          \n",
       " [83] \"SideEffectChunkCallback\" \"spec\"                   \n",
       " [85] \"spec_csv\"                \"spec_csv2\"              \n",
       " [87] \"spec_delim\"              \"spec_table\"             \n",
       " [89] \"spec_table2\"             \"spec_tsv\"               \n",
       " [91] \"stop_for_problems\"       \"tokenize\"               \n",
       " [93] \"tokenizer_csv\"           \"tokenizer_delim\"        \n",
       " [95] \"tokenizer_fwf\"           \"tokenizer_line\"         \n",
       " [97] \"tokenizer_log\"           \"tokenizer_tsv\"          \n",
       " [99] \"tokenizer_ws\"            \"type_convert\"           \n",
       "[101] \"write_csv\"               \"write_csv2\"             \n",
       "[103] \"write_delim\"             \"write_excel_csv\"        \n",
       "[105] \"write_excel_csv2\"        \"write_file\"             \n",
       "[107] \"write_lines\"             \"write_rds\"              \n",
       "[109] \"write_tsv\"              "
      ]
     },
     "metadata": {},
     "output_type": "display_data"
    }
   ],
   "source": [
    "ls(\"package:readr\")"
   ]
  },
  {
   "attachments": {},
   "cell_type": "markdown",
   "metadata": {},
   "source": [
    "## Comandos sobre paquetes\n",
    "\n",
    "![comm_pkg](imgs/06_01.png)"
   ]
  },
  {
   "cell_type": "markdown",
   "metadata": {},
   "source": [
    "## Instalación de paquetes de otros repositorios\n",
    "\n",
    "No todos los paquetes están en CRAN.\n",
    "\n",
    "Con el paquete devtools se instalan paquetes desde otros repositorios populares (como por  ejemplo: Github).\n",
    "\n",
    "Por ejemplo, Hadley Wickman utiliza Github para el desarrollo del ggplot2. Para instalar la\n",
    "última versión de desarrollo de ggplot2:\n",
    "\n",
    "`library(devtools)`\n",
    "\n",
    "`install_github(\"ggplot2\")`"
   ]
  },
  {
   "cell_type": "markdown",
   "metadata": {},
   "source": [
    "## Ejercicio 6"
   ]
  },
  {
   "cell_type": "code",
   "execution_count": 40,
   "metadata": {},
   "outputs": [],
   "source": [
    "###################################\n",
    "# Funciones                          #\n",
    "###################################\n",
    "\n",
    "#Crea una función que tome un vector y devuelva \"True\" si contiene algún múltiplo de 3.\n",
    "\n",
    "#Esta no devuelve nada en caso de que no sea múltiplo de 3. Podemos pedirle que devuelva un mensaje.\n",
    "\n",
    "multiplo_tres <- function(x){\n",
    "  for (e in x){\n",
    "      a = e %% 3 == 0\n",
    "      if(a){\n",
    "          return(a)\n",
    "          break\n",
    "          }\n",
    "      }\n",
    "}"
   ]
  },
  {
   "cell_type": "code",
   "execution_count": 43,
   "metadata": {},
   "outputs": [],
   "source": [
    "#Crea una función que dado un dataframe y un número o carácter, devuelva otro data frame con dicho valor cambiado a NA. \n",
    "\n",
    "convierte_na <- function(df, v){\n",
    "    df[df==v] <- NA\n",
    "    return (df)  \n",
    "}"
   ]
  },
  {
   "cell_type": "code",
   "execution_count": 47,
   "metadata": {},
   "outputs": [],
   "source": [
    "#Escribe una función que pida un número entero al usuario y devuelva si es par o impar.\n",
    "\n",
    "es_par <- function()\n",
    "{ \n",
    "  n <- as.integer(readline(\"Introduzca un número entero: \"))\n",
    "  if(n%%2 ==0){\n",
    "    print('Es par')\n",
    "  }else{\n",
    "    print('Es impar')\n",
    "  }\n",
    "  }"
   ]
  },
  {
   "cell_type": "code",
   "execution_count": 50,
   "metadata": {},
   "outputs": [],
   "source": [
    "# Escribe una función que dados dos vectores numéricos realice el siguiente cálculo: \n",
    "# Contar cuántos números estrictamente positivos aparecerían como resultado de multiplicar (uno por uno) todos los\n",
    "# elementos del primer vector por todos los elementos del segundo.\"\"\"\n",
    "\n",
    "\n",
    "\n",
    "producto_positivo <- function(v,u){\n",
    "  suma <- sum(u*v>0)\n",
    "  return(suma)\n",
    "  }"
   ]
  },
  {
   "cell_type": "code",
   "execution_count": null,
   "metadata": {},
   "outputs": [],
   "source": [
    "# Escribe una función en R, llamada cinco, que pida al usuario 5 \n",
    "# números por teclado. Si alguno de los números introducidos es mayor o igual que\n",
    "# 100, el programa devolverá un mensaje avisando de esta situación. Si no, devuelve\n",
    "# la suma de los números introducidos que sean menores que 10.\"\"\"\n",
    "\n",
    "cinco <- function(){\n",
    "  \n",
    "  num <- readline(\"Introduce 5 números: \")\n",
    "  num <-  as.numeric(as.vector(unlist(strsplit(num, \",\"))))\n",
    "  if(any(num >100)){\n",
    "    print('Hay al menos un número mayor que 100')\n",
    "  }\n",
    "  else{\n",
    "    suma <- sum(num[num < 10])\n",
    "    return(suma)\n",
    "  }  \n",
    "}"
   ]
  },
  {
   "cell_type": "code",
   "execution_count": null,
   "metadata": {},
   "outputs": [],
   "source": [
    "# Escribe una función que, dados un vector numérico x y un número natural M, realice el siguiente cálculo: \n",
    "# Sumar una a una las componentes del vector\n",
    "# x y detenerse una vez que pasemos de M. En este momento, devolver al usuario\n",
    "# lo siguiente:\n",
    "# a) La suma obtenida.\n",
    "# b) Un vector que contenga los elementos de x que hemos usado para obtener\n",
    "# dicha suma.\n",
    "\n",
    "\n",
    "suma_vector <- function(x,M){\n",
    "  suma = 0\n",
    "  vector <- c()\n",
    "  for(e in x){\n",
    "    suma = suma + e\n",
    "    vector <- c(vector,e)\n",
    "    if(suma >= M){\n",
    "      return(list(suma =suma,vector = vector))\n",
    "      break\n",
    "    }\n",
    "  }\n",
    "}"
   ]
  }
 ],
 "metadata": {
  "kernelspec": {
   "display_name": "R",
   "language": "R",
   "name": "ir"
  },
  "language_info": {
   "codemirror_mode": "r",
   "file_extension": ".r",
   "mimetype": "text/x-r-source",
   "name": "R",
   "pygments_lexer": "r",
   "version": "3.5.1"
  }
 },
 "nbformat": 4,
 "nbformat_minor": 2
}
