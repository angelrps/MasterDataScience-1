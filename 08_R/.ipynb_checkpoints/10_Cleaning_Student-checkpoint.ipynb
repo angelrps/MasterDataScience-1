{
 "cells": [
  {
   "cell_type": "markdown",
   "metadata": {},
   "source": [
    "# Preparación y Limpieza de datos ![](https://www.r-project.org/Rlogo.png)\n",
    "\n"
   ]
  },
  {
   "cell_type": "markdown",
   "metadata": {},
   "source": [
    "Muchos de los datasets a los que los que nos enfrentaremos estarán sucios de una manera\n",
    "o de otra. Por ejemplo:\n",
    "\n",
    "\n",
    "+ <font color=#0000FF>Valores de una variable/atributo codificados como columnas.</font>\n",
    "+ <font color=#0000FF>Variable codificadas en filas y columnas.</font>\n",
    "+ <font color=#0000FF>Más de una variable contenida en la misma columna. Por ejemplo: trimestre y año.</font>\n",
    "+ <font color=#0000FF>Almacenar medidas en distintas unidades en la misma tabla.</font>\n",
    "+ <font color=#0000FF>Contienen missing values: valores desconocidos que habrá que eliminar o imputar.  </font>\n",
    "    <font color=#0000FF>OJO! Es importante saber por qué esos valores son desconocidos.</font>\n",
    "…\n",
    "\n",
    "Al proceso, por el cual, transformamos un dataset en otro más conveniente para nuestro  análisis, se le llama proceso de **limpieza**.\n",
    "\n",
    "Se suele decir que el proceso de limpieza y preparación de datos se lleva el **80%** del  tiempo, mientras que el resto de tareas conllevan sólo el **20%**. Es por este motivo, por el  que el proceso de preparación es tan importante."
   ]
  },
  {
   "cell_type": "markdown",
   "metadata": {},
   "source": [
    "# Preparación y Limpieza de datos: Exploración\n",
    "\n",
    "El proceso de exploración tiene como objetivo crear una composición general de un dataset.\n",
    "\n",
    "Contiene tres fases:\n",
    "+ <font color=#0000FF>Comprender y asimilar la estructura de los datos.</font>\n",
    "+ <font color=#0000FF>Ver los datos que lo componen.</font>\n",
    "+ <font color=#0000FF>Visualizar los datos que lo componen.</font>\n",
    "\n",
    "Mediante estos tres sencillos pasos podremos identificar los primeros “problemas” en  nuestros datos.\n",
    "\n",
    "Normalmente nuestro dataset estará contenido en un data frame de R, con las  observaciones en las filas y las variables en las columnas."
   ]
  },
  {
   "cell_type": "markdown",
   "metadata": {},
   "source": [
    "## Explorando la Estructura\n",
    "![cleaning_structure](imgs/10_01.png)"
   ]
  },
  {
   "cell_type": "markdown",
   "metadata": {},
   "source": [
    "## Explorando los datos\n",
    "![clean_data](imgs/10_02.png)"
   ]
  },
  {
   "cell_type": "markdown",
   "metadata": {},
   "source": [
    "## Visualizando los datos\n",
    "![plot_data](imgs/10_03.png)"
   ]
  },
  {
   "cell_type": "code",
   "execution_count": 1,
   "metadata": {},
   "outputs": [
    {
     "data": {
      "text/html": [
       "'data.frame'"
      ],
      "text/latex": [
       "'data.frame'"
      ],
      "text/markdown": [
       "'data.frame'"
      ],
      "text/plain": [
       "[1] \"data.frame\""
      ]
     },
     "metadata": {},
     "output_type": "display_data"
    }
   ],
   "source": [
    "#######################################\n",
    "# Limpieza: exploración               #\n",
    "#######################################\n",
    "\n",
    "# Cargamos el dataset\n",
    "vinos <- read.csv(\"dat/wine.csv\", \n",
    "                  header = T)\n",
    "\n",
    "# Exploración de la estructura\n",
    "class(vinos)"
   ]
  },
  {
   "cell_type": "code",
   "execution_count": 2,
   "metadata": {},
   "outputs": [
    {
     "data": {
      "text/html": [
       "<ol class=list-inline>\n",
       "\t<li>178</li>\n",
       "\t<li>14</li>\n",
       "</ol>\n"
      ],
      "text/latex": [
       "\\begin{enumerate*}\n",
       "\\item 178\n",
       "\\item 14\n",
       "\\end{enumerate*}\n"
      ],
      "text/markdown": [
       "1. 178\n",
       "2. 14\n",
       "\n",
       "\n"
      ],
      "text/plain": [
       "[1] 178  14"
      ]
     },
     "metadata": {},
     "output_type": "display_data"
    }
   ],
   "source": [
    "# Shape in Python\n",
    "\n",
    "dim(vinos)"
   ]
  },
  {
   "cell_type": "code",
   "execution_count": 3,
   "metadata": {},
   "outputs": [
    {
     "data": {
      "text/html": [
       "<ol class=list-inline>\n",
       "\t<li>'class'</li>\n",
       "\t<li>'alcohol'</li>\n",
       "\t<li>'malic_acid'</li>\n",
       "\t<li>'ash'</li>\n",
       "\t<li>'alcalinity_of_ash'</li>\n",
       "\t<li>'magnesium'</li>\n",
       "\t<li>'total_phenols'</li>\n",
       "\t<li>'flavanoids'</li>\n",
       "\t<li>'nonflavanoid_phenols'</li>\n",
       "\t<li>'proanthocyanins'</li>\n",
       "\t<li>'colour_intensity'</li>\n",
       "\t<li>'hue'</li>\n",
       "\t<li>'od280_od315'</li>\n",
       "\t<li>'proline'</li>\n",
       "</ol>\n"
      ],
      "text/latex": [
       "\\begin{enumerate*}\n",
       "\\item 'class'\n",
       "\\item 'alcohol'\n",
       "\\item 'malic\\_acid'\n",
       "\\item 'ash'\n",
       "\\item 'alcalinity\\_of\\_ash'\n",
       "\\item 'magnesium'\n",
       "\\item 'total\\_phenols'\n",
       "\\item 'flavanoids'\n",
       "\\item 'nonflavanoid\\_phenols'\n",
       "\\item 'proanthocyanins'\n",
       "\\item 'colour\\_intensity'\n",
       "\\item 'hue'\n",
       "\\item 'od280\\_od315'\n",
       "\\item 'proline'\n",
       "\\end{enumerate*}\n"
      ],
      "text/markdown": [
       "1. 'class'\n",
       "2. 'alcohol'\n",
       "3. 'malic_acid'\n",
       "4. 'ash'\n",
       "5. 'alcalinity_of_ash'\n",
       "6. 'magnesium'\n",
       "7. 'total_phenols'\n",
       "8. 'flavanoids'\n",
       "9. 'nonflavanoid_phenols'\n",
       "10. 'proanthocyanins'\n",
       "11. 'colour_intensity'\n",
       "12. 'hue'\n",
       "13. 'od280_od315'\n",
       "14. 'proline'\n",
       "\n",
       "\n"
      ],
      "text/plain": [
       " [1] \"class\"                \"alcohol\"              \"malic_acid\"          \n",
       " [4] \"ash\"                  \"alcalinity_of_ash\"    \"magnesium\"           \n",
       " [7] \"total_phenols\"        \"flavanoids\"           \"nonflavanoid_phenols\"\n",
       "[10] \"proanthocyanins\"      \"colour_intensity\"     \"hue\"                 \n",
       "[13] \"od280_od315\"          \"proline\"             "
      ]
     },
     "metadata": {},
     "output_type": "display_data"
    }
   ],
   "source": [
    "names(vinos)"
   ]
  },
  {
   "cell_type": "code",
   "execution_count": 4,
   "metadata": {},
   "outputs": [
    {
     "name": "stdout",
     "output_type": "stream",
     "text": [
      "'data.frame':\t178 obs. of  14 variables:\n",
      " $ class               : Factor w/ 3 levels \"class_1\",\"class_2\",..: 1 1 1 1 1 1 1 1 1 1 ...\n",
      " $ alcohol             : num  14.2 13.2 13.2 14.4 13.2 ...\n",
      " $ malic_acid          : num  1.71 1.78 2.36 1.95 2.59 1.76 1.87 2.15 1.64 1.35 ...\n",
      " $ ash                 : num  2.43 2.14 2.67 2.5 2.87 2.45 2.45 2.61 2.17 2.27 ...\n",
      " $ alcalinity_of_ash   : num  15.6 11.2 18.6 16.8 21 15.2 14.6 17.6 14 16 ...\n",
      " $ magnesium           : int  127 100 101 113 118 112 96 121 97 98 ...\n",
      " $ total_phenols       : num  2.8 2.65 2.8 3.85 2.8 3.27 2.5 2.6 2.8 2.98 ...\n",
      " $ flavanoids          : num  3.06 2.76 3.24 3.49 2.69 3.39 2.52 2.51 2.98 3.15 ...\n",
      " $ nonflavanoid_phenols: num  0.28 0.26 0.3 0.24 0.39 0.34 0.3 0.31 0.29 0.22 ...\n",
      " $ proanthocyanins     : num  2.29 1.28 2.81 2.18 1.82 1.97 1.98 1.25 1.98 1.85 ...\n",
      " $ colour_intensity    : num  5.64 4.38 5.68 7.8 4.32 6.75 5.25 5.05 5.2 7.22 ...\n",
      " $ hue                 : num  1.04 1.05 1.03 0.86 1.04 1.05 1.02 1.06 1.08 1.01 ...\n",
      " $ od280_od315         : num  3.92 3.4 3.17 3.45 2.93 2.85 3.58 3.58 2.85 3.55 ...\n",
      " $ proline             : int  1065 1050 1185 1480 735 1450 1290 1295 1045 1045 ...\n"
     ]
    }
   ],
   "source": [
    "# As Info in Python\n",
    "\n",
    "str(vinos)"
   ]
  },
  {
   "cell_type": "code",
   "execution_count": 5,
   "metadata": {},
   "outputs": [
    {
     "data": {
      "text/plain": [
       "     class       alcohol        malic_acid         ash        alcalinity_of_ash\n",
       " class_1:59   Min.   :11.03   Min.   :0.740   Min.   :1.360   Min.   :10.60    \n",
       " class_2:71   1st Qu.:12.36   1st Qu.:1.603   1st Qu.:2.210   1st Qu.:17.20    \n",
       " class_3:48   Median :13.05   Median :1.865   Median :2.360   Median :19.50    \n",
       "              Mean   :13.00   Mean   :2.336   Mean   :2.367   Mean   :19.49    \n",
       "              3rd Qu.:13.68   3rd Qu.:3.083   3rd Qu.:2.558   3rd Qu.:21.50    \n",
       "              Max.   :14.83   Max.   :5.800   Max.   :3.230   Max.   :30.00    \n",
       "   magnesium      total_phenols     flavanoids    nonflavanoid_phenols\n",
       " Min.   : 70.00   Min.   :0.980   Min.   :0.340   Min.   :0.1300      \n",
       " 1st Qu.: 88.00   1st Qu.:1.742   1st Qu.:1.205   1st Qu.:0.2700      \n",
       " Median : 98.00   Median :2.355   Median :2.135   Median :0.3400      \n",
       " Mean   : 99.74   Mean   :2.295   Mean   :2.029   Mean   :0.3619      \n",
       " 3rd Qu.:107.00   3rd Qu.:2.800   3rd Qu.:2.875   3rd Qu.:0.4375      \n",
       " Max.   :162.00   Max.   :3.880   Max.   :5.080   Max.   :0.6600      \n",
       " proanthocyanins colour_intensity      hue          od280_od315   \n",
       " Min.   :0.410   Min.   : 1.280   Min.   :0.4800   Min.   :1.270  \n",
       " 1st Qu.:1.250   1st Qu.: 3.220   1st Qu.:0.7825   1st Qu.:1.938  \n",
       " Median :1.555   Median : 4.690   Median :0.9650   Median :2.780  \n",
       " Mean   :1.591   Mean   : 5.058   Mean   :0.9574   Mean   :2.612  \n",
       " 3rd Qu.:1.950   3rd Qu.: 6.200   3rd Qu.:1.1200   3rd Qu.:3.170  \n",
       " Max.   :3.580   Max.   :13.000   Max.   :1.7100   Max.   :4.000  \n",
       "    proline      \n",
       " Min.   : 278.0  \n",
       " 1st Qu.: 500.5  \n",
       " Median : 673.5  \n",
       " Mean   : 746.9  \n",
       " 3rd Qu.: 985.0  \n",
       " Max.   :1680.0  "
      ]
     },
     "metadata": {},
     "output_type": "display_data"
    }
   ],
   "source": [
    "# As Describe() in Python\n",
    "\n",
    "summary(vinos)"
   ]
  },
  {
   "cell_type": "code",
   "execution_count": 6,
   "metadata": {},
   "outputs": [
    {
     "data": {
      "text/html": [
       "<table>\n",
       "<thead><tr><th scope=col>class</th><th scope=col>alcohol</th><th scope=col>malic_acid</th><th scope=col>ash</th><th scope=col>alcalinity_of_ash</th><th scope=col>magnesium</th><th scope=col>total_phenols</th><th scope=col>flavanoids</th><th scope=col>nonflavanoid_phenols</th><th scope=col>proanthocyanins</th><th scope=col>colour_intensity</th><th scope=col>hue</th><th scope=col>od280_od315</th><th scope=col>proline</th></tr></thead>\n",
       "<tbody>\n",
       "\t<tr><td>class_1</td><td>14.23  </td><td>1.71   </td><td>2.43   </td><td>15.6   </td><td>127    </td><td>2.80   </td><td>3.06   </td><td>0.28   </td><td>2.29   </td><td>5.64   </td><td>1.04   </td><td>3.92   </td><td>1065   </td></tr>\n",
       "\t<tr><td>class_1</td><td>13.20  </td><td>1.78   </td><td>2.14   </td><td>11.2   </td><td>100    </td><td>2.65   </td><td>2.76   </td><td>0.26   </td><td>1.28   </td><td>4.38   </td><td>1.05   </td><td>3.40   </td><td>1050   </td></tr>\n",
       "\t<tr><td>class_1</td><td>13.16  </td><td>2.36   </td><td>2.67   </td><td>18.6   </td><td>101    </td><td>2.80   </td><td>3.24   </td><td>0.30   </td><td>2.81   </td><td>5.68   </td><td>1.03   </td><td>3.17   </td><td>1185   </td></tr>\n",
       "\t<tr><td>class_1</td><td>14.37  </td><td>1.95   </td><td>2.50   </td><td>16.8   </td><td>113    </td><td>3.85   </td><td>3.49   </td><td>0.24   </td><td>2.18   </td><td>7.80   </td><td>0.86   </td><td>3.45   </td><td>1480   </td></tr>\n",
       "\t<tr><td>class_1</td><td>13.24  </td><td>2.59   </td><td>2.87   </td><td>21.0   </td><td>118    </td><td>2.80   </td><td>2.69   </td><td>0.39   </td><td>1.82   </td><td>4.32   </td><td>1.04   </td><td>2.93   </td><td> 735   </td></tr>\n",
       "\t<tr><td>class_1</td><td>14.20  </td><td>1.76   </td><td>2.45   </td><td>15.2   </td><td>112    </td><td>3.27   </td><td>3.39   </td><td>0.34   </td><td>1.97   </td><td>6.75   </td><td>1.05   </td><td>2.85   </td><td>1450   </td></tr>\n",
       "</tbody>\n",
       "</table>\n"
      ],
      "text/latex": [
       "\\begin{tabular}{r|llllllllllllll}\n",
       " class & alcohol & malic\\_acid & ash & alcalinity\\_of\\_ash & magnesium & total\\_phenols & flavanoids & nonflavanoid\\_phenols & proanthocyanins & colour\\_intensity & hue & od280\\_od315 & proline\\\\\n",
       "\\hline\n",
       "\t class\\_1 & 14.23     & 1.71      & 2.43      & 15.6      & 127       & 2.80      & 3.06      & 0.28      & 2.29      & 5.64      & 1.04      & 3.92      & 1065     \\\\\n",
       "\t class\\_1 & 13.20     & 1.78      & 2.14      & 11.2      & 100       & 2.65      & 2.76      & 0.26      & 1.28      & 4.38      & 1.05      & 3.40      & 1050     \\\\\n",
       "\t class\\_1 & 13.16     & 2.36      & 2.67      & 18.6      & 101       & 2.80      & 3.24      & 0.30      & 2.81      & 5.68      & 1.03      & 3.17      & 1185     \\\\\n",
       "\t class\\_1 & 14.37     & 1.95      & 2.50      & 16.8      & 113       & 3.85      & 3.49      & 0.24      & 2.18      & 7.80      & 0.86      & 3.45      & 1480     \\\\\n",
       "\t class\\_1 & 13.24     & 2.59      & 2.87      & 21.0      & 118       & 2.80      & 2.69      & 0.39      & 1.82      & 4.32      & 1.04      & 2.93      &  735     \\\\\n",
       "\t class\\_1 & 14.20     & 1.76      & 2.45      & 15.2      & 112       & 3.27      & 3.39      & 0.34      & 1.97      & 6.75      & 1.05      & 2.85      & 1450     \\\\\n",
       "\\end{tabular}\n"
      ],
      "text/markdown": [
       "\n",
       "class | alcohol | malic_acid | ash | alcalinity_of_ash | magnesium | total_phenols | flavanoids | nonflavanoid_phenols | proanthocyanins | colour_intensity | hue | od280_od315 | proline | \n",
       "|---|---|---|---|---|---|\n",
       "| class_1 | 14.23   | 1.71    | 2.43    | 15.6    | 127     | 2.80    | 3.06    | 0.28    | 2.29    | 5.64    | 1.04    | 3.92    | 1065    | \n",
       "| class_1 | 13.20   | 1.78    | 2.14    | 11.2    | 100     | 2.65    | 2.76    | 0.26    | 1.28    | 4.38    | 1.05    | 3.40    | 1050    | \n",
       "| class_1 | 13.16   | 2.36    | 2.67    | 18.6    | 101     | 2.80    | 3.24    | 0.30    | 2.81    | 5.68    | 1.03    | 3.17    | 1185    | \n",
       "| class_1 | 14.37   | 1.95    | 2.50    | 16.8    | 113     | 3.85    | 3.49    | 0.24    | 2.18    | 7.80    | 0.86    | 3.45    | 1480    | \n",
       "| class_1 | 13.24   | 2.59    | 2.87    | 21.0    | 118     | 2.80    | 2.69    | 0.39    | 1.82    | 4.32    | 1.04    | 2.93    |  735    | \n",
       "| class_1 | 14.20   | 1.76    | 2.45    | 15.2    | 112     | 3.27    | 3.39    | 0.34    | 1.97    | 6.75    | 1.05    | 2.85    | 1450    | \n",
       "\n",
       "\n"
      ],
      "text/plain": [
       "  class   alcohol malic_acid ash  alcalinity_of_ash magnesium total_phenols\n",
       "1 class_1 14.23   1.71       2.43 15.6              127       2.80         \n",
       "2 class_1 13.20   1.78       2.14 11.2              100       2.65         \n",
       "3 class_1 13.16   2.36       2.67 18.6              101       2.80         \n",
       "4 class_1 14.37   1.95       2.50 16.8              113       3.85         \n",
       "5 class_1 13.24   2.59       2.87 21.0              118       2.80         \n",
       "6 class_1 14.20   1.76       2.45 15.2              112       3.27         \n",
       "  flavanoids nonflavanoid_phenols proanthocyanins colour_intensity hue \n",
       "1 3.06       0.28                 2.29            5.64             1.04\n",
       "2 2.76       0.26                 1.28            4.38             1.05\n",
       "3 3.24       0.30                 2.81            5.68             1.03\n",
       "4 3.49       0.24                 2.18            7.80             0.86\n",
       "5 2.69       0.39                 1.82            4.32             1.04\n",
       "6 3.39       0.34                 1.97            6.75             1.05\n",
       "  od280_od315 proline\n",
       "1 3.92        1065   \n",
       "2 3.40        1050   \n",
       "3 3.17        1185   \n",
       "4 3.45        1480   \n",
       "5 2.93         735   \n",
       "6 2.85        1450   "
      ]
     },
     "metadata": {},
     "output_type": "display_data"
    }
   ],
   "source": [
    "# Exploración de los datos\n",
    "\n",
    "head(vinos)"
   ]
  },
  {
   "cell_type": "code",
   "execution_count": 7,
   "metadata": {},
   "outputs": [
    {
     "data": {
      "text/html": [
       "<table>\n",
       "<thead><tr><th></th><th scope=col>class</th><th scope=col>alcohol</th><th scope=col>malic_acid</th><th scope=col>ash</th><th scope=col>alcalinity_of_ash</th><th scope=col>magnesium</th><th scope=col>total_phenols</th><th scope=col>flavanoids</th><th scope=col>nonflavanoid_phenols</th><th scope=col>proanthocyanins</th><th scope=col>colour_intensity</th><th scope=col>hue</th><th scope=col>od280_od315</th><th scope=col>proline</th></tr></thead>\n",
       "<tbody>\n",
       "\t<tr><th scope=row>173</th><td>class_3</td><td>14.16  </td><td>2.51   </td><td>2.48   </td><td>20.0   </td><td> 91    </td><td>1.68   </td><td>0.70   </td><td>0.44   </td><td>1.24   </td><td> 9.7   </td><td>0.62   </td><td>1.71   </td><td>660    </td></tr>\n",
       "\t<tr><th scope=row>174</th><td>class_3</td><td>13.71  </td><td>5.65   </td><td>2.45   </td><td>20.5   </td><td> 95    </td><td>1.68   </td><td>0.61   </td><td>0.52   </td><td>1.06   </td><td> 7.7   </td><td>0.64   </td><td>1.74   </td><td>740    </td></tr>\n",
       "\t<tr><th scope=row>175</th><td>class_3</td><td>13.40  </td><td>3.91   </td><td>2.48   </td><td>23.0   </td><td>102    </td><td>1.80   </td><td>0.75   </td><td>0.43   </td><td>1.41   </td><td> 7.3   </td><td>0.70   </td><td>1.56   </td><td>750    </td></tr>\n",
       "\t<tr><th scope=row>176</th><td>class_3</td><td>13.27  </td><td>4.28   </td><td>2.26   </td><td>20.0   </td><td>120    </td><td>1.59   </td><td>0.69   </td><td>0.43   </td><td>1.35   </td><td>10.2   </td><td>0.59   </td><td>1.56   </td><td>835    </td></tr>\n",
       "\t<tr><th scope=row>177</th><td>class_3</td><td>13.17  </td><td>2.59   </td><td>2.37   </td><td>20.0   </td><td>120    </td><td>1.65   </td><td>0.68   </td><td>0.53   </td><td>1.46   </td><td> 9.3   </td><td>0.60   </td><td>1.62   </td><td>840    </td></tr>\n",
       "\t<tr><th scope=row>178</th><td>class_3</td><td>14.13  </td><td>4.10   </td><td>2.74   </td><td>24.5   </td><td> 96    </td><td>2.05   </td><td>0.76   </td><td>0.56   </td><td>1.35   </td><td> 9.2   </td><td>0.61   </td><td>1.60   </td><td>560    </td></tr>\n",
       "</tbody>\n",
       "</table>\n"
      ],
      "text/latex": [
       "\\begin{tabular}{r|llllllllllllll}\n",
       "  & class & alcohol & malic\\_acid & ash & alcalinity\\_of\\_ash & magnesium & total\\_phenols & flavanoids & nonflavanoid\\_phenols & proanthocyanins & colour\\_intensity & hue & od280\\_od315 & proline\\\\\n",
       "\\hline\n",
       "\t173 & class\\_3 & 14.16     & 2.51      & 2.48      & 20.0      &  91       & 1.68      & 0.70      & 0.44      & 1.24      &  9.7      & 0.62      & 1.71      & 660      \\\\\n",
       "\t174 & class\\_3 & 13.71     & 5.65      & 2.45      & 20.5      &  95       & 1.68      & 0.61      & 0.52      & 1.06      &  7.7      & 0.64      & 1.74      & 740      \\\\\n",
       "\t175 & class\\_3 & 13.40     & 3.91      & 2.48      & 23.0      & 102       & 1.80      & 0.75      & 0.43      & 1.41      &  7.3      & 0.70      & 1.56      & 750      \\\\\n",
       "\t176 & class\\_3 & 13.27     & 4.28      & 2.26      & 20.0      & 120       & 1.59      & 0.69      & 0.43      & 1.35      & 10.2      & 0.59      & 1.56      & 835      \\\\\n",
       "\t177 & class\\_3 & 13.17     & 2.59      & 2.37      & 20.0      & 120       & 1.65      & 0.68      & 0.53      & 1.46      &  9.3      & 0.60      & 1.62      & 840      \\\\\n",
       "\t178 & class\\_3 & 14.13     & 4.10      & 2.74      & 24.5      &  96       & 2.05      & 0.76      & 0.56      & 1.35      &  9.2      & 0.61      & 1.60      & 560      \\\\\n",
       "\\end{tabular}\n"
      ],
      "text/markdown": [
       "\n",
       "| <!--/--> | class | alcohol | malic_acid | ash | alcalinity_of_ash | magnesium | total_phenols | flavanoids | nonflavanoid_phenols | proanthocyanins | colour_intensity | hue | od280_od315 | proline | \n",
       "|---|---|---|---|---|---|\n",
       "| 173 | class_3 | 14.16   | 2.51    | 2.48    | 20.0    |  91     | 1.68    | 0.70    | 0.44    | 1.24    |  9.7    | 0.62    | 1.71    | 660     | \n",
       "| 174 | class_3 | 13.71   | 5.65    | 2.45    | 20.5    |  95     | 1.68    | 0.61    | 0.52    | 1.06    |  7.7    | 0.64    | 1.74    | 740     | \n",
       "| 175 | class_3 | 13.40   | 3.91    | 2.48    | 23.0    | 102     | 1.80    | 0.75    | 0.43    | 1.41    |  7.3    | 0.70    | 1.56    | 750     | \n",
       "| 176 | class_3 | 13.27   | 4.28    | 2.26    | 20.0    | 120     | 1.59    | 0.69    | 0.43    | 1.35    | 10.2    | 0.59    | 1.56    | 835     | \n",
       "| 177 | class_3 | 13.17   | 2.59    | 2.37    | 20.0    | 120     | 1.65    | 0.68    | 0.53    | 1.46    |  9.3    | 0.60    | 1.62    | 840     | \n",
       "| 178 | class_3 | 14.13   | 4.10    | 2.74    | 24.5    |  96     | 2.05    | 0.76    | 0.56    | 1.35    |  9.2    | 0.61    | 1.60    | 560     | \n",
       "\n",
       "\n"
      ],
      "text/plain": [
       "    class   alcohol malic_acid ash  alcalinity_of_ash magnesium total_phenols\n",
       "173 class_3 14.16   2.51       2.48 20.0               91       1.68         \n",
       "174 class_3 13.71   5.65       2.45 20.5               95       1.68         \n",
       "175 class_3 13.40   3.91       2.48 23.0              102       1.80         \n",
       "176 class_3 13.27   4.28       2.26 20.0              120       1.59         \n",
       "177 class_3 13.17   2.59       2.37 20.0              120       1.65         \n",
       "178 class_3 14.13   4.10       2.74 24.5               96       2.05         \n",
       "    flavanoids nonflavanoid_phenols proanthocyanins colour_intensity hue \n",
       "173 0.70       0.44                 1.24             9.7             0.62\n",
       "174 0.61       0.52                 1.06             7.7             0.64\n",
       "175 0.75       0.43                 1.41             7.3             0.70\n",
       "176 0.69       0.43                 1.35            10.2             0.59\n",
       "177 0.68       0.53                 1.46             9.3             0.60\n",
       "178 0.76       0.56                 1.35             9.2             0.61\n",
       "    od280_od315 proline\n",
       "173 1.71        660    \n",
       "174 1.74        740    \n",
       "175 1.56        750    \n",
       "176 1.56        835    \n",
       "177 1.62        840    \n",
       "178 1.60        560    "
      ]
     },
     "metadata": {},
     "output_type": "display_data"
    }
   ],
   "source": [
    "tail(vinos)"
   ]
  },
  {
   "cell_type": "code",
   "execution_count": 8,
   "metadata": {},
   "outputs": [
    {
     "name": "stdout",
     "output_type": "stream",
     "text": [
      "      class alcohol malic_acid  ash alcalinity_of_ash magnesium total_phenols\n",
      "1   class_1   14.23       1.71 2.43              15.6       127          2.80\n",
      "2   class_1   13.20       1.78 2.14              11.2       100          2.65\n",
      "3   class_1   13.16       2.36 2.67              18.6       101          2.80\n",
      "4   class_1   14.37       1.95 2.50              16.8       113          3.85\n",
      "5   class_1   13.24       2.59 2.87              21.0       118          2.80\n",
      "6   class_1   14.20       1.76 2.45              15.2       112          3.27\n",
      "7   class_1   14.39       1.87 2.45              14.6        96          2.50\n",
      "8   class_1   14.06       2.15 2.61              17.6       121          2.60\n",
      "9   class_1   14.83       1.64 2.17              14.0        97          2.80\n",
      "10  class_1   13.86       1.35 2.27              16.0        98          2.98\n",
      "11  class_1   14.10       2.16 2.30              18.0       105          2.95\n",
      "12  class_1   14.12       1.48 2.32              16.8        95          2.20\n",
      "13  class_1   13.75       1.73 2.41              16.0        89          2.60\n",
      "14  class_1   14.75       1.73 2.39              11.4        91          3.10\n",
      "15  class_1   14.38       1.87 2.38              12.0       102          3.30\n",
      "16  class_1   13.63       1.81 2.70              17.2       112          2.85\n",
      "17  class_1   14.30       1.92 2.72              20.0       120          2.80\n",
      "18  class_1   13.83       1.57 2.62              20.0       115          2.95\n",
      "19  class_1   14.19       1.59 2.48              16.5       108          3.30\n",
      "20  class_1   13.64       3.10 2.56              15.2       116          2.70\n",
      "21  class_1   14.06       1.63 2.28              16.0       126          3.00\n",
      "22  class_1   12.93       3.80 2.65              18.6       102          2.41\n",
      "23  class_1   13.71       1.86 2.36              16.6       101          2.61\n",
      "24  class_1   12.85       1.60 2.52              17.8        95          2.48\n",
      "25  class_1   13.50       1.81 2.61              20.0        96          2.53\n",
      "26  class_1   13.05       2.05 3.22              25.0       124          2.63\n",
      "27  class_1   13.39       1.77 2.62              16.1        93          2.85\n",
      "28  class_1   13.30       1.72 2.14              17.0        94          2.40\n",
      "29  class_1   13.87       1.90 2.80              19.4       107          2.95\n",
      "30  class_1   14.02       1.68 2.21              16.0        96          2.65\n",
      "31  class_1   13.73       1.50 2.70              22.5       101          3.00\n",
      "32  class_1   13.58       1.66 2.36              19.1       106          2.86\n",
      "33  class_1   13.68       1.83 2.36              17.2       104          2.42\n",
      "34  class_1   13.76       1.53 2.70              19.5       132          2.95\n",
      "35  class_1   13.51       1.80 2.65              19.0       110          2.35\n",
      "36  class_1   13.48       1.81 2.41              20.5       100          2.70\n",
      "37  class_1   13.28       1.64 2.84              15.5       110          2.60\n",
      "38  class_1   13.05       1.65 2.55              18.0        98          2.45\n",
      "39  class_1   13.07       1.50 2.10              15.5        98          2.40\n",
      "40  class_1   14.22       3.99 2.51              13.2       128          3.00\n",
      "41  class_1   13.56       1.71 2.31              16.2       117          3.15\n",
      "42  class_1   13.41       3.84 2.12              18.8        90          2.45\n",
      "43  class_1   13.88       1.89 2.59              15.0       101          3.25\n",
      "44  class_1   13.24       3.98 2.29              17.5       103          2.64\n",
      "45  class_1   13.05       1.77 2.10              17.0       107          3.00\n",
      "46  class_1   14.21       4.04 2.44              18.9       111          2.85\n",
      "47  class_1   14.38       3.59 2.28              16.0       102          3.25\n",
      "48  class_1   13.90       1.68 2.12              16.0       101          3.10\n",
      "49  class_1   14.10       2.02 2.40              18.8       103          2.75\n",
      "50  class_1   13.94       1.73 2.27              17.4       108          2.88\n",
      "51  class_1   13.05       1.73 2.04              12.4        92          2.72\n",
      "52  class_1   13.83       1.65 2.60              17.2        94          2.45\n",
      "53  class_1   13.82       1.75 2.42              14.0       111          3.88\n",
      "54  class_1   13.77       1.90 2.68              17.1       115          3.00\n",
      "55  class_1   13.74       1.67 2.25              16.4       118          2.60\n",
      "56  class_1   13.56       1.73 2.46              20.5       116          2.96\n",
      "57  class_1   14.22       1.70 2.30              16.3       118          3.20\n",
      "58  class_1   13.29       1.97 2.68              16.8       102          3.00\n",
      "59  class_1   13.72       1.43 2.50              16.7       108          3.40\n",
      "60  class_2   12.37       0.94 1.36              10.6        88          1.98\n",
      "61  class_2   12.33       1.10 2.28              16.0       101          2.05\n",
      "62  class_2   12.64       1.36 2.02              16.8       100          2.02\n",
      "63  class_2   13.67       1.25 1.92              18.0        94          2.10\n",
      "64  class_2   12.37       1.13 2.16              19.0        87          3.50\n",
      "65  class_2   12.17       1.45 2.53              19.0       104          1.89\n",
      "66  class_2   12.37       1.21 2.56              18.1        98          2.42\n",
      "67  class_2   13.11       1.01 1.70              15.0        78          2.98\n",
      "68  class_2   12.37       1.17 1.92              19.6        78          2.11\n",
      "69  class_2   13.34       0.94 2.36              17.0       110          2.53\n",
      "70  class_2   12.21       1.19 1.75              16.8       151          1.85\n",
      "71  class_2   12.29       1.61 2.21              20.4       103          1.10\n",
      "72  class_2   13.86       1.51 2.67              25.0        86          2.95\n",
      "73  class_2   13.49       1.66 2.24              24.0        87          1.88\n",
      "74  class_2   12.99       1.67 2.60              30.0       139          3.30\n",
      "75  class_2   11.96       1.09 2.30              21.0       101          3.38\n",
      "76  class_2   11.66       1.88 1.92              16.0        97          1.61\n",
      "77  class_2   13.03       0.90 1.71              16.0        86          1.95\n",
      "78  class_2   11.84       2.89 2.23              18.0       112          1.72\n",
      "79  class_2   12.33       0.99 1.95              14.8       136          1.90\n",
      "80  class_2   12.70       3.87 2.40              23.0       101          2.83\n",
      "81  class_2   12.00       0.92 2.00              19.0        86          2.42\n",
      "82  class_2   12.72       1.81 2.20              18.8        86          2.20\n",
      "83  class_2   12.08       1.13 2.51              24.0        78          2.00\n",
      "84  class_2   13.05       3.86 2.32              22.5        85          1.65\n",
      "85  class_2   11.84       0.89 2.58              18.0        94          2.20\n",
      "86  class_2   12.67       0.98 2.24              18.0        99          2.20\n",
      "87  class_2   12.16       1.61 2.31              22.8        90          1.78\n",
      "88  class_2   11.65       1.67 2.62              26.0        88          1.92\n",
      "89  class_2   11.64       2.06 2.46              21.6        84          1.95\n",
      "90  class_2   12.08       1.33 2.30              23.6        70          2.20\n",
      "91  class_2   12.08       1.83 2.32              18.5        81          1.60\n",
      "92  class_2   12.00       1.51 2.42              22.0        86          1.45\n",
      "93  class_2   12.69       1.53 2.26              20.7        80          1.38\n",
      "94  class_2   12.29       2.83 2.22              18.0        88          2.45\n",
      "95  class_2   11.62       1.99 2.28              18.0        98          3.02\n",
      "96  class_2   12.47       1.52 2.20              19.0       162          2.50\n",
      "97  class_2   11.81       2.12 2.74              21.5       134          1.60\n",
      "98  class_2   12.29       1.41 1.98              16.0        85          2.55\n",
      "99  class_2   12.37       1.07 2.10              18.5        88          3.52\n",
      "100 class_2   12.29       3.17 2.21              18.0        88          2.85\n",
      "101 class_2   12.08       2.08 1.70              17.5        97          2.23\n",
      "102 class_2   12.60       1.34 1.90              18.5        88          1.45\n",
      "103 class_2   12.34       2.45 2.46              21.0        98          2.56\n",
      "104 class_2   11.82       1.72 1.88              19.5        86          2.50\n",
      "105 class_2   12.51       1.73 1.98              20.5        85          2.20\n",
      "106 class_2   12.42       2.55 2.27              22.0        90          1.68\n",
      "107 class_2   12.25       1.73 2.12              19.0        80          1.65\n",
      "108 class_2   12.72       1.75 2.28              22.5        84          1.38\n",
      "109 class_2   12.22       1.29 1.94              19.0        92          2.36\n",
      "110 class_2   11.61       1.35 2.70              20.0        94          2.74\n",
      "111 class_2   11.46       3.74 1.82              19.5       107          3.18\n",
      "112 class_2   12.52       2.43 2.17              21.0        88          2.55\n",
      "113 class_2   11.76       2.68 2.92              20.0       103          1.75\n",
      "114 class_2   11.41       0.74 2.50              21.0        88          2.48\n",
      "115 class_2   12.08       1.39 2.50              22.5        84          2.56\n",
      "116 class_2   11.03       1.51 2.20              21.5        85          2.46\n",
      "117 class_2   11.82       1.47 1.99              20.8        86          1.98\n",
      "118 class_2   12.42       1.61 2.19              22.5       108          2.00\n",
      "119 class_2   12.77       3.43 1.98              16.0        80          1.63\n",
      "120 class_2   12.00       3.43 2.00              19.0        87          2.00\n",
      "121 class_2   11.45       2.40 2.42              20.0        96          2.90\n",
      "122 class_2   11.56       2.05 3.23              28.5       119          3.18\n",
      "123 class_2   12.42       4.43 2.73              26.5       102          2.20\n",
      "124 class_2   13.05       5.80 2.13              21.5        86          2.62\n",
      "125 class_2   11.87       4.31 2.39              21.0        82          2.86\n",
      "126 class_2   12.07       2.16 2.17              21.0        85          2.60\n",
      "127 class_2   12.43       1.53 2.29              21.5        86          2.74\n",
      "128 class_2   11.79       2.13 2.78              28.5        92          2.13\n",
      "129 class_2   12.37       1.63 2.30              24.5        88          2.22\n",
      "130 class_2   12.04       4.30 2.38              22.0        80          2.10\n",
      "131 class_3   12.86       1.35 2.32              18.0       122          1.51\n",
      "132 class_3   12.88       2.99 2.40              20.0       104          1.30\n",
      "133 class_3   12.81       2.31 2.40              24.0        98          1.15\n",
      "134 class_3   12.70       3.55 2.36              21.5       106          1.70\n",
      "135 class_3   12.51       1.24 2.25              17.5        85          2.00\n",
      "136 class_3   12.60       2.46 2.20              18.5        94          1.62\n",
      "137 class_3   12.25       4.72 2.54              21.0        89          1.38\n",
      "138 class_3   12.53       5.51 2.64              25.0        96          1.79\n",
      "139 class_3   13.49       3.59 2.19              19.5        88          1.62\n",
      "140 class_3   12.84       2.96 2.61              24.0       101          2.32\n",
      "141 class_3   12.93       2.81 2.70              21.0        96          1.54\n",
      "142 class_3   13.36       2.56 2.35              20.0        89          1.40\n",
      "143 class_3   13.52       3.17 2.72              23.5        97          1.55\n",
      "144 class_3   13.62       4.95 2.35              20.0        92          2.00\n",
      "145 class_3   12.25       3.88 2.20              18.5       112          1.38\n",
      "146 class_3   13.16       3.57 2.15              21.0       102          1.50\n",
      "147 class_3   13.88       5.04 2.23              20.0        80          0.98\n",
      "148 class_3   12.87       4.61 2.48              21.5        86          1.70\n",
      "149 class_3   13.32       3.24 2.38              21.5        92          1.93\n",
      "150 class_3   13.08       3.90 2.36              21.5       113          1.41\n",
      "151 class_3   13.50       3.12 2.62              24.0       123          1.40\n",
      "152 class_3   12.79       2.67 2.48              22.0       112          1.48\n",
      "153 class_3   13.11       1.90 2.75              25.5       116          2.20\n",
      "154 class_3   13.23       3.30 2.28              18.5        98          1.80\n",
      "155 class_3   12.58       1.29 2.10              20.0       103          1.48\n",
      "156 class_3   13.17       5.19 2.32              22.0        93          1.74\n",
      "157 class_3   13.84       4.12 2.38              19.5        89          1.80\n",
      "158 class_3   12.45       3.03 2.64              27.0        97          1.90\n",
      "159 class_3   14.34       1.68 2.70              25.0        98          2.80\n",
      "160 class_3   13.48       1.67 2.64              22.5        89          2.60\n",
      "161 class_3   12.36       3.83 2.38              21.0        88          2.30\n",
      "162 class_3   13.69       3.26 2.54              20.0       107          1.83\n",
      "163 class_3   12.85       3.27 2.58              22.0       106          1.65\n",
      "164 class_3   12.96       3.45 2.35              18.5       106          1.39\n",
      "165 class_3   13.78       2.76 2.30              22.0        90          1.35\n",
      "166 class_3   13.73       4.36 2.26              22.5        88          1.28\n",
      "167 class_3   13.45       3.70 2.60              23.0       111          1.70\n",
      "168 class_3   12.82       3.37 2.30              19.5        88          1.48\n",
      "169 class_3   13.58       2.58 2.69              24.5       105          1.55\n",
      "170 class_3   13.40       4.60 2.86              25.0       112          1.98\n",
      "171 class_3   12.20       3.03 2.32              19.0        96          1.25\n",
      "172 class_3   12.77       2.39 2.28              19.5        86          1.39\n",
      "173 class_3   14.16       2.51 2.48              20.0        91          1.68\n",
      "174 class_3   13.71       5.65 2.45              20.5        95          1.68\n",
      "175 class_3   13.40       3.91 2.48              23.0       102          1.80\n",
      "176 class_3   13.27       4.28 2.26              20.0       120          1.59\n",
      "177 class_3   13.17       2.59 2.37              20.0       120          1.65\n",
      "178 class_3   14.13       4.10 2.74              24.5        96          2.05\n",
      "    flavanoids nonflavanoid_phenols proanthocyanins colour_intensity   hue\n",
      "1         3.06                 0.28            2.29         5.640000 1.040\n",
      "2         2.76                 0.26            1.28         4.380000 1.050\n",
      "3         3.24                 0.30            2.81         5.680000 1.030\n",
      "4         3.49                 0.24            2.18         7.800000 0.860\n",
      "5         2.69                 0.39            1.82         4.320000 1.040\n",
      "6         3.39                 0.34            1.97         6.750000 1.050\n",
      "7         2.52                 0.30            1.98         5.250000 1.020\n",
      "8         2.51                 0.31            1.25         5.050000 1.060\n",
      "9         2.98                 0.29            1.98         5.200000 1.080\n",
      "10        3.15                 0.22            1.85         7.220000 1.010\n",
      "11        3.32                 0.22            2.38         5.750000 1.250\n",
      "12        2.43                 0.26            1.57         5.000000 1.170\n",
      "13        2.76                 0.29            1.81         5.600000 1.150\n",
      "14        3.69                 0.43            2.81         5.400000 1.250\n",
      "15        3.64                 0.29            2.96         7.500000 1.200\n",
      "16        2.91                 0.30            1.46         7.300000 1.280\n",
      "17        3.14                 0.33            1.97         6.200000 1.070\n",
      "18        3.40                 0.40            1.72         6.600000 1.130\n",
      "19        3.93                 0.32            1.86         8.700000 1.230\n",
      "20        3.03                 0.17            1.66         5.100000 0.960\n",
      "21        3.17                 0.24            2.10         5.650000 1.090\n",
      "22        2.41                 0.25            1.98         4.500000 1.030\n",
      "23        2.88                 0.27            1.69         3.800000 1.110\n",
      "24        2.37                 0.26            1.46         3.930000 1.090\n",
      "25        2.61                 0.28            1.66         3.520000 1.120\n",
      "26        2.68                 0.47            1.92         3.580000 1.130\n",
      "27        2.94                 0.34            1.45         4.800000 0.920\n",
      "28        2.19                 0.27            1.35         3.950000 1.020\n",
      "29        2.97                 0.37            1.76         4.500000 1.250\n",
      "30        2.33                 0.26            1.98         4.700000 1.040\n",
      "31        3.25                 0.29            2.38         5.700000 1.190\n",
      "32        3.19                 0.22            1.95         6.900000 1.090\n",
      "33        2.69                 0.42            1.97         3.840000 1.230\n",
      "34        2.74                 0.50            1.35         5.400000 1.250\n",
      "35        2.53                 0.29            1.54         4.200000 1.100\n",
      "36        2.98                 0.26            1.86         5.100000 1.040\n",
      "37        2.68                 0.34            1.36         4.600000 1.090\n",
      "38        2.43                 0.29            1.44         4.250000 1.120\n",
      "39        2.64                 0.28            1.37         3.700000 1.180\n",
      "40        3.04                 0.20            2.08         5.100000 0.890\n",
      "41        3.29                 0.34            2.34         6.130000 0.950\n",
      "42        2.68                 0.27            1.48         4.280000 0.910\n",
      "43        3.56                 0.17            1.70         5.430000 0.880\n",
      "44        2.63                 0.32            1.66         4.360000 0.820\n",
      "45        3.00                 0.28            2.03         5.040000 0.880\n",
      "46        2.65                 0.30            1.25         5.240000 0.870\n",
      "47        3.17                 0.27            2.19         4.900000 1.040\n",
      "48        3.39                 0.21            2.14         6.100000 0.910\n",
      "49        2.92                 0.32            2.38         6.200000 1.070\n",
      "50        3.54                 0.32            2.08         8.900000 1.120\n",
      "51        3.27                 0.17            2.91         7.200000 1.120\n",
      "52        2.99                 0.22            2.29         5.600000 1.240\n",
      "53        3.74                 0.32            1.87         7.050000 1.010\n",
      "54        2.79                 0.39            1.68         6.300000 1.130\n",
      "55        2.90                 0.21            1.62         5.850000 0.920\n",
      "56        2.78                 0.20            2.45         6.250000 0.980\n",
      "57        3.00                 0.26            2.03         6.380000 0.940\n",
      "58        3.23                 0.31            1.66         6.000000 1.070\n",
      "59        3.67                 0.19            2.04         6.800000 0.890\n",
      "60        0.57                 0.28            0.42         1.950000 1.050\n",
      "61        1.09                 0.63            0.41         3.270000 1.250\n",
      "62        1.41                 0.53            0.62         5.750000 0.980\n",
      "63        1.79                 0.32            0.73         3.800000 1.230\n",
      "64        3.10                 0.19            1.87         4.450000 1.220\n",
      "65        1.75                 0.45            1.03         2.950000 1.450\n",
      "66        2.65                 0.37            2.08         4.600000 1.190\n",
      "67        3.18                 0.26            2.28         5.300000 1.120\n",
      "68        2.00                 0.27            1.04         4.680000 1.120\n",
      "69        1.30                 0.55            0.42         3.170000 1.020\n",
      "70        1.28                 0.14            2.50         2.850000 1.280\n",
      "71        1.02                 0.37            1.46         3.050000 0.906\n",
      "72        2.86                 0.21            1.87         3.380000 1.360\n",
      "73        1.84                 0.27            1.03         3.740000 0.980\n",
      "74        2.89                 0.21            1.96         3.350000 1.310\n",
      "75        2.14                 0.13            1.65         3.210000 0.990\n",
      "76        1.57                 0.34            1.15         3.800000 1.230\n",
      "77        2.03                 0.24            1.46         4.600000 1.190\n",
      "78        1.32                 0.43            0.95         2.650000 0.960\n",
      "79        1.85                 0.35            2.76         3.400000 1.060\n",
      "80        2.55                 0.43            1.95         2.570000 1.190\n",
      "81        2.26                 0.30            1.43         2.500000 1.380\n",
      "82        2.53                 0.26            1.77         3.900000 1.160\n",
      "83        1.58                 0.40            1.40         2.200000 1.310\n",
      "84        1.59                 0.61            1.62         4.800000 0.840\n",
      "85        2.21                 0.22            2.35         3.050000 0.790\n",
      "86        1.94                 0.30            1.46         2.620000 1.230\n",
      "87        1.69                 0.43            1.56         2.450000 1.330\n",
      "88        1.61                 0.40            1.34         2.600000 1.360\n",
      "89        1.69                 0.48            1.35         2.800000 1.000\n",
      "90        1.59                 0.42            1.38         1.740000 1.070\n",
      "91        1.50                 0.52            1.64         2.400000 1.080\n",
      "92        1.25                 0.50            1.63         3.600000 1.050\n",
      "93        1.46                 0.58            1.62         3.050000 0.960\n",
      "94        2.25                 0.25            1.99         2.150000 1.150\n",
      "95        2.26                 0.17            1.35         3.250000 1.160\n",
      "96        2.27                 0.32            3.28         2.600000 1.160\n",
      "97        0.99                 0.14            1.56         2.500000 0.950\n",
      "98        2.50                 0.29            1.77         2.900000 1.230\n",
      "99        3.75                 0.24            1.95         4.500000 1.040\n",
      "100       2.99                 0.45            2.81         2.300000 1.420\n",
      "101       2.17                 0.26            1.40         3.300000 1.270\n",
      "102       1.36                 0.29            1.35         2.450000 1.040\n",
      "103       2.11                 0.34            1.31         2.800000 0.800\n",
      "104       1.64                 0.37            1.42         2.060000 0.940\n",
      "105       1.92                 0.32            1.48         2.940000 1.040\n",
      "106       1.84                 0.66            1.42         2.700000 0.860\n",
      "107       2.03                 0.37            1.63         3.400000 1.000\n",
      "108       1.76                 0.48            1.63         3.300000 0.880\n",
      "109       2.04                 0.39            2.08         2.700000 0.860\n",
      "110       2.92                 0.29            2.49         2.650000 0.960\n",
      "111       2.58                 0.24            3.58         2.900000 0.750\n",
      "112       2.27                 0.26            1.22         2.000000 0.900\n",
      "113       2.03                 0.60            1.05         3.800000 1.230\n",
      "114       2.01                 0.42            1.44         3.080000 1.100\n",
      "115       2.29                 0.43            1.04         2.900000 0.930\n",
      "116       2.17                 0.52            2.01         1.900000 1.710\n",
      "117       1.60                 0.30            1.53         1.950000 0.950\n",
      "118       2.09                 0.34            1.61         2.060000 1.060\n",
      "119       1.25                 0.43            0.83         3.400000 0.700\n",
      "120       1.64                 0.37            1.87         1.280000 0.930\n",
      "121       2.79                 0.32            1.83         3.250000 0.800\n",
      "122       5.08                 0.47            1.87         6.000000 0.930\n",
      "123       2.13                 0.43            1.71         2.080000 0.920\n",
      "124       2.65                 0.30            2.01         2.600000 0.730\n",
      "125       3.03                 0.21            2.91         2.800000 0.750\n",
      "126       2.65                 0.37            1.35         2.760000 0.860\n",
      "127       3.15                 0.39            1.77         3.940000 0.690\n",
      "128       2.24                 0.58            1.76         3.000000 0.970\n",
      "129       2.45                 0.40            1.90         2.120000 0.890\n",
      "130       1.75                 0.42            1.35         2.600000 0.790\n",
      "131       1.25                 0.21            0.94         4.100000 0.760\n",
      "132       1.22                 0.24            0.83         5.400000 0.740\n",
      "133       1.09                 0.27            0.83         5.700000 0.660\n",
      "134       1.20                 0.17            0.84         5.000000 0.780\n",
      "135       0.58                 0.60            1.25         5.450000 0.750\n",
      "136       0.66                 0.63            0.94         7.100000 0.730\n",
      "137       0.47                 0.53            0.80         3.850000 0.750\n",
      "138       0.60                 0.63            1.10         5.000000 0.820\n",
      "139       0.48                 0.58            0.88         5.700000 0.810\n",
      "140       0.60                 0.53            0.81         4.920000 0.890\n",
      "141       0.50                 0.53            0.75         4.600000 0.770\n",
      "142       0.50                 0.37            0.64         5.600000 0.700\n",
      "143       0.52                 0.50            0.55         4.350000 0.890\n",
      "144       0.80                 0.47            1.02         4.400000 0.910\n",
      "145       0.78                 0.29            1.14         8.210000 0.650\n",
      "146       0.55                 0.43            1.30         4.000000 0.600\n",
      "147       0.34                 0.40            0.68         4.900000 0.580\n",
      "148       0.65                 0.47            0.86         7.650000 0.540\n",
      "149       0.76                 0.45            1.25         8.420000 0.550\n",
      "150       1.39                 0.34            1.14         9.400000 0.570\n",
      "151       1.57                 0.22            1.25         8.600000 0.590\n",
      "152       1.36                 0.24            1.26        10.800000 0.480\n",
      "153       1.28                 0.26            1.56         7.100000 0.610\n",
      "154       0.83                 0.61            1.87        10.520000 0.560\n",
      "155       0.58                 0.53            1.40         7.600000 0.580\n",
      "156       0.63                 0.61            1.55         7.900000 0.600\n",
      "157       0.83                 0.48            1.56         9.010000 0.570\n",
      "158       0.58                 0.63            1.14         7.500000 0.670\n",
      "159       1.31                 0.53            2.70        13.000000 0.570\n",
      "160       1.10                 0.52            2.29        11.750000 0.570\n",
      "161       0.92                 0.50            1.04         7.650000 0.560\n",
      "162       0.56                 0.50            0.80         5.880000 0.960\n",
      "163       0.60                 0.60            0.96         5.580000 0.870\n",
      "164       0.70                 0.40            0.94         5.280000 0.680\n",
      "165       0.68                 0.41            1.03         9.580000 0.700\n",
      "166       0.47                 0.52            1.15         6.620000 0.780\n",
      "167       0.92                 0.43            1.46        10.680000 0.850\n",
      "168       0.66                 0.40            0.97        10.260000 0.720\n",
      "169       0.84                 0.39            1.54         8.660000 0.740\n",
      "170       0.96                 0.27            1.11         8.500000 0.670\n",
      "171       0.49                 0.40            0.73         5.500000 0.660\n",
      "172       0.51                 0.48            0.64         9.899999 0.570\n",
      "173       0.70                 0.44            1.24         9.700000 0.620\n",
      "174       0.61                 0.52            1.06         7.700000 0.640\n",
      "175       0.75                 0.43            1.41         7.300000 0.700\n",
      "176       0.69                 0.43            1.35        10.200000 0.590\n",
      "177       0.68                 0.53            1.46         9.300000 0.600\n",
      "178       0.76                 0.56            1.35         9.200000 0.610\n",
      "    od280_od315 proline\n",
      "1          3.92    1065\n",
      "2          3.40    1050\n",
      "3          3.17    1185\n",
      "4          3.45    1480\n",
      "5          2.93     735\n",
      "6          2.85    1450\n",
      "7          3.58    1290\n",
      "8          3.58    1295\n",
      "9          2.85    1045\n",
      "10         3.55    1045\n",
      "11         3.17    1510\n",
      "12         2.82    1280\n",
      "13         2.90    1320\n",
      "14         2.73    1150\n",
      "15         3.00    1547\n",
      "16         2.88    1310\n",
      "17         2.65    1280\n",
      "18         2.57    1130\n",
      "19         2.82    1680\n",
      "20         3.36     845\n",
      "21         3.71     780\n",
      "22         3.52     770\n",
      "23         4.00    1035\n",
      "24         3.63    1015\n",
      "25         3.82     845\n",
      "26         3.20     830\n",
      "27         3.22    1195\n",
      "28         2.77    1285\n",
      "29         3.40     915\n",
      "30         3.59    1035\n",
      "31         2.71    1285\n",
      "32         2.88    1515\n",
      "33         2.87     990\n",
      "34         3.00    1235\n",
      "35         2.87    1095\n",
      "36         3.47     920\n",
      "37         2.78     880\n",
      "38         2.51    1105\n",
      "39         2.69    1020\n",
      "40         3.53     760\n",
      "41         3.38     795\n",
      "42         3.00    1035\n",
      "43         3.56    1095\n",
      "44         3.00     680\n",
      "45         3.35     885\n",
      "46         3.33    1080\n",
      "47         3.44    1065\n",
      "48         3.33     985\n",
      "49         2.75    1060\n",
      "50         3.10    1260\n",
      "51         2.91    1150\n",
      "52         3.37    1265\n",
      "53         3.26    1190\n",
      "54         2.93    1375\n",
      "55         3.20    1060\n",
      "56         3.03    1120\n",
      "57         3.31     970\n",
      "58         2.84    1270\n",
      "59         2.87    1285\n",
      "60         1.82     520\n",
      "61         1.67     680\n",
      "62         1.59     450\n",
      "63         2.46     630\n",
      "64         2.87     420\n",
      "65         2.23     355\n",
      "66         2.30     678\n",
      "67         3.18     502\n",
      "68         3.48     510\n",
      "69         1.93     750\n",
      "70         3.07     718\n",
      "71         1.82     870\n",
      "72         3.16     410\n",
      "73         2.78     472\n",
      "74         3.50     985\n",
      "75         3.13     886\n",
      "76         2.14     428\n",
      "77         2.48     392\n",
      "78         2.52     500\n",
      "79         2.31     750\n",
      "80         3.13     463\n",
      "81         3.12     278\n",
      "82         3.14     714\n",
      "83         2.72     630\n",
      "84         2.01     515\n",
      "85         3.08     520\n",
      "86         3.16     450\n",
      "87         2.26     495\n",
      "88         3.21     562\n",
      "89         2.75     680\n",
      "90         3.21     625\n",
      "91         2.27     480\n",
      "92         2.65     450\n",
      "93         2.06     495\n",
      "94         3.30     290\n",
      "95         2.96     345\n",
      "96         2.63     937\n",
      "97         2.26     625\n",
      "98         2.74     428\n",
      "99         2.77     660\n",
      "100        2.83     406\n",
      "101        2.96     710\n",
      "102        2.77     562\n",
      "103        3.38     438\n",
      "104        2.44     415\n",
      "105        3.57     672\n",
      "106        3.30     315\n",
      "107        3.17     510\n",
      "108        2.42     488\n",
      "109        3.02     312\n",
      "110        3.26     680\n",
      "111        2.81     562\n",
      "112        2.78     325\n",
      "113        2.50     607\n",
      "114        2.31     434\n",
      "115        3.19     385\n",
      "116        2.87     407\n",
      "117        3.33     495\n",
      "118        2.96     345\n",
      "119        2.12     372\n",
      "120        3.05     564\n",
      "121        3.39     625\n",
      "122        3.69     465\n",
      "123        3.12     365\n",
      "124        3.10     380\n",
      "125        3.64     380\n",
      "126        3.28     378\n",
      "127        2.84     352\n",
      "128        2.44     466\n",
      "129        2.78     342\n",
      "130        2.57     580\n",
      "131        1.29     630\n",
      "132        1.42     530\n",
      "133        1.36     560\n",
      "134        1.29     600\n",
      "135        1.51     650\n",
      "136        1.58     695\n",
      "137        1.27     720\n",
      "138        1.69     515\n",
      "139        1.82     580\n",
      "140        2.15     590\n",
      "141        2.31     600\n",
      "142        2.47     780\n",
      "143        2.06     520\n",
      "144        2.05     550\n",
      "145        2.00     855\n",
      "146        1.68     830\n",
      "147        1.33     415\n",
      "148        1.86     625\n",
      "149        1.62     650\n",
      "150        1.33     550\n",
      "151        1.30     500\n",
      "152        1.47     480\n",
      "153        1.33     425\n",
      "154        1.51     675\n",
      "155        1.55     640\n",
      "156        1.48     725\n",
      "157        1.64     480\n",
      "158        1.73     880\n",
      "159        1.96     660\n",
      "160        1.78     620\n",
      "161        1.58     520\n",
      "162        1.82     680\n",
      "163        2.11     570\n",
      "164        1.75     675\n",
      "165        1.68     615\n",
      "166        1.75     520\n",
      "167        1.56     695\n",
      "168        1.75     685\n",
      "169        1.80     750\n",
      "170        1.92     630\n",
      "171        1.83     510\n",
      "172        1.63     470\n",
      "173        1.71     660\n",
      "174        1.74     740\n",
      "175        1.56     750\n",
      "176        1.56     835\n",
      "177        1.62     840\n",
      "178        1.60     560\n"
     ]
    }
   ],
   "source": [
    "print(vinos)"
   ]
  },
  {
   "cell_type": "code",
   "execution_count": 9,
   "metadata": {},
   "outputs": [
    {
     "data": {
      "image/png": "[encoded data removed]",
      "text/plain": [
       "Plot with title “Histogram of vinos$alcohol”"
      ]
     },
     "metadata": {},
     "output_type": "display_data"
    }
   ],
   "source": [
    "# Visualizando los datos\n",
    "hist(vinos$alcohol)"
   ]
  },
  {
   "cell_type": "code",
   "execution_count": 16,
   "metadata": {},
   "outputs": [
    {
     "data": {
      "image/png": "[encoded data removed]",
      "text/plain": [
       "plot without title"
      ]
     },
     "metadata": {},
     "output_type": "display_data"
    }
   ],
   "source": [
    "plot(vinos$total_phenols,vinos$flavanoids)"
   ]
  },
  {
   "cell_type": "code",
   "execution_count": 17,
   "metadata": {},
   "outputs": [
    {
     "data": {
      "image/png": "[encoded data removed]",
      "text/plain": [
       "plot without title"
      ]
     },
     "metadata": {},
     "output_type": "display_data"
    }
   ],
   "source": [
    "plot(vinos$nonflavanoid_phenols,vinos$flavanoids)"
   ]
  },
  {
   "cell_type": "code",
   "execution_count": 13,
   "metadata": {},
   "outputs": [
    {
     "data": {
      "text/html": [
       "<table>\n",
       "<thead><tr><th></th><th scope=col>alcohol</th><th scope=col>malic_acid</th><th scope=col>ash</th><th scope=col>alcalinity_of_ash</th><th scope=col>magnesium</th><th scope=col>total_phenols</th><th scope=col>flavanoids</th><th scope=col>nonflavanoid_phenols</th><th scope=col>proanthocyanins</th><th scope=col>colour_intensity</th><th scope=col>hue</th><th scope=col>od280_od315</th><th scope=col>proline</th></tr></thead>\n",
       "<tbody>\n",
       "\t<tr><th scope=row>alcohol</th><td> 1,00000000 </td><td> 0,09439694 </td><td> 0,211544596</td><td>-0,31023514 </td><td> 0,27079823 </td><td> 0,28910112 </td><td> 0,2368149  </td><td>-0,1559295  </td><td> 0,136697912</td><td> 0,54636420 </td><td>-0,07174720 </td><td> 0,072343187</td><td> 0,6437200  </td></tr>\n",
       "\t<tr><th scope=row>malic_acid</th><td> 0,09439694 </td><td> 1,00000000 </td><td> 0,164045470</td><td> 0,28850040 </td><td>-0,05457510 </td><td>-0,33516700 </td><td>-0,4110066  </td><td> 0,2929771  </td><td>-0,220746187</td><td> 0,24898534 </td><td>-0,56129569 </td><td>-0,368710428</td><td>-0,1920106  </td></tr>\n",
       "\t<tr><th scope=row>ash</th><td> 0,21154460 </td><td> 0,16404547 </td><td> 1,000000000</td><td> 0,44336719 </td><td> 0,28658669 </td><td> 0,12897954 </td><td> 0,1150773  </td><td> 0,1862304  </td><td> 0,009651935</td><td> 0,25888726 </td><td>-0,07466689 </td><td> 0,003911231</td><td> 0,2236263  </td></tr>\n",
       "\t<tr><th scope=row>alcalinity_of_ash</th><td>-0,31023514 </td><td> 0,28850040 </td><td> 0,443367187</td><td> 1,00000000 </td><td>-0,08333309 </td><td>-0,32111332 </td><td>-0,3513699  </td><td> 0,3619217  </td><td>-0,197326836</td><td> 0,01873198 </td><td>-0,27395522 </td><td>-0,276768549</td><td>-0,4405969  </td></tr>\n",
       "\t<tr><th scope=row>magnesium</th><td> 0,27079823 </td><td>-0,05457510 </td><td> 0,286586691</td><td>-0,08333309 </td><td> 1,00000000 </td><td> 0,21440123 </td><td> 0,1957838  </td><td>-0,2562940  </td><td> 0,236440610</td><td> 0,19995001 </td><td> 0,05539820 </td><td> 0,066003936</td><td> 0,3933508  </td></tr>\n",
       "\t<tr><th scope=row>total_phenols</th><td> 0,28910112 </td><td>-0,33516700 </td><td> 0,128979538</td><td>-0,32111332 </td><td> 0,21440123 </td><td> 1,00000000 </td><td> 0,8645635  </td><td>-0,4499353  </td><td> 0,612413084</td><td>-0,05513642 </td><td> 0,43368134 </td><td> 0,699949365</td><td> 0,4981149  </td></tr>\n",
       "\t<tr><th scope=row>flavanoids</th><td> 0,23681493 </td><td>-0,41100659 </td><td> 0,115077279</td><td>-0,35136986 </td><td> 0,19578377 </td><td> 0,86456350 </td><td> 1,0000000  </td><td>-0,5378996  </td><td> 0,652691769</td><td>-0,17237940 </td><td> 0,54347857 </td><td> 0,787193902</td><td> 0,4941931  </td></tr>\n",
       "\t<tr><th scope=row>nonflavanoid_phenols</th><td>-0,15592947 </td><td> 0,29297713 </td><td> 0,186230446</td><td> 0,36192172 </td><td>-0,25629405 </td><td>-0,44993530 </td><td>-0,5378996  </td><td> 1,0000000  </td><td>-0,365845099</td><td> 0,13905701 </td><td>-0,26263963 </td><td>-0,503269596</td><td>-0,3113852  </td></tr>\n",
       "\t<tr><th scope=row>proanthocyanins</th><td> 0,13669791 </td><td>-0,22074619 </td><td> 0,009651935</td><td>-0,19732684 </td><td> 0,23644061 </td><td> 0,61241308 </td><td> 0,6526918  </td><td>-0,3658451  </td><td> 1,000000000</td><td>-0,02524993 </td><td> 0,29554425 </td><td> 0,519067096</td><td> 0,3304167  </td></tr>\n",
       "\t<tr><th scope=row>colour_intensity</th><td> 0,54636420 </td><td> 0,24898534 </td><td> 0,258887259</td><td> 0,01873198 </td><td> 0,19995001 </td><td>-0,05513642 </td><td>-0,1723794  </td><td> 0,1390570  </td><td>-0,025249931</td><td> 1,00000000 </td><td>-0,52181319 </td><td>-0,428814942</td><td> 0,3161001  </td></tr>\n",
       "\t<tr><th scope=row>hue</th><td>-0,07174720 </td><td>-0,56129569 </td><td>-0,074666889</td><td>-0,27395522 </td><td> 0,05539820 </td><td> 0,43368134 </td><td> 0,5434786  </td><td>-0,2626396  </td><td> 0,295544253</td><td>-0,52181319 </td><td> 1,00000000 </td><td> 0,565468293</td><td> 0,2361834  </td></tr>\n",
       "\t<tr><th scope=row>od280_od315</th><td> 0,07234319 </td><td>-0,36871043 </td><td> 0,003911231</td><td>-0,27676855 </td><td> 0,06600394 </td><td> 0,69994936 </td><td> 0,7871939  </td><td>-0,5032696  </td><td> 0,519067096</td><td>-0,42881494 </td><td> 0,56546829 </td><td> 1,000000000</td><td> 0,3127611  </td></tr>\n",
       "\t<tr><th scope=row>proline</th><td> 0,64372004 </td><td>-0,19201056 </td><td> 0,223626264</td><td>-0,44059693 </td><td> 0,39335085 </td><td> 0,49811488 </td><td> 0,4941931  </td><td>-0,3113852  </td><td> 0,330416700</td><td> 0,31610011 </td><td> 0,23618345 </td><td> 0,312761075</td><td> 1,0000000  </td></tr>\n",
       "</tbody>\n",
       "</table>\n"
      ],
      "text/latex": [
       "\\begin{tabular}{r|lllllllllllll}\n",
       "  & alcohol & malic\\_acid & ash & alcalinity\\_of\\_ash & magnesium & total\\_phenols & flavanoids & nonflavanoid\\_phenols & proanthocyanins & colour\\_intensity & hue & od280\\_od315 & proline\\\\\n",
       "\\hline\n",
       "\talcohol &  1,00000000  &  0,09439694  &  0,211544596 & -0,31023514  &  0,27079823  &  0,28910112  &  0,2368149   & -0,1559295   &  0,136697912 &  0,54636420  & -0,07174720  &  0,072343187 &  0,6437200  \\\\\n",
       "\tmalic\\_acid &  0,09439694  &  1,00000000  &  0,164045470 &  0,28850040  & -0,05457510  & -0,33516700  & -0,4110066   &  0,2929771   & -0,220746187 &  0,24898534  & -0,56129569  & -0,368710428 & -0,1920106  \\\\\n",
       "\tash &  0,21154460  &  0,16404547  &  1,000000000 &  0,44336719  &  0,28658669  &  0,12897954  &  0,1150773   &  0,1862304   &  0,009651935 &  0,25888726  & -0,07466689  &  0,003911231 &  0,2236263  \\\\\n",
       "\talcalinity\\_of\\_ash & -0,31023514  &  0,28850040  &  0,443367187 &  1,00000000  & -0,08333309  & -0,32111332  & -0,3513699   &  0,3619217   & -0,197326836 &  0,01873198  & -0,27395522  & -0,276768549 & -0,4405969  \\\\\n",
       "\tmagnesium &  0,27079823  & -0,05457510  &  0,286586691 & -0,08333309  &  1,00000000  &  0,21440123  &  0,1957838   & -0,2562940   &  0,236440610 &  0,19995001  &  0,05539820  &  0,066003936 &  0,3933508  \\\\\n",
       "\ttotal\\_phenols &  0,28910112  & -0,33516700  &  0,128979538 & -0,32111332  &  0,21440123  &  1,00000000  &  0,8645635   & -0,4499353   &  0,612413084 & -0,05513642  &  0,43368134  &  0,699949365 &  0,4981149  \\\\\n",
       "\tflavanoids &  0,23681493  & -0,41100659  &  0,115077279 & -0,35136986  &  0,19578377  &  0,86456350  &  1,0000000   & -0,5378996   &  0,652691769 & -0,17237940  &  0,54347857  &  0,787193902 &  0,4941931  \\\\\n",
       "\tnonflavanoid\\_phenols & -0,15592947  &  0,29297713  &  0,186230446 &  0,36192172  & -0,25629405  & -0,44993530  & -0,5378996   &  1,0000000   & -0,365845099 &  0,13905701  & -0,26263963  & -0,503269596 & -0,3113852  \\\\\n",
       "\tproanthocyanins &  0,13669791  & -0,22074619  &  0,009651935 & -0,19732684  &  0,23644061  &  0,61241308  &  0,6526918   & -0,3658451   &  1,000000000 & -0,02524993  &  0,29554425  &  0,519067096 &  0,3304167  \\\\\n",
       "\tcolour\\_intensity &  0,54636420  &  0,24898534  &  0,258887259 &  0,01873198  &  0,19995001  & -0,05513642  & -0,1723794   &  0,1390570   & -0,025249931 &  1,00000000  & -0,52181319  & -0,428814942 &  0,3161001  \\\\\n",
       "\thue & -0,07174720  & -0,56129569  & -0,074666889 & -0,27395522  &  0,05539820  &  0,43368134  &  0,5434786   & -0,2626396   &  0,295544253 & -0,52181319  &  1,00000000  &  0,565468293 &  0,2361834  \\\\\n",
       "\tod280\\_od315 &  0,07234319  & -0,36871043  &  0,003911231 & -0,27676855  &  0,06600394  &  0,69994936  &  0,7871939   & -0,5032696   &  0,519067096 & -0,42881494  &  0,56546829  &  1,000000000 &  0,3127611  \\\\\n",
       "\tproline &  0,64372004  & -0,19201056  &  0,223626264 & -0,44059693  &  0,39335085  &  0,49811488  &  0,4941931   & -0,3113852   &  0,330416700 &  0,31610011  &  0,23618345  &  0,312761075 &  1,0000000  \\\\\n",
       "\\end{tabular}\n"
      ],
      "text/markdown": [
       "\n",
       "| <!--/--> | alcohol | malic_acid | ash | alcalinity_of_ash | magnesium | total_phenols | flavanoids | nonflavanoid_phenols | proanthocyanins | colour_intensity | hue | od280_od315 | proline | \n",
       "|---|---|---|---|---|---|---|---|---|---|---|---|---|\n",
       "| alcohol |  1,00000000  |  0,09439694  |  0,211544596 | -0,31023514  |  0,27079823  |  0,28910112  |  0,2368149   | -0,1559295   |  0,136697912 |  0,54636420  | -0,07174720  |  0,072343187 |  0,6437200   | \n",
       "| malic_acid |  0,09439694  |  1,00000000  |  0,164045470 |  0,28850040  | -0,05457510  | -0,33516700  | -0,4110066   |  0,2929771   | -0,220746187 |  0,24898534  | -0,56129569  | -0,368710428 | -0,1920106   | \n",
       "| ash |  0,21154460  |  0,16404547  |  1,000000000 |  0,44336719  |  0,28658669  |  0,12897954  |  0,1150773   |  0,1862304   |  0,009651935 |  0,25888726  | -0,07466689  |  0,003911231 |  0,2236263   | \n",
       "| alcalinity_of_ash | -0,31023514  |  0,28850040  |  0,443367187 |  1,00000000  | -0,08333309  | -0,32111332  | -0,3513699   |  0,3619217   | -0,197326836 |  0,01873198  | -0,27395522  | -0,276768549 | -0,4405969   | \n",
       "| magnesium |  0,27079823  | -0,05457510  |  0,286586691 | -0,08333309  |  1,00000000  |  0,21440123  |  0,1957838   | -0,2562940   |  0,236440610 |  0,19995001  |  0,05539820  |  0,066003936 |  0,3933508   | \n",
       "| total_phenols |  0,28910112  | -0,33516700  |  0,128979538 | -0,32111332  |  0,21440123  |  1,00000000  |  0,8645635   | -0,4499353   |  0,612413084 | -0,05513642  |  0,43368134  |  0,699949365 |  0,4981149   | \n",
       "| flavanoids |  0,23681493  | -0,41100659  |  0,115077279 | -0,35136986  |  0,19578377  |  0,86456350  |  1,0000000   | -0,5378996   |  0,652691769 | -0,17237940  |  0,54347857  |  0,787193902 |  0,4941931   | \n",
       "| nonflavanoid_phenols | -0,15592947  |  0,29297713  |  0,186230446 |  0,36192172  | -0,25629405  | -0,44993530  | -0,5378996   |  1,0000000   | -0,365845099 |  0,13905701  | -0,26263963  | -0,503269596 | -0,3113852   | \n",
       "| proanthocyanins |  0,13669791  | -0,22074619  |  0,009651935 | -0,19732684  |  0,23644061  |  0,61241308  |  0,6526918   | -0,3658451   |  1,000000000 | -0,02524993  |  0,29554425  |  0,519067096 |  0,3304167   | \n",
       "| colour_intensity |  0,54636420  |  0,24898534  |  0,258887259 |  0,01873198  |  0,19995001  | -0,05513642  | -0,1723794   |  0,1390570   | -0,025249931 |  1,00000000  | -0,52181319  | -0,428814942 |  0,3161001   | \n",
       "| hue | -0,07174720  | -0,56129569  | -0,074666889 | -0,27395522  |  0,05539820  |  0,43368134  |  0,5434786   | -0,2626396   |  0,295544253 | -0,52181319  |  1,00000000  |  0,565468293 |  0,2361834   | \n",
       "| od280_od315 |  0,07234319  | -0,36871043  |  0,003911231 | -0,27676855  |  0,06600394  |  0,69994936  |  0,7871939   | -0,5032696   |  0,519067096 | -0,42881494  |  0,56546829  |  1,000000000 |  0,3127611   | \n",
       "| proline |  0,64372004  | -0,19201056  |  0,223626264 | -0,44059693  |  0,39335085  |  0,49811488  |  0,4941931   | -0,3113852   |  0,330416700 |  0,31610011  |  0,23618345  |  0,312761075 |  1,0000000   | \n",
       "\n",
       "\n"
      ],
      "text/plain": [
       "                     alcohol     malic_acid  ash          alcalinity_of_ash\n",
       "alcohol               1,00000000  0,09439694  0,211544596 -0,31023514      \n",
       "malic_acid            0,09439694  1,00000000  0,164045470  0,28850040      \n",
       "ash                   0,21154460  0,16404547  1,000000000  0,44336719      \n",
       "alcalinity_of_ash    -0,31023514  0,28850040  0,443367187  1,00000000      \n",
       "magnesium             0,27079823 -0,05457510  0,286586691 -0,08333309      \n",
       "total_phenols         0,28910112 -0,33516700  0,128979538 -0,32111332      \n",
       "flavanoids            0,23681493 -0,41100659  0,115077279 -0,35136986      \n",
       "nonflavanoid_phenols -0,15592947  0,29297713  0,186230446  0,36192172      \n",
       "proanthocyanins       0,13669791 -0,22074619  0,009651935 -0,19732684      \n",
       "colour_intensity      0,54636420  0,24898534  0,258887259  0,01873198      \n",
       "hue                  -0,07174720 -0,56129569 -0,074666889 -0,27395522      \n",
       "od280_od315           0,07234319 -0,36871043  0,003911231 -0,27676855      \n",
       "proline               0,64372004 -0,19201056  0,223626264 -0,44059693      \n",
       "                     magnesium   total_phenols flavanoids nonflavanoid_phenols\n",
       "alcohol               0,27079823  0,28910112    0,2368149 -0,1559295          \n",
       "malic_acid           -0,05457510 -0,33516700   -0,4110066  0,2929771          \n",
       "ash                   0,28658669  0,12897954    0,1150773  0,1862304          \n",
       "alcalinity_of_ash    -0,08333309 -0,32111332   -0,3513699  0,3619217          \n",
       "magnesium             1,00000000  0,21440123    0,1957838 -0,2562940          \n",
       "total_phenols         0,21440123  1,00000000    0,8645635 -0,4499353          \n",
       "flavanoids            0,19578377  0,86456350    1,0000000 -0,5378996          \n",
       "nonflavanoid_phenols -0,25629405 -0,44993530   -0,5378996  1,0000000          \n",
       "proanthocyanins       0,23644061  0,61241308    0,6526918 -0,3658451          \n",
       "colour_intensity      0,19995001 -0,05513642   -0,1723794  0,1390570          \n",
       "hue                   0,05539820  0,43368134    0,5434786 -0,2626396          \n",
       "od280_od315           0,06600394  0,69994936    0,7871939 -0,5032696          \n",
       "proline               0,39335085  0,49811488    0,4941931 -0,3113852          \n",
       "                     proanthocyanins colour_intensity hue         od280_od315 \n",
       "alcohol               0,136697912     0,54636420      -0,07174720  0,072343187\n",
       "malic_acid           -0,220746187     0,24898534      -0,56129569 -0,368710428\n",
       "ash                   0,009651935     0,25888726      -0,07466689  0,003911231\n",
       "alcalinity_of_ash    -0,197326836     0,01873198      -0,27395522 -0,276768549\n",
       "magnesium             0,236440610     0,19995001       0,05539820  0,066003936\n",
       "total_phenols         0,612413084    -0,05513642       0,43368134  0,699949365\n",
       "flavanoids            0,652691769    -0,17237940       0,54347857  0,787193902\n",
       "nonflavanoid_phenols -0,365845099     0,13905701      -0,26263963 -0,503269596\n",
       "proanthocyanins       1,000000000    -0,02524993       0,29554425  0,519067096\n",
       "colour_intensity     -0,025249931     1,00000000      -0,52181319 -0,428814942\n",
       "hue                   0,295544253    -0,52181319       1,00000000  0,565468293\n",
       "od280_od315           0,519067096    -0,42881494       0,56546829  1,000000000\n",
       "proline               0,330416700     0,31610011       0,23618345  0,312761075\n",
       "                     proline   \n",
       "alcohol               0,6437200\n",
       "malic_acid           -0,1920106\n",
       "ash                   0,2236263\n",
       "alcalinity_of_ash    -0,4405969\n",
       "magnesium             0,3933508\n",
       "total_phenols         0,4981149\n",
       "flavanoids            0,4941931\n",
       "nonflavanoid_phenols -0,3113852\n",
       "proanthocyanins       0,3304167\n",
       "colour_intensity      0,3161001\n",
       "hue                   0,2361834\n",
       "od280_od315           0,3127611\n",
       "proline               1,0000000"
      ]
     },
     "metadata": {},
     "output_type": "display_data"
    }
   ],
   "source": [
    "cor(vinos[,-1])"
   ]
  },
  {
   "cell_type": "markdown",
   "metadata": {},
   "source": [
    "# Preparación y limpieza: Poniendo orden"
   ]
  },
  {
   "cell_type": "markdown",
   "metadata": {},
   "source": [
    "¿Cuáles son los principios de unos datos “limpios”? [Artículo de Hadley Wickham](https://www.jstatsoft.org/article/view/v059i10) en\n",
    "Journal of Statistical Software.\n",
    "\n",
    "Estos principios son muy parecidos a los que aplicaríamos al diseñar una base de datos relacional.\n",
    "\n",
    "Los principios son:\n",
    "+ <font color=#0000FF>Observaciones en filas.</font>\n",
    "+ <font color=#0000FF>Variables y atributos como columnas</font>.\n",
    "+ <font color=#0000FF>Cada fila de la tabla (data frame) contiene únicamente una unidad observacional. O lo\n",
    "que es los mismo, no mezclar distintas entidades o cosas dentro de la misma tabla.\n",
    "Todas las observaciones de una variable están medidas en la misma unidad.</font>\n",
    "\n",
    "Los paquetes `tidyr` y `reshape2` de Hadley Wickham, contienen varias funciones que nos\n",
    "permitirán poner orden en nuestros datos."
   ]
  },
  {
   "cell_type": "markdown",
   "metadata": {},
   "source": [
    "## Preparación y limpieza: datos limpios y ordenados\n",
    "\n",
    "![limpios](imgs\\10_04.png)\n",
    "\n"
   ]
  },
  {
   "cell_type": "markdown",
   "metadata": {},
   "source": [
    "## Preparación y limpieza: valores como columnas\n",
    "\n",
    "![cols](imgs\\10_05.png)\n",
    "\n"
   ]
  },
  {
   "cell_type": "markdown",
   "metadata": {},
   "source": [
    "## Preparación y limpieza: variables en filas y columnas\n",
    "\n",
    "\n",
    "![row_cols](imgs\\10_06.png)\n",
    "\n"
   ]
  },
  {
   "cell_type": "markdown",
   "metadata": {},
   "source": [
    "## `tidyr`: quitando valores como columnas\n",
    "\n",
    "Para corregir los problemas anteriores usaremos las funciones `gather` y `spread` del paquete\n",
    "`tidyr`.\n",
    "\n",
    "La función `gather` une columnas en pares clave valor. Los parámetros de la función son:\n",
    "+ `data`: el data frame de datos a corregir.\n",
    "+ `key`: el nombre de la nueva columna que contendrá la clave.\n",
    "+ `value`: el nombre de la nueva columna que contendrá el valor.\n",
    "+ `…`: nombres de las columnas a juntar (o no).\n",
    "\n",
    "La función `spread` separa pares clave valor en columnas. Los parámetros de la función son:\n",
    "+ `data`: el data frame de datos a corregir.\n",
    "+ `key`: el nombre de la columna que contiene la clave.\n",
    "+ `value`: el nombre de la columna que contiene el valor."
   ]
  },
  {
   "cell_type": "code",
   "execution_count": 20,
   "metadata": {},
   "outputs": [
    {
     "data": {
      "text/html": [
       "<table>\n",
       "<thead><tr><th scope=col>col</th><th scope=col>A</th><th scope=col>B</th><th scope=col>C</th></tr></thead>\n",
       "<tbody>\n",
       "\t<tr><td>X</td><td>1</td><td>2</td><td>3</td></tr>\n",
       "\t<tr><td>Y</td><td>4</td><td>5</td><td>6</td></tr>\n",
       "</tbody>\n",
       "</table>\n"
      ],
      "text/latex": [
       "\\begin{tabular}{r|llll}\n",
       " col & A & B & C\\\\\n",
       "\\hline\n",
       "\t X & 1 & 2 & 3\\\\\n",
       "\t Y & 4 & 5 & 6\\\\\n",
       "\\end{tabular}\n"
      ],
      "text/markdown": [
       "\n",
       "col | A | B | C | \n",
       "|---|---|\n",
       "| X | 1 | 2 | 3 | \n",
       "| Y | 4 | 5 | 6 | \n",
       "\n",
       "\n"
      ],
      "text/plain": [
       "  col A B C\n",
       "1 X   1 2 3\n",
       "2 Y   4 5 6"
      ]
     },
     "metadata": {},
     "output_type": "display_data"
    }
   ],
   "source": [
    "#######################################\n",
    "# Limpieza: ordenación                #\n",
    "#######################################\n",
    "\n",
    "#install.packages('tidyr', repos =\"https://cloud.r-project.org\")\n",
    "library(tidyr)\n",
    "\n",
    "wide_df <- data.frame(col = c(\"X\", \"Y\"), A = c(1, 4), B = c(2, 5), C = c(3, 6))\n",
    "wide_df"
   ]
  },
  {
   "cell_type": "code",
   "execution_count": 25,
   "metadata": {},
   "outputs": [
    {
     "data": {
      "text/html": [
       "<table>\n",
       "<thead><tr><th scope=col>col</th><th scope=col>my_key</th><th scope=col>my_val</th></tr></thead>\n",
       "<tbody>\n",
       "\t<tr><td>X</td><td>A</td><td>1</td></tr>\n",
       "\t<tr><td>Y</td><td>A</td><td>4</td></tr>\n",
       "\t<tr><td>X</td><td>B</td><td>2</td></tr>\n",
       "\t<tr><td>Y</td><td>B</td><td>5</td></tr>\n",
       "\t<tr><td>X</td><td>C</td><td>3</td></tr>\n",
       "\t<tr><td>Y</td><td>C</td><td>6</td></tr>\n",
       "</tbody>\n",
       "</table>\n"
      ],
      "text/latex": [
       "\\begin{tabular}{r|lll}\n",
       " col & my\\_key & my\\_val\\\\\n",
       "\\hline\n",
       "\t X & A & 1\\\\\n",
       "\t Y & A & 4\\\\\n",
       "\t X & B & 2\\\\\n",
       "\t Y & B & 5\\\\\n",
       "\t X & C & 3\\\\\n",
       "\t Y & C & 6\\\\\n",
       "\\end{tabular}\n"
      ],
      "text/markdown": [
       "\n",
       "col | my_key | my_val | \n",
       "|---|---|---|---|---|---|\n",
       "| X | A | 1 | \n",
       "| Y | A | 4 | \n",
       "| X | B | 2 | \n",
       "| Y | B | 5 | \n",
       "| X | C | 3 | \n",
       "| Y | C | 6 | \n",
       "\n",
       "\n"
      ],
      "text/plain": [
       "  col my_key my_val\n",
       "1 X   A      1     \n",
       "2 Y   A      4     \n",
       "3 X   B      2     \n",
       "4 Y   B      5     \n",
       "5 X   C      3     \n",
       "6 Y   C      6     "
      ]
     },
     "metadata": {},
     "output_type": "display_data"
    }
   ],
   "source": [
    "# Gather\n",
    "long_df <- gather(wide_df, my_key, my_val, -col)\n",
    "long_df"
   ]
  },
  {
   "cell_type": "code",
   "execution_count": 23,
   "metadata": {},
   "outputs": [
    {
     "data": {
      "text/html": [
       "<table>\n",
       "<thead><tr><th scope=col>col</th><th scope=col>A</th><th scope=col>B</th><th scope=col>C</th></tr></thead>\n",
       "<tbody>\n",
       "\t<tr><td>X</td><td>1</td><td>2</td><td>3</td></tr>\n",
       "\t<tr><td>Y</td><td>4</td><td>5</td><td>6</td></tr>\n",
       "</tbody>\n",
       "</table>\n"
      ],
      "text/latex": [
       "\\begin{tabular}{r|llll}\n",
       " col & A & B & C\\\\\n",
       "\\hline\n",
       "\t X & 1 & 2 & 3\\\\\n",
       "\t Y & 4 & 5 & 6\\\\\n",
       "\\end{tabular}\n"
      ],
      "text/markdown": [
       "\n",
       "col | A | B | C | \n",
       "|---|---|\n",
       "| X | 1 | 2 | 3 | \n",
       "| Y | 4 | 5 | 6 | \n",
       "\n",
       "\n"
      ],
      "text/plain": [
       "  col A B C\n",
       "1 X   1 2 3\n",
       "2 Y   4 5 6"
      ]
     },
     "metadata": {},
     "output_type": "display_data"
    }
   ],
   "source": [
    "# Spread\n",
    "new_wide_df <- spread(long_df, my_key, my_val) #Obtenemos el data.frame original\n",
    "new_wide_df"
   ]
  },
  {
   "cell_type": "markdown",
   "metadata": {},
   "source": [
    "## Preparación y limpieza: dos variables en la  misma columna\n",
    "\n",
    "![two_var_same_col](imgs/10_07.png)"
   ]
  },
  {
   "cell_type": "markdown",
   "metadata": {},
   "source": [
    "## `tidyr`: separando columnas\n",
    "\n",
    "Para corregir el anterior problema usaremos la función `separate` del paquete `tidyr`. Esta\n",
    "función separa una columna en múltiples columnas. Los parámetros de la función son:\n",
    "+ `data`: el data frame de datos a corregir.\n",
    "+ `col`: el nombre de la columna a separar.\n",
    "+ `into`: vector de caracteres con el nombre de las nuevas columnas.\n",
    "+ `sep`: el separador a emplear. Por defecto se usa como separador cualquier carácter no  alfanumérico.\n",
    "\n",
    "Existe otra función en el paquete tidyr para realizar el proceso inverso, `unite`. Esta función  une varias columnas en una única columnas. Los parámetros de la función son:\n",
    "+ `data`: el data frame de datos a corregir.\n",
    "+ `col`: el nombre de la nueva columna que contendrá la unión.\n",
    "+ `…`: el nombre de las columnas a unir.\n",
    "+ `sep`: el separador a emplear. Por defecto: \"_\"."
   ]
  },
  {
   "cell_type": "code",
   "execution_count": 26,
   "metadata": {},
   "outputs": [
    {
     "data": {
      "text/html": [
       "<table>\n",
       "<thead><tr><th scope=col>patient</th><th scope=col>treatment</th><th scope=col>year_mo</th><th scope=col>responde</th></tr></thead>\n",
       "<tbody>\n",
       "\t<tr><td>X      </td><td>A      </td><td>2010-10</td><td>1      </td></tr>\n",
       "\t<tr><td>Y      </td><td>A      </td><td>2010-10</td><td>4      </td></tr>\n",
       "\t<tr><td>X      </td><td>B      </td><td>2012-08</td><td>2      </td></tr>\n",
       "\t<tr><td>Y      </td><td>B      </td><td>2012-08</td><td>5      </td></tr>\n",
       "\t<tr><td>X      </td><td>c      </td><td>2014-12</td><td>3      </td></tr>\n",
       "\t<tr><td>Y      </td><td>C      </td><td>2014-12</td><td>6      </td></tr>\n",
       "</tbody>\n",
       "</table>\n"
      ],
      "text/latex": [
       "\\begin{tabular}{r|llll}\n",
       " patient & treatment & year\\_mo & responde\\\\\n",
       "\\hline\n",
       "\t X       & A       & 2010-10 & 1      \\\\\n",
       "\t Y       & A       & 2010-10 & 4      \\\\\n",
       "\t X       & B       & 2012-08 & 2      \\\\\n",
       "\t Y       & B       & 2012-08 & 5      \\\\\n",
       "\t X       & c       & 2014-12 & 3      \\\\\n",
       "\t Y       & C       & 2014-12 & 6      \\\\\n",
       "\\end{tabular}\n"
      ],
      "text/markdown": [
       "\n",
       "patient | treatment | year_mo | responde | \n",
       "|---|---|---|---|---|---|\n",
       "| X       | A       | 2010-10 | 1       | \n",
       "| Y       | A       | 2010-10 | 4       | \n",
       "| X       | B       | 2012-08 | 2       | \n",
       "| Y       | B       | 2012-08 | 5       | \n",
       "| X       | c       | 2014-12 | 3       | \n",
       "| Y       | C       | 2014-12 | 6       | \n",
       "\n",
       "\n"
      ],
      "text/plain": [
       "  patient treatment year_mo responde\n",
       "1 X       A         2010-10 1       \n",
       "2 Y       A         2010-10 4       \n",
       "3 X       B         2012-08 2       \n",
       "4 Y       B         2012-08 5       \n",
       "5 X       c         2014-12 3       \n",
       "6 Y       C         2014-12 6       "
      ]
     },
     "metadata": {},
     "output_type": "display_data"
    }
   ],
   "source": [
    "treatments <- data.frame(patient = c(\"X\", \"Y\", \"X\", \"Y\", \"X\", \"Y\"), \n",
    "                         treatment = c(\"A\", \"A\", \"B\", \"B\", \"c\", \"C\"), \n",
    "                         year_mo = c(\"2010-10\", \"2010-10\", \"2012-08\", \n",
    "                                     \"2012-08\", \"2014-12\", \"2014-12\"), \n",
    "                         responde = c(1, 4, 2, 5, 3, 6))\n",
    "\n",
    "treatments"
   ]
  },
  {
   "cell_type": "code",
   "execution_count": 27,
   "metadata": {},
   "outputs": [
    {
     "data": {
      "text/html": [
       "<table>\n",
       "<thead><tr><th scope=col>patient</th><th scope=col>treatment</th><th scope=col>year</th><th scope=col>month</th><th scope=col>responde</th></tr></thead>\n",
       "<tbody>\n",
       "\t<tr><td>X   </td><td>A   </td><td>2010</td><td>10  </td><td>1   </td></tr>\n",
       "\t<tr><td>Y   </td><td>A   </td><td>2010</td><td>10  </td><td>4   </td></tr>\n",
       "\t<tr><td>X   </td><td>B   </td><td>2012</td><td>08  </td><td>2   </td></tr>\n",
       "\t<tr><td>Y   </td><td>B   </td><td>2012</td><td>08  </td><td>5   </td></tr>\n",
       "\t<tr><td>X   </td><td>c   </td><td>2014</td><td>12  </td><td>3   </td></tr>\n",
       "\t<tr><td>Y   </td><td>C   </td><td>2014</td><td>12  </td><td>6   </td></tr>\n",
       "</tbody>\n",
       "</table>\n"
      ],
      "text/latex": [
       "\\begin{tabular}{r|lllll}\n",
       " patient & treatment & year & month & responde\\\\\n",
       "\\hline\n",
       "\t X    & A    & 2010 & 10   & 1   \\\\\n",
       "\t Y    & A    & 2010 & 10   & 4   \\\\\n",
       "\t X    & B    & 2012 & 08   & 2   \\\\\n",
       "\t Y    & B    & 2012 & 08   & 5   \\\\\n",
       "\t X    & c    & 2014 & 12   & 3   \\\\\n",
       "\t Y    & C    & 2014 & 12   & 6   \\\\\n",
       "\\end{tabular}\n"
      ],
      "text/markdown": [
       "\n",
       "patient | treatment | year | month | responde | \n",
       "|---|---|---|---|---|---|\n",
       "| X    | A    | 2010 | 10   | 1    | \n",
       "| Y    | A    | 2010 | 10   | 4    | \n",
       "| X    | B    | 2012 | 08   | 2    | \n",
       "| Y    | B    | 2012 | 08   | 5    | \n",
       "| X    | c    | 2014 | 12   | 3    | \n",
       "| Y    | C    | 2014 | 12   | 6    | \n",
       "\n",
       "\n"
      ],
      "text/plain": [
       "  patient treatment year month responde\n",
       "1 X       A         2010 10    1       \n",
       "2 Y       A         2010 10    4       \n",
       "3 X       B         2012 08    2       \n",
       "4 Y       B         2012 08    5       \n",
       "5 X       c         2014 12    3       \n",
       "6 Y       C         2014 12    6       "
      ]
     },
     "metadata": {},
     "output_type": "display_data"
    }
   ],
   "source": [
    "# Separate\n",
    "treatments_sep <- separate(treatments, year_mo, c(\"year\", \"month\"))\n",
    "treatments_sep"
   ]
  },
  {
   "cell_type": "code",
   "execution_count": 28,
   "metadata": {},
   "outputs": [
    {
     "data": {
      "text/html": [
       "<table>\n",
       "<thead><tr><th scope=col>patient</th><th scope=col>treatment</th><th scope=col>year_mo</th><th scope=col>responde</th></tr></thead>\n",
       "<tbody>\n",
       "\t<tr><td>X      </td><td>A      </td><td>2010-10</td><td>1      </td></tr>\n",
       "\t<tr><td>Y      </td><td>A      </td><td>2010-10</td><td>4      </td></tr>\n",
       "\t<tr><td>X      </td><td>B      </td><td>2012-08</td><td>2      </td></tr>\n",
       "\t<tr><td>Y      </td><td>B      </td><td>2012-08</td><td>5      </td></tr>\n",
       "\t<tr><td>X      </td><td>c      </td><td>2014-12</td><td>3      </td></tr>\n",
       "\t<tr><td>Y      </td><td>C      </td><td>2014-12</td><td>6      </td></tr>\n",
       "</tbody>\n",
       "</table>\n"
      ],
      "text/latex": [
       "\\begin{tabular}{r|llll}\n",
       " patient & treatment & year\\_mo & responde\\\\\n",
       "\\hline\n",
       "\t X       & A       & 2010-10 & 1      \\\\\n",
       "\t Y       & A       & 2010-10 & 4      \\\\\n",
       "\t X       & B       & 2012-08 & 2      \\\\\n",
       "\t Y       & B       & 2012-08 & 5      \\\\\n",
       "\t X       & c       & 2014-12 & 3      \\\\\n",
       "\t Y       & C       & 2014-12 & 6      \\\\\n",
       "\\end{tabular}\n"
      ],
      "text/markdown": [
       "\n",
       "patient | treatment | year_mo | responde | \n",
       "|---|---|---|---|---|---|\n",
       "| X       | A       | 2010-10 | 1       | \n",
       "| Y       | A       | 2010-10 | 4       | \n",
       "| X       | B       | 2012-08 | 2       | \n",
       "| Y       | B       | 2012-08 | 5       | \n",
       "| X       | c       | 2014-12 | 3       | \n",
       "| Y       | C       | 2014-12 | 6       | \n",
       "\n",
       "\n"
      ],
      "text/plain": [
       "  patient treatment year_mo responde\n",
       "1 X       A         2010-10 1       \n",
       "2 Y       A         2010-10 4       \n",
       "3 X       B         2012-08 2       \n",
       "4 Y       B         2012-08 5       \n",
       "5 X       c         2014-12 3       \n",
       "6 Y       C         2014-12 6       "
      ]
     },
     "metadata": {},
     "output_type": "display_data"
    }
   ],
   "source": [
    "# Unite\n",
    "new_treatments <- unite(treatments_sep, year_mo, year, month, sep = \"-\")\n",
    "new_treatments"
   ]
  },
  {
   "cell_type": "markdown",
   "metadata": {},
   "source": [
    "## Preparación y limpieza: más de una medida observacional en la misma tabla\n",
    "\n",
    "![more_than_one_obs](imgs/10_08.png)\n",
    "\n",
    "Existen personas duplicadas (x3). Esto puede indicar que tenemos que separar en dos data  frames los datos.\n",
    "\n",
    "OJO! A la hora de separar en varios data frames debemos crear una PK que nos permita  cruzarlos. Similar a las Primary Keys de una base de datos relacional."
   ]
  },
  {
   "cell_type": "markdown",
   "metadata": {},
   "source": [
    "## Preparación y limpieza: wide vs long\n",
    "\n",
    "![wide_long](imgs/10_09.png)\n",
    "\n",
    "+ Hablamos de **wide datasets cuando  tienen más variables que  observaciones**.\n",
    "\n",
    "+ Hablamos de **long datasets cuando  tienen más observaciones que  atributos**.\n",
    "\n",
    "Un wide dataset puede indicar que  tenemos valores almacenados  como columnas. Trataremos de  convertirlo en un long dataset."
   ]
  },
  {
   "cell_type": "markdown",
   "metadata": {},
   "source": [
    "## `reshape2`: wide dataset to long dataset\n",
    "\n",
    "Dentro del paquete reshape2 existe una función, análoga a `gather` de tidyr, para pasar de un\n",
    "wide dataset a un long dataset: `melt`.\n",
    "\n",
    "La función `melt` recibe los siguientes parámetros:\n",
    "+ data`: el data frame de datos a pivotar.\n",
    "+ `id.vars`: un vector con el nombre de las variables a mantener.\n",
    "+ `variable.name`: el nombre de la nueva variable que contendrá las variables fundidas.\n",
    "+ `value.name`: el nombre de la nueva variable que contendrá los valores."
   ]
  },
  {
   "cell_type": "code",
   "execution_count": 29,
   "metadata": {},
   "outputs": [
    {
     "ename": "ERROR",
     "evalue": "Error in library(reshape2): there is no package called ‘reshape2’\n",
     "output_type": "error",
     "traceback": [
      "Error in library(reshape2): there is no package called ‘reshape2’\nTraceback:\n",
      "1. library(reshape2)",
      "2. stop(txt, domain = NA)"
     ]
    }
   ],
   "source": [
    "#install.packages('reshape2', repos =\"https://cloud.r-project.org\")\n",
    "\n",
    "library(reshape2)\n",
    "\n",
    "wide_df <- data.frame(col = c(\"X\", \"Y\"), A = c(1, 4), B = c(2, 5), C = c(3, 6))\n",
    "wide_df"
   ]
  },
  {
   "cell_type": "code",
   "execution_count": null,
   "metadata": {},
   "outputs": [],
   "source": [
    "# melt\n",
    "long_df <- melt(wide_df, id.vars = c(\"col\"), variable.name = \"my_key\", value.name = \"my_val\")\n",
    "long_df"
   ]
  },
  {
   "cell_type": "markdown",
   "metadata": {},
   "source": [
    "## `reshape2`: long dataset to wide dataset\n",
    "\n",
    "Dentro del paquete `reshape2` existe otra función, análoga a `spread` de `tidyr`, para pasar de\n",
    "un wide dataset a un long dataset: `dcast`.\n",
    "\n",
    "La función `dcast` recibe los siguientes parámetros:\n",
    "+ `data`: el data frame de datos a pivotar.\n",
    "+ `variable1 + variable2 + … ~ variable`: `variable1, variable2…` son las columnas que se  mantendrán y `variable` la columna que contiene los valores que generarán nuevas  columnas.\n",
    "+ `value.var`: nombre de la columna donde están los valores.\n",
    "+ `fun.agregate`: en el caso de tener múltiples valores por fila especifica la función de\n",
    "agregación. Por ejemplo: `sum, mean, max…`"
   ]
  },
  {
   "cell_type": "code",
   "execution_count": null,
   "metadata": {},
   "outputs": [],
   "source": [
    "# dcast\n",
    "new_wide_df <- dcast(long_df, col ~ my_key, value.var = \"my_val\")\n",
    "new_wide_df"
   ]
  },
  {
   "cell_type": "code",
   "execution_count": null,
   "metadata": {},
   "outputs": [],
   "source": []
  },
  {
   "cell_type": "markdown",
   "metadata": {},
   "source": [
    "## Ejercicio"
   ]
  },
  {
   "cell_type": "code",
   "execution_count": 60,
   "metadata": {},
   "outputs": [
    {
     "data": {
      "text/html": [
       "<table>\n",
       "<thead><tr><th scope=col>name</th><th scope=col>age</th><th scope=col>brown</th><th scope=col>blue</th><th scope=col>other</th><th scope=col>height</th></tr></thead>\n",
       "<tbody>\n",
       "\t<tr><td>Jake  </td><td>34    </td><td>0     </td><td>0     </td><td>1     </td><td>6,1   </td></tr>\n",
       "\t<tr><td>Alice </td><td>55    </td><td>0     </td><td>1     </td><td>0     </td><td>5,9   </td></tr>\n",
       "\t<tr><td>Tim   </td><td>76    </td><td>1     </td><td>0     </td><td>0     </td><td>5,7   </td></tr>\n",
       "\t<tr><td>Denise</td><td>19    </td><td>0     </td><td>0     </td><td>1     </td><td>5,1   </td></tr>\n",
       "</tbody>\n",
       "</table>\n"
      ],
      "text/latex": [
       "\\begin{tabular}{r|llllll}\n",
       " name & age & brown & blue & other & height\\\\\n",
       "\\hline\n",
       "\t Jake   & 34     & 0      & 0      & 1      & 6,1   \\\\\n",
       "\t Alice  & 55     & 0      & 1      & 0      & 5,9   \\\\\n",
       "\t Tim    & 76     & 1      & 0      & 0      & 5,7   \\\\\n",
       "\t Denise & 19     & 0      & 0      & 1      & 5,1   \\\\\n",
       "\\end{tabular}\n"
      ],
      "text/markdown": [
       "\n",
       "name | age | brown | blue | other | height | \n",
       "|---|---|---|---|\n",
       "| Jake   | 34     | 0      | 0      | 1      | 6,1    | \n",
       "| Alice  | 55     | 0      | 1      | 0      | 5,9    | \n",
       "| Tim    | 76     | 1      | 0      | 0      | 5,7    | \n",
       "| Denise | 19     | 0      | 0      | 1      | 5,1    | \n",
       "\n",
       "\n"
      ],
      "text/plain": [
       "  name   age brown blue other height\n",
       "1 Jake   34  0     0    1     6,1   \n",
       "2 Alice  55  0     1    0     5,9   \n",
       "3 Tim    76  1     0    0     5,7   \n",
       "4 Denise 19  0     0    1     5,1   "
      ]
     },
     "metadata": {},
     "output_type": "display_data"
    }
   ],
   "source": [
    "###################################\n",
    "# tidyr                           #\n",
    "###################################\n",
    "library(tidyr)\n",
    "\n",
    "# Arregla el siguiente data frame\n",
    "people_1 <- data.frame(name = c(\"Jake\", \"Alice\", \"Tim\", \"Denise\"), \n",
    "                       age = c(34, 55, 76, 19), \n",
    "                       brown = c(0, 0, 1, 0), \n",
    "                       blue = c(0, 1, 0, 0),\n",
    "                       other = c(1, 0, 0, 1),\n",
    "                       height = c(6.1, 5.9, 5.7, 5.1))\n",
    "people_1"
   ]
  },
  {
   "cell_type": "code",
   "execution_count": 61,
   "metadata": {
    "scrolled": true
   },
   "outputs": [
    {
     "data": {
      "text/html": [
       "<table>\n",
       "<thead><tr><th scope=col>name</th><th scope=col>age</th><th scope=col>height</th><th scope=col>eyes</th><th scope=col>color</th></tr></thead>\n",
       "<tbody>\n",
       "\t<tr><td>Jake  </td><td>34    </td><td>6,1   </td><td>brown </td><td>0     </td></tr>\n",
       "\t<tr><td>Alice </td><td>55    </td><td>5,9   </td><td>brown </td><td>0     </td></tr>\n",
       "\t<tr><td>Tim   </td><td>76    </td><td>5,7   </td><td>brown </td><td>1     </td></tr>\n",
       "\t<tr><td>Denise</td><td>19    </td><td>5,1   </td><td>brown </td><td>0     </td></tr>\n",
       "\t<tr><td>Jake  </td><td>34    </td><td>6,1   </td><td>blue  </td><td>0     </td></tr>\n",
       "\t<tr><td>Alice </td><td>55    </td><td>5,9   </td><td>blue  </td><td>1     </td></tr>\n",
       "\t<tr><td>Tim   </td><td>76    </td><td>5,7   </td><td>blue  </td><td>0     </td></tr>\n",
       "\t<tr><td>Denise</td><td>19    </td><td>5,1   </td><td>blue  </td><td>0     </td></tr>\n",
       "\t<tr><td>Jake  </td><td>34    </td><td>6,1   </td><td>other </td><td>1     </td></tr>\n",
       "\t<tr><td>Alice </td><td>55    </td><td>5,9   </td><td>other </td><td>0     </td></tr>\n",
       "\t<tr><td>Tim   </td><td>76    </td><td>5,7   </td><td>other </td><td>0     </td></tr>\n",
       "\t<tr><td>Denise</td><td>19    </td><td>5,1   </td><td>other </td><td>1     </td></tr>\n",
       "</tbody>\n",
       "</table>\n"
      ],
      "text/latex": [
       "\\begin{tabular}{r|lllll}\n",
       " name & age & height & eyes & color\\\\\n",
       "\\hline\n",
       "\t Jake   & 34     & 6,1    & brown  & 0     \\\\\n",
       "\t Alice  & 55     & 5,9    & brown  & 0     \\\\\n",
       "\t Tim    & 76     & 5,7    & brown  & 1     \\\\\n",
       "\t Denise & 19     & 5,1    & brown  & 0     \\\\\n",
       "\t Jake   & 34     & 6,1    & blue   & 0     \\\\\n",
       "\t Alice  & 55     & 5,9    & blue   & 1     \\\\\n",
       "\t Tim    & 76     & 5,7    & blue   & 0     \\\\\n",
       "\t Denise & 19     & 5,1    & blue   & 0     \\\\\n",
       "\t Jake   & 34     & 6,1    & other  & 1     \\\\\n",
       "\t Alice  & 55     & 5,9    & other  & 0     \\\\\n",
       "\t Tim    & 76     & 5,7    & other  & 0     \\\\\n",
       "\t Denise & 19     & 5,1    & other  & 1     \\\\\n",
       "\\end{tabular}\n"
      ],
      "text/markdown": [
       "\n",
       "name | age | height | eyes | color | \n",
       "|---|---|---|---|---|---|---|---|---|---|---|---|\n",
       "| Jake   | 34     | 6,1    | brown  | 0      | \n",
       "| Alice  | 55     | 5,9    | brown  | 0      | \n",
       "| Tim    | 76     | 5,7    | brown  | 1      | \n",
       "| Denise | 19     | 5,1    | brown  | 0      | \n",
       "| Jake   | 34     | 6,1    | blue   | 0      | \n",
       "| Alice  | 55     | 5,9    | blue   | 1      | \n",
       "| Tim    | 76     | 5,7    | blue   | 0      | \n",
       "| Denise | 19     | 5,1    | blue   | 0      | \n",
       "| Jake   | 34     | 6,1    | other  | 1      | \n",
       "| Alice  | 55     | 5,9    | other  | 0      | \n",
       "| Tim    | 76     | 5,7    | other  | 0      | \n",
       "| Denise | 19     | 5,1    | other  | 1      | \n",
       "\n",
       "\n"
      ],
      "text/plain": [
       "   name   age height eyes  color\n",
       "1  Jake   34  6,1    brown 0    \n",
       "2  Alice  55  5,9    brown 0    \n",
       "3  Tim    76  5,7    brown 1    \n",
       "4  Denise 19  5,1    brown 0    \n",
       "5  Jake   34  6,1    blue  0    \n",
       "6  Alice  55  5,9    blue  1    \n",
       "7  Tim    76  5,7    blue  0    \n",
       "8  Denise 19  5,1    blue  0    \n",
       "9  Jake   34  6,1    other 1    \n",
       "10 Alice  55  5,9    other 0    \n",
       "11 Tim    76  5,7    other 0    \n",
       "12 Denise 19  5,1    other 1    "
      ]
     },
     "metadata": {},
     "output_type": "display_data"
    }
   ],
   "source": [
    "people_1 <- gather(people_1, eyes,color,brown,blue,other)\n",
    "people_1"
   ]
  },
  {
   "cell_type": "code",
   "execution_count": 65,
   "metadata": {},
   "outputs": [
    {
     "data": {
      "text/html": [
       "<table>\n",
       "<thead><tr><th></th><th scope=col>name</th><th scope=col>age</th><th scope=col>height</th><th scope=col>eyes</th></tr></thead>\n",
       "<tbody>\n",
       "\t<tr><th scope=row>3</th><td>Tim   </td><td>76    </td><td>5,7   </td><td>brown </td></tr>\n",
       "\t<tr><th scope=row>6</th><td>Alice </td><td>55    </td><td>5,9   </td><td>blue  </td></tr>\n",
       "\t<tr><th scope=row>9</th><td>Jake  </td><td>34    </td><td>6,1   </td><td>other </td></tr>\n",
       "\t<tr><th scope=row>12</th><td>Denise</td><td>19    </td><td>5,1   </td><td>other </td></tr>\n",
       "</tbody>\n",
       "</table>\n"
      ],
      "text/latex": [
       "\\begin{tabular}{r|llll}\n",
       "  & name & age & height & eyes\\\\\n",
       "\\hline\n",
       "\t3 & Tim    & 76     & 5,7    & brown \\\\\n",
       "\t6 & Alice  & 55     & 5,9    & blue  \\\\\n",
       "\t9 & Jake   & 34     & 6,1    & other \\\\\n",
       "\t12 & Denise & 19     & 5,1    & other \\\\\n",
       "\\end{tabular}\n"
      ],
      "text/markdown": [
       "\n",
       "| <!--/--> | name | age | height | eyes | \n",
       "|---|---|---|---|\n",
       "| 3 | Tim    | 76     | 5,7    | brown  | \n",
       "| 6 | Alice  | 55     | 5,9    | blue   | \n",
       "| 9 | Jake   | 34     | 6,1    | other  | \n",
       "| 12 | Denise | 19     | 5,1    | other  | \n",
       "\n",
       "\n"
      ],
      "text/plain": [
       "   name   age height eyes \n",
       "3  Tim    76  5,7    brown\n",
       "6  Alice  55  5,9    blue \n",
       "9  Jake   34  6,1    other\n",
       "12 Denise 19  5,1    other"
      ]
     },
     "metadata": {},
     "output_type": "display_data"
    }
   ],
   "source": [
    "people_1 <- people_1[people_1$color==1, c('name','age','height','eyes')]\n",
    "people_1"
   ]
  },
  {
   "cell_type": "code",
   "execution_count": 53,
   "metadata": {
    "scrolled": false
   },
   "outputs": [
    {
     "data": {
      "text/html": [
       "<table>\n",
       "<thead><tr><th scope=col>name</th><th scope=col>measurement</th><th scope=col>value</th></tr></thead>\n",
       "<tbody>\n",
       "\t<tr><td>Jake   </td><td>n_dog  </td><td>1      </td></tr>\n",
       "\t<tr><td>Jake   </td><td>n_cats </td><td>0      </td></tr>\n",
       "\t<tr><td>Jake   </td><td>n_birds</td><td>1      </td></tr>\n",
       "\t<tr><td>Alice  </td><td>n_dog  </td><td>1      </td></tr>\n",
       "\t<tr><td>Alice  </td><td>n_cats </td><td>2      </td></tr>\n",
       "\t<tr><td>Alice  </td><td>n_birds</td><td>0      </td></tr>\n",
       "</tbody>\n",
       "</table>\n"
      ],
      "text/latex": [
       "\\begin{tabular}{r|lll}\n",
       " name & measurement & value\\\\\n",
       "\\hline\n",
       "\t Jake      & n\\_dog   & 1        \\\\\n",
       "\t Jake      & n\\_cats  & 0        \\\\\n",
       "\t Jake      & n\\_birds & 1        \\\\\n",
       "\t Alice     & n\\_dog   & 1        \\\\\n",
       "\t Alice     & n\\_cats  & 2        \\\\\n",
       "\t Alice     & n\\_birds & 0        \\\\\n",
       "\\end{tabular}\n"
      ],
      "text/markdown": [
       "\n",
       "name | measurement | value | \n",
       "|---|---|---|---|---|---|\n",
       "| Jake    | n_dog   | 1       | \n",
       "| Jake    | n_cats  | 0       | \n",
       "| Jake    | n_birds | 1       | \n",
       "| Alice   | n_dog   | 1       | \n",
       "| Alice   | n_cats  | 2       | \n",
       "| Alice   | n_birds | 0       | \n",
       "\n",
       "\n"
      ],
      "text/plain": [
       "  name  measurement value\n",
       "1 Jake  n_dog       1    \n",
       "2 Jake  n_cats      0    \n",
       "3 Jake  n_birds     1    \n",
       "4 Alice n_dog       1    \n",
       "5 Alice n_cats      2    \n",
       "6 Alice n_birds     0    "
      ]
     },
     "metadata": {},
     "output_type": "display_data"
    }
   ],
   "source": [
    "# Arregla el siguiente data frame\n",
    "people_2 <- data.frame(name = c(\"Jake\", \"Jake\", \"Jake\", \"Alice\", \"Alice\", \"Alice\"), \n",
    "                       measurement = c(\"n_dog\", \"n_cats\", \"n_birds\", \"n_dog\", \"n_cats\", \"n_birds\"), \n",
    "                       value = c(1, 0, 1, 1, 2, 0))\n",
    "people_2"
   ]
  },
  {
   "cell_type": "code",
   "execution_count": null,
   "metadata": {},
   "outputs": [],
   "source": []
  },
  {
   "cell_type": "code",
   "execution_count": 52,
   "metadata": {},
   "outputs": [
    {
     "data": {
      "text/html": [
       "<table>\n",
       "<thead><tr><th scope=col>name</th><th scope=col>sex_age</th><th scope=col>eye_color</th><th scope=col>height</th></tr></thead>\n",
       "<tbody>\n",
       "\t<tr><td>Jake  </td><td>M:34  </td><td>other </td><td>6,1   </td></tr>\n",
       "\t<tr><td>Alice </td><td>F:55  </td><td>blue  </td><td>5,9   </td></tr>\n",
       "\t<tr><td>Tim   </td><td>M:76  </td><td>brown </td><td>5,7   </td></tr>\n",
       "\t<tr><td>Denise</td><td>F:19  </td><td>other </td><td>5,1   </td></tr>\n",
       "</tbody>\n",
       "</table>\n"
      ],
      "text/latex": [
       "\\begin{tabular}{r|llll}\n",
       " name & sex\\_age & eye\\_color & height\\\\\n",
       "\\hline\n",
       "\t Jake   & M:34   & other  & 6,1   \\\\\n",
       "\t Alice  & F:55   & blue   & 5,9   \\\\\n",
       "\t Tim    & M:76   & brown  & 5,7   \\\\\n",
       "\t Denise & F:19   & other  & 5,1   \\\\\n",
       "\\end{tabular}\n"
      ],
      "text/markdown": [
       "\n",
       "name | sex_age | eye_color | height | \n",
       "|---|---|---|---|\n",
       "| Jake   | M:34   | other  | 6,1    | \n",
       "| Alice  | F:55   | blue   | 5,9    | \n",
       "| Tim    | M:76   | brown  | 5,7    | \n",
       "| Denise | F:19   | other  | 5,1    | \n",
       "\n",
       "\n"
      ],
      "text/plain": [
       "  name   sex_age eye_color height\n",
       "1 Jake   M:34    other     6,1   \n",
       "2 Alice  F:55    blue      5,9   \n",
       "3 Tim    M:76    brown     5,7   \n",
       "4 Denise F:19    other     5,1   "
      ]
     },
     "metadata": {},
     "output_type": "display_data"
    }
   ],
   "source": [
    "# Arregla el siguiente data frame\n",
    "people_3 <- data.frame(name = c(\"Jake\", \"Alice\", \"Tim\", \"Denise\"), \n",
    "                       sex_age = c(\"M:34\", \"F:55\", \"M:76\", \"F:19\"), \n",
    "                       eye_color = c(\"other\", \"blue\", \"brown\", \"other\"), \n",
    "                       height = c(6.1, 5.9, 5.7, 5.1))\n",
    "people_3"
   ]
  },
  {
   "cell_type": "code",
   "execution_count": null,
   "metadata": {},
   "outputs": [],
   "source": []
  },
  {
   "cell_type": "code",
   "execution_count": null,
   "metadata": {},
   "outputs": [],
   "source": [
    "# Consigue el data frame original del último arreglo"
   ]
  },
  {
   "cell_type": "markdown",
   "metadata": {},
   "source": [
    "## Preparación y limpieza: preparando los datos  para el análisis\n",
    "\n",
    "El último paso del proceso de limpieza es la **preparación de los datos para el análisis**.\n",
    "\n",
    "Normalmente, nuestro dataset contendrá distintos tipos de variables (cadenas de caracteres,  numéricas, lógicas, fechas…).\n",
    "\n",
    "Es importante asegurar que cada variable está almacenada en el formato adecuado.\n",
    "\n",
    "Otro punto especialmente importante es el tratamiento de **missing values y outliers (valores  atípicos)**."
   ]
  },
  {
   "cell_type": "markdown",
   "metadata": {},
   "source": [
    "### Preparación y limpieza: conversión de tipos\n",
    "\n",
    "![as_type](imgs/10_10.png)"
   ]
  },
  {
   "cell_type": "markdown",
   "metadata": {},
   "source": [
    "Para **manipulación de fechas** es recomendable utilizar el paquete `lubridate` de Hadley\n",
    "Wickham.\n",
    "\n",
    "Contiene numerosas funciones para parsear y operar con fechas."
   ]
  },
  {
   "cell_type": "code",
   "execution_count": 77,
   "metadata": {},
   "outputs": [
    {
     "name": "stderr",
     "output_type": "stream",
     "text": [
      "\n",
      "Attaching package: ‘lubridate’\n",
      "\n",
      "The following object is masked from ‘package:base’:\n",
      "\n",
      "    date\n",
      "\n"
     ]
    },
    {
     "data": {
      "text/html": [
       "<time datetime=\"2015-08-25\">2015-08-25</time>"
      ],
      "text/latex": [
       "2015-08-25"
      ],
      "text/markdown": [
       "2015-08-25"
      ],
      "text/plain": [
       "[1] \"2015-08-25\""
      ]
     },
     "metadata": {},
     "output_type": "display_data"
    }
   ],
   "source": [
    "#######################################\n",
    "# Limpieza: preparación               #\n",
    "#######################################\n",
    "\n",
    "library(lubridate)\n",
    "\n",
    "ymd(\"2015-08-25\")"
   ]
  },
  {
   "cell_type": "code",
   "execution_count": 78,
   "metadata": {},
   "outputs": [
    {
     "data": {
      "text/html": [
       "<time datetime=\"2015-08-25\">2015-08-25</time>"
      ],
      "text/latex": [
       "2015-08-25"
      ],
      "text/markdown": [
       "2015-08-25"
      ],
      "text/plain": [
       "[1] \"2015-08-25\""
      ]
     },
     "metadata": {},
     "output_type": "display_data"
    }
   ],
   "source": [
    "ymd(\"2015 August 25\")"
   ]
  },
  {
   "cell_type": "code",
   "execution_count": 79,
   "metadata": {},
   "outputs": [
    {
     "data": {
      "text/html": [
       "14H 17M 7S"
      ],
      "text/latex": [
       "14H 17M 7S"
      ],
      "text/markdown": [
       "14H 17M 7S"
      ],
      "text/plain": [
       "[1] \"14H 17M 7S\""
      ]
     },
     "metadata": {},
     "output_type": "display_data"
    }
   ],
   "source": [
    "hms(\"14:17:07\")"
   ]
  },
  {
   "cell_type": "code",
   "execution_count": 80,
   "metadata": {},
   "outputs": [
    {
     "data": {
      "text/plain": [
       "[1] \"2015-08-25 13:33:09 UTC\""
      ]
     },
     "metadata": {},
     "output_type": "display_data"
    }
   ],
   "source": [
    "ymd_hms(\"2015/08/25 13.33.09\")"
   ]
  },
  {
   "cell_type": "markdown",
   "metadata": {},
   "source": [
    "Para **manipulación de cadenas de caracteres** existe el paquete `stringr` de Hadley Wickham."
   ]
  },
  {
   "cell_type": "code",
   "execution_count": 67,
   "metadata": {},
   "outputs": [
    {
     "data": {
      "text/html": [
       "'this is a test'"
      ],
      "text/latex": [
       "'this is a test'"
      ],
      "text/markdown": [
       "'this is a test'"
      ],
      "text/plain": [
       "[1] \"this is a test\""
      ]
     },
     "metadata": {},
     "output_type": "display_data"
    }
   ],
   "source": [
    "library(stringr)\n",
    "str_trim(\"    this is a test    \")"
   ]
  },
  {
   "cell_type": "code",
   "execution_count": 68,
   "metadata": {},
   "outputs": [
    {
     "data": {
      "text/html": [
       "'0244493'"
      ],
      "text/latex": [
       "'0244493'"
      ],
      "text/markdown": [
       "'0244493'"
      ],
      "text/plain": [
       "[1] \"0244493\""
      ]
     },
     "metadata": {},
     "output_type": "display_data"
    }
   ],
   "source": [
    "str_pad(\"244493\", width = 7, side = \"left\", pad = \"0\")"
   ]
  },
  {
   "cell_type": "code",
   "execution_count": 69,
   "metadata": {},
   "outputs": [],
   "source": [
    "names <- c(\"Sarah\", \"Tom\", \"Alice\")"
   ]
  },
  {
   "cell_type": "code",
   "execution_count": 70,
   "metadata": {},
   "outputs": [
    {
     "data": {
      "text/html": [
       "<ol class=list-inline>\n",
       "\t<li>FALSE</li>\n",
       "\t<li>FALSE</li>\n",
       "\t<li>TRUE</li>\n",
       "</ol>\n"
      ],
      "text/latex": [
       "\\begin{enumerate*}\n",
       "\\item FALSE\n",
       "\\item FALSE\n",
       "\\item TRUE\n",
       "\\end{enumerate*}\n"
      ],
      "text/markdown": [
       "1. FALSE\n",
       "2. FALSE\n",
       "3. TRUE\n",
       "\n",
       "\n"
      ],
      "text/plain": [
       "[1] FALSE FALSE  TRUE"
      ]
     },
     "metadata": {},
     "output_type": "display_data"
    }
   ],
   "source": [
    "str_detect(names, \"Alice\")"
   ]
  },
  {
   "cell_type": "code",
   "execution_count": 71,
   "metadata": {},
   "outputs": [
    {
     "data": {
      "text/html": [
       "<ol class=list-inline>\n",
       "\t<li>'Sarah'</li>\n",
       "\t<li>'Tom'</li>\n",
       "\t<li>'David'</li>\n",
       "</ol>\n"
      ],
      "text/latex": [
       "\\begin{enumerate*}\n",
       "\\item 'Sarah'\n",
       "\\item 'Tom'\n",
       "\\item 'David'\n",
       "\\end{enumerate*}\n"
      ],
      "text/markdown": [
       "1. 'Sarah'\n",
       "2. 'Tom'\n",
       "3. 'David'\n",
       "\n",
       "\n"
      ],
      "text/plain": [
       "[1] \"Sarah\" \"Tom\"   \"David\""
      ]
     },
     "metadata": {},
     "output_type": "display_data"
    }
   ],
   "source": [
    "str_replace(names, \"Alice\", \"David\")"
   ]
  },
  {
   "cell_type": "markdown",
   "metadata": {},
   "source": [
    "### Preparación y limpieza: missing values\n",
    "\n",
    "<font color=#0000FF>¿Por qué no están los datos? Es importante descubrir y saber el motivo por el cual faltan\n",
    "datos en un dataset.</font>\n",
    "\n",
    "Dependiendo del motivo tendremos principalmente dos (más una) opciones:\n",
    "+ **<font color=#0000FF>Borrarlos</font>**\n",
    "+ **<font color=#0000FF>Imputarlos</font>**\n",
    "    + Ceros\n",
    "    + Media/Mediana\n",
    "    + Empleando un modelo para rellenarlos\n",
    "+ (**<font color=#0000FF>Mantenerlos</font>**)\n",
    "\n",
    "En R los missing values se representan con `NA`.\n",
    "\n",
    "Otros valores especiales:\n",
    "+ `Inf`: ¿pueden representar outliers? Divisiones por cero\n",
    "+ `NaN`: ¿pueden representar errores?"
   ]
  },
  {
   "cell_type": "markdown",
   "metadata": {},
   "source": [
    "Para encontrar missing values podemos utilizar algunas de las funciones que hemos visto\n",
    "anteriormente. Por ejemplo: `is.na(x)`, `summary(x)`…"
   ]
  },
  {
   "cell_type": "code",
   "execution_count": 84,
   "metadata": {},
   "outputs": [
    {
     "data": {
      "text/html": [
       "<table>\n",
       "<thead><tr><th scope=col>A</th><th scope=col>B</th><th scope=col>C</th></tr></thead>\n",
       "<tbody>\n",
       "\t<tr><td>FALSE</td><td>FALSE</td><td>FALSE</td></tr>\n",
       "\t<tr><td> TRUE</td><td> TRUE</td><td>FALSE</td></tr>\n",
       "\t<tr><td>FALSE</td><td>FALSE</td><td>FALSE</td></tr>\n",
       "\t<tr><td> TRUE</td><td>FALSE</td><td>FALSE</td></tr>\n",
       "</tbody>\n",
       "</table>\n"
      ],
      "text/latex": [
       "\\begin{tabular}{lll}\n",
       " A & B & C\\\\\n",
       "\\hline\n",
       "\t FALSE & FALSE & FALSE\\\\\n",
       "\t  TRUE &  TRUE & FALSE\\\\\n",
       "\t FALSE & FALSE & FALSE\\\\\n",
       "\t  TRUE & FALSE & FALSE\\\\\n",
       "\\end{tabular}\n"
      ],
      "text/markdown": [
       "\n",
       "A | B | C | \n",
       "|---|---|---|---|\n",
       "| FALSE | FALSE | FALSE | \n",
       "|  TRUE |  TRUE | FALSE | \n",
       "| FALSE | FALSE | FALSE | \n",
       "|  TRUE | FALSE | FALSE | \n",
       "\n",
       "\n"
      ],
      "text/plain": [
       "     A     B     C    \n",
       "[1,] FALSE FALSE FALSE\n",
       "[2,]  TRUE  TRUE FALSE\n",
       "[3,] FALSE FALSE FALSE\n",
       "[4,]  TRUE FALSE FALSE"
      ]
     },
     "metadata": {},
     "output_type": "display_data"
    }
   ],
   "source": [
    "#NAs\n",
    "df <- data.frame(A = c(1, NA, 8, NA),\n",
    "                 B = c(3, NA, 88, 23),\n",
    "                 C = c(2, 45, 3, 1))\n",
    "\n",
    "#Detección\n",
    "is.na(df) #Util en dataset pequeños."
   ]
  },
  {
   "cell_type": "code",
   "execution_count": 85,
   "metadata": {},
   "outputs": [
    {
     "data": {
      "text/html": [
       "TRUE"
      ],
      "text/latex": [
       "TRUE"
      ],
      "text/markdown": [
       "TRUE"
      ],
      "text/plain": [
       "[1] TRUE"
      ]
     },
     "metadata": {},
     "output_type": "display_data"
    }
   ],
   "source": [
    "any(is.na(df))"
   ]
  },
  {
   "cell_type": "code",
   "execution_count": 86,
   "metadata": {},
   "outputs": [
    {
     "data": {
      "text/html": [
       "3"
      ],
      "text/latex": [
       "3"
      ],
      "text/markdown": [
       "3"
      ],
      "text/plain": [
       "[1] 3"
      ]
     },
     "metadata": {},
     "output_type": "display_data"
    }
   ],
   "source": [
    "sum(is.na(df))"
   ]
  },
  {
   "cell_type": "code",
   "execution_count": 87,
   "metadata": {},
   "outputs": [
    {
     "data": {
      "text/plain": [
       "       A              B              C        \n",
       " Min.   :1,00   Min.   : 3,0   Min.   : 1,00  \n",
       " 1st Qu.:2,75   1st Qu.:13,0   1st Qu.: 1,75  \n",
       " Median :4,50   Median :23,0   Median : 2,50  \n",
       " Mean   :4,50   Mean   :38,0   Mean   :12,75  \n",
       " 3rd Qu.:6,25   3rd Qu.:55,5   3rd Qu.:13,50  \n",
       " Max.   :8,00   Max.   :88,0   Max.   :45,00  \n",
       " NA's   :2      NA's   :1                     "
      ]
     },
     "metadata": {},
     "output_type": "display_data"
    }
   ],
   "source": [
    "summary(df)"
   ]
  },
  {
   "cell_type": "code",
   "execution_count": 88,
   "metadata": {},
   "outputs": [
    {
     "data": {
      "text/html": [
       "<table>\n",
       "<thead><tr><th scope=col>A</th><th scope=col>B</th><th scope=col>C</th></tr></thead>\n",
       "<tbody>\n",
       "\t<tr><td> 1</td><td> 3</td><td> 2</td></tr>\n",
       "\t<tr><td>NA</td><td>NA</td><td>45</td></tr>\n",
       "\t<tr><td> 8</td><td>88</td><td> 3</td></tr>\n",
       "\t<tr><td>NA</td><td>23</td><td> 1</td></tr>\n",
       "</tbody>\n",
       "</table>\n"
      ],
      "text/latex": [
       "\\begin{tabular}{r|lll}\n",
       " A & B & C\\\\\n",
       "\\hline\n",
       "\t  1 &  3 &  2\\\\\n",
       "\t NA & NA & 45\\\\\n",
       "\t  8 & 88 &  3\\\\\n",
       "\t NA & 23 &  1\\\\\n",
       "\\end{tabular}\n"
      ],
      "text/markdown": [
       "\n",
       "A | B | C | \n",
       "|---|---|---|---|\n",
       "|  1 |  3 |  2 | \n",
       "| NA | NA | 45 | \n",
       "|  8 | 88 |  3 | \n",
       "| NA | 23 |  1 | \n",
       "\n",
       "\n"
      ],
      "text/plain": [
       "  A  B  C \n",
       "1  1  3  2\n",
       "2 NA NA 45\n",
       "3  8 88  3\n",
       "4 NA 23  1"
      ]
     },
     "metadata": {},
     "output_type": "display_data"
    }
   ],
   "source": [
    "df"
   ]
  },
  {
   "cell_type": "markdown",
   "metadata": {},
   "source": [
    "Si finalmente decidimos eliminarlos podemos utlizar la función `complete.cases(x)` para\n",
    "indexar y eliminar o directamente `na.omit(x)`"
   ]
  },
  {
   "cell_type": "code",
   "execution_count": 89,
   "metadata": {},
   "outputs": [
    {
     "data": {
      "text/html": [
       "<table>\n",
       "<thead><tr><th></th><th scope=col>A</th><th scope=col>B</th><th scope=col>C</th></tr></thead>\n",
       "<tbody>\n",
       "\t<tr><th scope=row>1</th><td>1 </td><td> 3</td><td>2 </td></tr>\n",
       "\t<tr><th scope=row>3</th><td>8 </td><td>88</td><td>3 </td></tr>\n",
       "</tbody>\n",
       "</table>\n"
      ],
      "text/latex": [
       "\\begin{tabular}{r|lll}\n",
       "  & A & B & C\\\\\n",
       "\\hline\n",
       "\t1 & 1  &  3 & 2 \\\\\n",
       "\t3 & 8  & 88 & 3 \\\\\n",
       "\\end{tabular}\n"
      ],
      "text/markdown": [
       "\n",
       "| <!--/--> | A | B | C | \n",
       "|---|---|\n",
       "| 1 | 1  |  3 | 2  | \n",
       "| 3 | 8  | 88 | 3  | \n",
       "\n",
       "\n"
      ],
      "text/plain": [
       "  A B  C\n",
       "1 1  3 2\n",
       "3 8 88 3"
      ]
     },
     "metadata": {},
     "output_type": "display_data"
    }
   ],
   "source": [
    "#Eliminación\n",
    "df[complete.cases(df), ]"
   ]
  },
  {
   "cell_type": "code",
   "execution_count": 90,
   "metadata": {},
   "outputs": [
    {
     "data": {
      "text/html": [
       "<table>\n",
       "<thead><tr><th></th><th scope=col>A</th><th scope=col>B</th><th scope=col>C</th></tr></thead>\n",
       "<tbody>\n",
       "\t<tr><th scope=row>1</th><td>1 </td><td> 3</td><td>2 </td></tr>\n",
       "\t<tr><th scope=row>3</th><td>8 </td><td>88</td><td>3 </td></tr>\n",
       "</tbody>\n",
       "</table>\n"
      ],
      "text/latex": [
       "\\begin{tabular}{r|lll}\n",
       "  & A & B & C\\\\\n",
       "\\hline\n",
       "\t1 & 1  &  3 & 2 \\\\\n",
       "\t3 & 8  & 88 & 3 \\\\\n",
       "\\end{tabular}\n"
      ],
      "text/markdown": [
       "\n",
       "| <!--/--> | A | B | C | \n",
       "|---|---|\n",
       "| 1 | 1  |  3 | 2  | \n",
       "| 3 | 8  | 88 | 3  | \n",
       "\n",
       "\n"
      ],
      "text/plain": [
       "  A B  C\n",
       "1 1  3 2\n",
       "3 8 88 3"
      ]
     },
     "metadata": {},
     "output_type": "display_data"
    }
   ],
   "source": [
    "na.omit(df)"
   ]
  },
  {
   "attachments": {
    "image.png": {
     "image/png": "[encoded data removed]"
    }
   },
   "cell_type": "markdown",
   "metadata": {},
   "source": [
    "### Preparación y limpieza: outliers\n",
    "\n",
    "Los **outliers, o valores atípicos**, son valores extremos, distantes del resto de los valores.\n",
    "\n",
    "Algunas causas por las que pueden existir outliers:\n",
    "+ <font color=#0000FF>Son errores de medición</font>\n",
    "+ <font color=#0000FF>Son errores producidos al transcribir los datos</font>\n",
    "+ <font color=#0000FF>Son medidas válidas</font>\n",
    "+ <font color=#0000FF>Representan valores por defecto o valores faltantes</font>\n",
    "…\n",
    "\n",
    "Una de las herramientas mas útiles será  el **diagrama de caja o boxplot**.\n",
    "\n",
    "![image.png](attachment:image.png)"
   ]
  },
  {
   "cell_type": "markdown",
   "metadata": {},
   "source": [
    "Existen varias herramientas para encontrar outliers: `boxplot`, `hist`, `summary`"
   ]
  },
  {
   "cell_type": "code",
   "execution_count": 99,
   "metadata": {},
   "outputs": [
    {
     "data": {
      "text/html": [
       "<ol class=list-inline>\n",
       "\t<li>15,0937308547091</li>\n",
       "\t<li>14,0787372896547</li>\n",
       "\t<li>8,14334725038744</li>\n",
       "\t<li>12,0041614210814</li>\n",
       "\t<li>16,4727256328375</li>\n",
       "\t<li>16,9489715035008</li>\n",
       "\t<li>8,95961912285257</li>\n",
       "\t<li>13,1816199126457</li>\n",
       "\t<li>6,86663659148455</li>\n",
       "\t<li>13,71760802938</li>\n",
       "\t<li>20,5088975154357</li>\n",
       "\t<li>18,7789075401367</li>\n",
       "\t<li>13,8088322199064</li>\n",
       "\t<li>19,937223517067</li>\n",
       "\t<li>18,7069506419191</li>\n",
       "\t<li>15,4467363324791</li>\n",
       "\t<li>10,2252807192381</li>\n",
       "\t<li>14,0242480766638</li>\n",
       "\t<li>19,6276063104704</li>\n",
       "\t<li>17,4148926241831</li>\n",
       "\t<li>12,018446816399</li>\n",
       "\t<li>4,07356580915235</li>\n",
       "\t<li>11,6256703106244</li>\n",
       "\t<li>4,40469404044913</li>\n",
       "\t<li>8,67400989234548</li>\n",
       "\t<li>13,1316922242265</li>\n",
       "\t<li>11,5622228480604</li>\n",
       "\t<li>10,6392058664116</li>\n",
       "\t<li>14,4911949688759</li>\n",
       "\t<li>13,7310973494877</li>\n",
       "\t<li>-5</li>\n",
       "\t<li>28</li>\n",
       "\t<li>35</li>\n",
       "</ol>\n"
      ],
      "text/latex": [
       "\\begin{enumerate*}\n",
       "\\item 15,0937308547091\n",
       "\\item 14,0787372896547\n",
       "\\item 8,14334725038744\n",
       "\\item 12,0041614210814\n",
       "\\item 16,4727256328375\n",
       "\\item 16,9489715035008\n",
       "\\item 8,95961912285257\n",
       "\\item 13,1816199126457\n",
       "\\item 6,86663659148455\n",
       "\\item 13,71760802938\n",
       "\\item 20,5088975154357\n",
       "\\item 18,7789075401367\n",
       "\\item 13,8088322199064\n",
       "\\item 19,937223517067\n",
       "\\item 18,7069506419191\n",
       "\\item 15,4467363324791\n",
       "\\item 10,2252807192381\n",
       "\\item 14,0242480766638\n",
       "\\item 19,6276063104704\n",
       "\\item 17,4148926241831\n",
       "\\item 12,018446816399\n",
       "\\item 4,07356580915235\n",
       "\\item 11,6256703106244\n",
       "\\item 4,40469404044913\n",
       "\\item 8,67400989234548\n",
       "\\item 13,1316922242265\n",
       "\\item 11,5622228480604\n",
       "\\item 10,6392058664116\n",
       "\\item 14,4911949688759\n",
       "\\item 13,7310973494877\n",
       "\\item -5\n",
       "\\item 28\n",
       "\\item 35\n",
       "\\end{enumerate*}\n"
      ],
      "text/markdown": [
       "1. 15,0937308547091\n",
       "2. 14,0787372896547\n",
       "3. 8,14334725038744\n",
       "4. 12,0041614210814\n",
       "5. 16,4727256328375\n",
       "6. 16,9489715035008\n",
       "7. 8,95961912285257\n",
       "8. 13,1816199126457\n",
       "9. 6,86663659148455\n",
       "10. 13,71760802938\n",
       "11. 20,5088975154357\n",
       "12. 18,7789075401367\n",
       "13. 13,8088322199064\n",
       "14. 19,937223517067\n",
       "15. 18,7069506419191\n",
       "16. 15,4467363324791\n",
       "17. 10,2252807192381\n",
       "18. 14,0242480766638\n",
       "19. 19,6276063104704\n",
       "20. 17,4148926241831\n",
       "21. 12,018446816399\n",
       "22. 4,07356580915235\n",
       "23. 11,6256703106244\n",
       "24. 4,40469404044913\n",
       "25. 8,67400989234548\n",
       "26. 13,1316922242265\n",
       "27. 11,5622228480604\n",
       "28. 10,6392058664116\n",
       "29. 14,4911949688759\n",
       "30. 13,7310973494877\n",
       "31. -5\n",
       "32. 28\n",
       "33. 35\n",
       "\n",
       "\n"
      ],
      "text/plain": [
       " [1] 15,093731 14,078737  8,143347 12,004161 16,472726 16,948972  8,959619\n",
       " [8] 13,181620  6,866637 13,717608 20,508898 18,778908 13,808832 19,937224\n",
       "[15] 18,706951 15,446736 10,225281 14,024248 19,627606 17,414893 12,018447\n",
       "[22]  4,073566 11,625670  4,404694  8,674010 13,131692 11,562223 10,639206\n",
       "[29] 14,491195 13,731097 -5,000000 28,000000 35,000000"
      ]
     },
     "metadata": {},
     "output_type": "display_data"
    }
   ],
   "source": [
    "#Outliers\n",
    "set.seed(10)\n",
    "x <- c(rnorm(30, mean = 15, sd = 5), -5, 28, 35)\n",
    "x"
   ]
  },
  {
   "cell_type": "code",
   "execution_count": 100,
   "metadata": {},
   "outputs": [
    {
     "data": {
      "image/png": "[encoded data removed]",
      "text/plain": [
       "plot without title"
      ]
     },
     "metadata": {},
     "output_type": "display_data"
    }
   ],
   "source": [
    "boxplot(x, horizontal = T)"
   ]
  },
  {
   "cell_type": "code",
   "execution_count": 95,
   "metadata": {},
   "outputs": [
    {
     "data": {
      "text/plain": [
       "       A                 B                C        \n",
       " Min.   :-135,37   Min.   : 26,79   Min.   :-1,00  \n",
       " 1st Qu.: -27,91   1st Qu.: 41,35   1st Qu.:45,29  \n",
       " Median :  52,04   Median : 50,67   Median :51,06  \n",
       " Mean   :  46,98   Mean   : 53,62   Mean   :50,88  \n",
       " 3rd Qu.: 121,19   3rd Qu.: 56,57   3rd Qu.:58,13  \n",
       " Max.   : 272,05   Max.   :500,00   Max.   :76,44  "
      ]
     },
     "metadata": {},
     "output_type": "display_data"
    }
   ],
   "source": [
    "df2 <- data.frame(A = rnorm(100, 50, 100),\n",
    "                 B = c(rnorm(99, 50, 10), 500),\n",
    "                 C = c(rnorm(99, 50, 10), -1))\n",
    "\n",
    "summary(df2)"
   ]
  },
  {
   "cell_type": "code",
   "execution_count": 96,
   "metadata": {},
   "outputs": [
    {
     "data": {
      "image/png": "[encoded data removed]",
      "text/plain": [
       "Plot with title “Histogram of df2$B”"
      ]
     },
     "metadata": {},
     "output_type": "display_data"
    }
   ],
   "source": [
    "hist(df2$B, 20) #¿Qué le pasa al 500? Es un error de medición."
   ]
  },
  {
   "cell_type": "code",
   "execution_count": 97,
   "metadata": {},
   "outputs": [
    {
     "data": {
      "image/png": "[encoded data removed]",
      "text/plain": [
       "plot without title"
      ]
     },
     "metadata": {},
     "output_type": "display_data"
    }
   ],
   "source": [
    "boxplot(df2)"
   ]
  },
  {
   "cell_type": "markdown",
   "metadata": {},
   "source": [
    "Dependiendo del contexto debemos decidir que hacer:\n",
    "+ Eliminarlos. ¿Puede la edad de una persona ser negativa? Valores sin sentido. ¿Y superior a 200? Valores tan extremos que no tienen sentido.\n",
    "+ Dejarlos ¿Puede la edad de una persona ser 110?"
   ]
  }
 ],
 "metadata": {
  "kernelspec": {
   "display_name": "R",
   "language": "R",
   "name": "ir"
  },
  "language_info": {
   "codemirror_mode": "r",
   "file_extension": ".r",
   "mimetype": "text/x-r-source",
   "name": "R",
   "pygments_lexer": "r",
   "version": "3.5.1"
  }
 },
 "nbformat": 4,
 "nbformat_minor": 2
}
