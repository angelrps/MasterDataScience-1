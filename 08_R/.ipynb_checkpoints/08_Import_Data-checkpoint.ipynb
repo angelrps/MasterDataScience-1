{
 "cells": [
  {
   "cell_type": "markdown",
   "metadata": {},
   "source": [
    "# Importación de datos ![](https://www.r-project.org/Rlogo.png)\n",
    "\n"
   ]
  },
  {
   "cell_type": "markdown",
   "metadata": {},
   "source": [
    "# Importación\n",
    "\n",
    "En la mayoría de casos los datos los encontraremos en diferentes formatos y provenientes\n",
    "de diferentes fuentes de información. Las más habituales:\n",
    "+ Ficheros de texto plano: csv, tsv,…\n",
    "+ Excel\n",
    "+ Otras herramientas estadísticas: SAS, STATA, SPSS\n",
    "+ BD relacionales\n",
    "…\n",
    "\n",
    "Existen numerosas funciones y paquetes en R para cargar información. Algunos ejemplos:\n",
    "+ Fichero de texto plano: `utils, readr, data.table`\n",
    "+ Excel: `readxl, gdata, XLConnect`\n",
    "+ SAS, STATA, SPSS: `haven, foreign`\n",
    "+ BD relacionales: `RMySQL, RPostgreSQL, ROracle`"
   ]
  },
  {
   "cell_type": "markdown",
   "metadata": {},
   "source": [
    "## Importación de Ficheros de Texto Plano"
   ]
  },
  {
   "cell_type": "markdown",
   "metadata": {},
   "source": [
    "Dentro del paquete `utils` (el cual se carga por defecto al iniciar la sesión de R) existen varias\n",
    "funciones para leer ficheros de texto plano y cargar su contenido en un data frame.\n",
    "\n",
    "La función más importante del paquete es `read.table(fileName)`. Dicha función tiene una  enorme cantidad de parámetros que nos permitirán configurar la carga según el fichero. Los  más importantes:\n",
    "+ `header`: para indicar si el fichero tiene cabeceras.\n",
    "+ `sep`: para indicar el separador de nuestro fichero.\n",
    "+ `stringsAsFactors`: para indicar si las cadenas de caracteres se convertirán en factores.\n",
    "\n",
    "La ruta al fichero es relativa al directorio de trabajo."
   ]
  },
  {
   "cell_type": "code",
   "execution_count": 1,
   "metadata": {
    "scrolled": false
   },
   "outputs": [
    {
     "name": "stdout",
     "output_type": "stream",
     "text": [
      "'data.frame':\t8125 obs. of  2 variables:\n",
      " $ id_municipio        : int  1001 1002 1003 1004 1006 1008 1009 1010 1011 1013 ...\n",
      " $ unidades_catastrales: int  3543 12407 2185 311 668 2054 3188 564 1084 2177 ...\n"
     ]
    }
   ],
   "source": [
    "#######################################\n",
    "# Importación: fichero de texto plano #\n",
    "#######################################\n",
    "\n",
    "# Con read.table\n",
    "mun_csv_1 <- read.table(\"dat/municipios1.csv\",\n",
    "                   header = TRUE, \n",
    "                   sep = \",\", \n",
    "                   stringsAsFactors = FALSE)\n",
    "str(mun_csv_1)"
   ]
  },
  {
   "cell_type": "code",
   "execution_count": 2,
   "metadata": {},
   "outputs": [
    {
     "name": "stdout",
     "output_type": "stream",
     "text": [
      "'data.frame':\t8122 obs. of  11 variables:\n",
      " $ id_municipio           : int  1001 1002 1003 1004 1006 1008 1009 1010 1011 1013 ...\n",
      " $ municipio              : chr  \"Alegr\\xeda-Dulantzi\" \"Amurrio\" \"Aramaio\" \"Artziniega\" ...\n",
      " $ id_provincia           : int  1 1 1 1 1 1 1 1 1 1 ...\n",
      " $ provincia              : chr  \"Araba/\\xc1lava\" \"Araba/\\xc1lava\" \"Araba/\\xc1lava\" \"Araba/\\xc1lava\" ...\n",
      " $ id_comunidad           : int  16 16 16 16 16 16 16 16 16 16 ...\n",
      " $ comunidad              : chr  \"Pa\\xeds Vasco\" \"Pa\\xeds Vasco\" \"Pa\\xeds Vasco\" \"Pa\\xeds Vasco\" ...\n",
      " $ es_capital_de_provincia: int  0 0 0 0 0 0 0 0 0 0 ...\n",
      " $ es_capital_de_comunidad: int  0 0 0 0 0 0 0 0 0 0 ...\n",
      " $ latitud                : num  42.8 43.1 43.1 43.1 42.7 ...\n",
      " $ longitud               : num  -2.51 -3 -2.57 -3.13 -2.87 ...\n",
      " $ poblacion              : int  2870 10139 1491 1832 237 981 1671 2935 323 924 ...\n"
     ]
    }
   ],
   "source": [
    "# Con read.table\n",
    "mun_tsv_1 <- read.table(\"dat/municipios2.tsv\",\n",
    "                   header = TRUE, \n",
    "                   sep = \"\\t\", \n",
    "                   stringsAsFactors = FALSE,\n",
    "                   dec = \",\",\n",
    "                   quote = \"\")\n",
    "str(mun_tsv_1)"
   ]
  },
  {
   "cell_type": "markdown",
   "metadata": {},
   "source": [
    "Existen otras funciones para leer directamente ficheros csv (**coma como separador**) o tsv\n",
    "(**tabulador como separador**):\n",
    "\n",
    "+ Con punto como separador decimal\n",
    "    + csv: `read.csv`\n",
    "    + tsv: `read.delim`"
   ]
  },
  {
   "cell_type": "code",
   "execution_count": 3,
   "metadata": {
    "scrolled": true
   },
   "outputs": [
    {
     "name": "stdout",
     "output_type": "stream",
     "text": [
      "'data.frame':\t8125 obs. of  2 variables:\n",
      " $ id_municipio        : int  1001 1002 1003 1004 1006 1008 1009 1010 1011 1013 ...\n",
      " $ unidades_catastrales: int  3543 12407 2185 311 668 2054 3188 564 1084 2177 ...\n"
     ]
    }
   ],
   "source": [
    "# Con read.csv\n",
    "mun_csv_2 <- read.csv(\"dat/municipios1.csv\", stringsAsFactors = FALSE)\n",
    "str(mun_csv_2)"
   ]
  },
  {
   "cell_type": "markdown",
   "metadata": {},
   "source": [
    "+ Con coma como separador decimal\n",
    "    + csv: `read.csv2`\n",
    "    + tsv: `read.delim2`\n",
    "\n",
    "Son variantes de `read.table` pero con distintos valores por defecto."
   ]
  },
  {
   "cell_type": "code",
   "execution_count": 4,
   "metadata": {},
   "outputs": [
    {
     "name": "stdout",
     "output_type": "stream",
     "text": [
      "'data.frame':\t8122 obs. of  11 variables:\n",
      " $ id_municipio           : int  1001 1002 1003 1004 1006 1008 1009 1010 1011 1013 ...\n",
      " $ municipio              : chr  \"Alegr\\xeda-Dulantzi\" \"Amurrio\" \"Aramaio\" \"Artziniega\" ...\n",
      " $ id_provincia           : int  1 1 1 1 1 1 1 1 1 1 ...\n",
      " $ provincia              : chr  \"Araba/\\xc1lava\" \"Araba/\\xc1lava\" \"Araba/\\xc1lava\" \"Araba/\\xc1lava\" ...\n",
      " $ id_comunidad           : int  16 16 16 16 16 16 16 16 16 16 ...\n",
      " $ comunidad              : chr  \"Pa\\xeds Vasco\" \"Pa\\xeds Vasco\" \"Pa\\xeds Vasco\" \"Pa\\xeds Vasco\" ...\n",
      " $ es_capital_de_provincia: int  0 0 0 0 0 0 0 0 0 0 ...\n",
      " $ es_capital_de_comunidad: int  0 0 0 0 0 0 0 0 0 0 ...\n",
      " $ latitud                : num  42.8 43.1 43.1 43.1 42.7 ...\n",
      " $ longitud               : num  -2.51 -3 -2.57 -3.13 -2.87 ...\n",
      " $ poblacion              : int  2870 10139 1491 1832 237 981 1671 2935 323 924 ...\n"
     ]
    }
   ],
   "source": [
    "# Con read.delim2\n",
    "mun_tsv_2 <- read.delim2(\"dat/municipios2.tsv\", stringsAsFactors = FALSE)\n",
    "str(mun_tsv_2)"
   ]
  },
  {
   "cell_type": "code",
   "execution_count": 5,
   "metadata": {},
   "outputs": [
    {
     "name": "stdout",
     "output_type": "stream",
     "text": [
      "'data.frame':\t8122 obs. of  11 variables:\n",
      " $ id_municipio           : int  1001 1002 1003 1004 1006 1008 1009 1010 1011 1013 ...\n",
      " $ municipio              : chr  \"Alegr\\xeda-Dulantzi\" \"Amurrio\" \"Aramaio\" \"Artziniega\" ...\n",
      " $ id_provincia           : int  1 1 1 1 1 1 1 1 1 1 ...\n",
      " $ provincia              : chr  \"Araba/\\xc1lava\" \"Araba/\\xc1lava\" \"Araba/\\xc1lava\" \"Araba/\\xc1lava\" ...\n",
      " $ id_comunidad           : int  16 16 16 16 16 16 16 16 16 16 ...\n",
      " $ comunidad              : chr  \"Pa\\xeds Vasco\" \"Pa\\xeds Vasco\" \"Pa\\xeds Vasco\" \"Pa\\xeds Vasco\" ...\n",
      " $ es_capital_de_provincia: int  0 0 0 0 0 0 0 0 0 0 ...\n",
      " $ es_capital_de_comunidad: int  0 0 0 0 0 0 0 0 0 0 ...\n",
      " $ latitud                : num  42.8 43.1 43.1 43.1 42.7 ...\n",
      " $ longitud               : num  -2.51 -3 -2.57 -3.13 -2.87 ...\n",
      " $ poblacion              : int  2870 10139 1491 1832 237 981 1671 2935 323 924 ...\n"
     ]
    }
   ],
   "source": [
    "# Con read.table\n",
    "mun_tsv_1 <- read.table(\"dat/municipios2.tsv\",\n",
    "                   header = TRUE, \n",
    "                   sep = \"\\t\", \n",
    "                   stringsAsFactors = FALSE,\n",
    "                   dec = \",\",\n",
    "                   quote = \"\")\n",
    "str(mun_tsv_1)"
   ]
  },
  {
   "cell_type": "markdown",
   "metadata": {},
   "source": [
    "## Alternativas al paquete `utils`\n",
    "\n",
    "![import_table.png](imgs/08_01.png)"
   ]
  },
  {
   "cell_type": "markdown",
   "metadata": {},
   "source": [
    "### `readr`\n",
    "\n",
    "Paquete desarrollado por Hadley  Wickham (creador de varios paquetes famosos de  R como `ggplot2`).\n",
    "\n",
    "Es más rápido cargando datos que el paquete utils.\n",
    "\n",
    "Por defecto, no convierte las cadenas de  caracteres en factores."
   ]
  },
  {
   "cell_type": "code",
   "execution_count": 10,
   "metadata": {},
   "outputs": [],
   "source": [
    "# Con readr\n",
    "library(readr)"
   ]
  },
  {
   "cell_type": "code",
   "execution_count": 11,
   "metadata": {},
   "outputs": [
    {
     "name": "stdout",
     "output_type": "stream",
     "text": [
      "Classes ‘tbl_df’, ‘tbl’ and 'data.frame':\t8125 obs. of  2 variables:\n",
      " $ id_municipio        : chr  \"01001\" \"01002\" \"01003\" \"01004\" ...\n",
      " $ unidades_catastrales: int  3543 12407 2185 311 668 2054 3188 564 1084 2177 ...\n",
      " - attr(*, \"spec\")=List of 2\n",
      "  ..$ cols   :List of 2\n",
      "  .. ..$ id_municipio        : list()\n",
      "  .. .. ..- attr(*, \"class\")= chr  \"collector_character\" \"collector\"\n",
      "  .. ..$ unidades_catastrales: list()\n",
      "  .. .. ..- attr(*, \"class\")= chr  \"collector_integer\" \"collector\"\n",
      "  ..$ default: list()\n",
      "  .. ..- attr(*, \"class\")= chr  \"collector_guess\" \"collector\"\n",
      "  ..- attr(*, \"class\")= chr \"col_spec\"\n"
     ]
    }
   ],
   "source": [
    "mun_csv_3 <- read_delim(\"dat/municipios1.csv\",\n",
    "                     delim = \",\",\n",
    "                     col_types = \"ci\") #c: characters, d: double, i: integer, l: logical, _: ignore\n",
    "str(mun_csv_3)"
   ]
  },
  {
   "cell_type": "code",
   "execution_count": null,
   "metadata": {},
   "outputs": [],
   "source": [
    "mun_tsv_3 <- read_tsv(\"dat/municipios2.tsv\", col_types = \"cccccciiddi\", \n",
    "                      locale = locale(\"es\", decimal_mark = \",\"))\n",
    "str(mun_tsv_3)"
   ]
  },
  {
   "cell_type": "markdown",
   "metadata": {},
   "source": [
    "### **`data.table`**\n",
    "\n",
    "Paquete para manipulación de datos en R (no está creado exclusivamente  para leer ficheros).\n",
    "\n",
    "`fread` infiere los tipos de las columnas y los separadores.\n",
    "\n",
    "Extremadamente rápido."
   ]
  },
  {
   "cell_type": "code",
   "execution_count": 12,
   "metadata": {},
   "outputs": [
    {
     "ename": "ERROR",
     "evalue": "Error in library(data.table): there is no package called ‘data.table’\n",
     "output_type": "error",
     "traceback": [
      "Error in library(data.table): there is no package called ‘data.table’\nTraceback:\n",
      "1. library(data.table)",
      "2. stop(txt, domain = NA)"
     ]
    }
   ],
   "source": [
    "# Con fread\n",
    "# install.packages(\"data.table\", repos =\"https://cloud.r-project.org\")\n",
    "\n",
    "library(data.table)"
   ]
  },
  {
   "cell_type": "code",
   "execution_count": null,
   "metadata": {},
   "outputs": [],
   "source": [
    "mun_csv_4 <- fread(\"dat/municipios1.csv\")\n",
    "str(mun_csv_4)"
   ]
  },
  {
   "cell_type": "markdown",
   "metadata": {},
   "source": [
    "## Importación de Ficheros Excel"
   ]
  },
  {
   "cell_type": "markdown",
   "metadata": {},
   "source": [
    "El paquete más simple para cargar datos desde Excel es `readxl`. \n",
    "\n",
    "Lee ficheros con extensión `xls` y `xlsx`. Muy similar a `readr` (mismo creador, Hadley Wickham).\n",
    "\n",
    "Para leer los archivos de Excel nos apoyaremos en dos funciones:\n",
    "\n",
    "+ `excel_sheets()`: devuelve la lista de hojas disponibles en el archivo.\n",
    "\n",
    "+ `read_excel()`: realiza la carga. Algunos parámetros:\n",
    "    + `sheet`: para indicar el número de hoja a cargar.\n",
    "    + `col_names`: para indicar si la tabla tiene cabeceras.\n",
    "    + `col_types`: para indicar el tipo básico de las columnas (también se pueden omitir)\n",
    "    + `skip`: para omitir las primeras filas del fichero.\n",
    "\n",
    "Otros paquetes: `gdata` y `XLConnect`."
   ]
  },
  {
   "cell_type": "code",
   "execution_count": null,
   "metadata": {},
   "outputs": [],
   "source": [
    "#######################################\n",
    "# Importación: fichero Excel          #\n",
    "#######################################"
   ]
  },
  {
   "cell_type": "code",
   "execution_count": 14,
   "metadata": {},
   "outputs": [
    {
     "name": "stderr",
     "output_type": "stream",
     "text": [
      "also installing the dependencies ‘rematch’, ‘prettyunits’, ‘cellranger’, ‘progress’\n",
      "\n",
      "Warning message in install.packages(\"readxl\", repos = \"https://cloud.r-project.org\"):\n",
      "“installation of package ‘readxl’ had non-zero exit status”Updating HTML index of packages in '.Library'\n",
      "Making 'packages.html' ... done\n"
     ]
    }
   ],
   "source": [
    "install.packages(\"readxl\", repos =\"https://cloud.r-project.org\")"
   ]
  },
  {
   "cell_type": "code",
   "execution_count": 15,
   "metadata": {},
   "outputs": [
    {
     "ename": "ERROR",
     "evalue": "Error in library(readxl): there is no package called ‘readxl’\n",
     "output_type": "error",
     "traceback": [
      "Error in library(readxl): there is no package called ‘readxl’\nTraceback:\n",
      "1. library(readxl)",
      "2. stop(txt, domain = NA)"
     ]
    }
   ],
   "source": [
    "library(readxl)\n",
    "excel_sheets(\"dat/municipios.xlsx\")\n",
    "\n",
    "mun_xlsx <- read_excel(\"dat/municipios.xlsx\")"
   ]
  },
  {
   "cell_type": "code",
   "execution_count": null,
   "metadata": {},
   "outputs": [],
   "source": [
    "mun_xlsx"
   ]
  },
  {
   "cell_type": "markdown",
   "metadata": {},
   "source": [
    "### Importación desde BBDD Relacionales\n",
    "\n"
   ]
  },
  {
   "cell_type": "markdown",
   "metadata": {},
   "source": [
    "Existen diversos paquetes en R para conectar a base de datos. Estos paquetes son\n",
    "específicos para cada software de base de datos.\n",
    "+ MySQL: `RMySQL`\n",
    "+ PostgresSQL: `RPostgresSQL`\n",
    "+ Oracle: `ROracle`\n",
    "+ SQL Server: `RODBC`\n",
    "+ Otros paquetes: `DBI`\n",
    "\n",
    "En particular, `RODBC` es un paquete universal para conectar a las bases de datos que admiten el estándar Open Data Base Conector.\n",
    "\n",
    "El procedimiento de trabajo es análogo al de otros lenguajes de programación\n",
    "+ Establecer conexión.\n",
    "+ Ejecutar la consulta para obtener los datos.\n",
    "+ Traer los resultados (todo el resultset de una vez o fila a fila).\n",
    "+ Cerrar conexión.\n",
    "\n",
    "Hacer consultas a una base de datos nos permite extraer la información de manera  selectiva."
   ]
  },
  {
   "cell_type": "code",
   "execution_count": null,
   "metadata": {},
   "outputs": [],
   "source": [
    "# install.packages(\"RODBC\", repos =\"https://cloud.r-project.org\")\n",
    "library(RODBC)"
   ]
  },
  {
   "cell_type": "code",
   "execution_count": null,
   "metadata": {},
   "outputs": [],
   "source": [
    "userName <- \"\"\n",
    "passwd <- \"\"\n",
    "hive_schema <- \"schema_name\"\n",
    "dataSourceName <- \"Cloudera Hive 64-bit\"\n",
    "\n",
    "\n",
    "hiveConn <- odbcConnect(dataSourceName, uid=userName, pwd=passwd)\n",
    "odbcGetInfo(hiveConn)"
   ]
  },
  {
   "cell_type": "code",
   "execution_count": null,
   "metadata": {},
   "outputs": [],
   "source": [
    "sqlQuery(hiveConn,\"\")\n",
    "\n",
    "bdm_agentes <- sqlQuery(hiveConn,\"SELECT * FROM TABLA_1;\")"
   ]
  },
  {
   "cell_type": "code",
   "execution_count": null,
   "metadata": {},
   "outputs": [],
   "source": []
  }
 ],
 "metadata": {
  "kernelspec": {
   "display_name": "R",
   "language": "R",
   "name": "ir"
  },
  "language_info": {
   "codemirror_mode": "r",
   "file_extension": ".r",
   "mimetype": "text/x-r-source",
   "name": "R",
   "pygments_lexer": "r",
   "version": "3.5.1"
  }
 },
 "nbformat": 4,
 "nbformat_minor": 2
}
