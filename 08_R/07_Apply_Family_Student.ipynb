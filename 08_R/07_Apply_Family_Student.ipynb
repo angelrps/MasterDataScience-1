{
 "cells": [
  {
   "cell_type": "markdown",
   "metadata": {},
   "source": [
    "# Familia Apply![](https://www.r-project.org/Rlogo.png)\n",
    "\n"
   ]
  },
  {
   "cell_type": "markdown",
   "metadata": {},
   "source": [
    "Familia de funciones que realizan una determinada operación a todos los elementos de un  vector o una lista. La manera en que se ejecuta dicha operación varía dependiendo de la  función que utilicemos:\n",
    "+ `apply`\n",
    "+ `lapply`\n",
    "+ `sapply`\n",
    "+ `vapply`"
   ]
  },
  {
   "cell_type": "markdown",
   "metadata": {},
   "source": [
    "## `apply(X, MARGIN, FUN, …)`"
   ]
  },
  {
   "cell_type": "markdown",
   "metadata": {},
   "source": [
    "La función `apply` toma la lista o vector X y aplica a todos sus elementos la función FUN por sus márgenes (MARGIN).\n",
    "\n",
    "¿Qué quiere decir que aplica la función a los márgenes?\n",
    "+ Por filas (1)\n",
    "+ Por columnas (2)\n",
    "+ Por filas y columnas (1:2)"
   ]
  },
  {
   "cell_type": "code",
   "execution_count": null,
   "metadata": {},
   "outputs": [],
   "source": [
    "###################################\n",
    "# apply                           #\n",
    "###################################\n",
    "\n",
    "m <- matrix(c(1:10, 11:20), nrow = 10, ncol = 2)\n",
    "m"
   ]
  },
  {
   "cell_type": "code",
   "execution_count": null,
   "metadata": {},
   "outputs": [],
   "source": [
    "apply(m, 1, mean) # Por filas"
   ]
  },
  {
   "cell_type": "code",
   "execution_count": null,
   "metadata": {},
   "outputs": [],
   "source": [
    "apply(m, 2, mean) # Por columnas"
   ]
  },
  {
   "cell_type": "code",
   "execution_count": null,
   "metadata": {},
   "outputs": [],
   "source": [
    "apply(m, 1:2, function(x) x/2) # Por filas y por columnas m / 2"
   ]
  },
  {
   "cell_type": "markdown",
   "metadata": {},
   "source": [
    "## `lapply(X, FUN, …)`"
   ]
  },
  {
   "cell_type": "markdown",
   "metadata": {},
   "source": [
    "La función `lapply` toma la lista o vector X y aplica a todos sus elementos la función FUN.\n",
    "\n",
    "Es posible pasar argumentos (…) a la función FUN en la llamada a `lapply`.\n",
    "\n",
    "El retorno de la función es una **lista** con el resultado de la ejecución de la función a cada  elemento.\n",
    "\n",
    "Ya que el resultado es una lista puede devolver objetos de diferente clase.\n",
    "\n",
    "Si queremos convertir la lista de retorno en vector podemos utilizar `unlist(l)`."
   ]
  },
  {
   "cell_type": "code",
   "execution_count": null,
   "metadata": {},
   "outputs": [],
   "source": [
    "###################################\n",
    "# lapply                          #\n",
    "###################################\n",
    "\n",
    "# lapply\n",
    "nyc <- list(pop = 8405837,\n",
    "            boroughs = c(\"Manhattan\", \"Bronx\", \"Brooklyn\",\n",
    "                         \"Queens\", \"Staten Island\"),\n",
    "            capital = FALSE)"
   ]
  },
  {
   "cell_type": "code",
   "execution_count": null,
   "metadata": {},
   "outputs": [],
   "source": [
    "# Usando bucle\n",
    "for (info in nyc) {\n",
    "  print(class(info))\n",
    "}"
   ]
  },
  {
   "cell_type": "code",
   "execution_count": null,
   "metadata": {},
   "outputs": [],
   "source": [
    "# Usando lapply\n",
    "lapply(nyc, class)"
   ]
  },
  {
   "cell_type": "code",
   "execution_count": null,
   "metadata": {},
   "outputs": [],
   "source": [
    "cities <- c(\"New York\", \"Paris\", \"London\", \"Tokyo\", \n",
    "            \"Rio de Janeiro\", \"Cape Town\")"
   ]
  },
  {
   "cell_type": "code",
   "execution_count": null,
   "metadata": {},
   "outputs": [],
   "source": [
    "num_chars <- c()\n",
    "for (i in 1:length(cities)) {\n",
    "  num_chars[i] <- nchar(cities[i])\n",
    "}"
   ]
  },
  {
   "cell_type": "code",
   "execution_count": null,
   "metadata": {},
   "outputs": [],
   "source": [
    "num_chars"
   ]
  },
  {
   "cell_type": "code",
   "execution_count": null,
   "metadata": {},
   "outputs": [],
   "source": [
    "lapply(cities, nchar) #Ojo, siempre devuelve una lista"
   ]
  },
  {
   "cell_type": "code",
   "execution_count": null,
   "metadata": {},
   "outputs": [],
   "source": [
    "unlist(lapply(cities, nchar)) #Con unlist, pasamos a vector"
   ]
  },
  {
   "cell_type": "code",
   "execution_count": null,
   "metadata": {},
   "outputs": [],
   "source": [
    "# Con funciones propias\n",
    "oil_prices <- list(2.37, 2.49, 2.18, 2.22, 2.47, 2.32)\n",
    "triple <- function(x) {\n",
    "  x * 3\n",
    "}\n",
    "unlist(lapply(oil_prices, triple))"
   ]
  },
  {
   "cell_type": "code",
   "execution_count": null,
   "metadata": {},
   "outputs": [],
   "source": [
    "# Con funciones propias pasando argumentos\n",
    "oil_prices <- list(2.37, 2.49, 2.18, 2.22, 2.47, 2.32)\n",
    "multiply <- function(x, factor) {\n",
    "  x * factor\n",
    "}\n",
    "unlist(lapply(oil_prices, multiply, factor = 3))"
   ]
  },
  {
   "cell_type": "markdown",
   "metadata": {},
   "source": [
    "## `sapply(X, FUN, …)`"
   ]
  },
  {
   "cell_type": "markdown",
   "metadata": {},
   "source": [
    "El funcionamiento de `sapply` es análogo a `lapply`.\n",
    "\n",
    "En este caso el retorno es un **vector o matriz**, si fuera posible. Evitándonos utilizar `unlist(l)`."
   ]
  },
  {
   "cell_type": "code",
   "execution_count": null,
   "metadata": {},
   "outputs": [],
   "source": [
    "###################################\n",
    "# sapply                          #\n",
    "###################################\n",
    "\n",
    "# sapply\n",
    "cities <- c(\"New York\", \"Paris\", \"London\", \"Tokyo\", \n",
    "            \"Rio de Janeiro\", \"Cape Town\")\n",
    "\n",
    "sapply(cities, nchar) # Obtenemos un vector"
   ]
  },
  {
   "cell_type": "code",
   "execution_count": null,
   "metadata": {},
   "outputs": [],
   "source": [
    "sapply(cities, nchar, USE.NAMES = FALSE)"
   ]
  },
  {
   "cell_type": "code",
   "execution_count": null,
   "metadata": {},
   "outputs": [],
   "source": [
    "first_and_last <- function(name) {\n",
    "  name <- gsub(\" \", \"\", name)\n",
    "  letters <- strsplit(name, split = \"\")[[1]]\n",
    "  c(first = min(letters), last = max(letters))\n",
    "}"
   ]
  },
  {
   "cell_type": "code",
   "execution_count": null,
   "metadata": {},
   "outputs": [],
   "source": [
    "sapply(cities, first_and_last) # Obtenemos una matriz"
   ]
  },
  {
   "cell_type": "markdown",
   "metadata": {},
   "source": [
    "**Trap**: el retorno de sapply puede ser inesperado, dependiendo de si se puede simplificar el resultado o no."
   ]
  },
  {
   "cell_type": "code",
   "execution_count": null,
   "metadata": {},
   "outputs": [],
   "source": [
    "# ¿Qué sucede si no puede simplificar?\n",
    "unique_letters <- function(name) {\n",
    "  name <- gsub(\" \", \"\", name)\n",
    "  letters <- strsplit(name, split = \"\")[[1]]\n",
    "  unique(letters)\n",
    "}"
   ]
  },
  {
   "cell_type": "code",
   "execution_count": null,
   "metadata": {},
   "outputs": [],
   "source": [
    "lapply(cities, unique_letters)"
   ]
  },
  {
   "cell_type": "code",
   "execution_count": null,
   "metadata": {
    "scrolled": true
   },
   "outputs": [],
   "source": [
    "sapply(cities, unique_letters) # No puede simplificar y devuelve otra lista"
   ]
  },
  {
   "cell_type": "markdown",
   "metadata": {},
   "source": [
    "## `vapply(X, FUN, FUN.VALUE, …)`"
   ]
  },
  {
   "cell_type": "markdown",
   "metadata": {},
   "source": [
    "El funcionamiento de `vapply` es análogo a `sapply`, pero en este caso podemos especificar el tipo de retorno de la función mediante el parámetro `FUN.VALUE`.\n",
    "\n",
    "Es una alternativa segura a `sapply`, ya que tenemos control sobre el retorno de la función."
   ]
  },
  {
   "cell_type": "code",
   "execution_count": null,
   "metadata": {},
   "outputs": [],
   "source": [
    "###################################\n",
    "# vapply                          #\n",
    "###################################\n",
    "\n",
    "# vapply\n",
    "cities <- c(\"New York\", \"Paris\", \"London\", \"Tokyo\", \n",
    "            \"Rio de Janeiro\", \"Cape Town\")\n",
    "\n",
    "vapply(cities, nchar, numeric(1))"
   ]
  },
  {
   "cell_type": "code",
   "execution_count": null,
   "metadata": {},
   "outputs": [],
   "source": [
    "first_and_last <- function(name) {\n",
    "  name <- gsub(\" \", \"\", name)\n",
    "  letters <- strsplit(name, split = \"\")[[1]]\n",
    "  c(first = min(letters), last = max(letters))\n",
    "}"
   ]
  },
  {
   "cell_type": "code",
   "execution_count": null,
   "metadata": {},
   "outputs": [],
   "source": [
    "vapply(cities, first_and_last, character(2))"
   ]
  },
  {
   "cell_type": "code",
   "execution_count": null,
   "metadata": {},
   "outputs": [],
   "source": [
    "vapply(cities, first_and_last, character(1)) #Error, ya que estamos devolviendo un vector de longitud 2"
   ]
  },
  {
   "cell_type": "code",
   "execution_count": null,
   "metadata": {},
   "outputs": [],
   "source": [
    "unique_letters <- function(name) {\n",
    "  name <- gsub(\" \", \"\", name)\n",
    "  letters <- strsplit(name, split = \"\")[[1]]\n",
    "  unique(letters)\n",
    "}"
   ]
  },
  {
   "cell_type": "code",
   "execution_count": null,
   "metadata": {},
   "outputs": [],
   "source": [
    "vapply(cities, unique_letters, character(10) #Error, el restultado es variable"
   ]
  },
  {
   "cell_type": "markdown",
   "metadata": {},
   "source": [
    "## `do.call` (aunque no es de la familia)"
   ]
  },
  {
   "cell_type": "markdown",
   "metadata": {},
   "source": [
    "La función `do.call` permite llamar a cualquier función de R, pero en lugar de pasar todos los argumentos uno por uno (escribiéndolos), se le pasa una lista con los mismos.\n",
    "\n",
    "No es una función propia de la familia apply."
   ]
  },
  {
   "cell_type": "code",
   "execution_count": null,
   "metadata": {},
   "outputs": [],
   "source": [
    "###################################\n",
    "# do.cal                          #\n",
    "###################################\n",
    "\n",
    "one <- data.frame(a = c(\"b\", \"b\", \"b\", \"c\"),\n",
    "                  b = c(\"B\", \"A\", \"D\", \"A\"),\n",
    "                  x = c(2.49778634403711, -0.594683138631719, 1.14857619580259, 1.14857619580259),\n",
    "                  y = c(-0.351307445767206, 1.19629936975021, 0.653315728121014, 0.935608419299617))\n",
    "\n",
    "two <- data.frame(a = c(\"b\", \"b\", \"b\", \"c\"),\n",
    "                  b = c(\"B\", \"A\", \"D\", \"A\"),\n",
    "                  x = c(2.49778634403711, -0.594683138631719, 1.14857619580259, 1.14857619580259),\n",
    "                  y = c(-0.351307445767206, 1.19629936975021, 0.653315728121014, 0.935608419299617))\n",
    "\n",
    "three <- data.frame(a = c(\"b\", \"b\", \"b\", \"c\"),\n",
    "                    b = c(\"B\", \"A\", \"D\", \"A\"),\n",
    "                    x = c(2.49778634403711, -0.594683138631719, 1.14857619580259, 1.14857619580259),\n",
    "                    y = c(-0.351307445767206, 1.19629936975021, 0.653315728121014, 0.935608419299617))\n",
    "\n",
    "res1 <- rbind(one, two, three)\n",
    "\n",
    "allframes <- list(one, two, three)\n",
    "\n",
    "res2 <- do.call(rbind, allframes)\n",
    "res2"
   ]
  },
  {
   "cell_type": "markdown",
   "metadata": {},
   "source": [
    "## Ejercicio 7"
   ]
  },
  {
   "cell_type": "code",
   "execution_count": null,
   "metadata": {},
   "outputs": [],
   "source": [
    "###################################\n",
    "# lapply                          #\n",
    "###################################\n",
    "\n",
    "# El siguiente vector tiene un listado con nombres de matemáticos y sus años de nacimiento.\n",
    "# Ojo está todo codificado dentro de la misma cadena de caracteres.\n",
    "pioneers <- c(\"GAUSS:1777\", \"BAYES:1702\", \"PASCAL:1623\", \"PEARSON:1857\")\n",
    "\n",
    "# Separa los nombres y años utilizando la función strsplit\n",
    "split_math <- \n",
    "\n",
    "# Aplica la función tolower a todos los elementos de split_math para convertirlos a minúsculas\n",
    "split_low <- \n",
    "\n",
    "# Examina el conteido\n",
    "\n",
    "\n",
    "# Escribe una función que devuelva el primer elemento de un vector\n",
    "select_first <- function(x) {\n",
    "\n",
    "}\n",
    "\n",
    "# Aplica la función select_first a split_low\n",
    "names <-\n",
    "\n",
    "# Escribe una función que devuelva el segundo elemento de un vector\n",
    "select_second <- function(x) {\n",
    "  \n",
    "}\n",
    "\n",
    "# Aplica la función select_second a split_low\n",
    "years <- \n",
    "\n",
    "# Utiliza las dos funciones anteriores como funciones anónimas\n",
    "names <- \n",
    "years <- \n",
    "\n",
    "# Unifica las dos funciones en una única función que reciba como parámetros el vector y el índice del elemento a devolver\n",
    "select_el <- function(x, el) { \n",
    "  \n",
    "}\n",
    "\n",
    "# Usa la nueva función para obtener los mismos resultados que antes\n",
    "names <- \n",
    "years <- \n",
    "\n",
    "# ¿Qué pasa al ejecutar?\n",
    "lapply(split_low, function(x) {\n",
    "  if (nchar(x[1]) > 5) {\n",
    "    return(NULL)\n",
    "  } else {\n",
    "    return(x[2])\n",
    "  }\n",
    "})"
   ]
  },
  {
   "cell_type": "code",
   "execution_count": null,
   "metadata": {},
   "outputs": [],
   "source": [
    "###################################\n",
    "# sapply                          #\n",
    "###################################\n",
    "\n",
    "# La siguiente variable contiene muestras de temperatura de cada día de la semana.\n",
    "temp <- list(monday = c(3, 7, 9, 6, -1),\n",
    "             tuesday = c(6, 9, 12, 13, 5),\n",
    "             wednesday = c(4, 8, 3, -1, -3),\n",
    "             thursday = c(1, 4, 7, 2, -2),\n",
    "             friday = c(5, 7, 9, 4, 2),\n",
    "             saturday = c(-3, 5, 8, 9, 4),\n",
    "             sunday = c(3, 6, 9, 4, 1))\n",
    "\n",
    "str(temp)\n",
    "\n",
    "# Utiliza lapply para encontrar la temeperatura mínima de cada día\n",
    "\n",
    "\n",
    "# Utiliza sapply para encontrar la temeperatura mínima de cada día\n",
    "\n",
    "\n",
    "# Utiliza lapply para encontrar la temeperatura máxima de cada día\n",
    "\n",
    "\n",
    "# Utiliza sapply para encontrar la temeperatura máxima de cada día\n",
    "\n",
    "\n",
    "# Crea una función extremes_avg que calcula la media entre la mínima del día y la máxima\n",
    "extremes_avg <- function(x) {\n",
    "\n",
    "}\n",
    "\n",
    "# Aplica la nueva función utilizando sapply\n",
    "\n",
    "\n",
    "# Aplica la nueva función utilizando lapply\n",
    "\n",
    "\n",
    "# Crea una función extremes que devuelve un vector con:\n",
    "#   1. La temperatura mínima\n",
    "#   2. La temperatura máxima\n",
    "extremes <- function(x) {\n",
    "\n",
    "}\n",
    "\n",
    "# Aplica la nueva función utilizando sapply\n",
    "\n",
    "\n",
    "# Aplica la nueva función utilizando lapply\n",
    "\n",
    "\n",
    "# Crea una función below_zero que devuelve las muestras menores que cero\n",
    "below_zero <- function(x) {\n",
    "\n",
    "}\n",
    "\n",
    "# Aplica la nueva función utilizando sapply y guardarla en freezing_s\n",
    "\n",
    "\n",
    "# Aplica la nueva función utilizando lapply y guardarla en freezing_l\n",
    "\n",
    "\n",
    "# Compara freezing_s y freezing_l con identical\n",
    "\n",
    "\n",
    "# Crea una función que devuelva los siguiente: cat(\"The average temperature is\", mean(x), \"\\n\")\n",
    "print_info <- \n",
    "\n",
    "\n",
    "\n",
    "# Aplica la nueva función utilizando lapply\n",
    "\n",
    "\n",
    "# Aplica la nueva función utilizando sapply\n",
    "\n",
    "\n",
    "#¿Qué ha pasado?"
   ]
  },
  {
   "cell_type": "code",
   "execution_count": null,
   "metadata": {},
   "outputs": [],
   "source": [
    "###################################\n",
    "# vapply                          #\n",
    "###################################\n",
    "\n",
    "# La siguiente variable contiene muestras de temperatura de cada día de la semana.\n",
    "temp <- list(monday = c(3, 7, 9, 6, -1),\n",
    "             tuesday = c(6, 9, 12, 13, 5),\n",
    "             wednesday = c(4, 8, 3, -1, -3),\n",
    "             thursday = c(1, 4, 7, 2, -2),\n",
    "             friday = c(5, 7, 9, 4, 2),\n",
    "             saturday = c(-3, 5, 8, 9, 4),\n",
    "             sunday = c(3, 6, 9, 4, 1))\n",
    "\n",
    "str(temp)\n",
    "\n",
    "# Crea la función basics que devuelve un vector con nombres con:\n",
    "#    1. min: temperatura mínima\n",
    "#    2. mean: temperatura media\n",
    "#    3. max: temperatura máxima\n",
    "\n",
    "\n",
    "\n",
    "\n",
    "# Usando vapply aplica la función basics\n",
    "\n",
    "\n",
    "# Con esta nueva definición de la función basics\n",
    "basics <- function(x) {\n",
    "  c(min = min(x), mean = mean(x), median = median(x), max = max(x))\n",
    "}\n",
    "\n",
    "# Arregla el error:\n",
    "vapply(temp, basics, numeric(3))\n",
    "\n",
    "\n",
    "\n",
    "# Convierte este sapply en un vapply\n",
    "sapply(temp, max)\n",
    "\n",
    "\n",
    "# Convierte este sapply en un vapply\n",
    "sapply(temp, function(x, y) { mean(x) > y }, y = 5)\n",
    "\n",
    "\n",
    "# Con esta función get_info\n",
    "get_info <- function(x, y) { \n",
    "  if (mean(x) > y) {\n",
    "    return(\"Not too cold!\")\n",
    "  } else {\n",
    "    return(\"Pretty cold!\")\n",
    "  }\n",
    "}\n",
    "\n",
    "# Convierte este sapply en un vapply\n",
    "sapply(temp, get_info, y = 5)\n"
   ]
  }
 ],
 "metadata": {
  "kernelspec": {
   "display_name": "R",
   "language": "R",
   "name": "ir"
  },
  "language_info": {
   "codemirror_mode": "r",
   "file_extension": ".r",
   "mimetype": "text/x-r-source",
   "name": "R",
   "pygments_lexer": "r",
   "version": "3.5.1"
  }
 },
 "nbformat": 4,
 "nbformat_minor": 2
}
