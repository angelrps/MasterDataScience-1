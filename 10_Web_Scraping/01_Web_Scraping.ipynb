{
 "cells": [
  {
   "cell_type": "markdown",
   "metadata": {},
   "source": [
    "# Web Scraping"
   ]
  },
  {
   "cell_type": "markdown",
   "metadata": {},
   "source": [
    "Based on [Kevin Markham Practises](https://github.com/justmarkham/trump-lies)"
   ]
  },
  {
   "cell_type": "markdown",
   "metadata": {},
   "source": [
    "Scenario:\n",
    "- You find a webpage that contains data you want to analyse\n",
    "- These info is not presented in a right format for easly downloading and reading in your notebook\n",
    "- Web Scraping: Automate the process of extracting info from a webpage by taking advantage of patterns in the webpages underlying code"
   ]
  },
  {
   "cell_type": "markdown",
   "metadata": {},
   "source": [
    "New York Times article: [President Trump's Lies, the Definitive List](https://www.nytimes.com/interactive/2017/06/23/opinion/trumps-lies.html)\n",
    "- Each lie can have __4 fields__\n",
    "    1. Date of the lie: __Date is bold red text__\n",
    "    2. The lie as a quotation: __Lie is regular text__\n",
    "    3. Writers Brief Explanation of why it is a lie: __Grey italics text__\n",
    "    4. URL of the article that substantiates that claim: __It's linked from that grey italics text__"
   ]
  },
  {
   "cell_type": "markdown",
   "metadata": {},
   "source": [
    "View Page Source to watch HTML code\n",
    "\n",
    "__FACT 1:__ \n",
    "- HTML consits on TAGS\n",
    "- There are __opening__ ___<>___ and __closing__ ___</>___ tags\n",
    "\n",
    "__FACT 2:__\n",
    "- HTML __TAGS__ can have __attributes__\n",
    "\n",
    "__FACT 3:__\n",
    "- __TAGS__ can be __nested__\n",
    "- Ex: `Hi <strong><em>Planet</em> Earth</strong>` Hi ___Planet___ __Earth__"
   ]
  },
  {
   "cell_type": "code",
   "execution_count": null,
   "metadata": {},
   "outputs": [],
   "source": []
  }
 ],
 "metadata": {
  "kernelspec": {
   "display_name": "Python 3",
   "language": "python",
   "name": "python3"
  },
  "language_info": {
   "codemirror_mode": {
    "name": "ipython",
    "version": 3
   },
   "file_extension": ".py",
   "mimetype": "text/x-python",
   "name": "python",
   "nbconvert_exporter": "python",
   "pygments_lexer": "ipython3",
   "version": "3.6.8"
  }
 },
 "nbformat": 4,
 "nbformat_minor": 2
}
