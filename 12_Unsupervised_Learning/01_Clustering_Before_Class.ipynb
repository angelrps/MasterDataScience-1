{
 "cells": [
  {
   "cell_type": "markdown",
   "metadata": {},
   "source": [
    "# Clustering\n",
    "\n",
    "In this notebook we will code and use different clustering techniques. The objective is to learn how to use them and understand the effects of different parameters. \n",
    "\n",
    "We will test:\n",
    "\n",
    "- kMeans\n",
    "- hierarchical clustering\n",
    "- DBscan"
   ]
  },
  {
   "cell_type": "code",
   "execution_count": null,
   "metadata": {
    "collapsed": true
   },
   "outputs": [],
   "source": [
    "# libraries \n",
    "\n",
    "import numpy as np\n",
    "import pandas as pd\n",
    "import random \n",
    "\n",
    "import matplotlib.pyplot as plt\n",
    "%matplotlib inline\n",
    "\n",
    "np.set_printoptions(precision=4, suppress=True)"
   ]
  },
  {
   "cell_type": "markdown",
   "metadata": {},
   "source": [
    "# Generate random data\n",
    "\n",
    "We're going to generate random data normally distributed around three centers, with noise. We will test the algorithms on this data."
   ]
  },
  {
   "cell_type": "code",
   "execution_count": null,
   "metadata": {
    "collapsed": true
   },
   "outputs": [],
   "source": [
    "NPOINTSPERCLUSTER = 200"
   ]
  },
  {
   "cell_type": "code",
   "execution_count": null,
   "metadata": {
    "collapsed": true
   },
   "outputs": [],
   "source": [
    "# Set three centers\n",
    "center_1 = np.array([0,0])\n",
    "center_2 = np.array([3,4])\n",
    "center_3 = np.array([6,1])\n",
    "\n",
    "# Generate random data around the three centers\n",
    "data_1 = np.random.randn(NPOINTSPERCLUSTER, 2) + center_1\n",
    "data_2 = np.random.randn(NPOINTSPERCLUSTER, 2) + center_2\n",
    "data_3 = np.random.randn(NPOINTSPERCLUSTER, 2) + center_3\n",
    "\n",
    "data = np.concatenate((data_1, data_2, data_3), axis = 0)\n",
    "print(data.shape)\n",
    "\n",
    "data[0:10]"
   ]
  },
  {
   "cell_type": "code",
   "execution_count": null,
   "metadata": {
    "collapsed": true
   },
   "outputs": [],
   "source": [
    "plt.scatter(data[:,0], data[:,1], s=7); #s=size"
   ]
  },
  {
   "cell_type": "markdown",
   "metadata": {},
   "source": [
    "# Implementation of K-Means\n",
    "\n",
    "In this section we will implement kmeans algorithm. \n",
    "\n",
    "\n",
    "## Algorithm\n",
    "\n",
    "```\n",
    "clustering (data, K):\n",
    "    Randomly initialize K cluster centroids (mu(1),..., mu(k))\n",
    "    Repeat until convergence:\n",
    "        # assign cluster\n",
    "        for d in data:\n",
    "            assign d to closest cluster centroid\n",
    "        # recompute cluster centroid\n",
    "        for k = 1 to K:\n",
    "            mu(k) = mean of data points assigned to cluster k\n",
    "            \n",
    "```"
   ]
  },
  {
   "cell_type": "markdown",
   "metadata": {},
   "source": [
    "### Exercise 1: complete the following code so that it follows k-means algorithm\n",
    "\n",
    "- Assume data is a a (Npoints, dim) numpy array. \n",
    "- Hint: use `numpy.linalg.norm()` to compute euclidean distance\n",
    "- Hint: `amin` and `amax` functions may be useful"
   ]
  },
  {
   "cell_type": "code",
   "execution_count": null,
   "metadata": {
    "collapsed": true
   },
   "outputs": [],
   "source": [
    "def kmeans (data, K):\n",
    "    \n",
    "    N = data.shape[0]\n",
    "    dim = data.shape[1]\n",
    "    \n",
    "    \n",
    "    # compute min and max data to generate random centroids inside\n",
    "    # min_ = ...\n",
    "    # max_ = ...\n",
    "    \n",
    "    # generate K random centroids\n",
    "    # centroids = ...\n",
    "    \n",
    "    # initialize vectors\n",
    "    new_centroids = np.zeros((K, dim))\n",
    "    distances = np.zeros((N, K))\n",
    "    \n",
    "    \n",
    "    # repeat until convergence\n",
    "    niter = 1\n",
    "    while True:\n",
    "        \n",
    "        # compute distance of each point to cluster centroid\n",
    "        # distances = ...\n",
    "        \n",
    "        # assign points to closest centroid\n",
    "        # clusters = ...\n",
    "        \n",
    "        # recompute clusters' centroids\n",
    "        # Calculate mean for every cluster and update the center\n",
    "        # new_centroids = ...\n",
    "        \n",
    "        # compute if there is any variation\n",
    "        if np.array_equal(centroids, new_centroids):\n",
    "            break\n",
    "            \n",
    "        centroids = new_centroids.copy()\n",
    "        \n",
    "    return clusters, centroids"
   ]
  },
  {
   "cell_type": "code",
   "execution_count": null,
   "metadata": {
    "collapsed": true
   },
   "outputs": [],
   "source": [
    "# let's try our algorithm\n",
    "K = 3\n",
    "clusters, centroids = kmeans(data, K)"
   ]
  },
  {
   "cell_type": "code",
   "execution_count": null,
   "metadata": {
    "collapsed": true
   },
   "outputs": [],
   "source": [
    "plt.scatter(data[:,0], data[:,1], c=clusters, cmap=\"plasma\", linewidths=0);"
   ]
  },
  {
   "cell_type": "code",
   "execution_count": null,
   "metadata": {
    "collapsed": true
   },
   "outputs": [],
   "source": [
    "# comparison to original distribution where data came from\n",
    "original_groups = np.concatenate((np.repeat(0, NPOINTSPERCLUSTER), \n",
    "                                  np.repeat(1, NPOINTSPERCLUSTER), \n",
    "                                  np.repeat(2, NPOINTSPERCLUSTER)))\n",
    "plt.scatter(data[:,0], data[:,1], c=original_groups, cmap=\"plasma\", linewidths=0);"
   ]
  },
  {
   "cell_type": "code",
   "execution_count": null,
   "metadata": {
    "collapsed": true
   },
   "outputs": [],
   "source": [
    "# comparison to original distribution where data came from\n",
    "# we create a df with the clusters and compute the 'confussion' matrix\n",
    "\n",
    "df = pd.DataFrame({'original' : original_groups, 'kmeans': clusters})\n",
    "df.groupby(['original', 'kmeans']).size().reset_index(name='n')\\\n",
    "    .pivot(index='original', columns='kmeans', values='n').fillna(0)"
   ]
  },
  {
   "cell_type": "markdown",
   "metadata": {},
   "source": [
    "Let's use built-in function to compute agreement."
   ]
  },
  {
   "cell_type": "code",
   "execution_count": null,
   "metadata": {
    "collapsed": true
   },
   "outputs": [],
   "source": [
    "from sklearn.metrics import accuracy_score\n",
    "accuracy_score(original_groups, clusters)"
   ]
  },
  {
   "cell_type": "code",
   "execution_count": null,
   "metadata": {
    "collapsed": true
   },
   "outputs": [],
   "source": [
    "mapping = {0:2, 1:0, 2:1}\n",
    "print(original_groups[0:10])\n",
    "print(clusters[0:10])\n",
    "print([mapping[c] for c in clusters][0:10])"
   ]
  },
  {
   "cell_type": "code",
   "execution_count": null,
   "metadata": {
    "collapsed": true
   },
   "outputs": [],
   "source": [
    "accuracy_score(original_groups, [mapping[c] for c in clusters])"
   ]
  },
  {
   "cell_type": "markdown",
   "metadata": {},
   "source": [
    "### Exercise 2: Add cluster centroid to the plot\n",
    "\n",
    "Hint: use marker 'D' (diamond) and a high size so that it is visible on top of the points."
   ]
  },
  {
   "cell_type": "code",
   "execution_count": null,
   "metadata": {
    "collapsed": true
   },
   "outputs": [],
   "source": [
    "# to-do\n",
    "# ..."
   ]
  },
  {
   "cell_type": "markdown",
   "metadata": {},
   "source": [
    "### Exercise 3: modify k-means function so that we can see the cluster assignation after each iteration\n",
    "\n",
    "Notes: \n",
    "- in notebooks it's not straightforward to see the 'animation' effect; so just plot one figure below each other.\n",
    "- we add a `plot` parameter so we can decide wether to plot or not"
   ]
  },
  {
   "cell_type": "code",
   "execution_count": null,
   "metadata": {
    "collapsed": true
   },
   "outputs": [],
   "source": [
    "def kmeans (data, K, plot=False):\n",
    "    \n",
    "    # ...\n",
    "    \n",
    "    if plot:\n",
    "        # ...\n",
    "        \n",
    "    return clusters, centroids"
   ]
  },
  {
   "cell_type": "code",
   "execution_count": null,
   "metadata": {
    "collapsed": true
   },
   "outputs": [],
   "source": [
    "K = 3\n",
    "clusters, centroids = kmeans(data, K, plot=True)"
   ]
  },
  {
   "cell_type": "markdown",
   "metadata": {},
   "source": [
    "### Exercise 4: Take some time to play with different number of (original) distributions and clusters and see the effect when number of clusters does not match true data\n",
    "\n",
    "15 minutes. "
   ]
  },
  {
   "cell_type": "code",
   "execution_count": null,
   "metadata": {
    "collapsed": true
   },
   "outputs": [],
   "source": [
    "# Set three centers\n",
    "center_1 = np.array([0,0])\n",
    "center_2 = ...\n",
    "center_3 = ...\n",
    "...\n",
    "\n",
    "# Generate random data around the three centers\n",
    "data_1 = np.random.randn(NPOINTSPERCLUSTER, 2) + center_1\n",
    "data_2 = ...\n",
    "... \n",
    "\n",
    "data = np.concatenate((data_1, data_2, ...), axis = 0)\n",
    "\n",
    "k = ...\n",
    "kmeans(data, k)"
   ]
  },
  {
   "cell_type": "markdown",
   "metadata": {},
   "source": [
    "## Computing how good the cluster partition is\n",
    "\n",
    "Remember SSE (Sum of Squared Error):\n",
    "$$\n",
    "SSE = \\sum_{i=1}^N (x_i - C_{(X_i)})^2\n",
    "$$\n",
    "where $C_{(X_i)}$ represents the cluster centroid of $X_i$.\n",
    "\n"
   ]
  },
  {
   "cell_type": "markdown",
   "metadata": {},
   "source": [
    "### Exercise: complete SSE function and compute clustering metrics for different number of clusters"
   ]
  },
  {
   "cell_type": "code",
   "execution_count": null,
   "metadata": {
    "collapsed": true
   },
   "outputs": [],
   "source": [
    "def sse(data, clusters, centroids):\n",
    "    # to-do\n",
    "    # ...\n",
    "    return 0"
   ]
  },
  {
   "cell_type": "code",
   "execution_count": null,
   "metadata": {
    "collapsed": true
   },
   "outputs": [],
   "source": [
    "ks = range(2, 20)\n",
    "sse_errors = np.zeros(len(ks))\n",
    "\n",
    "for i, k in enumerate(ks):\n",
    "    clusters_, centroids_ = ... \n",
    "    sse_errors[i] = ...\n",
    "    print(k, sse_errors[i])\n",
    "    \n",
    "    #if np.isnan(sse_errors[i]):\n",
    "    #    print(clusters_)\n",
    "    #    print(centroids_)"
   ]
  },
  {
   "cell_type": "code",
   "execution_count": null,
   "metadata": {
    "collapsed": true
   },
   "outputs": [],
   "source": [
    "plt.plot(ks, sse_errors, 'o-');"
   ]
  },
  {
   "cell_type": "markdown",
   "metadata": {},
   "source": [
    "# scikit-learn K-means\n",
    "\n",
    "Now we are going to use scikit-learn library for our exercise\n",
    "\n",
    "KMeans works as other models in sklearn:\n",
    "\n",
    "- define the model (and parameters)\n",
    "- fit the model on training dataset\n",
    "- apply the fitted model on another dataset (can be the same dataset)"
   ]
  },
  {
   "cell_type": "code",
   "execution_count": null,
   "metadata": {
    "collapsed": true
   },
   "outputs": [],
   "source": [
    "from sklearn.cluster import KMeans"
   ]
  },
  {
   "cell_type": "code",
   "execution_count": null,
   "metadata": {
    "collapsed": true
   },
   "outputs": [],
   "source": [
    "# inspect help\n",
    "?KMeans"
   ]
  },
  {
   "cell_type": "code",
   "execution_count": null,
   "metadata": {
    "collapsed": true
   },
   "outputs": [],
   "source": [
    "# define the model\n",
    "model = KMeans(n_clusters = 3)"
   ]
  },
  {
   "cell_type": "code",
   "execution_count": null,
   "metadata": {
    "collapsed": true
   },
   "outputs": [],
   "source": [
    "# fit the model on training data\n",
    "model = model.fit(data)"
   ]
  },
  {
   "cell_type": "code",
   "execution_count": null,
   "metadata": {
    "collapsed": true
   },
   "outputs": [],
   "source": [
    "# press tab to see available methods\n",
    "#model. #press tab\n",
    "print(model.cluster_centers_)\n",
    "print(model.labels_)\n",
    "print(model.inertia_) # sse"
   ]
  },
  {
   "cell_type": "code",
   "execution_count": null,
   "metadata": {
    "collapsed": true
   },
   "outputs": [],
   "source": [
    "# check inertia is our sse defined function\n",
    "abs(model.inertia_ - sse(data, model.labels_, model.cluster_centers_)) < 0.01"
   ]
  },
  {
   "cell_type": "code",
   "execution_count": null,
   "metadata": {
    "collapsed": true
   },
   "outputs": [],
   "source": [
    "# apply the fitted model \n",
    "# if applied to the same data, we get model.labels_\n",
    "clusters_sk = model.predict(data)"
   ]
  },
  {
   "cell_type": "code",
   "execution_count": null,
   "metadata": {
    "collapsed": true
   },
   "outputs": [],
   "source": [
    "all(model.labels_ == clusters_sk)"
   ]
  },
  {
   "cell_type": "code",
   "execution_count": null,
   "metadata": {
    "collapsed": true
   },
   "outputs": [],
   "source": [
    "clusters_sk"
   ]
  },
  {
   "cell_type": "code",
   "execution_count": null,
   "metadata": {
    "collapsed": true
   },
   "outputs": [],
   "source": [
    "def plot_clustering(data, clusters, centroids = None):\n",
    "    \n",
    "    K_ = len(set(clusters))\n",
    "    \n",
    "    plt.figure(figsize=(8,4))\n",
    "    plt.scatter(data[:,0], data[:,1], c=clusters, cmap=\"plasma\", linewidths=0)\n",
    "\n",
    "    if centroids != None:\n",
    "        for k in range(K_):\n",
    "            plt.scatter(centroids[k,0], centroids[k, 1], s=100, marker='D', color='red')\n",
    "        \n",
    "    plt.show()"
   ]
  },
  {
   "cell_type": "code",
   "execution_count": null,
   "metadata": {
    "collapsed": true
   },
   "outputs": [],
   "source": [
    "plot_clustering(data, clusters_sk)"
   ]
  },
  {
   "cell_type": "code",
   "execution_count": null,
   "metadata": {
    "collapsed": true
   },
   "outputs": [],
   "source": [
    "# Centroid values\n",
    "centroids_sk = model.cluster_centers_\n",
    "centroids_sk"
   ]
  },
  {
   "cell_type": "code",
   "execution_count": null,
   "metadata": {
    "collapsed": true
   },
   "outputs": [],
   "source": [
    "plot_clustering(data, clusters_sk, centroids_sk)"
   ]
  },
  {
   "cell_type": "code",
   "execution_count": null,
   "metadata": {
    "collapsed": true
   },
   "outputs": [],
   "source": [
    "# compare with our implementation\n",
    "\n",
    "print(centroids)\n",
    "print(centroids_sk)\n",
    "\n",
    "#plot_clustering(data, clusters, centroids)\n",
    "#plot_clustering(data, clusters_sk, centroids_sk)"
   ]
  },
  {
   "attachments": {
    "hierarchical-clustering-python-scikit-learn-7.png": {
     "image/png": "[encoded data removed]"
    }
   },
   "cell_type": "markdown",
   "metadata": {},
   "source": [
    "# Hierarchical Clustering\n",
    "\n",
    "In this section we will learn how to apply Hierarchical Clustering in Python. \n",
    "\n",
    "We will use `scipy` package:\n",
    "\n",
    "- `linkage` function computes the distance matrix between the points\n",
    "- `dendrogram` function plots the dendrogram using the distances\n",
    "- `fcluster` function performs a clustering assignment according to different parameters\n",
    "\n",
    "![hierarchical-clustering-python-scikit-learn-7.png](attachment:hierarchical-clustering-python-scikit-learn-7.png)"
   ]
  },
  {
   "cell_type": "code",
   "execution_count": null,
   "metadata": {
    "collapsed": true
   },
   "outputs": [],
   "source": [
    "from scipy.cluster.hierarchy import linkage, dendrogram, fcluster"
   ]
  },
  {
   "cell_type": "code",
   "execution_count": null,
   "metadata": {
    "collapsed": true
   },
   "outputs": [],
   "source": [
    "?linkage"
   ]
  },
  {
   "cell_type": "code",
   "execution_count": null,
   "metadata": {
    "collapsed": true
   },
   "outputs": [],
   "source": [
    "Z = linkage(data, 'ward') #'single', 'ward', ..."
   ]
  },
  {
   "cell_type": "code",
   "execution_count": null,
   "metadata": {
    "collapsed": true
   },
   "outputs": [],
   "source": [
    "plt.figure(figsize=(14, 7))\n",
    "dendrogram(Z)\n",
    "plt.show()"
   ]
  },
  {
   "cell_type": "markdown",
   "metadata": {},
   "source": [
    "Now let's understand how the algorithm works. \n",
    "\n",
    "It follows an agglomerative approach, so *close* points are merged. \n",
    "\n",
    "`linkage` returns how points are merged at each iteration. The output is: [`id_node_1`, `id_node_2`, `distance`, `number_of_points_in_group`]"
   ]
  },
  {
   "cell_type": "code",
   "execution_count": null,
   "metadata": {
    "collapsed": true
   },
   "outputs": [],
   "source": [
    "Z[0:20]"
   ]
  },
  {
   "cell_type": "code",
   "execution_count": null,
   "metadata": {
    "collapsed": true
   },
   "outputs": [],
   "source": [
    "# indices\n",
    "np.where(Z[:,0] > data.shape[0])[0:20]"
   ]
  },
  {
   "cell_type": "code",
   "execution_count": null,
   "metadata": {
    "collapsed": true
   },
   "outputs": [],
   "source": [
    "Z[Z[:,0] > data.shape[0]][0:20]"
   ]
  },
  {
   "cell_type": "markdown",
   "metadata": {},
   "source": [
    "### Exercise 6: dendrogram plotting options\n",
    "\n",
    "Investigate dendrogram plotting options and play with them.\n",
    "\n",
    "- p:\n",
    "- truncate_mode: 'lastp', 'level'\n",
    "- color_threshold\n",
    "- orientation\n",
    "- count_sort: False, 'ascending'/True, 'descendent'\n",
    "- distance_sort: False, 'ascending'/True, 'descendent'\n",
    "- show_leaf_counts: boolean (True)\n",
    "- show_contracted: boolean (False)\n",
    "- above_threshold_color = 'b'"
   ]
  },
  {
   "cell_type": "code",
   "execution_count": null,
   "metadata": {
    "collapsed": true
   },
   "outputs": [],
   "source": [
    "# exercise\n",
    "plt.figure(figsize=(14, 4))\n",
    "dendrogram(Z, ...)\n",
    "plt.show()"
   ]
  },
  {
   "cell_type": "code",
   "execution_count": null,
   "metadata": {
    "collapsed": true
   },
   "outputs": [],
   "source": [
    "# exercise\n",
    "plt.figure(figsize=(14, 4))\n",
    "dendrogram(Z, ...)\n",
    "plt.show()"
   ]
  },
  {
   "cell_type": "code",
   "execution_count": null,
   "metadata": {
    "collapsed": true
   },
   "outputs": [],
   "source": [
    "# exercise\n",
    "plt.figure(figsize=(14, 4))\n",
    "dendrogram(Z, ...)\n",
    "plt.show()"
   ]
  },
  {
   "cell_type": "markdown",
   "metadata": {},
   "source": [
    "## Getting the cluster partition\n",
    "\n",
    "In order to assign a cluster to each sample we first need to set the cut_off distance. We will visually explore what this value is and use it for partitioning. \n",
    "\n",
    "We then use function `fcluster` to perform the clustering."
   ]
  },
  {
   "cell_type": "code",
   "execution_count": null,
   "metadata": {
    "collapsed": true
   },
   "outputs": [],
   "source": [
    "?dendrogram"
   ]
  },
  {
   "cell_type": "code",
   "execution_count": null,
   "metadata": {
    "collapsed": true
   },
   "outputs": [],
   "source": [
    "dendrogram(Z, color_threshold = 25)\n",
    "plt.show()"
   ]
  },
  {
   "cell_type": "code",
   "execution_count": null,
   "metadata": {
    "collapsed": true
   },
   "outputs": [],
   "source": [
    "from scipy.cluster.hierarchy import fcluster\n",
    "\n",
    "?fcluster"
   ]
  },
  {
   "cell_type": "code",
   "execution_count": null,
   "metadata": {
    "collapsed": true
   },
   "outputs": [],
   "source": [
    "cut_distance = 25\n",
    "clusters_hc = fcluster(linked, t = cut_distance, criterion='distance')"
   ]
  },
  {
   "cell_type": "code",
   "execution_count": null,
   "metadata": {
    "collapsed": true
   },
   "outputs": [],
   "source": [
    "np.unique(clusters_hc, return_counts = True)"
   ]
  },
  {
   "cell_type": "code",
   "execution_count": null,
   "metadata": {
    "collapsed": true
   },
   "outputs": [],
   "source": [
    "clusters_hc"
   ]
  },
  {
   "cell_type": "markdown",
   "metadata": {},
   "source": [
    "### Exercise 7: change cut_distance and see how the number of clusters change\n",
    "\n",
    "It should match the dendrogram plotting"
   ]
  },
  {
   "cell_type": "code",
   "execution_count": null,
   "metadata": {
    "collapsed": true
   },
   "outputs": [],
   "source": [
    "# exercise\n",
    "cut_distance = ...\n",
    "clusters_hc = fcluster(Z, t = cut_distance, criterion='distance')\n",
    "np.unique(clusters_hc, return_counts = True)"
   ]
  },
  {
   "cell_type": "markdown",
   "metadata": {},
   "source": [
    "### Exercise 8: change `method` parameter in the linkage function and observe the results"
   ]
  },
  {
   "cell_type": "code",
   "execution_count": null,
   "metadata": {
    "collapsed": true
   },
   "outputs": [],
   "source": [
    "# To-Do\n",
    "linked = linkage(data, 'to-do') #'single', 'ward', ...\n",
    "plt.figure(figsize=(10, 5))\n",
    "dendrogram(linked)\n",
    "plt.show()"
   ]
  },
  {
   "cell_type": "code",
   "execution_count": null,
   "metadata": {
    "collapsed": true
   },
   "outputs": [],
   "source": [
    "dendrogram(linked, color_threshold=cut_distance)\n",
    "plt.show()"
   ]
  },
  {
   "cell_type": "markdown",
   "metadata": {},
   "source": [
    "#### AgglomerativeClustering in scikit-learn\n",
    "\n",
    "In order to perform the clustering partition, we can also use `AgglomerativeClustering` from `sklearn` once we have selected the desired number of clusters. "
   ]
  },
  {
   "cell_type": "code",
   "execution_count": null,
   "metadata": {
    "collapsed": true
   },
   "outputs": [],
   "source": [
    "from sklearn.cluster import AgglomerativeClustering\n",
    "\n",
    "# define the model\n",
    "cluster = AgglomerativeClustering(n_clusters=3, affinity='euclidean', linkage='ward')  \n",
    "\n",
    "# fit data and predict \n",
    "clusters = cluster.fit_predict(data)"
   ]
  },
  {
   "cell_type": "code",
   "execution_count": null,
   "metadata": {
    "collapsed": true
   },
   "outputs": [],
   "source": [
    "plot_clustering(data, clusters)"
   ]
  },
  {
   "cell_type": "markdown",
   "metadata": {},
   "source": [
    "### Comparison kmeans and hierarchical\n",
    "\n",
    "Now let's compare the result of both algorithms when the number of clusters is not optimal"
   ]
  },
  {
   "cell_type": "code",
   "execution_count": null,
   "metadata": {
    "collapsed": true
   },
   "outputs": [],
   "source": [
    "NCLUS = 5\n",
    "\n",
    "km = KMeans(n_clusters=NCLUS)\n",
    "clusters_km = km.fit_predict(data)\n",
    "plot_clustering(data, clusters_km, km.cluster_centers_)\n",
    "\n",
    "hier = AgglomerativeClustering(n_clusters=NCLUS, affinity='euclidean', linkage='ward')\n",
    "clusters_hier = hier.fit_predict(data)\n",
    "plot_clustering(data, clusters_hier)"
   ]
  },
  {
   "cell_type": "markdown",
   "metadata": {},
   "source": [
    "# DBSCAN\n",
    "\n",
    "In this section we will learn how DBscan algorithm works and what's the effect of its parameters in the clustering result. "
   ]
  },
  {
   "cell_type": "code",
   "execution_count": null,
   "metadata": {
    "collapsed": true
   },
   "outputs": [],
   "source": [
    "from sklearn.cluster import DBSCAN"
   ]
  },
  {
   "cell_type": "code",
   "execution_count": null,
   "metadata": {
    "collapsed": true
   },
   "outputs": [],
   "source": [
    "dbs = DBSCAN(eps=0.4, min_samples=5)\n",
    "dbs = dbs.fit(data)"
   ]
  },
  {
   "cell_type": "code",
   "execution_count": null,
   "metadata": {
    "collapsed": true
   },
   "outputs": [],
   "source": [
    "dbs.labels_[0:50]"
   ]
  },
  {
   "cell_type": "code",
   "execution_count": null,
   "metadata": {
    "collapsed": true
   },
   "outputs": [],
   "source": [
    "id_clusters = np.unique(dbs.labels_)\n",
    "print('Found {} clusters'.format(len(id_clusters)))\n",
    "np.unique(dbs.labels_, return_counts=True)"
   ]
  },
  {
   "cell_type": "code",
   "execution_count": null,
   "metadata": {
    "collapsed": true
   },
   "outputs": [],
   "source": [
    "plot_clustering(data, dbs.labels_)"
   ]
  },
  {
   "cell_type": "markdown",
   "metadata": {},
   "source": [
    "### Exercise 9: play with the parameters `eps` and `min_samples` and see how it affects the clustering partition\n",
    "10 min"
   ]
  },
  {
   "cell_type": "code",
   "execution_count": null,
   "metadata": {
    "collapsed": true
   },
   "outputs": [],
   "source": [
    "# exercise\n",
    "dbs = DBSCAN(eps=..., min_samples=...)\n",
    "dbs = dbs.fit(data)\n",
    "plot_clustering(data, dbs.labels_)"
   ]
  },
  {
   "cell_type": "markdown",
   "metadata": {
    "collapsed": true
   },
   "source": [
    "# New data : non-convex datasets\n",
    "\n",
    "Now we will apply DBscan on non convex data to see the differences with k-means. We will also learn how to load already-predefined datasets from `sklearn`"
   ]
  },
  {
   "cell_type": "code",
   "execution_count": null,
   "metadata": {
    "collapsed": true
   },
   "outputs": [],
   "source": [
    "from sklearn import datasets\n",
    "\n",
    "nsamples = 1000"
   ]
  },
  {
   "cell_type": "code",
   "execution_count": null,
   "metadata": {
    "collapsed": true
   },
   "outputs": [],
   "source": [
    "# make_blobs\n",
    "# this creates 'centers' circles\n",
    "# we will change the covariance so that the clusters become ellipses\n",
    "\n",
    "X, y = datasets.make_blobs(random_state=170, n_samples=nsamples, centers = 5)\n",
    "transformation = np.random.RandomState(74).normal(size=(2, 2))\n",
    "X = np.dot(X, transformation)\n",
    "\n",
    "# plot\n",
    "plt.scatter(X[:, 0], X[:, 1])\n",
    "plt.xlabel(\"Feature 0\")\n",
    "plt.ylabel(\"Feature 1\")\n",
    "plt.show()"
   ]
  },
  {
   "cell_type": "markdown",
   "metadata": {},
   "source": [
    "Compare DBscan against Kmeans on that data"
   ]
  },
  {
   "cell_type": "code",
   "execution_count": null,
   "metadata": {
    "collapsed": true
   },
   "outputs": [],
   "source": [
    "dbscan_model = DBSCAN(eps=0.4, min_samples=5)\n",
    "dbscan_model = dbscan_model.fit(X)\n",
    "\n",
    "kmeans_model = KMeans(n_clusters = 5)\n",
    "kmeans_model = kmeans_model.fit(X)\n",
    "\n",
    "plot_clustering(X, dbscan_model.labels_)\n",
    "plot_clustering(X, kmeans_model.labels_, kmeans_model.cluster_centers_)"
   ]
  },
  {
   "cell_type": "code",
   "execution_count": null,
   "metadata": {
    "collapsed": true
   },
   "outputs": [],
   "source": [
    "# Exercise: test other datasets\n",
    "# datasets.make_circles\n",
    "# datasets.make_moons\n",
    "# datasets.make_s_curve (Hint: use dimensions 0 and 2 of the generated dataset)\n",
    "# datasets.make_swiss_roll (Hint: use dimensions 0 and 2 of the generated dataset)"
   ]
  },
  {
   "cell_type": "code",
   "execution_count": null,
   "metadata": {
    "collapsed": true
   },
   "outputs": [],
   "source": [
    "# make_circles\n",
    "# ..."
   ]
  },
  {
   "cell_type": "code",
   "execution_count": null,
   "metadata": {
    "collapsed": true
   },
   "outputs": [],
   "source": [
    "# make_mooons\n",
    "# ..."
   ]
  },
  {
   "cell_type": "code",
   "execution_count": null,
   "metadata": {
    "collapsed": true
   },
   "outputs": [],
   "source": [
    "# make_s_curve\n",
    "# ... "
   ]
  },
  {
   "cell_type": "code",
   "execution_count": null,
   "metadata": {
    "collapsed": true
   },
   "outputs": [],
   "source": [
    "# make_swiss_roll\n",
    "# ..."
   ]
  },
  {
   "cell_type": "markdown",
   "metadata": {},
   "source": [
    "Some code and ideas are based on:\n",
    "\n",
    "- https://mubaris.com/posts/kmeans-clustering/\n",
    "- https://www.kaggle.com/andyxie/k-means-clustering-implementation-in-python\n",
    "- https://stackabuse.com/hierarchical-clustering-with-python-and-scikit-learn/\n"
   ]
  },
  {
   "cell_type": "markdown",
   "metadata": {},
   "source": [
    "### End."
   ]
  }
 ],
 "metadata": {
  "kernelspec": {
   "display_name": "Python 2",
   "language": "python",
   "name": "python2"
  },
  "language_info": {
   "codemirror_mode": {
    "name": "ipython",
    "version": 2
   },
   "file_extension": ".py",
   "mimetype": "text/x-python",
   "name": "python",
   "nbconvert_exporter": "python",
   "pygments_lexer": "ipython2",
   "version": "2.7.13"
  }
 },
 "nbformat": 4,
 "nbformat_minor": 2
}
