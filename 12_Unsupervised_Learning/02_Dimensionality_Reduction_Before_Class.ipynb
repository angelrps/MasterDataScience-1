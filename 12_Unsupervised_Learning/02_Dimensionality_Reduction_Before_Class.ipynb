{
 "cells": [
  {
   "cell_type": "markdown",
   "metadata": {},
   "source": [
    "# Dimensionality Reduction\n",
    "\n",
    "- Now let's apply PCA to our dataset.\n",
    "- We will develop our own implementation of PCA and then use scikit learn method. \n",
    "- We will also see the effect of (un) normalized data in PCA."
   ]
  },
  {
   "cell_type": "code",
   "execution_count": null,
   "metadata": {
    "collapsed": true
   },
   "outputs": [],
   "source": [
    "# libraries\n",
    "import pandas as pd\n",
    "import numpy as np\n",
    "\n",
    "import matplotlib.pyplot as plt\n",
    "%matplotlib inline\n",
    "\n",
    "np.set_printoptions(precision = 2, suppress=True)"
   ]
  },
  {
   "cell_type": "markdown",
   "metadata": {},
   "source": [
    "## Generate example data\n",
    "\n",
    "We are going to create random multivariate normal data specifying the correlation matrix between two dimensions."
   ]
  },
  {
   "cell_type": "code",
   "execution_count": null,
   "metadata": {
    "collapsed": true
   },
   "outputs": [],
   "source": [
    "original_mean = [100, 1]\n",
    "original_covariance = [[20, 3], [3, 2]]\n",
    "X = np.random.multivariate_normal(original_mean, original_covariance, size=1000)\n",
    "\n",
    "plt.scatter(X[:, 0], X[:, 1])\n",
    "plt.xlabel(\"X\")\n",
    "plt.ylabel(\"Y\")\n",
    "plt.show()"
   ]
  },
  {
   "cell_type": "markdown",
   "metadata": {},
   "source": [
    "## Manual PCA\n",
    "\n",
    "Recall PCA steps:\n",
    "\n",
    "1. Compute covariance matrix\n",
    "1. Compute eigenvectors and eigenvalues\n",
    "1. Select top k eigenvalues (and eigenvectors)\n",
    "1. Rotate original data with eigenvector matrix"
   ]
  },
  {
   "cell_type": "code",
   "execution_count": null,
   "metadata": {
    "collapsed": true
   },
   "outputs": [],
   "source": [
    "# 1. compute covariance matrix\n",
    "# by default numpy.cov consider rows as variables, set rowvar=0\n",
    "Sigma = np.cov(X, rowvar = 0)\n",
    "\n",
    "# equivalent since covariance matrix is symmetric \n",
    "# Sigma2 = np.cov(np.transpose(X))"
   ]
  },
  {
   "cell_type": "code",
   "execution_count": null,
   "metadata": {
    "collapsed": true
   },
   "outputs": [],
   "source": [
    "# compare to original covariance matrix\n",
    "print(X.shape)\n",
    "print(Sigma.shape)\n",
    "Sigma"
   ]
  },
  {
   "cell_type": "code",
   "execution_count": null,
   "metadata": {
    "collapsed": true
   },
   "outputs": [],
   "source": [
    "# 2. Compute eigenvalues and eigenvectors\n",
    "eig_val, eig_vec = np.linalg.eig(Sigma)"
   ]
  },
  {
   "cell_type": "code",
   "execution_count": null,
   "metadata": {
    "collapsed": true
   },
   "outputs": [],
   "source": [
    "print(eig_val.shape)\n",
    "print(eig_vec.shape)\n",
    "eig_val"
   ]
  },
  {
   "cell_type": "markdown",
   "metadata": {},
   "source": [
    "**(aside) Rotate original data with eigenvector matrix to see the rotation effect**\n",
    "\n",
    "We may expect to see that data is now *aligned* with horizontal and vertical axis. "
   ]
  },
  {
   "cell_type": "code",
   "execution_count": null,
   "metadata": {
    "collapsed": true
   },
   "outputs": [],
   "source": [
    "X_rotated = np.dot(X, eig_vec)\n",
    "\n",
    "plt.scatter(X_rotated[:, 0], X_rotated[:, 1])\n",
    "plt.xlabel(\"Feature 0\")\n",
    "plt.ylabel(\"Feature 1\")\n",
    "plt.show()"
   ]
  },
  {
   "cell_type": "markdown",
   "metadata": {},
   "source": [
    "Question: how should the covariance matrix of rotated data be?"
   ]
  },
  {
   "cell_type": "code",
   "execution_count": null,
   "metadata": {
    "collapsed": true
   },
   "outputs": [],
   "source": [
    "np.cov(X_rotated, rowvar = 0)"
   ]
  },
  {
   "cell_type": "markdown",
   "metadata": {},
   "source": [
    "Let's continue with PCA!"
   ]
  },
  {
   "cell_type": "code",
   "execution_count": null,
   "metadata": {
    "collapsed": true
   },
   "outputs": [],
   "source": [
    "# 2.b. according to the documentation eigenvalues does not need to be sorted, so let's do it\n",
    "idx_sort = np.argsort(-eig_val)\n",
    "print(idx_sort)\n",
    "\n",
    "eig_val_sort = eig_val[idx_sort]\n",
    "eig_vec_sort = eig_vec[:, idx_sort]"
   ]
  },
  {
   "cell_type": "code",
   "execution_count": null,
   "metadata": {
    "collapsed": true
   },
   "outputs": [],
   "source": [
    "# 3- Select top k eigenvalues (and eigenvectors)\n",
    "# Let's plot eigenvalues and percentage of total variance explained\n",
    "\n",
    "eig_val_sort_percentage = eig_val_sort / np.sum(eig_val_sort)\n",
    "plt.bar(range(1,(len(eig_val)+1)), eig_val_sort_percentage); #!!!"
   ]
  },
  {
   "cell_type": "code",
   "execution_count": null,
   "metadata": {
    "collapsed": true
   },
   "outputs": [],
   "source": [
    "# in this case, with only two dimensions, \n",
    "# it is not very useful to plot the cumulative variance explained\n",
    "\n",
    "eig_val_sort_cum = np.cumsum(eig_val_sort) / np.sum(eig_val_sort)\n",
    "plt.bar(range(1,(len(eig_val)+1)), eig_val_sort_cum);"
   ]
  },
  {
   "cell_type": "markdown",
   "metadata": {},
   "source": [
    "In this case, we only have two dimensions, so we would select only one dimension. As data is generated just from one distribution, the output is not very meaningfull. I leave here the code, and we will test it later. "
   ]
  },
  {
   "cell_type": "code",
   "execution_count": null,
   "metadata": {
    "collapsed": true
   },
   "outputs": [],
   "source": [
    "TOP_EIGEN = 1\n",
    "eig_val_short = eig_val_sort[0:TOP_EIGEN]\n",
    "eig_vec_short = eig_vec_sort[:,0:TOP_EIGEN]\n",
    "\n",
    "print(eig_val_short.shape)\n",
    "print(eig_vec_short.shape)"
   ]
  },
  {
   "cell_type": "code",
   "execution_count": null,
   "metadata": {
    "collapsed": true
   },
   "outputs": [],
   "source": [
    "# 4. Rotate original data with reduced eigenvector matrix\n",
    "X_pca = X.dot(eig_vec_short)\n",
    "print(X_pca.shape)"
   ]
  },
  {
   "cell_type": "code",
   "execution_count": null,
   "metadata": {
    "collapsed": true
   },
   "outputs": [],
   "source": [
    "# we add some glitter to see the points\n",
    "plt.scatter(X_pca, np.random.normal(scale=0.001, size=len(X_pca)))\n",
    "plt.xlabel(\"Feature 0\")\n",
    "plt.show()"
   ]
  },
  {
   "cell_type": "code",
   "execution_count": null,
   "metadata": {
    "collapsed": true
   },
   "outputs": [],
   "source": [
    "print(np.mean(X, axis=0))\n",
    "print(np.std(X, axis=0))"
   ]
  },
  {
   "cell_type": "markdown",
   "metadata": {},
   "source": [
    "We see that data is not scaled, so it could affect on the results, let's scale it."
   ]
  },
  {
   "cell_type": "code",
   "execution_count": null,
   "metadata": {
    "collapsed": true
   },
   "outputs": [],
   "source": [
    "# Normalize data\n",
    "from sklearn import preprocessing\n",
    "X_norm = preprocessing.scale(X, axis=0)\n",
    "\n",
    "# check\n",
    "print(np.mean(X_norm, axis=0))\n",
    "print(np.std(X_norm, axis=0))"
   ]
  },
  {
   "cell_type": "code",
   "execution_count": null,
   "metadata": {
    "collapsed": true
   },
   "outputs": [],
   "source": [
    "# PCA\n",
    "\n",
    "# 1. compute covariance matrix\n",
    "Sigma = np.cov(X_norm, rowvar = 0)\n",
    "\n",
    "# 2. Compute eigenvalues and eigenvectors\n",
    "eig_val, eig_vec = np.linalg.eig(Sigma)\n",
    "\n",
    "print (eig_val)\n",
    "print (eig_vec)\n",
    "\n",
    "# 2b. Sort eigenvalues\n",
    "idx_sort = np.argsort(-eig_val)\n",
    "eig_val_sort = eig_val[idx_sort]\n",
    "eig_vec_sort = eig_vec[:, idx_sort]\n",
    "\n",
    "# 3- Select top k eigenvalues (and eigenvectors)\n",
    "eig_val_sort_percentage = eig_val_sort / np.sum(eig_val_sort)\n",
    "plt.bar(range(1,(len(eig_val)+1)), eig_val_sort_percentage); \n",
    "\n",
    "TOP_EIGEN = 1\n",
    "eig_val_short = eig_val_sort[0:TOP_EIGEN]\n",
    "eig_vec_short = eig_vec_sort[:,0:TOP_EIGEN]\n",
    "\n",
    "print(eig_val_short.shape)\n",
    "print(eig_vec_short.shape)"
   ]
  },
  {
   "cell_type": "code",
   "execution_count": null,
   "metadata": {
    "collapsed": true
   },
   "outputs": [],
   "source": [
    "# plot rotated data (no dimension reduction)\n",
    "X_norm_rotated = np.dot(X_norm, eig_vec_sort)\n",
    "plt.scatter(X_norm_rotated[:, 0], X_norm_rotated[:, 1])\n",
    "plt.xlabel(\"Feature 0\")\n",
    "plt.ylabel(\"Feature 1\")\n",
    "plt.show()"
   ]
  },
  {
   "cell_type": "code",
   "execution_count": null,
   "metadata": {
    "collapsed": true
   },
   "outputs": [],
   "source": [
    "# plot rotated data (dimension reduction) and glitter\n",
    "X_norm_rotated = np.dot(X_norm, eig_vec_short)\n",
    "plt.scatter(X_norm_rotated, np.random.normal(scale=0.001, size=len(X_norm_rotated)))\n",
    "plt.xlabel(\"Feature 0\")\n",
    "plt.show()"
   ]
  },
  {
   "cell_type": "markdown",
   "metadata": {},
   "source": [
    "# Real dataset\n",
    "\n",
    "Now we will use a real dataset about wine to see PCA in action. "
   ]
  },
  {
   "cell_type": "code",
   "execution_count": null,
   "metadata": {
    "collapsed": true
   },
   "outputs": [],
   "source": [
    "data = pd.read_csv('wine.csv', sep='\\t')"
   ]
  },
  {
   "cell_type": "code",
   "execution_count": null,
   "metadata": {
    "collapsed": true
   },
   "outputs": [],
   "source": [
    "data.head()"
   ]
  },
  {
   "cell_type": "markdown",
   "metadata": {},
   "source": [
    "We don't need the class for dimensionality reduction, so we construct a new dataframe without the column"
   ]
  },
  {
   "cell_type": "code",
   "execution_count": null,
   "metadata": {
    "collapsed": true
   },
   "outputs": [],
   "source": [
    "data2 = data.loc[:,~data.columns.isin(['class'])]\n",
    "print(data.shape)\n",
    "print(data2.shape)"
   ]
  },
  {
   "cell_type": "markdown",
   "metadata": {},
   "source": [
    "### Exercise: Apply PCA to this new dataset.\n",
    "\n",
    "- Compute the eigendecomposition and rotated data with reduced dimension. \n",
    "- Plot two first components and add the original class as color to see if the decomposition is having any effect. \n",
    "\n",
    "Answer the following questions:\n",
    "- what is the dimension of the covariance matrix?\n",
    "- what are the eigenvalues?\n",
    "- how much variance is explained by the first two eigenvalues?\n",
    "\n",
    "Note: save dimension-reduced data in variable `data_pca`"
   ]
  },
  {
   "cell_type": "code",
   "execution_count": null,
   "metadata": {
    "collapsed": true
   },
   "outputs": [],
   "source": [
    "# 1. compute covariance matrix\n",
    "# 2. Compute eigenvalues and eigenvectors\n",
    "# 3. Select top k eigenvalues (and eigenvectors)\n",
    "# 4. Rotate original data with eigenvector matrix\n",
    "# 5. Plot two first dimensions of rotated data with the color being the original label"
   ]
  },
  {
   "cell_type": "code",
   "execution_count": null,
   "metadata": {
    "collapsed": true
   },
   "outputs": [],
   "source": [
    "# to-do\n",
    "# ..."
   ]
  },
  {
   "cell_type": "code",
   "execution_count": null,
   "metadata": {
    "collapsed": true
   },
   "outputs": [],
   "source": [
    "# ..."
   ]
  },
  {
   "cell_type": "code",
   "execution_count": null,
   "metadata": {
    "collapsed": true
   },
   "outputs": [],
   "source": [
    "# ..."
   ]
  },
  {
   "cell_type": "markdown",
   "metadata": {},
   "source": [
    "## scikit-learn PCA"
   ]
  },
  {
   "cell_type": "code",
   "execution_count": null,
   "metadata": {
    "collapsed": true
   },
   "outputs": [],
   "source": [
    "from sklearn.decomposition import PCA"
   ]
  },
  {
   "cell_type": "code",
   "execution_count": null,
   "metadata": {
    "collapsed": true
   },
   "outputs": [],
   "source": [
    "#pca_model = PCA()\n",
    "#data_pca_sklearn = pca_model.fit_transform(data_norm)"
   ]
  },
  {
   "cell_type": "code",
   "execution_count": null,
   "metadata": {
    "collapsed": true
   },
   "outputs": [],
   "source": [
    "#print('Default number of components: {}'.format(pca_model.n_components_))\n",
    "#print(pca_model.explained_variance_)\n",
    "#print(pca_model.explained_variance_ratio_)\n",
    "#print(np.cumsum(pca_model.explained_variance_ratio_))"
   ]
  },
  {
   "cell_type": "code",
   "execution_count": null,
   "metadata": {
    "collapsed": true
   },
   "outputs": [],
   "source": [
    "#pca_model = PCA(n_components = 5)\n",
    "#data_pca_sklearn = pca_model.fit_transform(data_norm)\n",
    "#\n",
    "#print(pca_model.explained_variance_)\n",
    "#print(pca_model.explained_variance_ratio_)\n",
    "#print(np.cumsum(pca_model.explained_variance_ratio_))"
   ]
  },
  {
   "cell_type": "code",
   "execution_count": null,
   "metadata": {
    "collapsed": true
   },
   "outputs": [],
   "source": [
    "#print(data_pca_sklearn[0:2])\n",
    "#print(data_pca[0:2])"
   ]
  },
  {
   "cell_type": "code",
   "execution_count": null,
   "metadata": {
    "collapsed": true
   },
   "outputs": [],
   "source": [
    "#plt.scatter(data_pca_sklearn[:,0], data_pca_sklearn[:,1], c=data['class'], cmap=\"plasma\", linewidths=0);"
   ]
  },
  {
   "cell_type": "markdown",
   "metadata": {},
   "source": [
    "#### [Home] Exercise\n",
    "Apply your favourite(s) ML algorithm to estimate the 'class' with the other parameters. Test if you appreciate any difference when applying PCA to the features and later apply your model. \n",
    "\n",
    "- performance?\n",
    "- computational time?\n",
    "- memory requirements?"
   ]
  },
  {
   "cell_type": "markdown",
   "metadata": {
    "collapsed": true
   },
   "source": [
    "# END."
   ]
  }
 ],
 "metadata": {
  "kernelspec": {
   "display_name": "Python 2",
   "language": "python",
   "name": "python2"
  },
  "language_info": {
   "codemirror_mode": {
    "name": "ipython",
    "version": 2
   },
   "file_extension": ".py",
   "mimetype": "text/x-python",
   "name": "python",
   "nbconvert_exporter": "python",
   "pygments_lexer": "ipython2",
   "version": "2.7.13"
  }
 },
 "nbformat": 4,
 "nbformat_minor": 2
}
