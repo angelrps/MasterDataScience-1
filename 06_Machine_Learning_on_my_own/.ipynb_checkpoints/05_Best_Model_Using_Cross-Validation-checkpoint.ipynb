{
 "cells": [
  {
   "cell_type": "markdown",
   "metadata": {},
   "source": [
    "# How can we choose the best model using Cross-Validation"
   ]
  },
  {
   "cell_type": "markdown",
   "metadata": {},
   "source": [
    "Based on Machine Learning Practices by Kevin Markham"
   ]
  },
  {
   "cell_type": "markdown",
   "metadata": {},
   "source": [
    "- What is the __drawback of using the train/test split procedure__ for model evaluation?\n",
    "- How does __K-fold cross-validation__ overcome this limitation?\n",
    "- How can cross-validation be used for selecting __tuning parameters__, choosing between models, and selecting features?\n",
    "- What are some possible __improvements__ to cross-validation?"
   ]
  },
  {
   "cell_type": "markdown",
   "metadata": {},
   "source": [
    "_Let's see this using Iris Dataset_"
   ]
  },
  {
   "cell_type": "code",
   "execution_count": 1,
   "metadata": {},
   "outputs": [],
   "source": [
    "import pandas as pd\n",
    "import numpy as np\n",
    "import matplotlib.pyplot as plt\n",
    "%matplotlib inline"
   ]
  },
  {
   "cell_type": "markdown",
   "metadata": {},
   "source": [
    "#### Using KNN Model\n",
    "\n",
    "__This is the accuracy for this specific Train/Test Split Model random_state= 4...__"
   ]
  },
  {
   "cell_type": "code",
   "execution_count": 2,
   "metadata": {},
   "outputs": [],
   "source": [
    "from sklearn.datasets import load_iris\n",
    "iris = load_iris()\n",
    "X = iris.data\n",
    "y = iris.target"
   ]
  },
  {
   "cell_type": "code",
   "execution_count": 4,
   "metadata": {},
   "outputs": [],
   "source": [
    "from sklearn.model_selection import train_test_split\n",
    "X_train, X_test, y_train, y_test = train_test_split(X,y,random_state = 4) "
   ]
  },
  {
   "cell_type": "code",
   "execution_count": 5,
   "metadata": {},
   "outputs": [
    {
     "data": {
      "text/plain": [
       "0.9736842105263158"
      ]
     },
     "execution_count": 5,
     "metadata": {},
     "output_type": "execute_result"
    }
   ],
   "source": [
    "# KNN with K = 5\n",
    "from sklearn.neighbors import KNeighborsClassifier\n",
    "knn = KNeighborsClassifier(n_neighbors=5)\n",
    "knn.fit(X_train,y_train)\n",
    "y_pred = knn.predict(X_test)\n",
    "from sklearn import metrics \n",
    "metrics.accuracy_score(y_test, y_pred) "
   ]
  },
  {
   "cell_type": "markdown",
   "metadata": {},
   "source": [
    "__This is the accuracy for this specific Train/Test Split Model random_state= 3...__"
   ]
  },
  {
   "cell_type": "code",
   "execution_count": 7,
   "metadata": {},
   "outputs": [
    {
     "data": {
      "text/plain": [
       "0.9473684210526315"
      ]
     },
     "execution_count": 7,
     "metadata": {},
     "output_type": "execute_result"
    }
   ],
   "source": [
    "from sklearn.model_selection import train_test_split\n",
    "X_train, X_test, y_train, y_test = train_test_split(X,y,random_state = 3) \n",
    "# KNN with K = 5\n",
    "from sklearn.neighbors import KNeighborsClassifier\n",
    "knn = KNeighborsClassifier(n_neighbors=5)\n",
    "knn.fit(X_train,y_train)\n",
    "y_pred = knn.predict(X_test)\n",
    "from sklearn import metrics \n",
    "metrics.accuracy_score(y_test, y_pred)"
   ]
  },
  {
   "cell_type": "markdown",
   "metadata": {},
   "source": [
    "___Testing Accuracy has changed!!!___"
   ]
  },
  {
   "cell_type": "code",
   "execution_count": 13,
   "metadata": {},
   "outputs": [
    {
     "name": "stdout",
     "output_type": "stream",
     "text": [
      "Random_State: 0 Testing Accuracy: 0.9736842105263158\n",
      "Random_State: 1 Testing Accuracy: 1.0\n",
      "Random_State: 2 Testing Accuracy: 1.0\n",
      "Random_State: 3 Testing Accuracy: 0.9473684210526315\n",
      "Random_State: 4 Testing Accuracy: 0.9736842105263158\n",
      "Random_State: 5 Testing Accuracy: 0.9473684210526315\n",
      "Random_State: 6 Testing Accuracy: 0.9736842105263158\n",
      "Random_State: 7 Testing Accuracy: 0.8947368421052632\n",
      "Random_State: 8 Testing Accuracy: 0.9210526315789473\n",
      "Random_State: 9 Testing Accuracy: 1.0\n",
      "Random_State: 10 Testing Accuracy: 0.9736842105263158\n",
      "Random_State: 11 Testing Accuracy: 0.9736842105263158\n",
      "Random_State: 12 Testing Accuracy: 0.9736842105263158\n",
      "Random_State: 13 Testing Accuracy: 0.8947368421052632\n",
      "Random_State: 14 Testing Accuracy: 0.9736842105263158\n",
      "Random_State: 15 Testing Accuracy: 0.9736842105263158\n",
      "Random_State: 16 Testing Accuracy: 0.9210526315789473\n",
      "Random_State: 17 Testing Accuracy: 0.9473684210526315\n",
      "Random_State: 18 Testing Accuracy: 1.0\n",
      "Random_State: 19 Testing Accuracy: 0.9473684210526315\n"
     ]
    }
   ],
   "source": [
    "for num in range(20):\n",
    "    from sklearn.model_selection import train_test_split\n",
    "    X_train, X_test, y_train, y_test = train_test_split(X,y,random_state = num) \n",
    "    # KNN with K = 5\n",
    "    from sklearn.neighbors import KNeighborsClassifier\n",
    "    knn = KNeighborsClassifier(n_neighbors=5)\n",
    "    knn.fit(X_train,y_train)\n",
    "    y_pred = knn.predict(X_test)\n",
    "    from sklearn import metrics \n",
    "    print('Random_State: %d Testing Accuracy: %s'% (num,metrics.accuracy_score(y_test, y_pred)))"
   ]
  },
  {
   "cell_type": "markdown",
   "metadata": {},
   "source": [
    "___Then we can create a bunch of Train/Test Split Models, calculating the testing accuracy for each and averaging the results___"
   ]
  },
  {
   "cell_type": "markdown",
   "metadata": {},
   "source": [
    "### Cross-Validation"
   ]
  },
  {
   "cell_type": "markdown",
   "metadata": {},
   "source": [
    "![alt](https://github.com/emunozlorenzo/MasterDataScience/blob/master/06_Machine_Learning_on_my_own/Img/cross.png)"
   ]
  }
 ],
 "metadata": {
  "kernelspec": {
   "display_name": "Python 3",
   "language": "python",
   "name": "python3"
  },
  "language_info": {
   "codemirror_mode": {
    "name": "ipython",
    "version": 3
   },
   "file_extension": ".py",
   "mimetype": "text/x-python",
   "name": "python",
   "nbconvert_exporter": "python",
   "pygments_lexer": "ipython3",
   "version": "3.6.8"
  }
 },
 "nbformat": 4,
 "nbformat_minor": 2
}
