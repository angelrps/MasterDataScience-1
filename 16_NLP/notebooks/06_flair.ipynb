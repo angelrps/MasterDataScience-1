{
 "cells": [
  {
   "cell_type": "markdown",
   "metadata": {},
   "source": [
    "# `flair`: la librería NLP de Zalando Research\n",
    "\n",
    "La compañia Zalando tiene necesidades de aplicar NLP en distintos ámbitos y su equipo de investigaación ha liberado recientemente [`flair`](https://github.com/zalandoresearch/flair), su librería de NLP.\n",
    "\n",
    "`flair` permite acceder a funcionalidades muy interesantes para procesar lenguaje natural, algunas de ellas muy modernas como:\n",
    "\n",
    "- [etiquetar morfo-sintácticamente](https://github.com/zalandoresearch/flair/blob/master/resources/docs/TUTORIAL_2_TAGGING.md)\n",
    "- extraer entidades\n",
    "- clasificar automáticamente texto\n",
    "- entrenar tus propios modelos para [construir otros clasificadores](https://towardsdatascience.com/text-classification-with-state-of-the-art-nlp-library-flair-b541d7add21f)\n",
    "- [cargar vectores de palabras en decenas de lenguas](https://github.com/zalandoresearch/flair/blob/master/resources/docs/TUTORIAL_3_WORD_EMBEDDING.md)\n",
    "- [usar vectores contextuales como BERT, ELMo](https://github.com/zalandoresearch/flair/blob/master/resources/docs/TUTORIAL_4_ELMO_BERT_FLAIR_EMBEDDING.md)\n",
    "\n",
    "Veamos cómo podemos acceder a algunas de sus funcionalidades.\n",
    "\n",
    "## Análisis morfo-sintáctico\n",
    "\n",
    "Para analizar sintácticamente un texto, necesitamos cargar un etiquetador con un modelo concreto de información morfo-sintáctica. Por ejemplo, uno capaz de analizar varias lenguas.\n"
   ]
  },
  {
   "cell_type": "code",
   "execution_count": 4,
   "metadata": {},
   "outputs": [
    {
     "name": "stdout",
     "output_type": "stream",
     "text": [
      "2019-04-13 10:59:28,058 https://s3.eu-central-1.amazonaws.com/alan-nlp/resources/models-v0.4/release-dodekapos-512-l2-multi/pos-multi-v0.1.pt not found in cache, downloading to /tmp/tmpu318isci\n"
     ]
    },
    {
     "name": "stderr",
     "output_type": "stream",
     "text": [
      "100%|██████████| 314055714/314055714 [00:13<00:00, 22955973.85B/s]"
     ]
    },
    {
     "name": "stdout",
     "output_type": "stream",
     "text": [
      "2019-04-13 10:59:42,015 copying /tmp/tmpu318isci to cache at /home/eduardo/.flair/models/pos-multi-v0.1.pt\n"
     ]
    },
    {
     "name": "stderr",
     "output_type": "stream",
     "text": [
      "\n"
     ]
    },
    {
     "name": "stdout",
     "output_type": "stream",
     "text": [
      "2019-04-13 10:59:42,929 removing temp file /tmp/tmpu318isci\n",
      "2019-04-13 10:59:42,930 loading file /home/eduardo/.flair/models/pos-multi-v0.1.pt\n"
     ]
    }
   ],
   "source": [
    "from flair.data import Sentence\n",
    "from flair.models import SequenceTagger\n",
    "\n",
    "# cargamos el analizador multi-idioma. Hay más modelos...ver documentación pos-multi-fast (CPU)  pos-multi (GPU)\n",
    "tagger = SequenceTagger.load(\"pos-multi\")"
   ]
  },
  {
   "cell_type": "code",
   "execution_count": 5,
   "metadata": {},
   "outputs": [
    {
     "name": "stdout",
     "output_type": "stream",
     "text": [
      "Facebook <PROPN> nació <VERB> hace <VERB> década <NOUN> y <CCONJ> media <VERB> tras <ADP> una <DET> noche <NOUN> de <ADP> copas <NOUN> de <ADP> Mark <PROPN> Zuckerberg. <PROPN>\n",
      "Grand <ADJ> débat <NOUN> national: <ADJ> suivez <VERB> Emmanuel <PROPN> Macron <PROPN> en <ADP> direct <NOUN> de <ADP> Bordeaux. <PROPN>\n",
      "Hier <ADV> an <ADP> der <DET> Zufahrt <NOUN> zur <ADP> Startrampe <NOUN> 39A, <PUNCT> wo <ADV> vor <ADP> 50 <NUM> Jahren <NOUN> die <DET> gigantischen <ADJ> Saturn-Raketen <NOUN> der <DET> Apollo-Mondmissionen <NOUN> im <DET> Schneckentempo <NOUN> vorbeigefahren <VERB> sind, <AUX> prangen <VERB> nun <ADV> die <DET> blauen <ADJ> Lettern <NOUN> des <DET> Raumfahrtunternehmens <NOUN> von <ADP> Elon <PROPN> Musk <PROPN> an <ADP> einem <DET> Hangar. <NOUN>\n"
     ]
    }
   ],
   "source": [
    "sentence1 = Sentence(\"Facebook nació hace década y media tras una noche de copas de Mark Zuckerberg. \")\n",
    "tagger.predict(sentence1)\n",
    "# imprimimos el análisis\n",
    "print(sentence1.to_tagged_string())\n",
    "\n",
    "sentence2 = Sentence(\"Grand débat national: suivez Emmanuel Macron en direct de Bordeaux. \")\n",
    "tagger.predict(sentence2)\n",
    "# imprimimos el análisis\n",
    "print(sentence2.to_tagged_string())\n",
    "\n",
    "sentence3 = Sentence(\"Hier an der Zufahrt zur Startrampe 39A, wo vor 50 Jahren die gigantischen Saturn-Raketen der Apollo-Mondmissionen im Schneckentempo vorbeigefahren sind, prangen nun die blauen Lettern des Raumfahrtunternehmens von Elon Musk an einem Hangar.\")\n",
    "tagger.predict(sentence3)\n",
    "# imprimimos el análisis\n",
    "print(sentence3.to_tagged_string())"
   ]
  },
  {
   "cell_type": "markdown",
   "metadata": {},
   "source": [
    "## Reconocimiento de entidades\n",
    "\n",
    "Para el reconocimiento de entidades varios modelos en diferentes lenguas. Aquí probamos con uno entrenado solo para inglés."
   ]
  },
  {
   "cell_type": "code",
   "execution_count": 6,
   "metadata": {},
   "outputs": [
    {
     "name": "stdout",
     "output_type": "stream",
     "text": [
      "2019-04-13 11:01:08,590 https://s3.eu-central-1.amazonaws.com/alan-nlp/resources/models-v0.2/NER-conll03--h256-l1-b32-experimental--fast-v0.2/en-ner-fast-conll03-v0.2.pt not found in cache, downloading to /tmp/tmp2gx6pprh\n"
     ]
    },
    {
     "name": "stderr",
     "output_type": "stream",
     "text": [
      "100%|██████████| 258733963/258733963 [00:10<00:00, 23918492.65B/s]"
     ]
    },
    {
     "name": "stdout",
     "output_type": "stream",
     "text": [
      "2019-04-13 11:01:19,698 copying /tmp/tmp2gx6pprh to cache at /home/eduardo/.flair/models/en-ner-fast-conll03-v0.2.pt\n"
     ]
    },
    {
     "name": "stderr",
     "output_type": "stream",
     "text": [
      "\n"
     ]
    },
    {
     "name": "stdout",
     "output_type": "stream",
     "text": [
      "2019-04-13 11:01:20,704 removing temp file /tmp/tmp2gx6pprh\n",
      "2019-04-13 11:01:20,705 loading file /home/eduardo/.flair/models/en-ner-fast-conll03-v0.2.pt\n"
     ]
    }
   ],
   "source": [
    "from flair.data import Sentence\n",
    "from flair.models import SequenceTagger\n",
    "\n",
    "# cargamos el reconocedor de entidades ner-fast(CPU) ner(GPU)\n",
    "tagger = SequenceTagger.load(\"ner-fast\")"
   ]
  },
  {
   "cell_type": "code",
   "execution_count": 7,
   "metadata": {},
   "outputs": [
    {
     "name": "stdout",
     "output_type": "stream",
     "text": [
      "Behind closed doors, freshman Rep. Alexandria <B-PER> Ocasio-Cortez <E-PER> threatened to put those voting with Republicans <S-MISC> “on a list” for a primary challenge in the 2020 election.\n",
      "PER-span [6,7]: \"Alexandria Ocasio-Cortez\"\n",
      "MISC-span [14]: \"Republicans\"\n",
      "{'text': 'Behind closed doors, freshman Rep. Alexandria Ocasio-Cortez threatened to put those voting with Republicans “on a list” for a primary challenge in the 2020 election.', 'labels': [], 'entities': [{'text': 'Alexandria Ocasio-Cortez', 'start_pos': 35, 'end_pos': 59, 'type': 'PER', 'confidence': 0.998863160610199}, {'text': 'Republicans', 'start_pos': 96, 'end_pos': 107, 'type': 'MISC', 'confidence': 0.9999849796295166}]}\n"
     ]
    }
   ],
   "source": [
    "# analizamos una oración\n",
    "sentence = Sentence(\"Behind closed doors, freshman Rep. Alexandria Ocasio-Cortez threatened to put those voting with Republicans “on a list” for a primary challenge in the 2020 election.\")\n",
    "tagger.predict(sentence)\n",
    "\n",
    "# imprimimos el análisis\n",
    "print(sentence.to_tagged_string())\n",
    "\n",
    "# iteramos por la entidades\n",
    "for entity in sentence.get_spans(\"ner\"):\n",
    "    print(entity)\n",
    "    \n",
    "# o imprimimos la estructura de datos con el análisis completo\n",
    "print(sentence.to_dict(tag_type=\"ner\"))"
   ]
  },
  {
   "cell_type": "markdown",
   "metadata": {},
   "source": [
    "## Análisis de Opinión\n",
    "\n",
    "También podemos utilizar un clasificador de textos y cargar el modelo entrenado con sentimiento, para poder detectar opiniones positivas y negativas."
   ]
  },
  {
   "cell_type": "code",
   "execution_count": null,
   "metadata": {},
   "outputs": [
    {
     "name": "stdout",
     "output_type": "stream",
     "text": [
      "2019-04-13 11:03:37,862 https://s3.eu-central-1.amazonaws.com/alan-nlp/resources/models-v0.4/TEXT-CLASSIFICATION_imdb/imdb.pt not found in cache, downloading to /tmp/tmpwsow2l02\n"
     ]
    },
    {
     "name": "stderr",
     "output_type": "stream",
     "text": [
      "100%|██████████| 2794252905/2794252905 [01:59<00:00, 23340362.43B/s]"
     ]
    },
    {
     "name": "stdout",
     "output_type": "stream",
     "text": [
      "2019-04-13 11:05:37,860 copying /tmp/tmpwsow2l02 to cache at /home/eduardo/.flair/models/imdb.pt\n"
     ]
    },
    {
     "name": "stderr",
     "output_type": "stream",
     "text": [
      "\n"
     ]
    },
    {
     "name": "stdout",
     "output_type": "stream",
     "text": [
      "2019-04-13 11:07:08,369 removing temp file /tmp/tmpwsow2l02\n",
      "2019-04-13 11:07:08,370 loading file /home/eduardo/.flair/models/imdb.pt\n"
     ]
    }
   ],
   "source": [
    "from flair.models import TextClassifier\n",
    "from flair.data import Sentence\n",
    "\n",
    "classifier = TextClassifier.load(\"en-sentiment\")"
   ]
  },
  {
   "cell_type": "code",
   "execution_count": null,
   "metadata": {},
   "outputs": [],
   "source": [
    "sentence1 = Sentence(\"I love ice-cream!\")\n",
    "classifier.predict(sentence1)\n",
    "print(\"La frase '{}' es {}\".format(sentence1.to_plain_string(), sentence1.labels))\n",
    "\n",
    "sentence2 = Sentence(\"Don't ever go to this restaurant. The food was horrible :-(\")\n",
    "classifier.predict(sentence2)\n",
    "print(\"La frase '{}' es {}\".format(sentence2.to_plain_string(), sentence2.labels))"
   ]
  }
 ],
 "metadata": {
  "kernelspec": {
   "display_name": "Python 3",
   "language": "python",
   "name": "python3"
  },
  "language_info": {
   "codemirror_mode": {
    "name": "ipython",
    "version": 3
   },
   "file_extension": ".py",
   "mimetype": "text/x-python",
   "name": "python",
   "nbconvert_exporter": "python",
   "pygments_lexer": "ipython3",
   "version": "3.6.7"
  }
 },
 "nbformat": 4,
 "nbformat_minor": 2
}
